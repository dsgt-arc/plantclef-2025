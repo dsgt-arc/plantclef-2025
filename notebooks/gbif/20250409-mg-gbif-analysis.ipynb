{
 "cells": [
  {
   "cell_type": "markdown",
   "id": "f8c97c75",
   "metadata": {},
   "source": [
    "# GBIF analysis\n",
    "https://pygbif.readthedocs.io/en/latest/index.html"
   ]
  },
  {
   "cell_type": "code",
   "execution_count": 5,
   "id": "6cdd1e34",
   "metadata": {},
   "outputs": [
    {
     "name": "stdout",
     "output_type": "stream",
     "text": [
      "The autoreload extension is already loaded. To reload it, use:\n",
      "  %reload_ext autoreload\n"
     ]
    }
   ],
   "source": [
    "%load_ext autoreload\n",
    "%autoreload 2"
   ]
  },
  {
   "cell_type": "code",
   "execution_count": 6,
   "id": "923d9215",
   "metadata": {},
   "outputs": [
    {
     "data": {
      "text/html": [
       "<div>\n",
       "<style scoped>\n",
       "    .dataframe tbody tr th:only-of-type {\n",
       "        vertical-align: middle;\n",
       "    }\n",
       "\n",
       "    .dataframe tbody tr th {\n",
       "        vertical-align: top;\n",
       "    }\n",
       "\n",
       "    .dataframe thead th {\n",
       "        text-align: right;\n",
       "    }\n",
       "</style>\n",
       "<table border=\"1\" class=\"dataframe\">\n",
       "  <thead>\n",
       "    <tr style=\"text-align: right;\">\n",
       "      <th></th>\n",
       "      <th>species_id</th>\n",
       "      <th>species</th>\n",
       "      <th>genus</th>\n",
       "      <th>family</th>\n",
       "    </tr>\n",
       "  </thead>\n",
       "  <tbody>\n",
       "    <tr>\n",
       "      <th>0</th>\n",
       "      <td>1355868</td>\n",
       "      <td>Lactuca virosa L.</td>\n",
       "      <td>Lactuca</td>\n",
       "      <td>Asteraceae</td>\n",
       "    </tr>\n",
       "    <tr>\n",
       "      <th>1</th>\n",
       "      <td>1355869</td>\n",
       "      <td>Crepis capillaris (L.) Wallr.</td>\n",
       "      <td>Crepis</td>\n",
       "      <td>Asteraceae</td>\n",
       "    </tr>\n",
       "    <tr>\n",
       "      <th>2</th>\n",
       "      <td>1355870</td>\n",
       "      <td>Crepis foetida L.</td>\n",
       "      <td>Crepis</td>\n",
       "      <td>Asteraceae</td>\n",
       "    </tr>\n",
       "    <tr>\n",
       "      <th>3</th>\n",
       "      <td>1355871</td>\n",
       "      <td>Hypochaeris glabra L.</td>\n",
       "      <td>Hypochaeris</td>\n",
       "      <td>Asteraceae</td>\n",
       "    </tr>\n",
       "    <tr>\n",
       "      <th>4</th>\n",
       "      <td>1355872</td>\n",
       "      <td>Hypochaeris radicata L.</td>\n",
       "      <td>Hypochaeris</td>\n",
       "      <td>Asteraceae</td>\n",
       "    </tr>\n",
       "    <tr>\n",
       "      <th>5</th>\n",
       "      <td>1355873</td>\n",
       "      <td>Arctotis venusta Norl.</td>\n",
       "      <td>Arctotis</td>\n",
       "      <td>Asteraceae</td>\n",
       "    </tr>\n",
       "    <tr>\n",
       "      <th>6</th>\n",
       "      <td>1355880</td>\n",
       "      <td>Carduus macrocephalus Desf.</td>\n",
       "      <td>Carduus</td>\n",
       "      <td>Asteraceae</td>\n",
       "    </tr>\n",
       "    <tr>\n",
       "      <th>7</th>\n",
       "      <td>1355881</td>\n",
       "      <td>Carduus tenuiflorus Curtis</td>\n",
       "      <td>Carduus</td>\n",
       "      <td>Asteraceae</td>\n",
       "    </tr>\n",
       "    <tr>\n",
       "      <th>8</th>\n",
       "      <td>1355882</td>\n",
       "      <td>Cynara cardunculus L.</td>\n",
       "      <td>Cynara</td>\n",
       "      <td>Asteraceae</td>\n",
       "    </tr>\n",
       "    <tr>\n",
       "      <th>9</th>\n",
       "      <td>1355884</td>\n",
       "      <td>Centaurea calcitrapa L.</td>\n",
       "      <td>Centaurea</td>\n",
       "      <td>Asteraceae</td>\n",
       "    </tr>\n",
       "  </tbody>\n",
       "</table>\n",
       "</div>"
      ],
      "text/plain": [
       "   species_id                        species        genus      family\n",
       "0     1355868              Lactuca virosa L.      Lactuca  Asteraceae\n",
       "1     1355869  Crepis capillaris (L.) Wallr.       Crepis  Asteraceae\n",
       "2     1355870              Crepis foetida L.       Crepis  Asteraceae\n",
       "3     1355871          Hypochaeris glabra L.  Hypochaeris  Asteraceae\n",
       "4     1355872        Hypochaeris radicata L.  Hypochaeris  Asteraceae\n",
       "5     1355873         Arctotis venusta Norl.     Arctotis  Asteraceae\n",
       "6     1355880    Carduus macrocephalus Desf.      Carduus  Asteraceae\n",
       "7     1355881     Carduus tenuiflorus Curtis      Carduus  Asteraceae\n",
       "8     1355882          Cynara cardunculus L.       Cynara  Asteraceae\n",
       "9     1355884        Centaurea calcitrapa L.    Centaurea  Asteraceae"
      ]
     },
     "execution_count": 6,
     "metadata": {},
     "output_type": "execute_result"
    }
   ],
   "source": [
    "import pandas as pd\n",
    "\n",
    "\n",
    "# read CSV species metadata\n",
    "def get_data():\n",
    "    data_path = \"~/p-dsgt_clef2025-0/shared/plantclef/data\"\n",
    "    file_name = \"species_metadata.csv\"\n",
    "    data_path = f\"{data_path}/{file_name}\"\n",
    "    df = pd.read_csv(data_path)\n",
    "    return df\n",
    "\n",
    "\n",
    "df = get_data()\n",
    "df.head(10)"
   ]
  },
  {
   "cell_type": "code",
   "execution_count": 7,
   "id": "8eb69bac",
   "metadata": {},
   "outputs": [
    {
     "data": {
      "text/plain": [
       "{'key': 5067755450,\n",
       " 'datasetKey': '7ebef267-9d72-4c21-a276-cc84281a8590',\n",
       " 'publishingOrgKey': 'd9bea9d3-13a5-4768-bbf4-560b9aa95a73',\n",
       " 'installationKey': '19893c10-381e-4534-9bb8-6c37d03ad29e',\n",
       " 'hostingOrganizationKey': '3c5e4331-7f2f-4a8d-aa56-81ece7014fc8',\n",
       " 'publishingCountry': 'AU',\n",
       " 'protocol': 'DWC_ARCHIVE',\n",
       " 'lastCrawled': '2025-04-09T08:03:29.967+00:00',\n",
       " 'lastParsed': '2025-04-09T08:16:30.151+00:00',\n",
       " 'crawlId': 192,\n",
       " 'extensions': {'http://rs.gbif.org/terms/1.0/Multimedia': [{'http://purl.org/dc/terms/format': 'image/jpeg',\n",
       "    'http://rs.tdwg.org/dwc/terms/occurrenceID': '1f1c6291-b80b-4c09-91e2-527f61e83e2b',\n",
       "    'http://purl.org/dc/terms/identifier': 'https://images.ala.org.au/image/proxyImageThumbnailLarge?imageId=ce0cb3c6-3f05-47c9-b571-6547c05d4b01'},\n",
       "   {'http://purl.org/dc/terms/format': 'image/jpeg',\n",
       "    'http://rs.tdwg.org/dwc/terms/occurrenceID': '1f1c6291-b80b-4c09-91e2-527f61e83e2b',\n",
       "    'http://purl.org/dc/terms/identifier': 'https://images.ala.org.au/image/proxyImageThumbnailLarge?imageId=e8dcfe72-df47-48b5-ad1a-c4f0eea691ab'},\n",
       "   {'http://purl.org/dc/terms/format': 'image/jpeg',\n",
       "    'http://rs.tdwg.org/dwc/terms/occurrenceID': '1f1c6291-b80b-4c09-91e2-527f61e83e2b',\n",
       "    'http://purl.org/dc/terms/identifier': 'https://images.ala.org.au/image/proxyImageThumbnailLarge?imageId=98477fea-c89d-4d39-848d-dfb0e27cf63d'}]},\n",
       " 'basisOfRecord': 'HUMAN_OBSERVATION',\n",
       " 'occurrenceStatus': 'PRESENT',\n",
       " 'taxonKey': 3140346,\n",
       " 'kingdomKey': 6,\n",
       " 'phylumKey': 7707728,\n",
       " 'classKey': 220,\n",
       " 'orderKey': 414,\n",
       " 'familyKey': 3065,\n",
       " 'genusKey': 3140231,\n",
       " 'speciesKey': 3140346,\n",
       " 'acceptedTaxonKey': 3140346,\n",
       " 'scientificName': 'Lactuca virosa L.',\n",
       " 'acceptedScientificName': 'Lactuca virosa L.',\n",
       " 'kingdom': 'Plantae',\n",
       " 'phylum': 'Tracheophyta',\n",
       " 'order': 'Asterales',\n",
       " 'family': 'Asteraceae',\n",
       " 'genus': 'Lactuca',\n",
       " 'species': 'Lactuca virosa',\n",
       " 'genericName': 'Lactuca',\n",
       " 'specificEpithet': 'virosa',\n",
       " 'taxonRank': 'SPECIES',\n",
       " 'taxonomicStatus': 'ACCEPTED',\n",
       " 'iucnRedListCategory': 'NE',\n",
       " 'dateIdentified': '2025-02-05T06:15:12',\n",
       " 'decimalLatitude': -37.636517,\n",
       " 'decimalLongitude': 145.192444,\n",
       " 'continent': 'OCEANIA',\n",
       " 'stateProvince': 'Victoria',\n",
       " 'gadm': {'level0': {'gid': 'AUS', 'name': 'Australia'},\n",
       "  'level1': {'gid': 'AUS.10_1', 'name': 'Victoria'},\n",
       "  'level2': {'gid': 'AUS.10.57_1', 'name': 'Nillumbik'}},\n",
       " 'year': 2025,\n",
       " 'month': 1,\n",
       " 'day': 31,\n",
       " 'eventDate': '2025-01-31T02:35',\n",
       " 'startDayOfYear': 31,\n",
       " 'endDayOfYear': 31,\n",
       " 'issues': ['CONTINENT_DERIVED_FROM_COORDINATES',\n",
       "  'TAXON_MATCH_TAXON_CONCEPT_ID_IGNORED',\n",
       "  'TAXON_MATCH_TAXON_ID_IGNORED'],\n",
       " 'lastInterpreted': '2025-04-09T08:16:30.151+00:00',\n",
       " 'license': 'http://creativecommons.org/licenses/by/4.0/legalcode',\n",
       " 'isSequenced': False,\n",
       " 'identifiers': [{'identifier': '1f1c6291-b80b-4c09-91e2-527f61e83e2b'}],\n",
       " 'media': [{'type': 'StillImage',\n",
       "   'format': 'image/jpeg',\n",
       "   'identifier': 'https://images.ala.org.au/image/proxyImageThumbnailLarge?imageId=e8dcfe72-df47-48b5-ad1a-c4f0eea691ab'},\n",
       "  {'type': 'StillImage',\n",
       "   'format': 'image/jpeg',\n",
       "   'identifier': 'https://images.ala.org.au/image/proxyImageThumbnailLarge?imageId=ce0cb3c6-3f05-47c9-b571-6547c05d4b01'},\n",
       "  {'type': 'StillImage',\n",
       "   'format': 'image/jpeg',\n",
       "   'identifier': 'https://images.ala.org.au/image/proxyImageThumbnailLarge?imageId=98477fea-c89d-4d39-848d-dfb0e27cf63d'}],\n",
       " 'facts': [],\n",
       " 'relations': [],\n",
       " 'isInCluster': False,\n",
       " 'recordedBy': 'lllwlllyn',\n",
       " 'identifiedBy': 'Tapirlord',\n",
       " 'dnaSequenceID': [],\n",
       " 'geodeticDatum': 'WGS84',\n",
       " 'class': 'Magnoliopsida',\n",
       " 'countryCode': 'AU',\n",
       " 'recordedByIDs': [],\n",
       " 'identifiedByIDs': [],\n",
       " 'gbifRegion': 'OCEANIA',\n",
       " 'country': 'Australia',\n",
       " 'publishedByGbifRegion': 'OCEANIA',\n",
       " 'identifier': '1f1c6291-b80b-4c09-91e2-527f61e83e2b',\n",
       " 'catalogNumber': '4643890',\n",
       " 'dynamicProperties': '{conservationLevel: Exotic, sensitivityLevel: Not Sensitive, invasivenessLevel: Non-invasive or negligible, lastConfirmedByUserId: 22727 AttributeId_8: 1 metre to 5 metres, AttributeId_5: True}',\n",
       " 'http://unknown.org/taxonRankID': '7000',\n",
       " 'taxonConceptID': 'NZOR-6-85347',\n",
       " 'locality': 'Hurstbridge, VIC',\n",
       " 'http://unknown.org/species': 'Lactuca virosa',\n",
       " 'gbifID': '5067755450',\n",
       " 'occurrenceID': '1f1c6291-b80b-4c09-91e2-527f61e83e2b',\n",
       " 'verbatimElevation': '72.899',\n",
       " 'taxonID': '23645',\n",
       " 'taxonRemarks': 'Plant Daisy None'}"
      ]
     },
     "execution_count": 7,
     "metadata": {},
     "output_type": "execute_result"
    }
   ],
   "source": [
    "from pygbif import species\n",
    "from pygbif import occurrences as occ\n",
    "\n",
    "# Get the taxon key for a species\n",
    "df = get_data()\n",
    "species_list = df[\"species\"].tolist()[:5]\n",
    "keys = [species.name_backbone(name)[\"usageKey\"] for name in species_list]\n",
    "# species_names = \"Lotus alpinus\"\n",
    "responses = [occ.search(taxonKey=key, limit=1000000) for key in keys]\n",
    "responses[0][\"results\"][0]"
   ]
  },
  {
   "cell_type": "code",
   "execution_count": null,
   "id": "c7b2ce4d",
   "metadata": {},
   "outputs": [
    {
     "data": {
      "text/plain": [
       "{'Lactuca virosa L.': {'Australia': 10,\n",
       "  'United States of America': 48,\n",
       "  'Spain': 1,\n",
       "  'New Zealand': 16,\n",
       "  'France': 56,\n",
       "  'United Kingdom of Great Britain and Northern Ireland': 26,\n",
       "  'Portugal': 5,\n",
       "  'Netherlands': 129,\n",
       "  'Switzerland': 5,\n",
       "  'Germany': 2,\n",
       "  'Greece': 1,\n",
       "  'Italy': 1},\n",
       " 'Crepis capillaris (L.) Wallr.': {'United Kingdom of Great Britain and Northern Ireland': 5,\n",
       "  'Luxembourg': 1,\n",
       "  'New Zealand': 44,\n",
       "  'United States of America': 5,\n",
       "  'Australia': 57,\n",
       "  'Chile': 1,\n",
       "  'Spain': 4,\n",
       "  'Argentina': 4,\n",
       "  'Netherlands': 168,\n",
       "  'Switzerland': 6,\n",
       "  'Germany': 1,\n",
       "  'France': 1,\n",
       "  'Mexico': 1,\n",
       "  'Denmark': 1,\n",
       "  'Jersey': 1}}"
      ]
     },
     "execution_count": 16,
     "metadata": {},
     "output_type": "execute_result"
    }
   ],
   "source": [
    "from collections import Counter\n",
    "\n",
    "# Get the taxon key for a species\n",
    "df = get_data()\n",
    "species_list = df[\"species\"].tolist()[:5]\n",
    "\n",
    "species_data = {}\n",
    "for species_name in species_list[:2]:\n",
    "    taxon_key = species.name_backbone(species_name)[\"usageKey\"]\n",
    "    response = occ.search(taxonKey=taxon_key, limit=1000000)\n",
    "    countries = []\n",
    "    for result in response[\"results\"]:\n",
    "        country = result.get(\"country\", \"Unknown\")\n",
    "        countries.append(country)\n",
    "\n",
    "    counter_countries = Counter(countries)\n",
    "    species_data[species_name] = {\n",
    "        country: count for country, count in counter_countries.items()\n",
    "    }\n",
    "\n",
    "species_data"
   ]
  },
  {
   "cell_type": "code",
   "execution_count": null,
   "id": "a21d72c4",
   "metadata": {},
   "outputs": [
    {
     "data": {
      "text/html": [
       "<div>\n",
       "<style scoped>\n",
       "    .dataframe tbody tr th:only-of-type {\n",
       "        vertical-align: middle;\n",
       "    }\n",
       "\n",
       "    .dataframe tbody tr th {\n",
       "        vertical-align: top;\n",
       "    }\n",
       "\n",
       "    .dataframe thead th {\n",
       "        text-align: right;\n",
       "    }\n",
       "</style>\n",
       "<table border=\"1\" class=\"dataframe\">\n",
       "  <thead>\n",
       "    <tr style=\"text-align: right;\">\n",
       "      <th></th>\n",
       "      <th>species</th>\n",
       "      <th>countries</th>\n",
       "    </tr>\n",
       "  </thead>\n",
       "  <tbody>\n",
       "    <tr>\n",
       "      <th>0</th>\n",
       "      <td>Omalotheca supina (L.) DC.</td>\n",
       "      <td>[Germany, Sweden, United Kingdom of Great Brit...</td>\n",
       "    </tr>\n",
       "    <tr>\n",
       "      <th>1</th>\n",
       "      <td>Myriolimon ferulaceum (L.) Lledó, Erben &amp; M.B....</td>\n",
       "      <td>[Spain, Portugal, France]</td>\n",
       "    </tr>\n",
       "    <tr>\n",
       "      <th>2</th>\n",
       "      <td>Androsace chamaejasme Wulfen</td>\n",
       "      <td>[Germany, Slovakia, Kazakhstan, Liechtenstein,...</td>\n",
       "    </tr>\n",
       "    <tr>\n",
       "      <th>3</th>\n",
       "      <td>Euphorbia margalidiana Kuhbier &amp; Lewej.</td>\n",
       "      <td>[Spain, Unknown, Algeria]</td>\n",
       "    </tr>\n",
       "    <tr>\n",
       "      <th>4</th>\n",
       "      <td>Carthamus arborescens L.</td>\n",
       "      <td>[Spain, Morocco, Gibraltar]</td>\n",
       "    </tr>\n",
       "  </tbody>\n",
       "</table>\n",
       "</div>"
      ],
      "text/plain": [
       "                                             species  \\\n",
       "0                         Omalotheca supina (L.) DC.   \n",
       "1  Myriolimon ferulaceum (L.) Lledó, Erben & M.B....   \n",
       "2                       Androsace chamaejasme Wulfen   \n",
       "3            Euphorbia margalidiana Kuhbier & Lewej.   \n",
       "4                           Carthamus arborescens L.   \n",
       "\n",
       "                                           countries  \n",
       "0  [Germany, Sweden, United Kingdom of Great Brit...  \n",
       "1                          [Spain, Portugal, France]  \n",
       "2  [Germany, Slovakia, Kazakhstan, Liechtenstein,...  \n",
       "3                          [Spain, Unknown, Algeria]  \n",
       "4                        [Spain, Morocco, Gibraltar]  "
      ]
     },
     "execution_count": 1,
     "metadata": {},
     "output_type": "execute_result"
    }
   ],
   "source": [
    "import os\n",
    "import json\n",
    "\n",
    "# Directory where your JSON files are stored\n",
    "json_dir = os.path.expanduser(\n",
    "    \"~/p-dsgt_clef2025-0/shared/plantclef/data/genai/02_gbif/countries\"\n",
    ")\n",
    "\n",
    "# Prepare a list to store data\n",
    "data = []\n",
    "\n",
    "# Loop through all JSON files in the directory\n",
    "for filename in os.listdir(json_dir):\n",
    "    if filename.endswith(\".json\"):\n",
    "        filepath = os.path.join(json_dir, filename)\n",
    "        with open(filepath, \"r\") as f:\n",
    "            content = json.load(f)\n",
    "            for species, countries in content.items():\n",
    "                data.append({\"species\": species, \"countries\": countries})\n",
    "\n",
    "# Convert to pandas DataFrame\n",
    "df = pd.DataFrame(data)\n",
    "df.head()"
   ]
  },
  {
   "cell_type": "code",
   "execution_count": 2,
   "id": "62ffb525",
   "metadata": {},
   "outputs": [
    {
     "data": {
      "text/plain": [
       "7806"
      ]
     },
     "execution_count": 2,
     "metadata": {},
     "output_type": "execute_result"
    }
   ],
   "source": [
    "len(df)"
   ]
  },
  {
   "cell_type": "code",
   "execution_count": 3,
   "id": "f4a2228f",
   "metadata": {},
   "outputs": [
    {
     "name": "stdout",
     "output_type": "stream",
     "text": [
      "Number of species with occurrences in France: 5185\n"
     ]
    }
   ],
   "source": [
    "france_df = df[df[\"countries\"].apply(lambda x: \"France\" in x)]\n",
    "num_species_france = france_df.shape[0]\n",
    "print(f\"Number of species with occurrences in France: {num_species_france}\")"
   ]
  },
  {
   "cell_type": "markdown",
   "id": "6273ba1b",
   "metadata": {},
   "source": [
    "### occ.count_countries()"
   ]
  },
  {
   "cell_type": "code",
   "execution_count": null,
   "id": "23a16ba0",
   "metadata": {},
   "outputs": [
    {
     "name": "stdout",
     "output_type": "stream",
     "text": [
      "{'FRANCE': 194749853, 'GERMANY': 1855783, 'ITALY': 1123703, 'SPAIN': 1022432, 'UNITED_STATES': 940999, 'RÉUNION': 725010, 'UNITED_KINGDOM': 712293, 'SWITZERLAND': 589942, 'NETHERLANDS': 568703, 'NEW_CALEDONIA': 498123, 'FRENCH_GUIANA': 414252, 'CZECH_REPUBLIC': 406939, 'AUSTRIA': 379481, 'BELGIUM': 363438, 'GUADELOUPE': 356756, 'BRAZIL': 321389, 'MADAGASCAR': 253247, 'CANADA': 188565, 'FRENCH_POLYNESIA': 184303, 'POLAND': 179892, 'MARTINIQUE': 139060, 'CÔTE_DIVOIRE': 124122, 'RUSSIAN_FEDERATION': 119758, 'SLOVAKIA': 109268, 'PORTUGAL': 104004, 'SENEGAL': 100711, 'HUNGARY': 89043, 'GREECE': 88463, 'SWEDEN': 87754, 'UNKNOWN': 85929, 'INDIA': 84853, 'FRENCH_SOUTHERN_TERRITORIES': 81827, 'CAMEROON': 79498, 'FINLAND': 78240, 'BURKINA_FASO': 72584, 'AUSTRALIA': 68474, 'VIETNAM': 68466, 'MAYOTTE': 65849, 'MEXICO': 65782, 'PAPUA_NEW_GUINEA': 62424, 'CHINA': 61047, 'CROATIA': 59690, 'SOUTH_AFRICA': 58770, 'DENMARK': 58343, 'TURKEY': 57522, 'NORWAY': 54300, 'ALGERIA': 52989, 'NIGER': 50569, 'MOROCCO': 50408, 'IRELAND': 45427, 'INDONESIA': 44659, 'PHILIPPINES': 44201, 'GUINEA': 43570, 'ARGENTINA': 43448, 'MALI': 40625, 'JAPAN': 40208, 'CHAD': 38123, 'COLOMBIA': 37671, 'CHILE': 36765, 'GABON': 36506, 'SLOVENIA': 35918, 'VANUATU': 34084, 'UKRAINE': 33954, 'ROMANIA': 33698, 'EGYPT': 29689, 'WALLIS_FUTUNA': 28700, 'CENTRAL_AFRICAN_REPUBLIC': 28374, 'PERU': 26955, 'BENIN': 25913, 'SEYCHELLES': 23858, 'ECUADOR': 23246, 'MAURITANIA': 22467, 'SURINAME': 21794, 'MAURITIUS': 19665, 'IRAN': 19232, 'THAILAND': 18718, 'BULGARIA': 18181, 'NEW_ZEALAND': 18115, 'TUNISIA': 18056, 'CONGO': 17819, 'TANZANIA': 17768, 'BOLIVIA': 17661, 'SOLOMON_ISLANDS': 17280, 'SERBIA': 16903, 'CONGO_DEMOCRATIC_REPUBLIC': 16537, 'LUXEMBOURG': 16410, 'TAIWAN': 15769, 'VENEZUELA': 15724, 'MALAYSIA': 15708, 'SUDAN': 15539, 'LEBANON': 15168, 'COSTA_RICA': 15168, 'ETHIOPIA': 14919, 'KENYA': 14886, 'SAINT_MARTIN_FRENCH': 14677, 'TOGO': 13756, 'CAMBODIA': 13457, 'PARAGUAY': 12733, 'SAINT_PIERRE_MIQUELON': 12662, 'COMOROS': 12159, 'LAO': 12000, 'CAPE_VERDE': 11909, 'NEPAL': 11538, 'SOMALIA': 10318, 'LIBERIA': 10130, 'FIJI': 10004, 'ANTARCTICA': 9521, 'URUGUAY': 9464, 'CUBA': 9325, 'SYRIA': 9171, 'SAINT_BARTHÉLEMY': 9161, 'GUYANA': 8859, 'ISRAEL': 8801, 'ANGOLA': 8625, 'MOZAMBIQUE': 8561, 'NIGERIA': 8404, 'BELARUS': 8248, 'LITHUANIA': 7927, 'ESTONIA': 7676, 'SRI_LANKA': 7560, 'BOSNIA_HERZEGOVINA': 7465, 'LATVIA': 7321, 'DOMINICAN_REPUBLIC': 6852, 'ICELAND': 6733, 'PUERTO_RICO': 6707, 'GUATEMALA': 6267, 'GAMBIA': 5609, 'DJIBOUTI': 5447, 'MONTENEGRO': 5362, 'SIERRA_LEONE': 5103, 'PANAMA': 4725, 'CYPRUS': 4689, 'ARMENIA': 4540, 'MALDIVES': 4485, 'PAKISTAN': 4418, 'BRITISH_INDIAN_OCEAN_TERRITORY': 4360, 'SINGAPORE': 4294, 'KAZAKHSTAN': 4176, 'NAMIBIA': 4171, 'MALTA': 4079, 'YEMEN': 4015, 'GEORGIA': 3437, 'GHANA': 3394, 'ANDORRA': 3317, 'SAUDI_ARABIA': 3256, 'DOMINICA': 3194, 'SVALBARD_JAN_MAYEN': 3089, 'KOREA_SOUTH': 2978, 'ZIMBABWE': 2954, 'UGANDA': 2838, 'HONG_KONG': 2809, 'ALBANIA': 2726, 'TONGA': 2708, 'LIECHTENSTEIN': 2506, 'NICARAGUA': 2500, 'JAMAICA': 2495, 'LIBYA': 2401, 'TRINIDAD_TOBAGO': 2345, 'OMAN': 2302, 'BURUNDI': 2249, 'MACEDONIA': 2188, 'MYANMAR': 1989, 'RWANDA': 1934, 'HAITI': 1819, 'BELIZE': 1811, 'VIRGIN_ISLANDS': 1744, 'HONDURAS': 1729, 'JERSEY': 1703, 'MALAWI': 1667, 'SAO_TOME_PRINCIPE': 1593, 'AZERBAIJAN': 1573, 'MOLDOVA': 1569, 'EQUATORIAL_GUINEA': 1547, 'GUINEA_BISSAU': 1515, 'IRAQ': 1474, 'BARBADOS': 1438, 'BANGLADESH': 1314, 'ZAMBIA': 1305, 'EL_SALVADOR': 1296, 'JORDAN': 1294, 'GREENLAND': 1292, 'KYRGYZSTAN': 1211, 'BHUTAN': 1193, 'GUERNSEY': 1128, 'UNITED_ARAB_EMIRATES': 1009, 'BAHAMAS': 1005, 'UZBEKISTAN': 963, 'ISLE_OF_MAN': 944, 'LESOTHO': 943, 'AFGHANISTAN': 935, 'PALESTINIAN_TERRITORY': 904, 'SAINT_HELENA_ASCENSION_TRISTAN_DA_CUNHA': 835, 'SAMOA': 805, 'FALKLAND_ISLANDS': 793, 'WESTERN_SAHARA': 786, 'MONGOLIA': 782, 'BONAIRE_SINT_EUSTATIUS_SABA': 739, 'MONACO': 733, 'SAN_MARINO': 667, 'CAYMAN_ISLANDS': 662, 'KOSOVO': 659, 'ANGUILLA': 631, 'TAJIKISTAN': 600, 'SAINT_LUCIA': 540, 'ALAND_ISLANDS': 524, 'TIMOR_LESTE': 477, 'BOTSWANA': 477, 'TURKMENISTAN': 461, 'SAINT_KITTS_NEVIS': 438, 'SOUTH_GEORGIA_SANDWICH_ISLANDS': 421, 'GRENADA': 413, 'SAINT_VINCENT_GRENADINES': 405, 'GUAM': 396, 'MARSHALL_ISLANDS': 386, 'SINT_MAARTEN': 379, 'MICRONESIA': 376, 'ERITREA': 365, 'KOREA_NORTH': 353, 'CURAÇAO': 352, 'SWAZILAND': 333, 'BERMUDA': 320, 'GIBRALTAR': 316, 'VIRGIN_ISLANDS_BRITISH': 296, 'ANTIGUA_BARBUDA': 296, 'NORTHERN_MARIANA_ISLANDS': 277, 'AMERICAN_SAMOA': 277, 'KUWAIT': 264, 'BOUVET_ISLAND': 252, 'COOK_ISLANDS': 238, 'ARUBA': 227, 'PALAU': 225, 'COCOS_ISLANDS': 217, 'FAROE_ISLANDS': 211, 'NORFOLK_ISLAND': 203, 'MACAO': 202, 'TURKS_CAICOS_ISLANDS': 200, 'BRUNEI_DARUSSALAM': 185, 'QATAR': 163, 'CHRISTMAS_ISLAND': 142, 'HEARD_MCDONALD_ISLANDS': 101, 'SOUTH_SUDAN': 98, 'KIRIBATI': 94, 'MONTSERRAT': 89, 'PITCAIRN': 71, 'BAHRAIN': 61, 'TOKELAU': 54, 'VATICAN': 19, 'NIUE': 18, 'UNITED_STATES_OUTLYING_ISLANDS': 17, 'NAURU': 17, 'TUVALU': 4}\n"
     ]
    }
   ],
   "source": [
    "# Get the taxon key for a species\n",
    "df = get_data()\n",
    "species_list = df[\"species\"].tolist()[:5]\n",
    "\n",
    "species_data = {}\n",
    "for species_name in species_list[:1]:\n",
    "    taxon_key = species.name_backbone(species_name)[\"usageKey\"]\n",
    "    response = occ.count_countries(publishingCountry=\"FR\")\n",
    "print(response)"
   ]
  },
  {
   "cell_type": "code",
   "execution_count": null,
   "id": "8b8a96a3",
   "metadata": {},
   "outputs": [],
   "source": []
  }
 ],
 "metadata": {
  "kernelspec": {
   "display_name": ".venv",
   "language": "python",
   "name": "python3"
  },
  "language_info": {
   "codemirror_mode": {
    "name": "ipython",
    "version": 3
   },
   "file_extension": ".py",
   "mimetype": "text/x-python",
   "name": "python",
   "nbconvert_exporter": "python",
   "pygments_lexer": "ipython3",
   "version": "3.10.16"
  }
 },
 "nbformat": 4,
 "nbformat_minor": 5
}
