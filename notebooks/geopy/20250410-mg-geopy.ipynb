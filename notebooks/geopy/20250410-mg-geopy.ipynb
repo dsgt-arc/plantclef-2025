{
 "cells": [
  {
   "cell_type": "markdown",
   "id": "fdfb6b37",
   "metadata": {},
   "source": [
    "# Geopy\n",
    "https://geopy.readthedocs.io/en/stable/"
   ]
  },
  {
   "cell_type": "code",
   "execution_count": 1,
   "id": "ea03947d",
   "metadata": {},
   "outputs": [],
   "source": [
    "%load_ext autoreload\n",
    "%autoreload 2"
   ]
  },
  {
   "cell_type": "code",
   "execution_count": 2,
   "id": "f1dd98c6",
   "metadata": {},
   "outputs": [
    {
     "name": "stderr",
     "output_type": "stream",
     "text": [
      "Setting default log level to \"WARN\".\n",
      "To adjust logging level use sc.setLogLevel(newLevel). For SparkR, use setLogLevel(newLevel).\n",
      "25/04/10 14:36:59 WARN NativeCodeLoader: Unable to load native-hadoop library for your platform... using builtin-java classes where applicable\n",
      "25/04/10 14:36:59 WARN SparkConf: Note that spark.local.dir will be overridden by the value set by the cluster manager (via SPARK_LOCAL_DIRS in mesos/standalone/kubernetes and LOCAL_DIRS in YARN).\n"
     ]
    },
    {
     "data": {
      "text/html": [
       "\n",
       "            <div>\n",
       "                <p><b>SparkSession - in-memory</b></p>\n",
       "                \n",
       "        <div>\n",
       "            <p><b>SparkContext</b></p>\n",
       "\n",
       "            <p><a href=\"http://atl1-1-02-005-11-1.pace.gatech.edu:4040\">Spark UI</a></p>\n",
       "\n",
       "            <dl>\n",
       "              <dt>Version</dt>\n",
       "                <dd><code>v3.5.5</code></dd>\n",
       "              <dt>Master</dt>\n",
       "                <dd><code>local[24]</code></dd>\n",
       "              <dt>AppName</dt>\n",
       "                <dd><code>clef</code></dd>\n",
       "            </dl>\n",
       "        </div>\n",
       "        \n",
       "            </div>\n",
       "        "
      ],
      "text/plain": [
       "<pyspark.sql.session.SparkSession at 0x7fffbf7d3dc0>"
      ]
     },
     "metadata": {},
     "output_type": "display_data"
    }
   ],
   "source": [
    "from plantclef.spark import get_spark\n",
    "\n",
    "spark = get_spark()\n",
    "display(spark)"
   ]
  },
  {
   "cell_type": "code",
   "execution_count": 3,
   "id": "b2662497",
   "metadata": {},
   "outputs": [
    {
     "name": "stdout",
     "output_type": "stream",
     "text": [
      "Thu Apr 10 02:38:25 PM EDT 2025\n"
     ]
    }
   ],
   "source": [
    "import os\n",
    "from pathlib import Path\n",
    "\n",
    "# Set the root directory to your home directory\n",
    "root = Path(os.path.expanduser(\"~\"))\n",
    "! date"
   ]
  },
  {
   "cell_type": "code",
   "execution_count": 4,
   "id": "62733e1f",
   "metadata": {},
   "outputs": [
    {
     "name": "stderr",
     "output_type": "stream",
     "text": [
      "                                                                                \r"
     ]
    },
    {
     "name": "stdout",
     "output_type": "stream",
     "text": [
      "root\n",
      " |-- image_name: string (nullable = true)\n",
      " |-- path: string (nullable = true)\n",
      " |-- data: binary (nullable = true)\n",
      " |-- organ: string (nullable = true)\n",
      " |-- species_id: integer (nullable = true)\n",
      " |-- obs_id: long (nullable = true)\n",
      " |-- license: string (nullable = true)\n",
      " |-- partner: string (nullable = true)\n",
      " |-- author: string (nullable = true)\n",
      " |-- altitude: double (nullable = true)\n",
      " |-- latitude: double (nullable = true)\n",
      " |-- longitude: double (nullable = true)\n",
      " |-- gbif_species_id: string (nullable = true)\n",
      " |-- species: string (nullable = true)\n",
      " |-- genus: string (nullable = true)\n",
      " |-- family: string (nullable = true)\n",
      " |-- dataset: string (nullable = true)\n",
      " |-- publisher: string (nullable = true)\n",
      " |-- references: string (nullable = true)\n",
      " |-- url: string (nullable = true)\n",
      " |-- learn_tag: string (nullable = true)\n",
      " |-- image_backup_url: string (nullable = true)\n",
      "\n"
     ]
    },
    {
     "name": "stderr",
     "output_type": "stream",
     "text": [
      "                                                                                \r"
     ]
    },
    {
     "name": "stdout",
     "output_type": "stream",
     "text": [
      "+--------------------+--------------------+--------------------+-----+----------+----------+--------------------+-------+----------------+--------+-----------------+------------------+---------------+--------------------+-------------+----------+--------+-----------+--------------------+--------------------+---------+--------------------+\n",
      "|          image_name|                path|                data|organ|species_id|    obs_id|             license|partner|          author|altitude|         latitude|         longitude|gbif_species_id|             species|        genus|    family| dataset|  publisher|          references|                 url|learn_tag|    image_backup_url|\n",
      "+--------------------+--------------------+--------------------+-----+----------+----------+--------------------+-------+----------------+--------+-----------------+------------------+---------------+--------------------+-------------+----------+--------+-----------+--------------------+--------------------+---------+--------------------+\n",
      "|0703b7eb2951080a5...|/PlantCLEF2024/tr...|[FF D8 FF E0 00 1...| leaf|   1737493|1014839418|            cc-by-sa|   NULL|   Rudi Kraševec|   596.0|45.74738691666667|14.416461944444444|      5371781.0|Selinum carvifoli...|      Selinum|  Apiaceae|plantnet|   plantnet|https://identify....|https://bs.plantn...|    train|https://lab.plant...|\n",
      "|7b435513acf8ff561...|/PlantCLEF2024/tr...|[FF D8 FF E0 00 1...|habit|   1397675|3327730052|http://creativeco...|   NULL|   Rick Williams|    NULL|             NULL|              NULL|      3107034.0|Senecio soldanell...|      Senecio|Asteraceae|    gbif|iNaturalist|https://www.inatu...|https://inaturali...|    train|https://lab.plant...|\n",
      "|82f8e37f6feb7f122...|/PlantCLEF2024/tr...|[FF D8 FF E0 00 1...| bark|   1741934|3456737412|http://creativeco...|   NULL|Marina Privalova|    NULL|             NULL|              NULL|      9540150.0|Silphiodaucus pru...|Silphiodaucus|  Apiaceae|    gbif|iNaturalist|https://www.inatu...|https://inaturali...|    train|https://lab.plant...|\n",
      "|adcc56d13a8a59326...|/PlantCLEF2024/tr...|[FF D8 FF E0 00 1...| bark|   1363733|1012013282|            cc-by-sa|   NULL|Manuel Hernández|    16.0|        39.477479|         -0.387182|      2965379.0| Medicago arborea L.|     Medicago|  Fabaceae|plantnet|   plantnet|https://identify....|https://bs.plantn...|    train|https://lab.plant...|\n",
      "|b22aad71e33d5d2cb...|/PlantCLEF2024/tr...|[FF D8 FF E0 00 1...|fruit|   1359627|1012041937|            cc-by-sa|   NULL|   dixie cousins|    NULL|             NULL|              NULL|      3152658.0|Gossypium herbace...|    Gossypium| Malvaceae|plantnet|   plantnet|https://identify....|https://bs.plantn...|    train|https://lab.plant...|\n",
      "+--------------------+--------------------+--------------------+-----+----------+----------+--------------------+-------+----------------+--------+-----------------+------------------+---------------+--------------------+-------------+----------+--------+-----------+--------------------+--------------------+---------+--------------------+\n",
      "only showing top 5 rows\n",
      "\n"
     ]
    }
   ],
   "source": [
    "# path and dataset names\n",
    "data_path = f\"{root}/p-dsgt_clef2025-0/shared/plantclef/data/parquet\"\n",
    "\n",
    "# define the path to the train and test parquet files\n",
    "train_path = f\"{data_path}/train\"\n",
    "\n",
    "# read the parquet files into a spark DataFrame\n",
    "train_df = spark.read.parquet(train_path)\n",
    "\n",
    "# show the data\n",
    "train_df.printSchema()\n",
    "train_df.show(n=5)"
   ]
  },
  {
   "cell_type": "code",
   "execution_count": 6,
   "id": "be211ac0",
   "metadata": {},
   "outputs": [
    {
     "name": "stdout",
     "output_type": "stream",
     "text": [
      "The country for coordinates (40.7128, -74.006) is: United States\n",
      "The country for coordinates (51.5074, 0.1278) is: United Kingdom\n",
      "The country for coordinates (-23.5505, -46.6333) is: Brazil\n",
      "The country for coordinates (45.74738691666667, 14.416461944444444) is: Slovenia\n"
     ]
    }
   ],
   "source": [
    "from geopy.geocoders import Nominatim\n",
    "from geopy.location import Location\n",
    "\n",
    "\n",
    "def get_country_name(latitude: float, longitude: float) -> str:\n",
    "    \"\"\"\n",
    "    Converts latitude and longitude coordinates to a country name.\n",
    "\n",
    "    Args:\n",
    "        latitude (float): Latitude coordinate.\n",
    "        longitude (float): Longitude coordinate.\n",
    "\n",
    "    Returns:\n",
    "        str: Country name or \"Unknown\" if not found.\n",
    "    \"\"\"\n",
    "    geolocator = Nominatim(user_agent=\"geocoding_app\")\n",
    "    coordinates = f\"{latitude}, {longitude}\"\n",
    "    location: Location | None = geolocator.reverse(coordinates, language=\"en\")\n",
    "    if location:\n",
    "        address = location.raw[\"address\"]\n",
    "        country_name = address.get(\"country\", \"Unknown\")\n",
    "        return country_name\n",
    "    return \"Unknown\"\n",
    "\n",
    "\n",
    "# Example usage\n",
    "latitude = 40.7128  # Example: New York City\n",
    "longitude = -74.0060\n",
    "country = get_country_name(latitude, longitude)\n",
    "print(f\"The country for coordinates ({latitude}, {longitude}) is: {country}\")\n",
    "\n",
    "latitude = 51.5074  # Example: London\n",
    "longitude = 0.1278\n",
    "country = get_country_name(latitude, longitude)\n",
    "print(f\"The country for coordinates ({latitude}, {longitude}) is: {country}\")\n",
    "\n",
    "latitude = -23.5505  # Example: Sao Paulo\n",
    "longitude = -46.6333\n",
    "country = get_country_name(latitude, longitude)\n",
    "print(f\"The country for coordinates ({latitude}, {longitude}) is: {country}\")\n",
    "\n",
    "latitude = 45.74738691666667\n",
    "longitude = 14.416461944444444\n",
    "country = get_country_name(latitude, longitude)\n",
    "print(f\"The country for coordinates ({latitude}, {longitude}) is: {country}\")"
   ]
  },
  {
   "cell_type": "code",
   "execution_count": 19,
   "id": "3c9459be",
   "metadata": {},
   "outputs": [
    {
     "name": "stderr",
     "output_type": "stream",
     "text": [
      "[Stage 5:====================================================>(2329 + 1) / 2330]\r"
     ]
    },
    {
     "name": "stdout",
     "output_type": "stream",
     "text": [
      "Number of NULL latitude values: 702608\n",
      "Number of NULL longitude values: 702592\n"
     ]
    },
    {
     "name": "stderr",
     "output_type": "stream",
     "text": [
      "                                                                                \r"
     ]
    }
   ],
   "source": [
    "# count number of NULL latitude and longitude data\n",
    "null_latitude_count = train_df.filter(train_df.latitude.isNull()).count()\n",
    "null_longitude_count = train_df.filter(train_df.longitude.isNull()).count()\n",
    "print(f\"Number of NULL latitude values: {null_latitude_count}\")\n",
    "print(f\"Number of NULL longitude values: {null_longitude_count}\")"
   ]
  },
  {
   "cell_type": "code",
   "execution_count": 20,
   "id": "d84ef269",
   "metadata": {},
   "outputs": [
    {
     "name": "stderr",
     "output_type": "stream",
     "text": [
      "[Stage 8:====================================================>(2328 + 2) / 2330]\r"
     ]
    },
    {
     "name": "stdout",
     "output_type": "stream",
     "text": [
      "+----------+------------------+------------------+\n",
      "|species_id|      avg_latitude|     avg_longitude|\n",
      "+----------+------------------+------------------+\n",
      "|   1737493| 46.36360531186132| 5.639311481005929|\n",
      "|   1363733| 42.12276511772893| 6.716418020291944|\n",
      "|   1743681|  43.9162545329139|3.4286095476539384|\n",
      "|   1359356|38.116486922794394| 8.350581385996264|\n",
      "|   1741934|         42.625339|         25.145366|\n",
      "+----------+------------------+------------------+\n",
      "only showing top 5 rows\n",
      "\n"
     ]
    },
    {
     "name": "stderr",
     "output_type": "stream",
     "text": [
      "                                                                                \r"
     ]
    }
   ],
   "source": [
    "# filter out the rows with NULL latitude and longitude\n",
    "filtered_df = train_df.filter(\n",
    "    train_df.latitude.isNotNull() & train_df.longitude.isNotNull()\n",
    ")\n",
    "# groupby species_id and average the latitude and longitude of each species\n",
    "grouped_df = filtered_df.groupBy(\"species_id\").agg(\n",
    "    {\"latitude\": \"avg\", \"longitude\": \"avg\"}\n",
    ")\n",
    "# rename the columns\n",
    "grouped_df = grouped_df.withColumnRenamed(\"avg(latitude)\", \"avg_latitude\")\n",
    "grouped_df = grouped_df.withColumnRenamed(\"avg(longitude)\", \"avg_longitude\")\n",
    "# show the first 5 rows\n",
    "grouped_df.show(n=5)"
   ]
  },
  {
   "cell_type": "code",
   "execution_count": 22,
   "id": "7783ec6a",
   "metadata": {},
   "outputs": [
    {
     "name": "stderr",
     "output_type": "stream",
     "text": [
      "[Stage 17:==================================================>(2309 + 21) / 2330]\r"
     ]
    },
    {
     "name": "stdout",
     "output_type": "stream",
     "text": [
      "Number of unique species: 6208\n"
     ]
    },
    {
     "name": "stderr",
     "output_type": "stream",
     "text": [
      "                                                                                \r"
     ]
    }
   ],
   "source": [
    "# count the number of unique species from the grouped DataFrame\n",
    "unique_species_count = grouped_df.select(\"species_id\").count()\n",
    "print(f\"Number of unique species: {unique_species_count}\")"
   ]
  },
  {
   "cell_type": "code",
   "execution_count": null,
   "id": "cefdc87f",
   "metadata": {},
   "outputs": [],
   "source": []
  }
 ],
 "metadata": {
  "kernelspec": {
   "display_name": "venv",
   "language": "python",
   "name": "python3"
  },
  "language_info": {
   "codemirror_mode": {
    "name": "ipython",
    "version": 3
   },
   "file_extension": ".py",
   "mimetype": "text/x-python",
   "name": "python",
   "nbconvert_exporter": "python",
   "pygments_lexer": "ipython3",
   "version": "3.10.10"
  }
 },
 "nbformat": 4,
 "nbformat_minor": 5
}
