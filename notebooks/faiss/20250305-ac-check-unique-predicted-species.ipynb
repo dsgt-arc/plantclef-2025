{
 "cells": [
  {
   "cell_type": "code",
   "execution_count": null,
   "metadata": {},
   "outputs": [
    {
     "data": {
      "application/vnd.microsoft.datawrangler.viewer.v0+json": {
       "columns": [
        {
         "name": "index",
         "rawType": "int64",
         "type": "integer"
        },
        {
         "name": "plot_id",
         "rawType": "object",
         "type": "string"
        },
        {
         "name": "species_ids",
         "rawType": "object",
         "type": "unknown"
        }
       ],
       "conversionMethod": "pd.DataFrame",
       "ref": "9062ac0d-2fd6-4e6d-bbcd-9b9f5058ddbc",
       "rows": [
        [
         "0",
         "CBN-PdlC-A1-20130807",
         "[1392611, 1390793, 1392608, 1395944]"
        ],
        [
         "1",
         "CBN-PdlC-A1-20130903",
         "[1396733, 1394311, 1390793, 1395944]"
        ],
        [
         "2",
         "CBN-PdlC-A1-20140721",
         "[1412857, 1392611, 1418612, 1390793]"
        ],
        [
         "3",
         "CBN-PdlC-A1-20140811",
         "[1394643, 1392606, 1392608, 1390793]"
        ],
        [
         "4",
         "CBN-PdlC-A1-20140901",
         "[1392611, 1395944, 1390793, 1392608]"
        ]
       ],
       "shape": {
        "columns": 2,
        "rows": 5
       }
      },
      "text/html": [
       "<div>\n",
       "<style scoped>\n",
       "    .dataframe tbody tr th:only-of-type {\n",
       "        vertical-align: middle;\n",
       "    }\n",
       "\n",
       "    .dataframe tbody tr th {\n",
       "        vertical-align: top;\n",
       "    }\n",
       "\n",
       "    .dataframe thead th {\n",
       "        text-align: right;\n",
       "    }\n",
       "</style>\n",
       "<table border=\"1\" class=\"dataframe\">\n",
       "  <thead>\n",
       "    <tr style=\"text-align: right;\">\n",
       "      <th></th>\n",
       "      <th>plot_id</th>\n",
       "      <th>species_ids</th>\n",
       "    </tr>\n",
       "  </thead>\n",
       "  <tbody>\n",
       "    <tr>\n",
       "      <th>0</th>\n",
       "      <td>CBN-PdlC-A1-20130807</td>\n",
       "      <td>[1392611, 1390793, 1392608, 1395944]</td>\n",
       "    </tr>\n",
       "    <tr>\n",
       "      <th>1</th>\n",
       "      <td>CBN-PdlC-A1-20130903</td>\n",
       "      <td>[1396733, 1394311, 1390793, 1395944]</td>\n",
       "    </tr>\n",
       "    <tr>\n",
       "      <th>2</th>\n",
       "      <td>CBN-PdlC-A1-20140721</td>\n",
       "      <td>[1412857, 1392611, 1418612, 1390793]</td>\n",
       "    </tr>\n",
       "    <tr>\n",
       "      <th>3</th>\n",
       "      <td>CBN-PdlC-A1-20140811</td>\n",
       "      <td>[1394643, 1392606, 1392608, 1390793]</td>\n",
       "    </tr>\n",
       "    <tr>\n",
       "      <th>4</th>\n",
       "      <td>CBN-PdlC-A1-20140901</td>\n",
       "      <td>[1392611, 1395944, 1390793, 1392608]</td>\n",
       "    </tr>\n",
       "  </tbody>\n",
       "</table>\n",
       "</div>"
      ],
      "text/plain": [
       "                plot_id                           species_ids\n",
       "0  CBN-PdlC-A1-20130807  [1392611, 1390793, 1392608, 1395944]\n",
       "1  CBN-PdlC-A1-20130903  [1396733, 1394311, 1390793, 1395944]\n",
       "2  CBN-PdlC-A1-20140721  [1412857, 1392611, 1418612, 1390793]\n",
       "3  CBN-PdlC-A1-20140811  [1394643, 1392606, 1392608, 1390793]\n",
       "4  CBN-PdlC-A1-20140901  [1392611, 1395944, 1390793, 1392608]"
      ]
     },
     "execution_count": 11,
     "metadata": {},
     "output_type": "execute_result"
    }
   ],
   "source": [
    "import pandas as pd\n",
    "df = pd.read_csv('~/scratch/plantclef/submissions/knn/topk_5/grid_3_4_6/topk_5_grid_3_4_6_p_0.05_per_image/dsgt_run_topk_5_grid_3_4_6_p_0.05_per_image.csv', delimiter=';')\n",
    "df['species_ids'] = df['species_ids'].apply(lambda x: list(map(int, x.strip('[]').split(','))))\n",
    "df.head()\n"
   ]
  },
  {
   "cell_type": "code",
   "execution_count": null,
   "metadata": {},
   "outputs": [
    {
     "data": {
      "text/plain": [
       "583"
      ]
     },
     "execution_count": 12,
     "metadata": {},
     "output_type": "execute_result"
    }
   ],
   "source": [
    "unique_species_ids = set([item for sublist in df['species_ids'] for item in sublist])\n",
    "len(unique_species_ids)"
   ]
  }
 ],
 "metadata": {
  "kernelspec": {
   "display_name": "venv",
   "language": "python",
   "name": "python3"
  },
  "language_info": {
   "codemirror_mode": {
    "name": "ipython",
    "version": 3
   },
   "file_extension": ".py",
   "mimetype": "text/x-python",
   "name": "python",
   "nbconvert_exporter": "python",
   "pygments_lexer": "ipython3",
   "version": "3.10.10"
  }
 },
 "nbformat": 4,
 "nbformat_minor": 2
}
