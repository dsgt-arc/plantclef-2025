{
 "cells": [
  {
   "cell_type": "code",
   "execution_count": 1,
   "id": "6cd67f2c-05aa-438d-85d1-723e6ca08cc5",
   "metadata": {},
   "outputs": [],
   "source": [
    "%load_ext autoreload\n",
    "%autoreload 2"
   ]
  },
  {
   "cell_type": "code",
   "execution_count": 2,
   "id": "040297be-1336-4b9d-9d38-004490e1c501",
   "metadata": {},
   "outputs": [],
   "source": [
    "import os\n",
    "import sys\n",
    "\n",
    "sys.path.append(os.path.expanduser(\"~/clef/plantclef-2025/\"))"
   ]
  },
  {
   "cell_type": "code",
   "execution_count": 3,
   "id": "11fe9825-f48a-4677-aae3-6e0423e6f414",
   "metadata": {},
   "outputs": [
    {
     "name": "stderr",
     "output_type": "stream",
     "text": [
      "Setting default log level to \"WARN\".\n",
      "To adjust logging level use sc.setLogLevel(newLevel). For SparkR, use setLogLevel(newLevel).\n",
      "25/03/05 02:16:04 WARN NativeCodeLoader: Unable to load native-hadoop library for your platform... using builtin-java classes where applicable\n",
      "25/03/05 02:16:04 WARN SparkConf: Note that spark.local.dir will be overridden by the value set by the cluster manager (via SPARK_LOCAL_DIRS in mesos/standalone/kubernetes and LOCAL_DIRS in YARN).\n"
     ]
    },
    {
     "data": {
      "text/html": [
       "\n",
       "            <div>\n",
       "                <p><b>SparkSession - in-memory</b></p>\n",
       "                \n",
       "        <div>\n",
       "            <p><b>SparkContext</b></p>\n",
       "\n",
       "            <p><a href=\"http://atl1-1-02-010-29-2.pace.gatech.edu:4040\">Spark UI</a></p>\n",
       "\n",
       "            <dl>\n",
       "              <dt>Version</dt>\n",
       "                <dd><code>v3.5.5</code></dd>\n",
       "              <dt>Master</dt>\n",
       "                <dd><code>local[24]</code></dd>\n",
       "              <dt>AppName</dt>\n",
       "                <dd><code>clef</code></dd>\n",
       "            </dl>\n",
       "        </div>\n",
       "        \n",
       "            </div>\n",
       "        "
      ],
      "text/plain": [
       "<pyspark.sql.session.SparkSession at 0x7fffa6684040>"
      ]
     },
     "metadata": {},
     "output_type": "display_data"
    }
   ],
   "source": [
    "from plantclef.spark import get_spark\n",
    "\n",
    "spark = get_spark()\n",
    "display(spark)"
   ]
  },
  {
   "cell_type": "code",
   "execution_count": 44,
   "id": "38bcc08a",
   "metadata": {},
   "outputs": [],
   "source": [
    "from pathlib import Path\n",
    "\n",
    "home = Path.home()\n",
    "knn_path = home / \"scratch/plantclef/data/knn\"\n",
    "dataset = \"test_2024\"\n",
    "knn_df = spark.read.parquet(str(knn_path / dataset / \"k=50\"))"
   ]
  },
  {
   "cell_type": "code",
   "execution_count": 5,
   "id": "7a1648ac",
   "metadata": {},
   "outputs": [
    {
     "name": "stdout",
     "output_type": "stream",
     "text": [
      "root\n",
      " |-- image_name: string (nullable = true)\n",
      " |-- tile: integer (nullable = true)\n",
      " |-- cls_embedding: array (nullable = true)\n",
      " |    |-- element: float (containsNull = true)\n",
      " |-- distances: array (nullable = true)\n",
      " |    |-- element: float (containsNull = true)\n",
      " |-- nn_ids: array (nullable = true)\n",
      " |    |-- element: integer (containsNull = true)\n",
      " |-- grid: string (nullable = true)\n",
      "\n"
     ]
    },
    {
     "name": "stderr",
     "output_type": "stream",
     "text": [
      "                                                                                \r"
     ]
    },
    {
     "name": "stdout",
     "output_type": "stream",
     "text": [
      "+--------------------+----+--------------------+--------------------+--------------------+----+\n",
      "|          image_name|tile|       cls_embedding|           distances|              nn_ids|grid|\n",
      "+--------------------+----+--------------------+--------------------+--------------------+----+\n",
      "|CBN-Pla-A1-201507...|  21|[0.21448913, 1.83...|[0.9790672, 1.075...|[1030958, 1232584...| 6x6|\n",
      "|CBN-PdlC-D6-20190...|  24|[-0.19922814, 0.8...|[0.9749708, 1.007...|[1232584, 1030958...| 6x6|\n",
      "|CBN-PdlC-C2-20140...|   8|[1.8081415, 1.974...|[1.0173109, 1.030...|[50293, 453007, 3...| 6x6|\n",
      "|CBN-Pla-E3-202006...|  12|[-0.53749895, 0.4...|[1.1672064, 1.258...|[345384, 1397442,...| 6x6|\n",
      "|CBN-Pla-A6-201407...|  23|[-0.61038494, 1.9...|[1.0214908, 1.056...|[490372, 445691, ...| 6x6|\n",
      "+--------------------+----+--------------------+--------------------+--------------------+----+\n",
      "only showing top 5 rows\n",
      "\n"
     ]
    }
   ],
   "source": [
    "knn_df.printSchema()\n",
    "knn_df.show(5)"
   ]
  },
  {
   "cell_type": "code",
   "execution_count": 6,
   "id": "4e671459-305f-42f8-92cb-c73ea2d85c1a",
   "metadata": {},
   "outputs": [
    {
     "name": "stdout",
     "output_type": "stream",
     "text": [
      "root\n",
      " |-- id: integer (nullable = true)\n",
      " |-- image_name: string (nullable = true)\n",
      " |-- species_id: integer (nullable = true)\n",
      "\n",
      "+---+--------------------+----------+\n",
      "| id|          image_name|species_id|\n",
      "+---+--------------------+----------+\n",
      "|  0|3a2c58a78ee93b471...|   1363472|\n",
      "|  1|0a0bf86d70307e8db...|   1361957|\n",
      "|  2|7990901729be71186...|   1363472|\n",
      "|  3|80257a4818f5955f9...|   1392612|\n",
      "|  4|e13e476d0dc36ed7b...|   1360562|\n",
      "+---+--------------------+----------+\n",
      "only showing top 5 rows\n",
      "\n"
     ]
    }
   ],
   "source": [
    "id_map_path = home / \"scratch/plantclef/data/faiss/train/train_id_map\"\n",
    "id_df = spark.read.parquet(str(id_map_path))\n",
    "id_df.printSchema()\n",
    "id_df.show(5)"
   ]
  },
  {
   "cell_type": "code",
   "execution_count": 8,
   "id": "272dfb6b",
   "metadata": {},
   "outputs": [],
   "source": [
    "import pandas as pd\n",
    "from pyspark.sql.functions import col, slice as spark_slice, median, min as spark_min, explode, arrays_zip, percentile_approx, collect_list, expr\n",
    "from pyspark.sql.window import Window"
   ]
  },
  {
   "cell_type": "code",
   "execution_count": 45,
   "id": "5b3664cf",
   "metadata": {},
   "outputs": [
    {
     "name": "stdout",
     "output_type": "stream",
     "text": [
      "+--------------------+----+--------------------+--------------------+--------------------+----+\n",
      "|          image_name|tile|       cls_embedding|           distances|              nn_ids|grid|\n",
      "+--------------------+----+--------------------+--------------------+--------------------+----+\n",
      "|CBN-Pla-F5-201308...|   2|[0.88047934, 1.95...|[0.9706346, 0.994...|[1030958, 50293, ...| 6x6|\n",
      "|CBN-PdlC-A4-20200...|  15|[0.36177894, 1.17...|[1.0741732, 1.169...|[1112860, 1242945...| 6x6|\n",
      "|CBN-Pla-F5-201409...|  25|[0.14248312, 0.97...|[0.87368023, 0.93...|[1198784, 364477,...| 6x6|\n",
      "|CBN-Pla-D4-202008...|  16|[0.27229214, 1.25...|[0.7963917, 0.854...|[1189846, 701710,...| 6x6|\n",
      "|CBN-Pla-F3-201308...|  11|[-0.16221362, 2.1...|[1.1174055, 1.119...|[20659, 1198784, ...| 6x6|\n",
      "+--------------------+----+--------------------+--------------------+--------------------+----+\n",
      "only showing top 5 rows\n",
      "\n"
     ]
    },
    {
     "data": {
      "text/plain": [
       "103395"
      ]
     },
     "execution_count": 45,
     "metadata": {},
     "output_type": "execute_result"
    }
   ],
   "source": [
    "top_k = 5\n",
    "\n",
    "grid_sizes = [3, 4, 6]\n",
    "grid_strs = [f\"{s}x{s}\" for s in grid_sizes]\n",
    "filtered_df = (\n",
    "    knn_df\n",
    "    .filter(knn_df.grid.isin(grid_strs))\n",
    "    .withColumn(\"nn_ids\", spark_slice(col(\"nn_ids\"), 1, top_k))\n",
    "    .withColumn(\"distances\", spark_slice(col(\"distances\"), 1, top_k))\n",
    ")\n",
    "filtered_df.show(5)\n",
    "filtered_df.count()"
   ]
  },
  {
   "cell_type": "code",
   "execution_count": 46,
   "id": "948d91f4",
   "metadata": {},
   "outputs": [
    {
     "name": "stdout",
     "output_type": "stream",
     "text": [
      "+--------------------+----+----+-------+----------+\n",
      "|          image_name|tile|grid|  nn_id|  distance|\n",
      "+--------------------+----+----+-------+----------+\n",
      "|CBN-Pla-F5-201308...|   2| 6x6|1030958| 0.9706346|\n",
      "|CBN-Pla-F5-201308...|   2| 6x6|  50293| 0.9942105|\n",
      "|CBN-Pla-F5-201308...|   2| 6x6|1350341|0.99594915|\n",
      "|CBN-Pla-F5-201308...|   2| 6x6| 260828| 1.0492289|\n",
      "|CBN-Pla-F5-201308...|   2| 6x6|  62626| 1.0509398|\n",
      "+--------------------+----+----+-------+----------+\n",
      "only showing top 5 rows\n",
      "\n"
     ]
    },
    {
     "name": "stderr",
     "output_type": "stream",
     "text": [
      "                                                                                \r"
     ]
    },
    {
     "data": {
      "text/plain": [
       "516975"
      ]
     },
     "execution_count": 46,
     "metadata": {},
     "output_type": "execute_result"
    }
   ],
   "source": [
    "exploded_df = (\n",
    "    filtered_df\n",
    "    .withColumn(\"nn_info\", arrays_zip(\"nn_ids\", \"distances\"))\n",
    "    .withColumn(\"nn_info\", explode(\"nn_info\"))\n",
    "    .withColumn(\"nn_id\", col(\"nn_info\").getItem(\"nn_ids\"))  # ID\n",
    "    .withColumn(\"distance\", col(\"nn_info\").getItem(\"distances\"))  # Distance\n",
    "    .select(\"image_name\", \"tile\", \"grid\", \"nn_id\", \"distance\")\n",
    ")\n",
    "exploded_df.show(5)\n",
    "exploded_df.count()"
   ]
  },
  {
   "cell_type": "code",
   "execution_count": 47,
   "id": "1fcc584a",
   "metadata": {},
   "outputs": [
    {
     "name": "stderr",
     "output_type": "stream",
     "text": [
      "                                                                                \r"
     ]
    },
    {
     "name": "stdout",
     "output_type": "stream",
     "text": [
      "+--------------------+----+----+-----+---------+----------+\n",
      "|          image_name|tile|grid|nn_id| distance|species_id|\n",
      "+--------------------+----+----+-----+---------+----------+\n",
      "|OPTMix-057-P1-191...|  22| 6x6| 1483|1.1199174|   1356404|\n",
      "|OPTMix-057-P1-191...|  28| 6x6| 1483|1.1610701|   1356404|\n",
      "|OPTMix-057-P1-191...|   5| 3x3| 1483|1.1300431|   1356404|\n",
      "|RNNB-6-10-2024011...|  33| 6x6| 2156|1.3340116|   1357771|\n",
      "|RNNB-3-1-20230512...|   4| 6x6| 4612|1.2298062|   1363413|\n",
      "+--------------------+----+----+-----+---------+----------+\n",
      "only showing top 5 rows\n",
      "\n"
     ]
    },
    {
     "name": "stderr",
     "output_type": "stream",
     "text": [
      "                                                                                \r"
     ]
    },
    {
     "data": {
      "text/plain": [
       "516975"
      ]
     },
     "execution_count": 47,
     "metadata": {},
     "output_type": "execute_result"
    }
   ],
   "source": [
    "joined_df = (\n",
    "    exploded_df\n",
    "    .join(id_df, exploded_df.nn_id == id_df.id, \"inner\")\n",
    "    .drop(\n",
    "        id_df[\"id\"],\n",
    "        id_df[\"image_name\"],\n",
    "    )\n",
    ")\n",
    "joined_df.show(5)\n",
    "joined_df.count()"
   ]
  },
  {
   "cell_type": "code",
   "execution_count": 48,
   "id": "2aa410f2",
   "metadata": {},
   "outputs": [
    {
     "name": "stderr",
     "output_type": "stream",
     "text": [
      "                                                                                \r"
     ]
    },
    {
     "name": "stdout",
     "output_type": "stream",
     "text": [
      "+--------------------+----+----+----------+------------------+\n",
      "|          image_name|tile|grid|species_id|      med_distance|\n",
      "+--------------------+----+----+----------+------------------+\n",
      "|CBN-PdlC-A1-20130...|   0| 3x3|   1622901|1.1661185026168823|\n",
      "|CBN-PdlC-A1-20130...|   1| 4x4|   1392333|1.0867536067962646|\n",
      "|CBN-PdlC-A1-20130...|   2| 3x3|   1418612|1.0993012189865112|\n",
      "|CBN-PdlC-A1-20130...|   3| 4x4|   1390904| 1.016113042831421|\n",
      "|CBN-PdlC-A1-20130...|   5| 4x4|   1390793|0.8471294641494751|\n",
      "+--------------------+----+----+----------+------------------+\n",
      "only showing top 5 rows\n",
      "\n"
     ]
    },
    {
     "name": "stderr",
     "output_type": "stream",
     "text": [
      "                                                                                \r"
     ]
    },
    {
     "data": {
      "text/plain": [
       "400499"
      ]
     },
     "execution_count": 48,
     "metadata": {},
     "output_type": "execute_result"
    }
   ],
   "source": [
    "med_per_tile_species_df = (\n",
    "    joined_df\n",
    "    .groupBy(\"image_name\", \"tile\", \"grid\", \"species_id\")\n",
    "    .agg(median(\"distance\").alias(\"med_distance\"))\n",
    ")\n",
    "med_per_tile_species_df.show(5)\n",
    "med_per_tile_species_df.count()"
   ]
  },
  {
   "cell_type": "code",
   "execution_count": 49,
   "id": "ba325f6d",
   "metadata": {},
   "outputs": [
    {
     "name": "stderr",
     "output_type": "stream",
     "text": [
      "                                                                                \r"
     ]
    },
    {
     "name": "stdout",
     "output_type": "stream",
     "text": [
      "+--------------------+----------+------------------+\n",
      "|          image_name|species_id|  min_med_distance|\n",
      "+--------------------+----------+------------------+\n",
      "|CBN-PdlC-A1-20160...|   1360400| 1.267442226409912|\n",
      "|CBN-PdlC-A1-20180...|   1743999|1.1865174770355225|\n",
      "|CBN-PdlC-A3-20190...|   1393659|0.9737672805786133|\n",
      "|CBN-PdlC-A4-20140...|   1390846|0.8893802165985107|\n",
      "|CBN-PdlC-A4-20170...|   1390793| 0.830958366394043|\n",
      "+--------------------+----------+------------------+\n",
      "only showing top 5 rows\n",
      "\n"
     ]
    },
    {
     "name": "stderr",
     "output_type": "stream",
     "text": [
      "                                                                                \r"
     ]
    },
    {
     "data": {
      "text/plain": [
       "98181"
      ]
     },
     "execution_count": 49,
     "metadata": {},
     "output_type": "execute_result"
    }
   ],
   "source": [
    "min_med_per_species_df = (\n",
    "    med_per_tile_species_df\n",
    "    .groupBy(\"image_name\", \"species_id\")\n",
    "    .agg(spark_min(\"med_distance\").alias(\"min_med_distance\"))\n",
    ")\n",
    "min_med_per_species_df.show(5)\n",
    "min_med_per_species_df.count()"
   ]
  },
  {
   "cell_type": "code",
   "execution_count": 58,
   "id": "53ea58c3",
   "metadata": {},
   "outputs": [
    {
     "name": "stderr",
     "output_type": "stream",
     "text": [
      "                                                                                \r"
     ]
    },
    {
     "name": "stdout",
     "output_type": "stream",
     "text": [
      "+--------------------+----------+------------------+------------------+\n",
      "|          image_name|species_id|  min_med_distance|         threshold|\n",
      "+--------------------+----------+------------------+------------------+\n",
      "|CBN-PdlC-A1-20140...|   1361067|1.1409962177276611|0.9384316205978394|\n",
      "|CBN-PdlC-A2-20160...|   1361367|1.2515268325805664|0.7007163763046265|\n",
      "|CBN-PdlC-A3-20150...|   1391331|1.0512290000915527|0.7845488786697388|\n",
      "|CBN-PdlC-A5-20150...|   1398675|1.1379972696304321|0.9734244346618652|\n",
      "|CBN-PdlC-B1-20190...|   1390846| 1.153586745262146|0.8440489768981934|\n",
      "|CBN-PdlC-B1-20200...|   1645887|1.0850348472595215|1.0635039806365967|\n",
      "|CBN-PdlC-B2-20140...|   1590997|1.2323768138885498|0.7283170223236084|\n",
      "|CBN-PdlC-B3-20140...|   1744235|1.1786420345306396|0.9239225387573242|\n",
      "|CBN-PdlC-B3-20180...|   1390874|1.1551555395126343| 1.011999487876892|\n",
      "|CBN-PdlC-B5-20180...|   1388766| 1.143423318862915|0.8108183145523071|\n",
      "+--------------------+----------+------------------+------------------+\n",
      "only showing top 10 rows\n",
      "\n"
     ]
    },
    {
     "data": {
      "text/plain": [
       "98181"
      ]
     },
     "execution_count": 58,
     "metadata": {},
     "output_type": "execute_result"
    }
   ],
   "source": [
    "percentile = 0.05\n",
    "window_spec = Window.partitionBy(\"image_name\")\n",
    "percentile_df = min_med_per_species_df.withColumn(\n",
    "    \"threshold\", \n",
    "    percentile_approx(\"min_med_distance\", percentile).over(window_spec)\n",
    ")\n",
    "# percentile_df.show(10)\n",
    "percentile_df.sample(0.0005).show(10)\n",
    "percentile_df.count()"
   ]
  },
  {
   "cell_type": "code",
   "execution_count": 59,
   "id": "e1e06426",
   "metadata": {},
   "outputs": [
    {
     "name": "stderr",
     "output_type": "stream",
     "text": [
      "                                                                                \r"
     ]
    },
    {
     "data": {
      "text/plain": [
       "0.8548853397369385"
      ]
     },
     "execution_count": 59,
     "metadata": {},
     "output_type": "execute_result"
    }
   ],
   "source": [
    "all_percentile_df = min_med_per_species_df.agg(\n",
    "    percentile_approx(\"min_med_distance\", percentile).alias(\"top_percentile\")\n",
    ")\n",
    "all_percentile_value = all_percentile_df.collect()[0][0]\n",
    "all_percentile_value"
   ]
  },
  {
   "cell_type": "code",
   "execution_count": 60,
   "id": "4684db39",
   "metadata": {},
   "outputs": [
    {
     "name": "stderr",
     "output_type": "stream",
     "text": [
      "                                                                                \r"
     ]
    },
    {
     "name": "stdout",
     "output_type": "stream",
     "text": [
      "+--------------------+--------------------+\n",
      "|             plot_id|         species_ids|\n",
      "+--------------------+--------------------+\n",
      "|CBN-PdlC-E6-20180815|[1390793, 1394311...|\n",
      "|CBN-PdlC-E4-20160726|[1396733, 1737699...|\n",
      "|CBN-PdlC-E1-20150831|[1390793, 1396733...|\n",
      "| CBN-Pla-C6-20200814|  [1390899, 1394311]|\n",
      "|   RNNB-4-1-20240117|  [1361723, 1361703]|\n",
      "|CBN-PdlC-D3-20200722|[1419963, 1390793...|\n",
      "|CBN-PdlC-F6-20130903|  [1390793, 1394311]|\n",
      "| CBN-Pla-D1-20180906|[1394311, 1390793...|\n",
      "|CBN-PdlC-D4-20150831|[1395807, 1390793...|\n",
      "|OPTMix-0333-P2-11...|[1362581, 1361000...|\n",
      "+--------------------+--------------------+\n",
      "only showing top 10 rows\n",
      "\n"
     ]
    },
    {
     "data": {
      "text/plain": [
       "1695"
      ]
     },
     "execution_count": 60,
     "metadata": {},
     "output_type": "execute_result"
    }
   ],
   "source": [
    "all_images_df = knn_df.select(\"image_name\").distinct()\n",
    "\\\n",
    "species_groups_df = (\n",
    "    percentile_df\n",
    "    .filter(col(\"min_med_distance\") <= col(\"threshold\"))\n",
    "    # .filter(col(\"min_med_distance\") <= 1)\n",
    "    # .filter(col(\"min_med_distance\") <= all_percentile_value)\n",
    "    .groupBy(\"image_name\")\n",
    "    .agg(collect_list(\"species_id\").alias(\"species_ids\"))\n",
    ")\n",
    "\n",
    "predictions_df = (\n",
    "    all_images_df\n",
    "    .join(species_groups_df, \"image_name\", \"left\")\n",
    "    .withColumn(\"species_ids\", expr(\"coalesce(species_ids, array())\")) # replace null with empty array\n",
    "    .withColumn(\n",
    "        \"plot_id\", \n",
    "        expr(\"substring_index(image_name, '.', 1)\")\n",
    "    )\n",
    "    .select(\"plot_id\", \"species_ids\")\n",
    ")\n",
    "predictions_df.show(10)\n",
    "predictions_df.count()"
   ]
  },
  {
   "cell_type": "code",
   "execution_count": 61,
   "id": "e26b22ae",
   "metadata": {},
   "outputs": [
    {
     "name": "stderr",
     "output_type": "stream",
     "text": [
      "                                                                                \r"
     ]
    },
    {
     "data": {
      "text/plain": [
       "0"
      ]
     },
     "execution_count": 61,
     "metadata": {},
     "output_type": "execute_result"
    }
   ],
   "source": [
    "from pyspark.sql.functions import size\n",
    "predictions_df.filter(size(predictions_df.species_ids) == 0).count()"
   ]
  },
  {
   "cell_type": "code",
   "execution_count": 62,
   "id": "4ad174de",
   "metadata": {},
   "outputs": [
    {
     "name": "stderr",
     "output_type": "stream",
     "text": [
      "                                                                                \r"
     ]
    },
    {
     "name": "stdout",
     "output_type": "stream",
     "text": [
      "+-------+------------------+\n",
      "|summary|     species_count|\n",
      "+-------+------------------+\n",
      "|  count|              1695|\n",
      "|   mean|3.3740412979351033|\n",
      "| stddev|0.9871840555684457|\n",
      "|    min|                 1|\n",
      "|    max|                 7|\n",
      "+-------+------------------+\n",
      "\n"
     ]
    },
    {
     "name": "stderr",
     "output_type": "stream",
     "text": [
      "                                                                                \r"
     ]
    },
    {
     "data": {
      "image/png": "[encoded data removed]",
      "text/plain": [
       "<Figure size 1200x700 with 1 Axes>"
      ]
     },
     "metadata": {},
     "output_type": "display_data"
    }
   ],
   "source": [
    "import seaborn as sns\n",
    "import matplotlib.pyplot as plt\n",
    "from pyspark.sql.functions import size\n",
    "\n",
    "# Create species count column\n",
    "predictions_with_count_df = predictions_df.withColumn(\n",
    "    \"species_count\", \n",
    "    size(\"species_ids\")\n",
    ")\n",
    "predictions_with_count_df.select(\"species_count\").describe().show()\n",
    "\n",
    "predictions_pd = predictions_with_count_df.select(\"plot_id\", \"species_count\").toPandas()\n",
    "\n",
    "sns.set_style(\"whitegrid\")\n",
    "plt.figure(figsize=(12, 7))\n",
    "\n",
    "ax = sns.histplot(\n",
    "    data=predictions_pd, \n",
    "    x=\"species_count\", \n",
    "    binwidth=1, \n",
    "    color=\"skyblue\", \n",
    "    edgecolor=\"black\", \n",
    "    alpha=0.7\n",
    ")\n",
    "\n",
    "# Add mean and median lines\n",
    "mean_count = predictions_pd[\"species_count\"].mean()\n",
    "median_count = predictions_pd[\"species_count\"].median()\n",
    "plt.axvline(mean_count, color='red', linestyle='--', linewidth=2, label=f'Mean: {mean_count:.2f}')\n",
    "plt.axvline(median_count, color='green', linestyle='--', linewidth=2, label=f'Median: {median_count:.2f}')\n",
    "\n",
    "# Add labels and title\n",
    "plt.xlabel(\"Number of Species Predictions Per Image\", fontsize=12)\n",
    "plt.ylabel(\"Count\", fontsize=12)\n",
    "plt.title(\"Distribution of Species Count per Plot\", fontsize=14)\n",
    "plt.legend()\n",
    "\n",
    "plt.tight_layout()\n",
    "plt.show()"
   ]
  },
  {
   "cell_type": "code",
   "execution_count": null,
   "id": "24159964",
   "metadata": {},
   "outputs": [],
   "source": []
  },
  {
   "cell_type": "code",
   "execution_count": null,
   "id": "10c8cf50",
   "metadata": {},
   "outputs": [],
   "source": []
  }
 ],
 "metadata": {
  "kernelspec": {
   "display_name": "venv",
   "language": "python",
   "name": "python3"
  },
  "language_info": {
   "codemirror_mode": {
    "name": "ipython",
    "version": 3
   },
   "file_extension": ".py",
   "mimetype": "text/x-python",
   "name": "python",
   "nbconvert_exporter": "python",
   "pygments_lexer": "ipython3",
   "version": "3.10.10"
  }
 },
 "nbformat": 4,
 "nbformat_minor": 5
}
