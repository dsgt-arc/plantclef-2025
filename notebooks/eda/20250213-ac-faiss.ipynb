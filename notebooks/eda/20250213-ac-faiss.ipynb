{
 "cells": [
  {
   "cell_type": "code",
   "execution_count": 1,
   "metadata": {},
   "outputs": [],
   "source": [
    "%load_ext autoreload\n",
    "%autoreload 2"
   ]
  },
  {
   "cell_type": "code",
   "execution_count": 2,
   "metadata": {},
   "outputs": [
    {
     "name": "stderr",
     "output_type": "stream",
     "text": [
      "Setting default log level to \"WARN\".\n",
      "To adjust logging level use sc.setLogLevel(newLevel). For SparkR, use setLogLevel(newLevel).\n",
      "25/02/18 16:51:32 WARN NativeCodeLoader: Unable to load native-hadoop library for your platform... using builtin-java classes where applicable\n",
      "25/02/18 16:51:33 WARN SparkConf: Note that spark.local.dir will be overridden by the value set by the cluster manager (via SPARK_LOCAL_DIRS in mesos/standalone/kubernetes and LOCAL_DIRS in YARN).\n",
      "25/02/18 16:51:35 WARN Utils: Service 'SparkUI' could not bind on port 4040. Attempting port 4041.\n"
     ]
    },
    {
     "data": {
      "text/html": [
       "\n",
       "            <div>\n",
       "                <p><b>SparkSession - in-memory</b></p>\n",
       "                \n",
       "        <div>\n",
       "            <p><b>SparkContext</b></p>\n",
       "\n",
       "            <p><a href=\"http://login-phoenix-rh9-1.pace.gatech.edu:4041\">Spark UI</a></p>\n",
       "\n",
       "            <dl>\n",
       "              <dt>Version</dt>\n",
       "                <dd><code>v3.5.4</code></dd>\n",
       "              <dt>Master</dt>\n",
       "                <dd><code>local[24]</code></dd>\n",
       "              <dt>AppName</dt>\n",
       "                <dd><code>clef</code></dd>\n",
       "            </dl>\n",
       "        </div>\n",
       "        \n",
       "            </div>\n",
       "        "
      ],
      "text/plain": [
       "<pyspark.sql.session.SparkSession at 0x7fffcbfc88e0>"
      ]
     },
     "metadata": {},
     "output_type": "display_data"
    }
   ],
   "source": [
    "from plantclef.spark import get_spark\n",
    "\n",
    "spark = get_spark()\n",
    "display(spark)"
   ]
  },
  {
   "cell_type": "code",
   "execution_count": 3,
   "metadata": {},
   "outputs": [
    {
     "name": "stderr",
     "output_type": "stream",
     "text": [
      "                                                                                \r"
     ]
    }
   ],
   "source": [
    "from pathlib import Path\n",
    "\n",
    "home = Path.home()\n",
    "subset_folder_name = \"subset_top20_train_embeddings\"\n",
    "subset_train_path = home / f\"shared/plantclef/data/embeddings/{subset_folder_name}/data\"\n",
    "df = spark.read.parquet(str(subset_train_path))"
   ]
  },
  {
   "cell_type": "code",
   "execution_count": 4,
   "metadata": {},
   "outputs": [
    {
     "name": "stdout",
     "output_type": "stream",
     "text": [
      "root\n",
      " |-- image_name: string (nullable = true)\n",
      " |-- species_id: integer (nullable = true)\n",
      " |-- cls_embedding: array (nullable = true)\n",
      " |    |-- element: float (containsNull = true)\n",
      " |-- sample_id: integer (nullable = true)\n",
      "\n"
     ]
    },
    {
     "name": "stderr",
     "output_type": "stream",
     "text": [
      "                                                                                \r"
     ]
    },
    {
     "name": "stdout",
     "output_type": "stream",
     "text": [
      "+--------------------+----------+--------------------+---------+\n",
      "|          image_name|species_id|       cls_embedding|sample_id|\n",
      "+--------------------+----------+--------------------+---------+\n",
      "|a7d82ce1a990d21f3...|   1743246|[0.10556483, -0.0...|        0|\n",
      "|3fa3f94a36e33331b...|   1394624|[0.17451216, 0.40...|        0|\n",
      "|f4dedf4fadf6c67d1...|   1394624|[0.61694634, 0.40...|        0|\n",
      "|5d0a8ae90e19c3c1d...|   1359162|[0.2670945, 0.218...|        0|\n",
      "|b52775178eefe5558...|   1359162|[0.98361766, 0.75...|        0|\n",
      "+--------------------+----------+--------------------+---------+\n",
      "only showing top 5 rows\n",
      "\n"
     ]
    }
   ],
   "source": [
    "df.printSchema()\n",
    "df.show(5)"
   ]
  },
  {
   "cell_type": "code",
   "execution_count": 4,
   "metadata": {},
   "outputs": [
    {
     "name": "stderr",
     "output_type": "stream",
     "text": [
      "                                                                                \r"
     ]
    },
    {
     "data": {
      "text/html": [
       "<div>\n",
       "<style scoped>\n",
       "    .dataframe tbody tr th:only-of-type {\n",
       "        vertical-align: middle;\n",
       "    }\n",
       "\n",
       "    .dataframe tbody tr th {\n",
       "        vertical-align: top;\n",
       "    }\n",
       "\n",
       "    .dataframe thead th {\n",
       "        text-align: right;\n",
       "    }\n",
       "</style>\n",
       "<table border=\"1\" class=\"dataframe\">\n",
       "  <thead>\n",
       "    <tr style=\"text-align: right;\">\n",
       "      <th></th>\n",
       "      <th>image_name</th>\n",
       "      <th>species_id</th>\n",
       "      <th>cls_embedding</th>\n",
       "      <th>sample_id</th>\n",
       "    </tr>\n",
       "  </thead>\n",
       "  <tbody>\n",
       "    <tr>\n",
       "      <th>0</th>\n",
       "      <td>a7d82ce1a990d21f3b77a6c1c650d42ffda3c40a.jpg</td>\n",
       "      <td>1743246</td>\n",
       "      <td>[0.10556483, -0.016215105, -0.42823476, 0.6918...</td>\n",
       "      <td>0</td>\n",
       "    </tr>\n",
       "    <tr>\n",
       "      <th>1</th>\n",
       "      <td>3fa3f94a36e33331be9989f0a1d251f292153fec.jpg</td>\n",
       "      <td>1394624</td>\n",
       "      <td>[0.17451216, 0.40098402, -0.5628805, 0.2425829...</td>\n",
       "      <td>0</td>\n",
       "    </tr>\n",
       "    <tr>\n",
       "      <th>2</th>\n",
       "      <td>f4dedf4fadf6c67d1df8e5bae2c6c2352909bcec.jpg</td>\n",
       "      <td>1394624</td>\n",
       "      <td>[0.61694634, 0.40478063, 1.1805801, -0.2453794...</td>\n",
       "      <td>0</td>\n",
       "    </tr>\n",
       "    <tr>\n",
       "      <th>3</th>\n",
       "      <td>5d0a8ae90e19c3c1d94a96d67279700980506e5e.jpg</td>\n",
       "      <td>1359162</td>\n",
       "      <td>[0.2670945, 0.21836717, -0.10214946, 0.8792165...</td>\n",
       "      <td>0</td>\n",
       "    </tr>\n",
       "    <tr>\n",
       "      <th>4</th>\n",
       "      <td>b52775178eefe55586eea365227c31e39c034f74.jpg</td>\n",
       "      <td>1359162</td>\n",
       "      <td>[0.98361766, 0.758035, 0.2368648, 0.39937067, ...</td>\n",
       "      <td>0</td>\n",
       "    </tr>\n",
       "  </tbody>\n",
       "</table>\n",
       "</div>"
      ],
      "text/plain": [
       "                                     image_name  species_id  \\\n",
       "0  a7d82ce1a990d21f3b77a6c1c650d42ffda3c40a.jpg     1743246   \n",
       "1  3fa3f94a36e33331be9989f0a1d251f292153fec.jpg     1394624   \n",
       "2  f4dedf4fadf6c67d1df8e5bae2c6c2352909bcec.jpg     1394624   \n",
       "3  5d0a8ae90e19c3c1d94a96d67279700980506e5e.jpg     1359162   \n",
       "4  b52775178eefe55586eea365227c31e39c034f74.jpg     1359162   \n",
       "\n",
       "                                       cls_embedding  sample_id  \n",
       "0  [0.10556483, -0.016215105, -0.42823476, 0.6918...          0  \n",
       "1  [0.17451216, 0.40098402, -0.5628805, 0.2425829...          0  \n",
       "2  [0.61694634, 0.40478063, 1.1805801, -0.2453794...          0  \n",
       "3  [0.2670945, 0.21836717, -0.10214946, 0.8792165...          0  \n",
       "4  [0.98361766, 0.758035, 0.2368648, 0.39937067, ...          0  "
      ]
     },
     "execution_count": 4,
     "metadata": {},
     "output_type": "execute_result"
    }
   ],
   "source": [
    "pandas_df = df.toPandas()\n",
    "pandas_df.head()"
   ]
  },
  {
   "cell_type": "code",
   "execution_count": 5,
   "metadata": {},
   "outputs": [],
   "source": [
    "import numpy as np\n",
    "import faiss"
   ]
  },
  {
   "cell_type": "code",
   "execution_count": 15,
   "metadata": {},
   "outputs": [
    {
     "data": {
      "text/plain": [
       "768"
      ]
     },
     "execution_count": 15,
     "metadata": {},
     "output_type": "execute_result"
    }
   ],
   "source": [
    "dim = np.array(df.select(\"cls_embedding\").first()[0]).shape[0]\n",
    "dim"
   ]
  },
  {
   "cell_type": "code",
   "execution_count": 16,
   "metadata": {},
   "outputs": [],
   "source": [
    "index = faiss.IndexFlatL2(dim)"
   ]
  },
  {
   "cell_type": "code",
   "execution_count": 7,
   "metadata": {},
   "outputs": [],
   "source": [
    "# def add_to_index(embedding: np.ndarray, index: faiss.IndexFlatL2):\n",
    "#     embedding = embedding.astype(\"float32\")\n",
    "#     faiss.normalize_L2(embedding)\n",
    "#     index.add(embedding)"
   ]
  },
  {
   "cell_type": "code",
   "execution_count": 6,
   "metadata": {},
   "outputs": [
    {
     "data": {
      "text/plain": [
       "(9124, 768)"
      ]
     },
     "execution_count": 6,
     "metadata": {},
     "output_type": "execute_result"
    }
   ],
   "source": [
    "embeddings = np.stack(pandas_df[\"cls_embedding\"].values).astype(\"float32\")\n",
    "embeddings.shape"
   ]
  },
  {
   "cell_type": "code",
   "execution_count": 17,
   "metadata": {},
   "outputs": [
    {
     "name": "stdout",
     "output_type": "stream",
     "text": [
      "Indexed 9124 embeddings in 0.14 seconds\n"
     ]
    }
   ],
   "source": [
    "import time\n",
    "\n",
    "t0 = time.time()\n",
    "faiss.normalize_L2(embeddings)\n",
    "index.add(embeddings)\n",
    "print(f\"Indexed {embeddings.shape[0]} embeddings in {time.time() - t0:.2f} seconds\")\n"
   ]
  },
  {
   "cell_type": "code",
   "execution_count": 18,
   "metadata": {},
   "outputs": [],
   "source": [
    "index_path_root = home / \"scratch/plantclef/data\"\n",
    "index_path_root.mkdir(parents=True, exist_ok=True)\n",
    "index_path = index_path_root / f\"{subset_folder_name}.index\""
   ]
  },
  {
   "cell_type": "code",
   "execution_count": null,
   "metadata": {},
   "outputs": [],
   "source": [
    "faiss.write_index(index, str(index_path))"
   ]
  },
  {
   "cell_type": "code",
   "execution_count": 24,
   "metadata": {},
   "outputs": [
    {
     "name": "stdout",
     "output_type": "stream",
     "text": [
      "Found 5 nearest neighbors for 10 queries in 0.07 seconds\n"
     ]
    }
   ],
   "source": [
    "index = faiss.read_index(str(index_path))\n",
    "\n",
    "t0 = time.time()\n",
    "k = 5\n",
    "num_queries = 10\n",
    "d, i = index.search(embeddings[:num_queries], k)\n",
    "print(f\"Found {k} nearest neighbors for {num_queries} queries in {time.time() - t0:.2f} seconds\")"
   ]
  },
  {
   "cell_type": "code",
   "execution_count": 20,
   "metadata": {},
   "outputs": [
    {
     "data": {
      "text/plain": [
       "array([[0.        , 0.30579454, 0.3433559 , 0.45759228, 0.5765661 ],\n",
       "       [0.        , 0.3261646 , 0.35298112, 0.36710143, 0.37554586],\n",
       "       [0.        , 0.33431265, 0.34244055, 0.38167328, 0.3944954 ],\n",
       "       [0.        , 0.51580256, 0.5725595 , 0.59718996, 0.6022958 ],\n",
       "       [0.        , 0.31769183, 0.35711777, 0.35823455, 0.36029816],\n",
       "       [0.        , 0.91882014, 0.927521  , 0.98016006, 1.0213945 ],\n",
       "       [0.        , 0.49491674, 0.6042012 , 0.6203002 , 0.66143185],\n",
       "       [0.        , 0.47169265, 0.5406811 , 0.5412945 , 0.5460907 ],\n",
       "       [0.        , 0.2578891 , 0.27204877, 0.28260392, 0.28792253],\n",
       "       [0.        , 0.40747592, 0.46009785, 0.48361915, 0.4896986 ]],\n",
       "      dtype=float32)"
      ]
     },
     "execution_count": 20,
     "metadata": {},
     "output_type": "execute_result"
    }
   ],
   "source": [
    "d"
   ]
  },
  {
   "cell_type": "code",
   "execution_count": 19,
   "metadata": {},
   "outputs": [
    {
     "data": {
      "text/plain": [
       "array([[   0, 2751, 2591, 3135, 3429],\n",
       "       [   1, 2820, 3020,  212, 5262],\n",
       "       [   2,   86,   14,  265, 2864],\n",
       "       [   3, 2978, 3145, 4207, 7203],\n",
       "       [   4, 3129,  418, 2678,   28],\n",
       "       [   5, 1250,  131,   89,  111],\n",
       "       [   6,  162, 2939, 7210, 3341],\n",
       "       [   7, 4214, 7198,  180, 2748],\n",
       "       [   8,  442, 1245,   86,  522],\n",
       "       [   9, 2649,  146, 2948,  602]])"
      ]
     },
     "execution_count": 19,
     "metadata": {},
     "output_type": "execute_result"
    }
   ],
   "source": [
    "i"
   ]
  },
  {
   "cell_type": "code",
   "execution_count": 34,
   "metadata": {},
   "outputs": [
    {
     "data": {
      "text/plain": [
       "array([[1743246, 1743246, 1743246, 1743246, 1743246],\n",
       "       [1394624, 1394624, 1394624, 1394624, 1394624],\n",
       "       [1394624, 1394624, 1394624, 1394624, 1394624],\n",
       "       [1359162, 1359162, 1359162, 1359162, 1359162],\n",
       "       [1359162, 1359162, 1359162, 1359162, 1359162],\n",
       "       [1359162, 1359162, 1359162, 1359162, 1359162],\n",
       "       [1743246, 1743246, 1743246, 1743246, 1743246],\n",
       "       [1743246, 1743246, 1743246, 1743246, 1743246],\n",
       "       [1394624, 1394624, 1394624, 1394624, 1394624],\n",
       "       [1394624, 1394624, 1394624, 1394624, 1394624]], dtype=int32)"
      ]
     },
     "execution_count": 34,
     "metadata": {},
     "output_type": "execute_result"
    }
   ],
   "source": [
    "species_ids_array = pandas_df[\"species_id\"].values\n",
    "pred_species = species_ids_array[i]\n",
    "pred_species"
   ]
  }
 ],
 "metadata": {
  "kernelspec": {
   "display_name": ".venv",
   "language": "python",
   "name": "python3"
  },
  "language_info": {
   "codemirror_mode": {
    "name": "ipython",
    "version": 3
   },
   "file_extension": ".py",
   "mimetype": "text/x-python",
   "name": "python",
   "nbconvert_exporter": "python",
   "pygments_lexer": "ipython3",
   "version": "3.9.18"
  }
 },
 "nbformat": 4,
 "nbformat_minor": 2
}
