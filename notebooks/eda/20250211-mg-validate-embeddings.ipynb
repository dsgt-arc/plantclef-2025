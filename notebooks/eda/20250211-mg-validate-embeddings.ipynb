{
 "cells": [
  {
   "cell_type": "markdown",
   "metadata": {},
   "source": [
    "# Validate embeddings"
   ]
  },
  {
   "cell_type": "code",
   "execution_count": 1,
   "metadata": {},
   "outputs": [],
   "source": [
    "%load_ext autoreload\n",
    "%autoreload 2"
   ]
  },
  {
   "cell_type": "code",
   "execution_count": 2,
   "metadata": {},
   "outputs": [
    {
     "name": "stderr",
     "output_type": "stream",
     "text": [
      "Setting default log level to \"WARN\".\n",
      "To adjust logging level use sc.setLogLevel(newLevel). For SparkR, use setLogLevel(newLevel).\n",
      "25/02/20 09:11:17 WARN NativeCodeLoader: Unable to load native-hadoop library for your platform... using builtin-java classes where applicable\n",
      "25/02/20 09:11:17 WARN SparkConf: Note that spark.local.dir will be overridden by the value set by the cluster manager (via SPARK_LOCAL_DIRS in mesos/standalone/kubernetes and LOCAL_DIRS in YARN).\n"
     ]
    },
    {
     "data": {
      "text/html": [
       "\n",
       "            <div>\n",
       "                <p><b>SparkSession - in-memory</b></p>\n",
       "                \n",
       "        <div>\n",
       "            <p><b>SparkContext</b></p>\n",
       "\n",
       "            <p><a href=\"http://login-phoenix-rh9-2.pace.gatech.edu:4040\">Spark UI</a></p>\n",
       "\n",
       "            <dl>\n",
       "              <dt>Version</dt>\n",
       "                <dd><code>v3.5.4</code></dd>\n",
       "              <dt>Master</dt>\n",
       "                <dd><code>local[24]</code></dd>\n",
       "              <dt>AppName</dt>\n",
       "                <dd><code>clef</code></dd>\n",
       "            </dl>\n",
       "        </div>\n",
       "        \n",
       "            </div>\n",
       "        "
      ],
      "text/plain": [
       "<pyspark.sql.session.SparkSession at 0x7fff913274c0>"
      ]
     },
     "metadata": {},
     "output_type": "display_data"
    }
   ],
   "source": [
    "from plantclef.spark import get_spark\n",
    "\n",
    "spark = get_spark()\n",
    "display(spark)"
   ]
  },
  {
   "cell_type": "markdown",
   "metadata": {},
   "source": [
    "### embeddings"
   ]
  },
  {
   "cell_type": "code",
   "execution_count": 3,
   "metadata": {},
   "outputs": [
    {
     "name": "stdout",
     "output_type": "stream",
     "text": [
      "Thu Feb 20 09:11:26 AM EST 2025\n"
     ]
    }
   ],
   "source": [
    "import os\n",
    "from pathlib import Path\n",
    "\n",
    "# Get list of stored filed in cloud bucket\n",
    "root = Path(os.path.expanduser(\"~\"))\n",
    "! date"
   ]
  },
  {
   "cell_type": "code",
   "execution_count": 7,
   "metadata": {},
   "outputs": [
    {
     "name": "stderr",
     "output_type": "stream",
     "text": [
      "                                                                                \r"
     ]
    },
    {
     "name": "stdout",
     "output_type": "stream",
     "text": [
      "root\n",
      " |-- image_name: string (nullable = true)\n",
      " |-- path: string (nullable = true)\n",
      " |-- data: binary (nullable = true)\n",
      " |-- organ: string (nullable = true)\n",
      " |-- species_id: integer (nullable = true)\n",
      " |-- obs_id: long (nullable = true)\n",
      " |-- license: string (nullable = true)\n",
      " |-- partner: string (nullable = true)\n",
      " |-- author: string (nullable = true)\n",
      " |-- altitude: double (nullable = true)\n",
      " |-- latitude: double (nullable = true)\n",
      " |-- longitude: double (nullable = true)\n",
      " |-- gbif_species_id: string (nullable = true)\n",
      " |-- species: string (nullable = true)\n",
      " |-- genus: string (nullable = true)\n",
      " |-- family: string (nullable = true)\n",
      " |-- dataset: string (nullable = true)\n",
      " |-- publisher: string (nullable = true)\n",
      " |-- references: string (nullable = true)\n",
      " |-- url: string (nullable = true)\n",
      " |-- learn_tag: string (nullable = true)\n",
      " |-- image_backup_url: string (nullable = true)\n",
      "\n"
     ]
    },
    {
     "name": "stderr",
     "output_type": "stream",
     "text": [
      "                                                                                \r"
     ]
    },
    {
     "name": "stdout",
     "output_type": "stream",
     "text": [
      "+--------------------+--------------------+--------------------+------+----------+----------+--------------------+-------+-----------------+--------+------------------+------------------+---------------+--------------------+----------------+--------------+--------+-----------+--------------------+--------------------+---------+--------------------+\n",
      "|          image_name|                path|                data| organ|species_id|    obs_id|             license|partner|           author|altitude|          latitude|         longitude|gbif_species_id|             species|           genus|        family| dataset|  publisher|          references|                 url|learn_tag|    image_backup_url|\n",
      "+--------------------+--------------------+--------------------+------+----------+----------+--------------------+-------+-----------------+--------+------------------+------------------+---------------+--------------------+----------------+--------------+--------+-----------+--------------------+--------------------+---------+--------------------+\n",
      "|1be19f694dffab160...|/PlantCLEF2024/tr...|[FF D8 FF E0 00 1...|  leaf|   1525142|1010513340|            cc-by-sa|   NULL|  Vítková Markéta|    NULL|              NULL|              NULL|      3104179.0|Tripleurospermum ...|Tripleurospermum|    Asteraceae|plantnet|   plantnet|https://identify....|https://bs.plantn...|    train|https://lab.plant...|\n",
      "|3c4bbf4aedaad2d0b...|/PlantCLEF2024/tr...|[FF D8 FF E0 00 1...|  bark|   1419917|1009557331|            cc-by-sa|   NULL|         Ivan THÉ| 124.859|     48.8207282458|      2.1080501555|      5285053.0|Pinus ponderosa D...|           Pinus|      Pinaceae|plantnet|   plantnet|https://identify....|https://bs.plantn...|    train|https://lab.plant...|\n",
      "|5e9dada9bb11b04c7...|/PlantCLEF2024/tr...|[FF D8 FF E0 00 1...|flower|   1397077|1010642628|            cc-by-sa|   NULL|    kruemelkoenig|   379.0| 47.79861111111111|13.056944444444444|      8242995.0|Veronica urticifo...|        Veronica|Plantaginaceae|plantnet|   plantnet|https://identify....|https://bs.plantn...|    train|https://lab.plant...|\n",
      "|80e75627aaa93c3df...|/PlantCLEF2024/tr...|[FF D8 FF E0 00 1...|flower|   1363472|4062589563|http://creativeco...|   NULL|Barbara L. Wilson|    NULL|              NULL|              NULL|      2706541.0|Agrostis gigantea...|        Agrostis|       Poaceae|    gbif|iNaturalist|https://www.inatu...|https://inaturali...|    train|https://lab.plant...|\n",
      "|fe1d5f6730c316d28...|/PlantCLEF2024/tr...|[FF D8 FF E0 00 1...|  leaf|   1397077|1007984458|            cc-by-sa|   NULL|Giovanni Leonardi|1278.973|45.902181138888885|11.154865805555556|      8242995.0|Veronica urticifo...|        Veronica|Plantaginaceae|plantnet|   plantnet|https://identify....|https://bs.plantn...|    train|https://lab.plant...|\n",
      "+--------------------+--------------------+--------------------+------+----------+----------+--------------------+-------+-----------------+--------+------------------+------------------+---------------+--------------------+----------------+--------------+--------+-----------+--------------------+--------------------+---------+--------------------+\n",
      "only showing top 5 rows\n",
      "\n"
     ]
    }
   ],
   "source": [
    "# Path and dataset names\n",
    "data_path = f\"{root}/scratch/plantclef/data/parquet\"\n",
    "\n",
    "# Define the path to the train and test parquet files\n",
    "train_path = f\"{data_path}/train\"\n",
    "\n",
    "# Read the parquet files into a spark DataFrame\n",
    "train_df = spark.read.parquet(train_path)\n",
    "\n",
    "# Show the data\n",
    "train_df.printSchema()\n",
    "train_df.show(n=5)"
   ]
  },
  {
   "cell_type": "markdown",
   "metadata": {},
   "source": [
    "### subset embedding data"
   ]
  },
  {
   "cell_type": "code",
   "execution_count": 9,
   "metadata": {},
   "outputs": [
    {
     "name": "stdout",
     "output_type": "stream",
     "text": [
      "root\n",
      " |-- image_name: string (nullable = true)\n",
      " |-- species_id: integer (nullable = true)\n",
      " |-- cls_embedding: array (nullable = true)\n",
      " |    |-- element: float (containsNull = true)\n",
      " |-- sample_id: integer (nullable = true)\n",
      "\n",
      "+--------------------+----------+--------------------+---------+\n",
      "|          image_name|species_id|       cls_embedding|sample_id|\n",
      "+--------------------+----------+--------------------+---------+\n",
      "|881a34f1816836762...|   1369068|[-0.13312143, -0....|        3|\n",
      "|e9ef4e01ace5d8724...|   1369068|[0.16392955, 0.51...|        3|\n",
      "|605fe1c3176e24964...|   1369068|[0.03219332, 1.01...|        3|\n",
      "|59ab433eeb7ba8909...|   1369068|[-0.08703527, 0.1...|        3|\n",
      "|6e179067d17150b97...|   1369068|[-0.06882347, 0.4...|        3|\n",
      "+--------------------+----------+--------------------+---------+\n",
      "only showing top 5 rows\n",
      "\n"
     ]
    }
   ],
   "source": [
    "# Path and dataset names\n",
    "data_path = f\"{root}/p-dsgt_clef2025-0/shared/plantclef/data/\"\n",
    "\n",
    "# Define the path to the train and test parquet files\n",
    "subset_train_path = f\"{data_path}/embeddings/subset_top5_train_embeddings/data\"\n",
    "\n",
    "# Read the parquet files into a spark DataFrame\n",
    "subset_df = spark.read.parquet(subset_train_path)\n",
    "\n",
    "# Show the data\n",
    "subset_df.printSchema()\n",
    "subset_df.show(n=5)"
   ]
  },
  {
   "cell_type": "code",
   "execution_count": 10,
   "metadata": {},
   "outputs": [
    {
     "name": "stderr",
     "output_type": "stream",
     "text": [
      "[Stage 10:==================================================>(1693 + 12) / 1705]\r"
     ]
    },
    {
     "name": "stdout",
     "output_type": "stream",
     "text": [
      "+--------------------+--------------------+----------+--------------------+\n",
      "|          image_name|             species|species_id|       cls_embedding|\n",
      "+--------------------+--------------------+----------+--------------------+\n",
      "|89e814c8d1a3a7e34...|Styphnolobium jap...|   1369068|[0.27738133, -0.5...|\n",
      "|0b093037d7b257dc0...|Styphnolobium jap...|   1369068|[0.24076405, -0.4...|\n",
      "|0716f978dd6d855c0...|Styphnolobium jap...|   1369068|[-1.259715, 1.369...|\n",
      "|2de29593b1148fec1...|Styphnolobium jap...|   1369068|[-0.20138639, 0.5...|\n",
      "|0a1c87670d4a91b93...|Styphnolobium jap...|   1369068|[0.058653552, -0....|\n",
      "+--------------------+--------------------+----------+--------------------+\n",
      "only showing top 5 rows\n",
      "\n"
     ]
    },
    {
     "name": "stderr",
     "output_type": "stream",
     "text": [
      "                                                                                \r"
     ]
    }
   ],
   "source": [
    "# Join with dino_df with train_df to get species names\n",
    "joined_df = subset_df.join(train_df, \"image_name\", \"inner\").select(\n",
    "    [\n",
    "        subset_df[\"image_name\"],\n",
    "        train_df[\"species\"],\n",
    "        subset_df[\"species_id\"],\n",
    "        subset_df[\"cls_embedding\"],\n",
    "    ]\n",
    ")\n",
    "joined_df.show(n=5)"
   ]
  },
  {
   "cell_type": "code",
   "execution_count": 11,
   "metadata": {},
   "outputs": [
    {
     "name": "stderr",
     "output_type": "stream",
     "text": [
      "                                                                                \r"
     ]
    },
    {
     "data": {
      "image/png": "[encoded data removed]",
      "text/plain": [
       "<Figure size 960x960 with 9 Axes>"
      ]
     },
     "metadata": {},
     "output_type": "display_data"
    }
   ],
   "source": [
    "from plantclef.plotting import plot_images_from_embeddings\n",
    "\n",
    "# Plot DINO image embeddings\n",
    "plot_images_from_embeddings(\n",
    "    joined_df, data_col=\"cls_embedding\", image_col=\"species\", grid_size=(3, 3)\n",
    ")"
   ]
  },
  {
   "cell_type": "markdown",
   "metadata": {},
   "source": [
    "### train embeddings"
   ]
  },
  {
   "cell_type": "code",
   "execution_count": 17,
   "metadata": {},
   "outputs": [
    {
     "name": "stdout",
     "output_type": "stream",
     "text": [
      "root\n",
      " |-- image_name: string (nullable = true)\n",
      " |-- species_id: integer (nullable = true)\n",
      " |-- cls_embedding: array (nullable = true)\n",
      " |    |-- element: float (containsNull = true)\n",
      " |-- sample_id: integer (nullable = true)\n",
      "\n",
      "+--------------------+----------+--------------------+---------+\n",
      "|          image_name|species_id|       cls_embedding|sample_id|\n",
      "+--------------------+----------+--------------------+---------+\n",
      "|51af9088aa5768593...|   1363472|[0.40426737, 0.62...|        7|\n",
      "|e07b7b3a96ee29ba9...|   1361957|[-1.2018137, 1.03...|        7|\n",
      "|3714e3500c764a506...|   1397077|[1.0203841, 0.891...|        7|\n",
      "|5725b5b6a1dcdee37...|   1419917|[0.97013205, 0.02...|        7|\n",
      "|732761e8fc6366f3e...|   1358748|[-0.2660432, 0.63...|        7|\n",
      "+--------------------+----------+--------------------+---------+\n",
      "only showing top 5 rows\n",
      "\n"
     ]
    },
    {
     "name": "stderr",
     "output_type": "stream",
     "text": [
      "                                                                                \r"
     ]
    }
   ],
   "source": [
    "# Read and union all Parquet files\n",
    "from functools import reduce\n",
    "from pyspark.sql import DataFrame\n",
    "\n",
    "base_dir = f\"{root}/scratch/plantclef/data/embeddings\"\n",
    "\n",
    "# List all directories ending with \"_train\"\n",
    "train_dirs = [\n",
    "    os.path.join(base_dir, d, \"data\")\n",
    "    for d in os.listdir(base_dir)\n",
    "    if d.endswith(\"_train\") and \"_subset\" not in d\n",
    "]\n",
    "\n",
    "# Read all parquet files into a list of DataFrames\n",
    "dfs = [spark.read.parquet(d) for d in train_dirs]\n",
    "train_emb_df = reduce(DataFrame.union, dfs)\n",
    "\n",
    "# Show the data\n",
    "train_emb_df.printSchema()\n",
    "train_emb_df.show(n=5)"
   ]
  },
  {
   "cell_type": "code",
   "execution_count": 18,
   "metadata": {},
   "outputs": [
    {
     "name": "stderr",
     "output_type": "stream",
     "text": [
      "                                                                                \r"
     ]
    },
    {
     "data": {
      "text/plain": [
       "1408033"
      ]
     },
     "execution_count": 18,
     "metadata": {},
     "output_type": "execute_result"
    }
   ],
   "source": [
    "# Count the number of rows in the train embedding DataFrame\n",
    "train_emb_df.count()"
   ]
  },
  {
   "cell_type": "markdown",
   "metadata": {},
   "source": [
    "### test embeddings"
   ]
  },
  {
   "cell_type": "code",
   "execution_count": null,
   "metadata": {},
   "outputs": [],
   "source": [
    "# # Path and dataset names\n",
    "# dino_emb_train = \"test_v1/dino/data\"\n",
    "\n",
    "# # Define the GCS path to the embedding files\n",
    "# dino_gcs_path = f\"{gcs_path}/{dino_emb_train}\"\n",
    "\n",
    "# # Read the Parquet file into a DataFrame\n",
    "# test_dino_df = spark.read.parquet(dino_gcs_path)\n",
    "\n",
    "# # Show the data\n",
    "# test_dino_df.show(n=5, truncate=50)"
   ]
  },
  {
   "cell_type": "code",
   "execution_count": null,
   "metadata": {},
   "outputs": [],
   "source": [
    "# from plantclef.plotting import plot_images_from_embeddings\n",
    "\n",
    "# # Plot test DINO image embeddings\n",
    "# plot_images_from_embeddings(\n",
    "#     test_dino_df, data_col=\"dino_embedding\", image_col=\"image_name\", grid_size=(3, 3)\n",
    "# )"
   ]
  }
 ],
 "metadata": {
  "kernelspec": {
   "display_name": "venv",
   "language": "python",
   "name": "python3"
  },
  "language_info": {
   "codemirror_mode": {
    "name": "ipython",
    "version": 3
   },
   "file_extension": ".py",
   "mimetype": "text/x-python",
   "name": "python",
   "nbconvert_exporter": "python",
   "pygments_lexer": "ipython3",
   "version": "3.10.10"
  }
 },
 "nbformat": 4,
 "nbformat_minor": 2
}
