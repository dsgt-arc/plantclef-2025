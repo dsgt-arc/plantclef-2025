{
 "cells": [
  {
   "cell_type": "markdown",
   "id": "b57f691a",
   "metadata": {},
   "source": [
    "# Submission CSV comparison\n",
    "\n",
    "This notebooks compares the submission with and without the **Prior Bayesian Inference** approach."
   ]
  },
  {
   "cell_type": "code",
   "execution_count": 1,
   "id": "9c87e109",
   "metadata": {},
   "outputs": [],
   "source": [
    "%load_ext autoreload\n",
    "%autoreload 2"
   ]
  },
  {
   "cell_type": "code",
   "execution_count": 2,
   "id": "2e19450a",
   "metadata": {},
   "outputs": [
    {
     "data": {
      "text/html": [
       "<div>\n",
       "<style scoped>\n",
       "    .dataframe tbody tr th:only-of-type {\n",
       "        vertical-align: middle;\n",
       "    }\n",
       "\n",
       "    .dataframe tbody tr th {\n",
       "        vertical-align: top;\n",
       "    }\n",
       "\n",
       "    .dataframe thead th {\n",
       "        text-align: right;\n",
       "    }\n",
       "</style>\n",
       "<table border=\"1\" class=\"dataframe\">\n",
       "  <thead>\n",
       "    <tr style=\"text-align: right;\">\n",
       "      <th></th>\n",
       "      <th>quadrat_id</th>\n",
       "      <th>species_ids</th>\n",
       "    </tr>\n",
       "  </thead>\n",
       "  <tbody>\n",
       "    <tr>\n",
       "      <th>0</th>\n",
       "      <td>2024-CEV3-20240602</td>\n",
       "      <td>[1362443, 1400181, 1392662, 1738679, 1360187, ...</td>\n",
       "    </tr>\n",
       "    <tr>\n",
       "      <th>1</th>\n",
       "      <td>CBN-PdlC-A1-20130807</td>\n",
       "      <td>[1392407, 1392608, 1392611, 1395807, 1741624, ...</td>\n",
       "    </tr>\n",
       "    <tr>\n",
       "      <th>2</th>\n",
       "      <td>CBN-PdlC-A1-20130903</td>\n",
       "      <td>[1395807, 1742052, 1362271, 1412857, 1397535, ...</td>\n",
       "    </tr>\n",
       "    <tr>\n",
       "      <th>3</th>\n",
       "      <td>CBN-PdlC-A1-20140721</td>\n",
       "      <td>[1412857, 1395807, 1396144, 1397535, 1392608, ...</td>\n",
       "    </tr>\n",
       "    <tr>\n",
       "      <th>4</th>\n",
       "      <td>CBN-PdlC-A1-20140811</td>\n",
       "      <td>[1395807, 1412857, 1392608, 1519650]</td>\n",
       "    </tr>\n",
       "  </tbody>\n",
       "</table>\n",
       "</div>"
      ],
      "text/plain": [
       "             quadrat_id                                        species_ids\n",
       "0    2024-CEV3-20240602  [1362443, 1400181, 1392662, 1738679, 1360187, ...\n",
       "1  CBN-PdlC-A1-20130807  [1392407, 1392608, 1392611, 1395807, 1741624, ...\n",
       "2  CBN-PdlC-A1-20130903  [1395807, 1742052, 1362271, 1412857, 1397535, ...\n",
       "3  CBN-PdlC-A1-20140721  [1412857, 1395807, 1396144, 1397535, 1392608, ...\n",
       "4  CBN-PdlC-A1-20140811               [1395807, 1412857, 1392608, 1519650]"
      ]
     },
     "metadata": {},
     "output_type": "display_data"
    },
    {
     "data": {
      "text/html": [
       "<div>\n",
       "<style scoped>\n",
       "    .dataframe tbody tr th:only-of-type {\n",
       "        vertical-align: middle;\n",
       "    }\n",
       "\n",
       "    .dataframe tbody tr th {\n",
       "        vertical-align: top;\n",
       "    }\n",
       "\n",
       "    .dataframe thead th {\n",
       "        text-align: right;\n",
       "    }\n",
       "</style>\n",
       "<table border=\"1\" class=\"dataframe\">\n",
       "  <thead>\n",
       "    <tr style=\"text-align: right;\">\n",
       "      <th></th>\n",
       "      <th>quadrat_id</th>\n",
       "      <th>species_ids</th>\n",
       "    </tr>\n",
       "  </thead>\n",
       "  <tbody>\n",
       "    <tr>\n",
       "      <th>0</th>\n",
       "      <td>2024-CEV3-20240602</td>\n",
       "      <td>[1400181, 1392662, 1738679, 1356275, 1360187, ...</td>\n",
       "    </tr>\n",
       "    <tr>\n",
       "      <th>1</th>\n",
       "      <td>CBN-PdlC-A1-20130807</td>\n",
       "      <td>[1395807, 1392608, 1412857, 1361281, 1392407]</td>\n",
       "    </tr>\n",
       "    <tr>\n",
       "      <th>2</th>\n",
       "      <td>CBN-PdlC-A1-20130903</td>\n",
       "      <td>[1395807, 1412857, 1392608, 1742052, 1397535]</td>\n",
       "    </tr>\n",
       "    <tr>\n",
       "      <th>3</th>\n",
       "      <td>CBN-PdlC-A1-20140721</td>\n",
       "      <td>[1395807, 1412857, 1392608, 1361281]</td>\n",
       "    </tr>\n",
       "    <tr>\n",
       "      <th>4</th>\n",
       "      <td>CBN-PdlC-A1-20140811</td>\n",
       "      <td>[1395807, 1392608, 1412857]</td>\n",
       "    </tr>\n",
       "  </tbody>\n",
       "</table>\n",
       "</div>"
      ],
      "text/plain": [
       "             quadrat_id                                        species_ids\n",
       "0    2024-CEV3-20240602  [1400181, 1392662, 1738679, 1356275, 1360187, ...\n",
       "1  CBN-PdlC-A1-20130807      [1395807, 1392608, 1412857, 1361281, 1392407]\n",
       "2  CBN-PdlC-A1-20130903      [1395807, 1412857, 1392608, 1742052, 1397535]\n",
       "3  CBN-PdlC-A1-20140721               [1395807, 1412857, 1392608, 1361281]\n",
       "4  CBN-PdlC-A1-20140811                        [1395807, 1392608, 1412857]"
      ]
     },
     "metadata": {},
     "output_type": "display_data"
    }
   ],
   "source": [
    "import pandas as pd\n",
    "\n",
    "submission_path = \"~/p-dsgt_clef2025-0/shared/plantclef/submissions/test_2025\"\n",
    "prior_path = f\"{submission_path}/prior\"\n",
    "folder_name = \"topk_9_grid_4x4\"\n",
    "file_name = f\"dsgt_run_{folder_name}.csv\"\n",
    "\n",
    "\n",
    "sub_df = pd.read_csv(f\"{submission_path}/{folder_name}/{file_name}\")\n",
    "prior_df = pd.read_csv(f\"{prior_path}/{folder_name}/{file_name}\")\n",
    "\n",
    "display(sub_df.head())\n",
    "display(prior_df.head())"
   ]
  },
  {
   "cell_type": "code",
   "execution_count": 3,
   "id": "b2f4f85c",
   "metadata": {},
   "outputs": [
    {
     "data": {
      "text/html": [
       "<div>\n",
       "<style scoped>\n",
       "    .dataframe tbody tr th:only-of-type {\n",
       "        vertical-align: middle;\n",
       "    }\n",
       "\n",
       "    .dataframe tbody tr th {\n",
       "        vertical-align: top;\n",
       "    }\n",
       "\n",
       "    .dataframe thead th {\n",
       "        text-align: right;\n",
       "    }\n",
       "</style>\n",
       "<table border=\"1\" class=\"dataframe\">\n",
       "  <thead>\n",
       "    <tr style=\"text-align: right;\">\n",
       "      <th></th>\n",
       "      <th>quadrat_id</th>\n",
       "      <th>species_ids_x</th>\n",
       "      <th>species_ids_y</th>\n",
       "      <th>_merge</th>\n",
       "    </tr>\n",
       "  </thead>\n",
       "  <tbody>\n",
       "  </tbody>\n",
       "</table>\n",
       "</div>"
      ],
      "text/plain": [
       "Empty DataFrame\n",
       "Columns: [quadrat_id, species_ids_x, species_ids_y, _merge]\n",
       "Index: []"
      ]
     },
     "metadata": {},
     "output_type": "display_data"
    }
   ],
   "source": [
    "# diff the two dataframes\n",
    "diff_df = pd.merge(\n",
    "    sub_df,\n",
    "    prior_df,\n",
    "    how=\"outer\",\n",
    "    indicator=True,\n",
    "    on=[\"quadrat_id\"],\n",
    ")\n",
    "# get difference\n",
    "diff_df = diff_df[diff_df[\"_merge\"] != \"both\"]\n",
    "display(diff_df.head())"
   ]
  },
  {
   "cell_type": "code",
   "execution_count": null,
   "id": "29041800",
   "metadata": {},
   "outputs": [],
   "source": []
  }
 ],
 "metadata": {
  "kernelspec": {
   "display_name": ".venv",
   "language": "python",
   "name": "python3"
  },
  "language_info": {
   "codemirror_mode": {
    "name": "ipython",
    "version": 3
   },
   "file_extension": ".py",
   "mimetype": "text/x-python",
   "name": "python",
   "nbconvert_exporter": "python",
   "pygments_lexer": "ipython3",
   "version": "3.10.10"
  }
 },
 "nbformat": 4,
 "nbformat_minor": 5
}
