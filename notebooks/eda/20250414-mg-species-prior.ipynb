{
 "cells": [
  {
   "cell_type": "markdown",
   "id": "baf99764",
   "metadata": {},
   "source": [
    "# Species Prior\n",
    "PaCMAP repo: https://github.com/YingfanWang/PaCMAP"
   ]
  },
  {
   "cell_type": "code",
   "execution_count": 1,
   "id": "a58405da",
   "metadata": {},
   "outputs": [],
   "source": [
    "%load_ext autoreload\n",
    "%autoreload 2"
   ]
  },
  {
   "cell_type": "code",
   "execution_count": 2,
   "id": "fb3662d5",
   "metadata": {},
   "outputs": [
    {
     "name": "stderr",
     "output_type": "stream",
     "text": [
      "Setting default log level to \"WARN\".\n",
      "To adjust logging level use sc.setLogLevel(newLevel). For SparkR, use setLogLevel(newLevel).\n",
      "25/04/14 01:17:22 WARN NativeCodeLoader: Unable to load native-hadoop library for your platform... using builtin-java classes where applicable\n",
      "25/04/14 01:17:22 WARN SparkConf: Note that spark.local.dir will be overridden by the value set by the cluster manager (via SPARK_LOCAL_DIRS in mesos/standalone/kubernetes and LOCAL_DIRS in YARN).\n",
      "25/04/14 01:17:22 WARN Utils: Service 'SparkUI' could not bind on port 4040. Attempting port 4041.\n"
     ]
    },
    {
     "data": {
      "text/html": [
       "\n",
       "            <div>\n",
       "                <p><b>SparkSession - in-memory</b></p>\n",
       "                \n",
       "        <div>\n",
       "            <p><b>SparkContext</b></p>\n",
       "\n",
       "            <p><a href=\"http://atl1-1-03-003-19-0.pace.gatech.edu:4041\">Spark UI</a></p>\n",
       "\n",
       "            <dl>\n",
       "              <dt>Version</dt>\n",
       "                <dd><code>v3.5.5</code></dd>\n",
       "              <dt>Master</dt>\n",
       "                <dd><code>local[24]</code></dd>\n",
       "              <dt>AppName</dt>\n",
       "                <dd><code>clef</code></dd>\n",
       "            </dl>\n",
       "        </div>\n",
       "        \n",
       "            </div>\n",
       "        "
      ],
      "text/plain": [
       "<pyspark.sql.session.SparkSession at 0x7fffbf590ca0>"
      ]
     },
     "metadata": {},
     "output_type": "display_data"
    }
   ],
   "source": [
    "from plantclef.spark import get_spark\n",
    "\n",
    "spark = get_spark()\n",
    "display(spark)"
   ]
  },
  {
   "cell_type": "markdown",
   "id": "f2fb9399",
   "metadata": {},
   "source": [
    "### embeddings"
   ]
  },
  {
   "cell_type": "code",
   "execution_count": 3,
   "id": "64115e67",
   "metadata": {},
   "outputs": [
    {
     "name": "stdout",
     "output_type": "stream",
     "text": [
      "Mon Apr 14 01:17:24 AM EDT 2025\n"
     ]
    }
   ],
   "source": [
    "import os\n",
    "from pathlib import Path\n",
    "\n",
    "# Get list of stored filed in cloud bucket\n",
    "root = Path(os.path.expanduser(\"~\"))\n",
    "! date"
   ]
  },
  {
   "cell_type": "markdown",
   "id": "53a70541",
   "metadata": {},
   "source": [
    "### test embeddings"
   ]
  },
  {
   "cell_type": "code",
   "execution_count": 4,
   "id": "f60c0043",
   "metadata": {},
   "outputs": [
    {
     "name": "stdout",
     "output_type": "stream",
     "text": [
      "root\n",
      " |-- image_name: string (nullable = true)\n",
      " |-- output: struct (nullable = true)\n",
      " |    |-- cls_token: array (nullable = true)\n",
      " |    |    |-- element: float (containsNull = true)\n",
      " |    |-- logits: array (nullable = true)\n",
      " |    |    |-- element: float (containsNull = true)\n",
      " |-- sample_id: integer (nullable = true)\n",
      "\n"
     ]
    },
    {
     "name": "stderr",
     "output_type": "stream",
     "text": [
      "                                                                                \r"
     ]
    },
    {
     "name": "stdout",
     "output_type": "stream",
     "text": [
      "+--------------------+--------------------+---------+\n",
      "|          image_name|              output|sample_id|\n",
      "+--------------------+--------------------+---------+\n",
      "|CBN-Pla-A1-201908...|{[0.47354543, 1.5...|        0|\n",
      "|CBN-Pla-D6-201908...|{[-0.39621377, 1....|        0|\n",
      "|CBN-PdlC-C5-20140...|{[-0.5331654, 0.2...|        0|\n",
      "|LISAH-BOU-0-37-20...|{[1.2480925, 0.47...|        0|\n",
      "|CBN-Pla-E4-201308...|{[0.7065191, 1.70...|        0|\n",
      "+--------------------+--------------------+---------+\n",
      "only showing top 5 rows\n",
      "\n"
     ]
    }
   ],
   "source": [
    "# Path and dataset names\n",
    "data_path = f\"{root}/p-dsgt_clef2025-0/shared/plantclef/data/embeddings\"\n",
    "\n",
    "# Define the path to the train and test parquet files\n",
    "test_path = f\"{data_path}/test_2025/test_2025_embed_logits\"\n",
    "\n",
    "# Read the parquet files into a spark DataFrame\n",
    "test_df = spark.read.parquet(test_path)\n",
    "\n",
    "# Show the data\n",
    "test_df.printSchema()\n",
    "test_df.show(n=5)"
   ]
  },
  {
   "cell_type": "code",
   "execution_count": 5,
   "id": "05c2c024",
   "metadata": {},
   "outputs": [
    {
     "name": "stdout",
     "output_type": "stream",
     "text": [
      "Number of rows: 2105\n"
     ]
    }
   ],
   "source": [
    "# count number of rows: should be 2105 for grid=1x1\n",
    "print(f\"Number of rows: {test_df.count()}\")"
   ]
  },
  {
   "cell_type": "code",
   "execution_count": 6,
   "id": "65967316",
   "metadata": {},
   "outputs": [
    {
     "data": {
      "text/plain": [
       "13"
      ]
     },
     "execution_count": 6,
     "metadata": {},
     "output_type": "execute_result"
    }
   ],
   "source": [
    "regions = [\n",
    "    \"2024-CEV3\",\n",
    "    \"CBN-can\",\n",
    "    \"CBN-PdlC\",\n",
    "    \"CBN-Pla\",\n",
    "    \"CBN-Pyr\",\n",
    "    \"GUARDEN-AMB\",\n",
    "    \"GUARDEN-CBNMed\",\n",
    "    \"LISAH-BOU\",\n",
    "    \"LISAH-BVD\",\n",
    "    \"LISAH-JAS\",\n",
    "    \"LISAH-PEC\",\n",
    "    \"OPTMix\",\n",
    "    \"RNNB\",\n",
    "]\n",
    "\n",
    "len(regions)"
   ]
  },
  {
   "cell_type": "code",
   "execution_count": 7,
   "id": "3f8737d5",
   "metadata": {},
   "outputs": [
    {
     "name": "stdout",
     "output_type": "stream",
     "text": [
      "Number of rows with unmatched regions: 0\n",
      "+--------------------+---------------+--------------------+\n",
      "|          image_name|grouped_regions|           cls_token|\n",
      "+--------------------+---------------+--------------------+\n",
      "|CBN-Pla-A1-201908...|        CBN-Pla|[0.47354543, 1.55...|\n",
      "|CBN-Pla-D6-201908...|        CBN-Pla|[-0.39621377, 1.2...|\n",
      "|CBN-PdlC-C5-20140...|       CBN-PdlC|[-0.5331654, 0.21...|\n",
      "|LISAH-BOU-0-37-20...|      LISAH-BOU|[1.2480925, 0.478...|\n",
      "|CBN-Pla-E4-201308...|        CBN-Pla|[0.7065191, 1.709...|\n",
      "|CBN-PdlC-D6-20150...|       CBN-PdlC|[-0.32394692, 0.4...|\n",
      "|CBN-PdlC-F2-20170...|       CBN-PdlC|[1.4019761, 1.783...|\n",
      "|CBN-PdlC-A6-20180...|       CBN-PdlC|[-0.49399343, 1.1...|\n",
      "|RNNB-3-12-2023051...|           RNNB|[-0.37940657, 0.1...|\n",
      "|CBN-PdlC-F4-20150...|       CBN-PdlC|[-0.26687536, 1.2...|\n",
      "+--------------------+---------------+--------------------+\n",
      "only showing top 10 rows\n",
      "\n",
      "+---------------+-----+\n",
      "|grouped_regions|count|\n",
      "+---------------+-----+\n",
      "|       CBN-PdlC|  816|\n",
      "|        CBN-Pla|  628|\n",
      "| GUARDEN-CBNMed|  165|\n",
      "|           RNNB|  141|\n",
      "|      LISAH-BOU|   82|\n",
      "|         OPTMix|   78|\n",
      "|      LISAH-BVD|   76|\n",
      "|    GUARDEN-AMB|   36|\n",
      "|      LISAH-PEC|   35|\n",
      "|        CBN-can|   30|\n",
      "|      LISAH-JAS|   15|\n",
      "|        CBN-Pyr|    2|\n",
      "|      2024-CEV3|    1|\n",
      "+---------------+-----+\n",
      "\n"
     ]
    }
   ],
   "source": [
    "from pyspark.sql import DataFrame\n",
    "from pyspark.sql.functions import col, regexp_extract\n",
    "\n",
    "\n",
    "def prepare_emb_df(df: DataFrame, embed_col: str = \"output.cls_token\") -> DataFrame:\n",
    "    \"\"\"\n",
    "    Prepare the DataFrame by renaming the embedding column and selecting relevant columns.\n",
    "    \"\"\"\n",
    "    regex_pattern = \"|\".join([f\"^{region}\" for region in regions])\n",
    "    # add the grouped_regions column using regexp_extract\n",
    "    test_df_with_regions = df.withColumn(\n",
    "        \"grouped_regions\", regexp_extract(col(\"image_name\"), f\"({regex_pattern})\", 1)\n",
    "    )\n",
    "\n",
    "    # check if there are any unmatched regions (empty strings)\n",
    "    unmatched_count = test_df_with_regions.filter(col(\"grouped_regions\") == \"\").count()\n",
    "    print(f\"Number of rows with unmatched regions: {unmatched_count}\")\n",
    "\n",
    "    # show the result with the new column\n",
    "    test_df_with_regions.select(\"image_name\", \"grouped_regions\", embed_col).show(\n",
    "        10, truncate=True\n",
    "    )\n",
    "\n",
    "    # Count occurrences of each region\n",
    "    region_counts = (\n",
    "        test_df_with_regions.groupBy(\"grouped_regions\")\n",
    "        .count()\n",
    "        .orderBy(col(\"count\").desc())\n",
    "    )\n",
    "    region_counts.show(20)\n",
    "    return test_df_with_regions\n",
    "\n",
    "\n",
    "test_df_with_regions = prepare_emb_df(test_df, \"output.cls_token\")"
   ]
  },
  {
   "cell_type": "code",
   "execution_count": 8,
   "id": "4ddcb912",
   "metadata": {},
   "outputs": [
    {
     "data": {
      "text/plain": [
       "2105"
      ]
     },
     "execution_count": 8,
     "metadata": {},
     "output_type": "execute_result"
    }
   ],
   "source": [
    "test_df_with_regions.count()"
   ]
  },
  {
   "cell_type": "code",
   "execution_count": 9,
   "id": "ff790870",
   "metadata": {},
   "outputs": [],
   "source": [
    "# from sklearn.pipeline import Pipeline\n",
    "# from sklearn.preprocessing import StandardScaler\n",
    "# from sklearn.cluster import KMeans\n",
    "# import pacmap\n",
    "\n",
    "# # Create a clustering pipeline\n",
    "# clustering_pipeline = Pipeline(\n",
    "#     [\n",
    "#         (\"scaler\", StandardScaler()),\n",
    "#         (\"pacmap\", pacmap.PaCMAP(n_components=2, random_state=42)),\n",
    "#         (\n",
    "#             \"cluster\",\n",
    "#             KMeans(n_clusters=5, random_state=42),\n",
    "#         ),\n",
    "#     ]\n",
    "# )\n"
   ]
  },
  {
   "cell_type": "code",
   "execution_count": 10,
   "id": "ef755fa4",
   "metadata": {},
   "outputs": [
    {
     "ename": "AttributeError",
     "evalue": "Can't get attribute 'PaCMAPTransformer' on <module '__main__'>",
     "output_type": "error",
     "traceback": [
      "\u001b[0;31m---------------------------------------------------------------------------\u001b[0m",
      "\u001b[0;31mAttributeError\u001b[0m                            Traceback (most recent call last)",
      "Cell \u001b[0;32mIn[10], line 12\u001b[0m\n\u001b[1;32m     10\u001b[0m \u001b[38;5;66;03m# load the clustering model\u001b[39;00m\n\u001b[1;32m     11\u001b[0m \u001b[38;5;28;01mwith\u001b[39;00m \u001b[38;5;28mopen\u001b[39m(pipeline_filename, \u001b[38;5;124m\"\u001b[39m\u001b[38;5;124mrb\u001b[39m\u001b[38;5;124m\"\u001b[39m) \u001b[38;5;28;01mas\u001b[39;00m file:\n\u001b[0;32m---> 12\u001b[0m     clustering_pipeline \u001b[38;5;241m=\u001b[39m \u001b[43mpickle\u001b[49m\u001b[38;5;241;43m.\u001b[39;49m\u001b[43mload\u001b[49m\u001b[43m(\u001b[49m\u001b[43mfile\u001b[49m\u001b[43m)\u001b[49m\n",
      "\u001b[0;31mAttributeError\u001b[0m: Can't get attribute 'PaCMAPTransformer' on <module '__main__'>"
     ]
    }
   ],
   "source": [
    "import pickle\n",
    "\n",
    "# model directory\n",
    "model_dir = (\n",
    "    Path(os.path.expanduser(\"~\")) / \"p-dsgt_clef2025-0/shared/plantclef/models/pacmap\"\n",
    ")\n",
    "pipeline_filename = model_dir / \"plant_clustering_pipeline.pkl\"\n",
    "\n",
    "\n",
    "# load the clustering model\n",
    "with open(pipeline_filename, \"rb\") as file:\n",
    "    clustering_pipeline = pickle.load(file)"
   ]
  },
  {
   "cell_type": "code",
   "execution_count": null,
   "id": "5698aa40",
   "metadata": {},
   "outputs": [],
   "source": [
    "import numpy as np\n",
    "\n",
    "# Convert to Pandas DF\n",
    "col_name = \"output.cls_token\"\n",
    "df = test_df_with_regions.select([col_name, \"grouped_regions\"])\n",
    "pandas_df = df.select([\"cls_token\", \"grouped_regions\"]).toPandas()\n",
    "\n",
    "# Fit and predict clusters\n",
    "embeddings = np.stack(pandas_df[\"cls_token\"].values)\n",
    "labels = clustering_pipeline.fit_predict(embeddings)\n",
    "\n",
    "# Attach results to the DataFrame\n",
    "pandas_df[\"cluster\"] = labels\n",
    "pandas_df[\"pacmap_1\"] = clustering_pipeline.named_steps[\"pacmap\"].embedding_[:, 0]\n",
    "pandas_df[\"pacmap_2\"] = clustering_pipeline.named_steps[\"pacmap\"].embedding_[:, 1]"
   ]
  },
  {
   "cell_type": "code",
   "execution_count": null,
   "id": "5886c30c",
   "metadata": {},
   "outputs": [],
   "source": []
  }
 ],
 "metadata": {
  "kernelspec": {
   "display_name": ".venv",
   "language": "python",
   "name": "python3"
  },
  "language_info": {
   "codemirror_mode": {
    "name": "ipython",
    "version": 3
   },
   "file_extension": ".py",
   "mimetype": "text/x-python",
   "name": "python",
   "nbconvert_exporter": "python",
   "pygments_lexer": "ipython3",
   "version": "3.10.10"
  }
 },
 "nbformat": 4,
 "nbformat_minor": 5
}
