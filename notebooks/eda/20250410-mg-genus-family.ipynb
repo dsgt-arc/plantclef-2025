{
 "cells": [
  {
   "cell_type": "markdown",
   "id": "74fcdcee",
   "metadata": {},
   "source": [
    "# Genus & Family distributions"
   ]
  },
  {
   "cell_type": "code",
   "execution_count": 1,
   "id": "3b8ee211",
   "metadata": {},
   "outputs": [
    {
     "data": {
      "text/html": [
       "<div>\n",
       "<style scoped>\n",
       "    .dataframe tbody tr th:only-of-type {\n",
       "        vertical-align: middle;\n",
       "    }\n",
       "\n",
       "    .dataframe tbody tr th {\n",
       "        vertical-align: top;\n",
       "    }\n",
       "\n",
       "    .dataframe thead th {\n",
       "        text-align: right;\n",
       "    }\n",
       "</style>\n",
       "<table border=\"1\" class=\"dataframe\">\n",
       "  <thead>\n",
       "    <tr style=\"text-align: right;\">\n",
       "      <th></th>\n",
       "      <th>species_id</th>\n",
       "      <th>species</th>\n",
       "      <th>genus</th>\n",
       "      <th>family</th>\n",
       "    </tr>\n",
       "  </thead>\n",
       "  <tbody>\n",
       "    <tr>\n",
       "      <th>0</th>\n",
       "      <td>1355868</td>\n",
       "      <td>Lactuca virosa L.</td>\n",
       "      <td>Lactuca</td>\n",
       "      <td>Asteraceae</td>\n",
       "    </tr>\n",
       "    <tr>\n",
       "      <th>1</th>\n",
       "      <td>1355869</td>\n",
       "      <td>Crepis capillaris (L.) Wallr.</td>\n",
       "      <td>Crepis</td>\n",
       "      <td>Asteraceae</td>\n",
       "    </tr>\n",
       "    <tr>\n",
       "      <th>2</th>\n",
       "      <td>1355870</td>\n",
       "      <td>Crepis foetida L.</td>\n",
       "      <td>Crepis</td>\n",
       "      <td>Asteraceae</td>\n",
       "    </tr>\n",
       "    <tr>\n",
       "      <th>3</th>\n",
       "      <td>1355871</td>\n",
       "      <td>Hypochaeris glabra L.</td>\n",
       "      <td>Hypochaeris</td>\n",
       "      <td>Asteraceae</td>\n",
       "    </tr>\n",
       "    <tr>\n",
       "      <th>4</th>\n",
       "      <td>1355872</td>\n",
       "      <td>Hypochaeris radicata L.</td>\n",
       "      <td>Hypochaeris</td>\n",
       "      <td>Asteraceae</td>\n",
       "    </tr>\n",
       "  </tbody>\n",
       "</table>\n",
       "</div>"
      ],
      "text/plain": [
       "   species_id                        species        genus      family\n",
       "0     1355868              Lactuca virosa L.      Lactuca  Asteraceae\n",
       "1     1355869  Crepis capillaris (L.) Wallr.       Crepis  Asteraceae\n",
       "2     1355870              Crepis foetida L.       Crepis  Asteraceae\n",
       "3     1355871          Hypochaeris glabra L.  Hypochaeris  Asteraceae\n",
       "4     1355872        Hypochaeris radicata L.  Hypochaeris  Asteraceae"
      ]
     },
     "execution_count": 1,
     "metadata": {},
     "output_type": "execute_result"
    }
   ],
   "source": [
    "import pandas as pd\n",
    "\n",
    "\n",
    "base_path = \"~/p-dsgt_clef2025-0/shared/plantclef/data\"\n",
    "file_name = \"species_metadata.csv\"\n",
    "input_path = f\"{base_path}/{file_name}\"\n",
    "df = pd.read_csv(input_path)\n",
    "df.head()"
   ]
  },
  {
   "cell_type": "code",
   "execution_count": 2,
   "id": "f728fcd1",
   "metadata": {},
   "outputs": [
    {
     "name": "stdout",
     "output_type": "stream",
     "text": [
      "Number of unique genera: 1446\n"
     ]
    },
    {
     "data": {
      "text/html": [
       "<div>\n",
       "<style scoped>\n",
       "    .dataframe tbody tr th:only-of-type {\n",
       "        vertical-align: middle;\n",
       "    }\n",
       "\n",
       "    .dataframe tbody tr th {\n",
       "        vertical-align: top;\n",
       "    }\n",
       "\n",
       "    .dataframe thead th {\n",
       "        text-align: right;\n",
       "    }\n",
       "</style>\n",
       "<table border=\"1\" class=\"dataframe\">\n",
       "  <thead>\n",
       "    <tr style=\"text-align: right;\">\n",
       "      <th></th>\n",
       "      <th>genus</th>\n",
       "      <th>species_count</th>\n",
       "    </tr>\n",
       "  </thead>\n",
       "  <tbody>\n",
       "    <tr>\n",
       "      <th>0</th>\n",
       "      <td>Abies</td>\n",
       "      <td>3</td>\n",
       "    </tr>\n",
       "    <tr>\n",
       "      <th>1</th>\n",
       "      <td>Abutilon</td>\n",
       "      <td>2</td>\n",
       "    </tr>\n",
       "    <tr>\n",
       "      <th>2</th>\n",
       "      <td>Acacia</td>\n",
       "      <td>9</td>\n",
       "    </tr>\n",
       "    <tr>\n",
       "      <th>3</th>\n",
       "      <td>Acanthoprasium</td>\n",
       "      <td>1</td>\n",
       "    </tr>\n",
       "    <tr>\n",
       "      <th>4</th>\n",
       "      <td>Acanthus</td>\n",
       "      <td>1</td>\n",
       "    </tr>\n",
       "  </tbody>\n",
       "</table>\n",
       "</div>"
      ],
      "text/plain": [
       "            genus  species_count\n",
       "0           Abies              3\n",
       "1        Abutilon              2\n",
       "2          Acacia              9\n",
       "3  Acanthoprasium              1\n",
       "4        Acanthus              1"
      ]
     },
     "execution_count": 2,
     "metadata": {},
     "output_type": "execute_result"
    }
   ],
   "source": [
    "# groupby genus\n",
    "genus_df = (\n",
    "    df.groupby(\"genus\")\n",
    "    .agg(species_count=(\"species\", \"nunique\"))  # Count distinct species\n",
    "    .reset_index()\n",
    ")\n",
    "print(f\"Number of unique genera: {len(genus_df)}\")\n",
    "genus_df.head()"
   ]
  },
  {
   "cell_type": "code",
   "execution_count": 3,
   "id": "5ab5335e",
   "metadata": {},
   "outputs": [
    {
     "name": "stdout",
     "output_type": "stream",
     "text": [
      "Number of unique families: 181\n"
     ]
    },
    {
     "data": {
      "text/html": [
       "<div>\n",
       "<style scoped>\n",
       "    .dataframe tbody tr th:only-of-type {\n",
       "        vertical-align: middle;\n",
       "    }\n",
       "\n",
       "    .dataframe tbody tr th {\n",
       "        vertical-align: top;\n",
       "    }\n",
       "\n",
       "    .dataframe thead th {\n",
       "        text-align: right;\n",
       "    }\n",
       "</style>\n",
       "<table border=\"1\" class=\"dataframe\">\n",
       "  <thead>\n",
       "    <tr style=\"text-align: right;\">\n",
       "      <th></th>\n",
       "      <th>family</th>\n",
       "      <th>species_count</th>\n",
       "    </tr>\n",
       "  </thead>\n",
       "  <tbody>\n",
       "    <tr>\n",
       "      <th>0</th>\n",
       "      <td>Acanthaceae</td>\n",
       "      <td>1</td>\n",
       "    </tr>\n",
       "    <tr>\n",
       "      <th>1</th>\n",
       "      <td>Acoraceae</td>\n",
       "      <td>1</td>\n",
       "    </tr>\n",
       "    <tr>\n",
       "      <th>2</th>\n",
       "      <td>Aizoaceae</td>\n",
       "      <td>20</td>\n",
       "    </tr>\n",
       "    <tr>\n",
       "      <th>3</th>\n",
       "      <td>Alismataceae</td>\n",
       "      <td>14</td>\n",
       "    </tr>\n",
       "    <tr>\n",
       "      <th>4</th>\n",
       "      <td>Altingiaceae</td>\n",
       "      <td>1</td>\n",
       "    </tr>\n",
       "  </tbody>\n",
       "</table>\n",
       "</div>"
      ],
      "text/plain": [
       "         family  species_count\n",
       "0   Acanthaceae              1\n",
       "1     Acoraceae              1\n",
       "2     Aizoaceae             20\n",
       "3  Alismataceae             14\n",
       "4  Altingiaceae              1"
      ]
     },
     "execution_count": 3,
     "metadata": {},
     "output_type": "execute_result"
    }
   ],
   "source": [
    "# groupby genus\n",
    "family_df = (\n",
    "    df.groupby(\"family\")\n",
    "    .agg(species_count=(\"species\", \"nunique\"))  # Count distinct species\n",
    "    .reset_index()\n",
    ")\n",
    "print(f\"Number of unique families: {len(family_df)}\")\n",
    "family_df.head()"
   ]
  },
  {
   "cell_type": "code",
   "execution_count": 4,
   "id": "d7de843a",
   "metadata": {},
   "outputs": [
    {
     "name": "stdout",
     "output_type": "stream",
     "text": [
      "Average species per genus: 5.4\n",
      "Average species per family: 43.13\n"
     ]
    }
   ],
   "source": [
    "# average species count per genus\n",
    "avg_species_per_genus = genus_df[\"species_count\"].mean()\n",
    "avg_species_per_family = family_df[\"species_count\"].mean()\n",
    "print(f\"Average species per genus: {round(avg_species_per_genus, 2)}\")\n",
    "print(f\"Average species per family: {round(avg_species_per_family, 2)}\")"
   ]
  },
  {
   "cell_type": "code",
   "execution_count": null,
   "id": "25168f77",
   "metadata": {},
   "outputs": [],
   "source": []
  }
 ],
 "metadata": {
  "kernelspec": {
   "display_name": "venv",
   "language": "python",
   "name": "python3"
  },
  "language_info": {
   "codemirror_mode": {
    "name": "ipython",
    "version": 3
   },
   "file_extension": ".py",
   "mimetype": "text/x-python",
   "name": "python",
   "nbconvert_exporter": "python",
   "pygments_lexer": "ipython3",
   "version": "3.10.10"
  }
 },
 "nbformat": 4,
 "nbformat_minor": 5
}
