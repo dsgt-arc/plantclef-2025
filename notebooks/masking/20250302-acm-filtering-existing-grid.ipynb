{
 "cells": [
  {
   "cell_type": "code",
   "execution_count": 2,
   "metadata": {},
   "outputs": [
    {
     "name": "stdout",
     "output_type": "stream",
     "text": [
      "root\n",
      " |-- image_name: string (nullable = true)\n",
      " |-- mask_type: string (nullable = false)\n",
      " |-- mask: binary (nullable = true)\n",
      "\n",
      "+--------------------+----------+--------------------+\n",
      "|          image_name| mask_type|                mask|\n",
      "+--------------------+----------+--------------------+\n",
      "|CBN-Pla-B2-201807...|plant_mask|[78 9C EC DD CF A...|\n",
      "|CBN-PdlC-E2-20190...| wood_mask|[78 9C EC DD CB A...|\n",
      "|OPTMix-083-P3-186...|plant_mask|[78 9C EC DD BD 8...|\n",
      "|CBN-PdlC-C2-20190...| sand_mask|[78 9C EC DD CF A...|\n",
      "|OPTMix-0598-P1-14...| rock_mask|[78 9C EC DD BD D...|\n",
      "+--------------------+----------+--------------------+\n",
      "only showing top 5 rows\n",
      "\n"
     ]
    }
   ],
   "source": [
    "from plantclef.spark import get_spark\n",
    "from pathlib import Path\n",
    "from pyspark.sql import functions as F\n",
    "\n",
    "spark = get_spark(cores=4, app_name=\"masking-notebook\")\n",
    "root = Path(\"~/shared/plantclef/data\").expanduser().as_posix()\n",
    "masks = spark.read.parquet(f\"{root}/masking/test_2024_v2/data\")\n",
    "masks = (\n",
    "    masks.unpivot(\n",
    "        \"image_name\", [c for c in masks.columns if \"mask\" in c], \"mask_type\", \"mask\"\n",
    "    )\n",
    "    .repartition(96)\n",
    "    .cache()\n",
    ")\n",
    "masks.printSchema()\n",
    "masks.show(5)"
   ]
  },
  {
   "cell_type": "code",
   "execution_count": 4,
   "metadata": {},
   "outputs": [
    {
     "name": "stdout",
     "output_type": "stream",
     "text": [
      "root\n",
      " |-- image_name: string (nullable = true)\n",
      " |-- tile: integer (nullable = true)\n",
      " |-- cls_embedding: array (nullable = true)\n",
      " |    |-- element: float (containsNull = true)\n",
      " |-- sample_id: integer (nullable = true)\n",
      "\n",
      "+--------------------+----+--------------------+---------+\n",
      "|          image_name|tile|       cls_embedding|sample_id|\n",
      "+--------------------+----+--------------------+---------+\n",
      "|CBN-Pla-D5-201607...|  11|[0.079906486, 1.3...|        0|\n",
      "|CBN-PdlC-F2-20160...|   8|[2.3675528, 1.911...|        0|\n",
      "|CBN-PdlC-C4-20190...|  10|[0.2052727, 1.130...|        0|\n",
      "|CBN-PdlC-C3-20190...|   7|[0.6042919, 1.624...|        0|\n",
      "|CBN-Pla-D3-201508...|   4|[-0.2694691, 1.74...|        0|\n",
      "+--------------------+----+--------------------+---------+\n",
      "only showing top 5 rows\n",
      "\n"
     ]
    }
   ],
   "source": [
    "grid_emb = spark.read.parquet(f\"{root}/embeddings/test/test_2024/grid=4x4\")\n",
    "grid_emb.printSchema()\n",
    "grid_emb.show(5)"
   ]
  },
  {
   "cell_type": "code",
   "execution_count": 10,
   "metadata": {},
   "outputs": [
    {
     "name": "stdout",
     "output_type": "stream",
     "text": [
      "root\n",
      " |-- image_name: string (nullable = true)\n",
      " |-- tile: integer (nullable = false)\n",
      " |-- pct_covered: float (nullable = true)\n",
      "\n"
     ]
    },
    {
     "name": "stderr",
     "output_type": "stream",
     "text": [
      "[Stage 34:=====================================================>(199 + 1) / 200]\r"
     ]
    },
    {
     "name": "stdout",
     "output_type": "stream",
     "text": [
      "+--------------------+----+-----------+\n",
      "|          image_name|tile|pct_covered|\n",
      "+--------------------+----+-----------+\n",
      "|CBN-PdlC-E1-20150...|   0|  0.9646807|\n",
      "|CBN-PdlC-E1-20150...|   1|  0.8233373|\n",
      "|CBN-PdlC-E1-20150...|   2| 0.53400785|\n",
      "|CBN-PdlC-E1-20150...|   3|  0.5673638|\n",
      "|CBN-PdlC-E1-20150...|   4| 0.80243677|\n",
      "+--------------------+----+-----------+\n",
      "only showing top 5 rows\n",
      "\n"
     ]
    },
    {
     "name": "stderr",
     "output_type": "stream",
     "text": [
      "                                                                                \r"
     ]
    }
   ],
   "source": [
    "import numpy as np\n",
    "from functools import partial\n",
    "from plantclef.serde import deserialize_mask, serialize_mask\n",
    "\n",
    "\n",
    "# grid each mask, and the calculate how many of those grids are not null.\n",
    "def split_into_tiles(mask: np.ndarray, grid_size: int) -> np.ndarray:\n",
    "    w, h = mask.shape\n",
    "    grid_w, grid_h = w // grid_size, h // grid_size\n",
    "    tiles = []\n",
    "    for i in range(grid_size):\n",
    "        for j in range(grid_size):\n",
    "            left = i * grid_w\n",
    "            upper = j * grid_h\n",
    "            right = left + grid_w\n",
    "            lower = upper + grid_h\n",
    "            tiles.append(mask[left:right, upper:lower])\n",
    "    return np.array(tiles)\n",
    "\n",
    "\n",
    "def tile_mask_percentage(mask: bytearray, grid_size: int = 3) -> list[int]:\n",
    "    mask = deserialize_mask(mask)\n",
    "    tiles = split_into_tiles(mask, grid_size)\n",
    "    # print(tiles.shape)\n",
    "    means = np.mean(tiles.reshape(tiles.shape[0], -1), axis=1)\n",
    "    # print(means)\n",
    "    return means.tolist()\n",
    "\n",
    "\n",
    "@F.udf(\"binary\")\n",
    "def merge_masks(masks: list[bytearray]) -> bytearray:\n",
    "    masks = [deserialize_mask(m) for m in masks]\n",
    "    merged = np.bitwise_or.reduce(masks)\n",
    "    return serialize_mask(merged)\n",
    "\n",
    "\n",
    "tile_mask_info = (\n",
    "    masks\n",
    "    # first generate a combined mask\n",
    "    .where(F.col(\"mask_type\").isin([\"plant_mask\", \"flower_mask\", \"leaf_mask\"]))\n",
    "    .groupBy(\"image_name\")\n",
    "    .agg(F.collect_list(\"mask\").alias(\"masks\"))\n",
    "    .select(\"image_name\", merge_masks(F.col(\"masks\")).alias(\"mask\"))\n",
    "    # then calculate the tile mask percentage for the particular grid\n",
    "    .select(\n",
    "        \"image_name\",\n",
    "        F.posexplode(\n",
    "            F.udf(\n",
    "                partial(tile_mask_percentage, grid_size=4),\n",
    "                returnType=\"array<float>\",\n",
    "            )(F.col(\"mask\"))\n",
    "        ).alias(\"tile\", \"pct_covered\"),\n",
    "    )\n",
    ").cache()\n",
    "\n",
    "tile_mask_info.printSchema()\n",
    "tile_mask_info.show(5)"
   ]
  },
  {
   "cell_type": "code",
   "execution_count": 11,
   "metadata": {},
   "outputs": [
    {
     "data": {
      "text/plain": [
       "(27120, 27120)"
      ]
     },
     "execution_count": 11,
     "metadata": {},
     "output_type": "execute_result"
    }
   ],
   "source": [
    "grid_emb.count(), tile_mask_info.count()"
   ]
  }
 ],
 "metadata": {
  "kernelspec": {
   "display_name": ".venv",
   "language": "python",
   "name": "python3"
  },
  "language_info": {
   "codemirror_mode": {
    "name": "ipython",
    "version": 3
   },
   "file_extension": ".py",
   "mimetype": "text/x-python",
   "name": "python",
   "nbconvert_exporter": "python",
   "pygments_lexer": "ipython3",
   "version": "3.10.10"
  }
 },
 "nbformat": 4,
 "nbformat_minor": 2
}
