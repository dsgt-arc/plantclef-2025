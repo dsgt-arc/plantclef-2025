{
 "cells": [
  {
   "cell_type": "code",
   "execution_count": 1,
   "metadata": {},
   "outputs": [
    {
     "name": "stderr",
     "output_type": "stream",
     "text": [
      "Setting default log level to \"WARN\".\n",
      "To adjust logging level use sc.setLogLevel(newLevel). For SparkR, use setLogLevel(newLevel).\n",
      "25/03/02 23:51:46 WARN NativeCodeLoader: Unable to load native-hadoop library for your platform... using builtin-java classes where applicable\n",
      "25/03/02 23:51:46 WARN SparkConf: Note that spark.local.dir will be overridden by the value set by the cluster manager (via SPARK_LOCAL_DIRS in mesos/standalone/kubernetes and LOCAL_DIRS in YARN).\n",
      "25/03/02 23:51:47 WARN Utils: Service 'SparkUI' could not bind on port 4040. Attempting port 4041.\n",
      "                                                                                \r"
     ]
    },
    {
     "name": "stdout",
     "output_type": "stream",
     "text": [
      "root\n",
      " |-- image_name: string (nullable = true)\n",
      " |-- mask_type: string (nullable = false)\n",
      " |-- mask: binary (nullable = true)\n",
      "\n"
     ]
    },
    {
     "name": "stderr",
     "output_type": "stream",
     "text": [
      "                                                                                \r"
     ]
    },
    {
     "name": "stdout",
     "output_type": "stream",
     "text": [
      "+--------------------+----------+--------------------+\n",
      "|          image_name| mask_type|                mask|\n",
      "+--------------------+----------+--------------------+\n",
      "|CBN-Pla-B2-201807...|plant_mask|[78 9C EC DD CF A...|\n",
      "|CBN-PdlC-E2-20190...| wood_mask|[78 9C EC DD CB A...|\n",
      "|OPTMix-083-P3-186...|plant_mask|[78 9C EC DD BD 8...|\n",
      "|CBN-PdlC-C2-20190...| sand_mask|[78 9C EC DD CF A...|\n",
      "|OPTMix-0598-P1-14...| rock_mask|[78 9C EC DD BD D...|\n",
      "+--------------------+----------+--------------------+\n",
      "only showing top 5 rows\n",
      "\n"
     ]
    }
   ],
   "source": [
    "from plantclef.spark import get_spark\n",
    "from pathlib import Path\n",
    "from pyspark.sql import functions as F\n",
    "\n",
    "spark = get_spark(cores=4, app_name=\"masking-notebook\")\n",
    "root = Path(\"~/shared/plantclef/data\").expanduser().as_posix()\n",
    "masks = spark.read.parquet(f\"{root}/masking/test_2024_v2/data\")\n",
    "masks = (\n",
    "    masks.unpivot(\n",
    "        \"image_name\", [c for c in masks.columns if \"mask\" in c], \"mask_type\", \"mask\"\n",
    "    )\n",
    "    .repartition(96)\n",
    "    .cache()\n",
    ")\n",
    "masks.printSchema()\n",
    "masks.show(5)"
   ]
  },
  {
   "cell_type": "code",
   "execution_count": 2,
   "metadata": {},
   "outputs": [
    {
     "name": "stdout",
     "output_type": "stream",
     "text": [
      "+---------------+\n",
      "|      mask_type|\n",
      "+---------------+\n",
      "|      tree_mask|\n",
      "|     plant_mask|\n",
      "|    flower_mask|\n",
      "|      sand_mask|\n",
      "|      rock_mask|\n",
      "|vegetation_mask|\n",
      "|      tape_mask|\n",
      "|      wood_mask|\n",
      "|      leaf_mask|\n",
      "+---------------+\n",
      "\n"
     ]
    }
   ],
   "source": [
    "masks.select(\"mask_type\").distinct().show()"
   ]
  },
  {
   "cell_type": "code",
   "execution_count": 7,
   "metadata": {},
   "outputs": [
    {
     "name": "stdout",
     "output_type": "stream",
     "text": [
      "root\n",
      " |-- image_name: string (nullable = true)\n",
      " |-- mask: binary (nullable = true)\n",
      "\n"
     ]
    },
    {
     "name": "stderr",
     "output_type": "stream",
     "text": [
      "[Stage 29:=====================================================>(199 + 1) / 200]\r"
     ]
    },
    {
     "name": "stdout",
     "output_type": "stream",
     "text": [
      "+--------------------+--------------------+\n",
      "|          image_name|                mask|\n",
      "+--------------------+--------------------+\n",
      "|CBN-PdlC-E1-20150...|[78 9C EC DD BD A...|\n",
      "|CBN-PdlC-F6-20130...|[78 9C EC D7 B1 A...|\n",
      "|CBN-PdlC-E6-20180...|[78 9C EC DD BB 8...|\n",
      "|RNNB-4-1-20240117...|[78 9C EC D6 CF A...|\n",
      "|CBN-PdlC-D3-20200...|[78 9C EC DD CB C...|\n",
      "+--------------------+--------------------+\n",
      "only showing top 5 rows\n",
      "\n"
     ]
    },
    {
     "name": "stderr",
     "output_type": "stream",
     "text": [
      "                                                                                \r"
     ]
    }
   ],
   "source": [
    "import numpy as np\n",
    "from plantclef.serde import deserialize_mask, serialize_mask\n",
    "\n",
    "\n",
    "@F.udf(\"binary\")\n",
    "def merge_masks(masks: list[bytearray]) -> bytearray:\n",
    "    masks = [deserialize_mask(m) for m in masks]\n",
    "    merged = np.bitwise_or.reduce(masks)\n",
    "    return serialize_mask(merged)\n",
    "\n",
    "\n",
    "combined_mask = (\n",
    "    masks.where(F.col(\"mask_type\").isin([\"plant_mask\", \"flower_mask\", \"leaf_mask\"]))\n",
    "    .groupBy(\"image_name\")\n",
    "    .agg(F.collect_list(\"mask\").alias(\"masks\"))\n",
    "    .select(\"image_name\", merge_masks(F.col(\"masks\")).alias(\"mask\"))\n",
    ").cache()\n",
    "combined_mask.printSchema()\n",
    "combined_mask.show(5)"
   ]
  },
  {
   "cell_type": "code",
   "execution_count": 9,
   "metadata": {},
   "outputs": [
    {
     "name": "stdout",
     "output_type": "stream",
     "text": [
      "root\n",
      " |-- total: long (nullable = true)\n",
      " |-- covered: long (nullable = true)\n",
      " |-- coverage: double (nullable = true)\n",
      "\n"
     ]
    },
    {
     "name": "stderr",
     "output_type": "stream",
     "text": [
      "[Stage 35:=====================================================>(199 + 1) / 200]\r"
     ]
    },
    {
     "name": "stdout",
     "output_type": "stream",
     "text": [
      "+-----------+-----------+------------------+\n",
      "|      total|    covered|          coverage|\n",
      "+-----------+-----------+------------------+\n",
      "|14093264657|11545247752|0.8192032174933703|\n",
      "+-----------+-----------+------------------+\n",
      "\n"
     ]
    },
    {
     "name": "stderr",
     "output_type": "stream",
     "text": [
      "                                                                                \r"
     ]
    }
   ],
   "source": [
    "# let's check out some statistics\n",
    "@F.udf(\"struct<total:int, covered:int>\")\n",
    "def mask_stats(mask: bytearray) -> tuple[int, int]:\n",
    "    mask = deserialize_mask(mask)\n",
    "    return {\n",
    "        \"total\": int(mask.size),\n",
    "        \"covered\": int(mask.sum()),\n",
    "    }\n",
    "\n",
    "\n",
    "stats = (\n",
    "    combined_mask.withColumn(\"stats\", mask_stats(F.col(\"mask\")))\n",
    "    .select(\n",
    "        F.sum(\"stats.total\").alias(\"total\"), F.sum(\"stats.covered\").alias(\"covered\")\n",
    "    )\n",
    "    .withColumn(\"coverage\", F.col(\"covered\") / F.col(\"total\"))\n",
    ").cache()\n",
    "\n",
    "stats.printSchema()\n",
    "stats.show()"
   ]
  }
 ],
 "metadata": {
  "kernelspec": {
   "display_name": ".venv",
   "language": "python",
   "name": "python3"
  },
  "language_info": {
   "codemirror_mode": {
    "name": "ipython",
    "version": 3
   },
   "file_extension": ".py",
   "mimetype": "text/x-python",
   "name": "python",
   "nbconvert_exporter": "python",
   "pygments_lexer": "ipython3",
   "version": "3.10.10"
  }
 },
 "nbformat": 4,
 "nbformat_minor": 2
}
