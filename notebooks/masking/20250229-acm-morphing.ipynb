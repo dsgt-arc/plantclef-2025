{
 "cells": [
  {
   "cell_type": "code",
   "execution_count": 1,
   "metadata": {},
   "outputs": [],
   "source": [
    "%load_ext autoreload\n",
    "%autoreload 2"
   ]
  },
  {
   "cell_type": "code",
   "execution_count": 2,
   "metadata": {},
   "outputs": [
    {
     "name": "stderr",
     "output_type": "stream",
     "text": [
      "Setting default log level to \"WARN\".\n",
      "To adjust logging level use sc.setLogLevel(newLevel). For SparkR, use setLogLevel(newLevel).\n",
      "25/03/01 03:41:52 WARN NativeCodeLoader: Unable to load native-hadoop library for your platform... using builtin-java classes where applicable\n",
      "25/03/01 03:41:52 WARN SparkConf: Note that spark.local.dir will be overridden by the value set by the cluster manager (via SPARK_LOCAL_DIRS in mesos/standalone/kubernetes and LOCAL_DIRS in YARN).\n"
     ]
    },
    {
     "data": {
      "text/html": [
       "\n",
       "            <div>\n",
       "                <p><b>SparkSession - in-memory</b></p>\n",
       "                \n",
       "        <div>\n",
       "            <p><b>SparkContext</b></p>\n",
       "\n",
       "            <p><a href=\"http://atl1-1-02-014-20-1.pace.gatech.edu:4040\">Spark UI</a></p>\n",
       "\n",
       "            <dl>\n",
       "              <dt>Version</dt>\n",
       "                <dd><code>v3.5.5</code></dd>\n",
       "              <dt>Master</dt>\n",
       "                <dd><code>local[4]</code></dd>\n",
       "              <dt>AppName</dt>\n",
       "                <dd><code>masking-notebook</code></dd>\n",
       "            </dl>\n",
       "        </div>\n",
       "        \n",
       "            </div>\n",
       "        "
      ],
      "text/plain": [
       "<pyspark.sql.session.SparkSession at 0x7fffb9357c10>"
      ]
     },
     "metadata": {},
     "output_type": "display_data"
    },
    {
     "data": {
      "text/plain": [
       "'/storage/home/hcoda1/8/amiyaguchi3/shared/plantclef/data'"
      ]
     },
     "metadata": {},
     "output_type": "display_data"
    }
   ],
   "source": [
    "from plantclef.spark import get_spark\n",
    "from pathlib import Path\n",
    "\n",
    "spark = get_spark(cores=4, app_name=\"masking-notebook\")\n",
    "display(spark)\n",
    "\n",
    "root = Path(\"~/shared/plantclef/data\").expanduser().as_posix()\n",
    "display(root)"
   ]
  },
  {
   "cell_type": "code",
   "execution_count": 3,
   "metadata": {},
   "outputs": [
    {
     "name": "stdout",
     "output_type": "stream",
     "text": [
      "/storage/home/hcoda1/8/amiyaguchi3/shared/plantclef/data/masking/test_2024_v2/data\n",
      "root\n",
      " |-- image_name: string (nullable = true)\n",
      " |-- leaf_mask: binary (nullable = true)\n",
      " |-- flower_mask: binary (nullable = true)\n",
      " |-- plant_mask: binary (nullable = true)\n",
      " |-- sand_mask: binary (nullable = true)\n",
      " |-- wood_mask: binary (nullable = true)\n",
      " |-- tape_mask: binary (nullable = true)\n",
      " |-- tree_mask: binary (nullable = true)\n",
      " |-- rock_mask: binary (nullable = true)\n",
      " |-- vegetation_mask: binary (nullable = true)\n",
      " |-- sample_id: integer (nullable = true)\n",
      "\n"
     ]
    },
    {
     "name": "stderr",
     "output_type": "stream",
     "text": [
      "                                                                                \r"
     ]
    },
    {
     "data": {
      "text/plain": [
       "1695"
      ]
     },
     "metadata": {},
     "output_type": "display_data"
    },
    {
     "name": "stdout",
     "output_type": "stream",
     "text": [
      "CPU times: user 6.73 ms, sys: 1.14 ms, total: 7.88 ms\n",
      "Wall time: 3.21 s\n"
     ]
    },
    {
     "name": "stderr",
     "output_type": "stream",
     "text": [
      "                                                                                \r"
     ]
    },
    {
     "name": "stdout",
     "output_type": "stream",
     "text": [
      "+--------------------+--------------------+--------------------+--------------------+--------------------+--------------------+--------------------+--------------------+--------------------+--------------------+---------+\n",
      "|          image_name|           leaf_mask|         flower_mask|          plant_mask|           sand_mask|           wood_mask|           tape_mask|           tree_mask|           rock_mask|     vegetation_mask|sample_id|\n",
      "+--------------------+--------------------+--------------------+--------------------+--------------------+--------------------+--------------------+--------------------+--------------------+--------------------+---------+\n",
      "|CBN-PdlC-B4-20190...|[78 9C EC D8 BD A...|[78 9C EC DD B1 B...|[78 9C EC DD BF B...|[78 9C EC DC BB A...|[78 9C EC DD CD 8...|[78 9C EC D9 BD 8...|[78 9C EC DD BF B...|[78 9C EC D9 B1 A...|[78 9C EC DD BF B...|        4|\n",
      "|CBN-PdlC-F1-20160...|[78 9C EC C8 31 0...|[78 9C EC DA 31 6...|[78 9C EC DB CD A...|[78 9C EC DB CD A...|[78 9C EC DB BD A...|[78 9C EC DD CB A...|[78 9C EC DB CD A...|[78 9C EC D7 21 8...|[78 9C EC DB CD A...|        4|\n",
      "|CBN-PdlC-F4-20190...|[78 9C EC D9 C1 8...|[78 9C EC DD BD A...|[78 9C EC DD C1 8...|[78 9C EC C8 31 0...|[78 9C EC D7 BD A...|[78 9C EC DD BD A...|[78 9C EC DD C1 8...|[78 9C EC C8 31 0...|[78 9C EC DD BB A...|        4|\n",
      "|CBN-Pla-A2-201808...|[78 9C EC C8 31 0...|[78 9C EC DC BF A...|[78 9C EC DD CD A...|[78 9C EC DD BF A...|[78 9C EC DC C1 8...|[78 9C EC DC C1 8...|[78 9C EC DD CD A...|[78 9C EC DD BD A...|[78 9C EC DD CD A...|        4|\n",
      "|CBN-PdlC-A3-20170...|[78 9C EC D8 BF 8...|[78 9C EC DD C1 9...|[78 9C EC DD B1 9...|[78 9C EC DD B1 9...|[78 9C EC DD CD 8...|[78 9C EC DD CD 8...|[78 9C EC DD B1 9...|[78 9C EC DD BF D...|[78 9C EC DD B1 9...|        4|\n",
      "+--------------------+--------------------+--------------------+--------------------+--------------------+--------------------+--------------------+--------------------+--------------------+--------------------+---------+\n",
      "only showing top 5 rows\n",
      "\n"
     ]
    }
   ],
   "source": [
    "path = f\"{root}/masking/test_2024_v2/data\"\n",
    "print(path)\n",
    "df = spark.read.parquet(path).cache()\n",
    "df.printSchema()\n",
    "%time display(df.count())\n",
    "df.show(n=5)"
   ]
  },
  {
   "cell_type": "code",
   "execution_count": 4,
   "metadata": {},
   "outputs": [
    {
     "data": {
      "text/plain": [
       "20"
      ]
     },
     "execution_count": 4,
     "metadata": {},
     "output_type": "execute_result"
    }
   ],
   "source": [
    "rows = df.sample(fraction=0.1, seed=42).limit(20).collect()\n",
    "len(rows)"
   ]
  },
  {
   "cell_type": "code",
   "execution_count": 5,
   "metadata": {},
   "outputs": [
    {
     "name": "stdout",
     "output_type": "stream",
     "text": [
      "(2868, 2816)\n"
     ]
    },
    {
     "data": {
      "image/png": "[encoded data removed]",
      "text/plain": [
       "<Figure size 300x300 with 1 Axes>"
      ]
     },
     "metadata": {},
     "output_type": "display_data"
    }
   ],
   "source": [
    "from plantclef.serde import deserialize_mask\n",
    "import pandas as pd\n",
    "from matplotlib import pyplot as plt\n",
    "from plantclef.morph.plotting import plot_mask, plot_mask_stats\n",
    "from plantclef.morph.stats import mask_mean, mask_num_components\n",
    "\n",
    "\n",
    "row = rows[0]\n",
    "mask = deserialize_mask(row[\"leaf_mask\"])\n",
    "print(mask.shape)\n",
    "plot_mask(mask)\n",
    "plt.show()"
   ]
  },
  {
   "cell_type": "code",
   "execution_count": 6,
   "metadata": {},
   "outputs": [
    {
     "data": {
      "text/plain": [
       "0.08627614567484468"
      ]
     },
     "metadata": {},
     "output_type": "display_data"
    },
    {
     "data": {
      "text/plain": [
       "8"
      ]
     },
     "metadata": {},
     "output_type": "display_data"
    }
   ],
   "source": [
    "# see how the number of connected components decrease with erosion and dilation\n",
    "display(mask_mean(mask), mask_num_components(mask))"
   ]
  },
  {
   "cell_type": "code",
   "execution_count": 30,
   "metadata": {},
   "outputs": [
    {
     "name": "stderr",
     "output_type": "stream",
     "text": [
      "  0%|          | 0/20 [00:00<?, ?it/s]"
     ]
    },
    {
     "name": "stderr",
     "output_type": "stream",
     "text": [
      "100%|██████████| 20/20 [00:29<00:00,  1.49s/it]\n"
     ]
    },
    {
     "data": {
      "text/html": [
       "<div>\n",
       "<style scoped>\n",
       "    .dataframe tbody tr th:only-of-type {\n",
       "        vertical-align: middle;\n",
       "    }\n",
       "\n",
       "    .dataframe tbody tr th {\n",
       "        vertical-align: top;\n",
       "    }\n",
       "\n",
       "    .dataframe thead th {\n",
       "        text-align: right;\n",
       "    }\n",
       "</style>\n",
       "<table border=\"1\" class=\"dataframe\">\n",
       "  <thead>\n",
       "    <tr style=\"text-align: right;\">\n",
       "      <th></th>\n",
       "      <th>iteration</th>\n",
       "      <th>opening_mean</th>\n",
       "      <th>opening_num_components</th>\n",
       "      <th>closing_mean</th>\n",
       "      <th>closing_num_components</th>\n",
       "      <th>opening_closing_mean</th>\n",
       "      <th>opening_closing_num_components</th>\n",
       "    </tr>\n",
       "  </thead>\n",
       "  <tbody>\n",
       "    <tr>\n",
       "      <th>0</th>\n",
       "      <td>5</td>\n",
       "      <td>0.086386</td>\n",
       "      <td>8</td>\n",
       "      <td>0.086215</td>\n",
       "      <td>3</td>\n",
       "      <td>0.086347</td>\n",
       "      <td>2</td>\n",
       "    </tr>\n",
       "    <tr>\n",
       "      <th>1</th>\n",
       "      <td>10</td>\n",
       "      <td>0.086707</td>\n",
       "      <td>5</td>\n",
       "      <td>0.086002</td>\n",
       "      <td>2</td>\n",
       "      <td>0.086644</td>\n",
       "      <td>2</td>\n",
       "    </tr>\n",
       "    <tr>\n",
       "      <th>2</th>\n",
       "      <td>15</td>\n",
       "      <td>0.086912</td>\n",
       "      <td>3</td>\n",
       "      <td>0.085787</td>\n",
       "      <td>2</td>\n",
       "      <td>0.086770</td>\n",
       "      <td>2</td>\n",
       "    </tr>\n",
       "    <tr>\n",
       "      <th>3</th>\n",
       "      <td>20</td>\n",
       "      <td>0.087282</td>\n",
       "      <td>2</td>\n",
       "      <td>0.085651</td>\n",
       "      <td>2</td>\n",
       "      <td>0.087075</td>\n",
       "      <td>2</td>\n",
       "    </tr>\n",
       "    <tr>\n",
       "      <th>4</th>\n",
       "      <td>25</td>\n",
       "      <td>0.088487</td>\n",
       "      <td>2</td>\n",
       "      <td>0.085272</td>\n",
       "      <td>2</td>\n",
       "      <td>0.088220</td>\n",
       "      <td>2</td>\n",
       "    </tr>\n",
       "    <tr>\n",
       "      <th>5</th>\n",
       "      <td>30</td>\n",
       "      <td>0.089568</td>\n",
       "      <td>2</td>\n",
       "      <td>0.085007</td>\n",
       "      <td>2</td>\n",
       "      <td>0.089218</td>\n",
       "      <td>2</td>\n",
       "    </tr>\n",
       "    <tr>\n",
       "      <th>6</th>\n",
       "      <td>35</td>\n",
       "      <td>0.090183</td>\n",
       "      <td>2</td>\n",
       "      <td>0.084412</td>\n",
       "      <td>2</td>\n",
       "      <td>0.089814</td>\n",
       "      <td>2</td>\n",
       "    </tr>\n",
       "    <tr>\n",
       "      <th>7</th>\n",
       "      <td>40</td>\n",
       "      <td>0.090304</td>\n",
       "      <td>2</td>\n",
       "      <td>0.084064</td>\n",
       "      <td>2</td>\n",
       "      <td>0.089804</td>\n",
       "      <td>2</td>\n",
       "    </tr>\n",
       "    <tr>\n",
       "      <th>8</th>\n",
       "      <td>45</td>\n",
       "      <td>0.090352</td>\n",
       "      <td>2</td>\n",
       "      <td>0.083421</td>\n",
       "      <td>1</td>\n",
       "      <td>0.089372</td>\n",
       "      <td>1</td>\n",
       "    </tr>\n",
       "    <tr>\n",
       "      <th>9</th>\n",
       "      <td>50</td>\n",
       "      <td>0.090375</td>\n",
       "      <td>2</td>\n",
       "      <td>0.083283</td>\n",
       "      <td>1</td>\n",
       "      <td>0.089372</td>\n",
       "      <td>1</td>\n",
       "    </tr>\n",
       "    <tr>\n",
       "      <th>10</th>\n",
       "      <td>55</td>\n",
       "      <td>0.090402</td>\n",
       "      <td>2</td>\n",
       "      <td>0.083074</td>\n",
       "      <td>1</td>\n",
       "      <td>0.089376</td>\n",
       "      <td>1</td>\n",
       "    </tr>\n",
       "    <tr>\n",
       "      <th>11</th>\n",
       "      <td>60</td>\n",
       "      <td>0.090416</td>\n",
       "      <td>2</td>\n",
       "      <td>0.082478</td>\n",
       "      <td>1</td>\n",
       "      <td>0.089372</td>\n",
       "      <td>1</td>\n",
       "    </tr>\n",
       "    <tr>\n",
       "      <th>12</th>\n",
       "      <td>65</td>\n",
       "      <td>0.090416</td>\n",
       "      <td>2</td>\n",
       "      <td>0.082187</td>\n",
       "      <td>1</td>\n",
       "      <td>0.089333</td>\n",
       "      <td>1</td>\n",
       "    </tr>\n",
       "    <tr>\n",
       "      <th>13</th>\n",
       "      <td>70</td>\n",
       "      <td>0.090416</td>\n",
       "      <td>2</td>\n",
       "      <td>0.081818</td>\n",
       "      <td>1</td>\n",
       "      <td>0.089275</td>\n",
       "      <td>1</td>\n",
       "    </tr>\n",
       "    <tr>\n",
       "      <th>14</th>\n",
       "      <td>75</td>\n",
       "      <td>0.090452</td>\n",
       "      <td>2</td>\n",
       "      <td>0.081452</td>\n",
       "      <td>1</td>\n",
       "      <td>0.089237</td>\n",
       "      <td>1</td>\n",
       "    </tr>\n",
       "    <tr>\n",
       "      <th>15</th>\n",
       "      <td>80</td>\n",
       "      <td>0.090481</td>\n",
       "      <td>2</td>\n",
       "      <td>0.080197</td>\n",
       "      <td>1</td>\n",
       "      <td>0.089168</td>\n",
       "      <td>1</td>\n",
       "    </tr>\n",
       "    <tr>\n",
       "      <th>16</th>\n",
       "      <td>85</td>\n",
       "      <td>0.090522</td>\n",
       "      <td>2</td>\n",
       "      <td>0.079827</td>\n",
       "      <td>1</td>\n",
       "      <td>0.089093</td>\n",
       "      <td>1</td>\n",
       "    </tr>\n",
       "    <tr>\n",
       "      <th>17</th>\n",
       "      <td>90</td>\n",
       "      <td>0.090555</td>\n",
       "      <td>2</td>\n",
       "      <td>0.079457</td>\n",
       "      <td>1</td>\n",
       "      <td>0.088978</td>\n",
       "      <td>1</td>\n",
       "    </tr>\n",
       "    <tr>\n",
       "      <th>18</th>\n",
       "      <td>95</td>\n",
       "      <td>0.090589</td>\n",
       "      <td>2</td>\n",
       "      <td>0.079124</td>\n",
       "      <td>1</td>\n",
       "      <td>0.088891</td>\n",
       "      <td>1</td>\n",
       "    </tr>\n",
       "    <tr>\n",
       "      <th>19</th>\n",
       "      <td>100</td>\n",
       "      <td>0.092578</td>\n",
       "      <td>2</td>\n",
       "      <td>0.078783</td>\n",
       "      <td>1</td>\n",
       "      <td>0.090763</td>\n",
       "      <td>1</td>\n",
       "    </tr>\n",
       "  </tbody>\n",
       "</table>\n",
       "</div>"
      ],
      "text/plain": [
       "    iteration  opening_mean  opening_num_components  closing_mean  \\\n",
       "0           5      0.086386                       8      0.086215   \n",
       "1          10      0.086707                       5      0.086002   \n",
       "2          15      0.086912                       3      0.085787   \n",
       "3          20      0.087282                       2      0.085651   \n",
       "4          25      0.088487                       2      0.085272   \n",
       "5          30      0.089568                       2      0.085007   \n",
       "6          35      0.090183                       2      0.084412   \n",
       "7          40      0.090304                       2      0.084064   \n",
       "8          45      0.090352                       2      0.083421   \n",
       "9          50      0.090375                       2      0.083283   \n",
       "10         55      0.090402                       2      0.083074   \n",
       "11         60      0.090416                       2      0.082478   \n",
       "12         65      0.090416                       2      0.082187   \n",
       "13         70      0.090416                       2      0.081818   \n",
       "14         75      0.090452                       2      0.081452   \n",
       "15         80      0.090481                       2      0.080197   \n",
       "16         85      0.090522                       2      0.079827   \n",
       "17         90      0.090555                       2      0.079457   \n",
       "18         95      0.090589                       2      0.079124   \n",
       "19        100      0.092578                       2      0.078783   \n",
       "\n",
       "    closing_num_components  opening_closing_mean  \\\n",
       "0                        3              0.086347   \n",
       "1                        2              0.086644   \n",
       "2                        2              0.086770   \n",
       "3                        2              0.087075   \n",
       "4                        2              0.088220   \n",
       "5                        2              0.089218   \n",
       "6                        2              0.089814   \n",
       "7                        2              0.089804   \n",
       "8                        1              0.089372   \n",
       "9                        1              0.089372   \n",
       "10                       1              0.089376   \n",
       "11                       1              0.089372   \n",
       "12                       1              0.089333   \n",
       "13                       1              0.089275   \n",
       "14                       1              0.089237   \n",
       "15                       1              0.089168   \n",
       "16                       1              0.089093   \n",
       "17                       1              0.088978   \n",
       "18                       1              0.088891   \n",
       "19                       1              0.090763   \n",
       "\n",
       "    opening_closing_num_components  \n",
       "0                                2  \n",
       "1                                2  \n",
       "2                                2  \n",
       "3                                2  \n",
       "4                                2  \n",
       "5                                2  \n",
       "6                                2  \n",
       "7                                2  \n",
       "8                                1  \n",
       "9                                1  \n",
       "10                               1  \n",
       "11                               1  \n",
       "12                               1  \n",
       "13                               1  \n",
       "14                               1  \n",
       "15                               1  \n",
       "16                               1  \n",
       "17                               1  \n",
       "18                               1  \n",
       "19                               1  "
      ]
     },
     "metadata": {},
     "output_type": "display_data"
    }
   ],
   "source": [
    "# let's try opening and closing a bunch of times and see how it changes over time\n",
    "from tqdm import tqdm\n",
    "from plantclef.morph.workflow import generate_mask_stats\n",
    "\n",
    "stats = generate_mask_stats(mask, tqdm(range(5, 101, 5)))\n",
    "pdf = pd.DataFrame(stats)\n",
    "display(pdf)"
   ]
  },
  {
   "cell_type": "code",
   "execution_count": 27,
   "metadata": {},
   "outputs": [
    {
     "data": {
      "image/png": "[encoded data removed]",
      "text/plain": [
       "<Figure size 800x300 with 2 Axes>"
      ]
     },
     "metadata": {},
     "output_type": "display_data"
    }
   ],
   "source": [
    "plot_mask_stats(pdf)\n",
    "plt.show()"
   ]
  },
  {
   "cell_type": "code",
   "execution_count": 28,
   "metadata": {},
   "outputs": [
    {
     "name": "stdout",
     "output_type": "stream",
     "text": [
      "CPU times: user 464 ms, sys: 0 ns, total: 464 ms\n",
      "Wall time: 464 ms\n"
     ]
    },
    {
     "data": {
      "image/png": "[encoded data removed]",
      "text/plain": [
       "<Figure size 300x300 with 1 Axes>"
      ]
     },
     "metadata": {},
     "output_type": "display_data"
    },
    {
     "name": "stdout",
     "output_type": "stream",
     "text": [
      "CPU times: user 462 ms, sys: 4.98 ms, total: 467 ms\n",
      "Wall time: 468 ms\n"
     ]
    },
    {
     "data": {
      "image/png": "[encoded data removed]",
      "text/plain": [
       "<Figure size 300x300 with 1 Axes>"
      ]
     },
     "metadata": {},
     "output_type": "display_data"
    },
    {
     "name": "stdout",
     "output_type": "stream",
     "text": [
      "CPU times: user 873 ms, sys: 12.9 ms, total: 886 ms\n",
      "Wall time: 888 ms\n"
     ]
    },
    {
     "data": {
      "image/png": "[encoded data removed]",
      "text/plain": [
       "<Figure size 300x300 with 1 Axes>"
      ]
     },
     "metadata": {},
     "output_type": "display_data"
    }
   ],
   "source": [
    "%time plot_mask(opening(mask, 50))\n",
    "plt.show()\n",
    "%time plot_mask(closing(mask, 50))\n",
    "plt.show()\n",
    "%time plot_mask(closing(opening(mask, 50), 50))\n",
    "plt.show()"
   ]
  }
 ],
 "metadata": {
  "kernelspec": {
   "display_name": ".venv",
   "language": "python",
   "name": "python3"
  },
  "language_info": {
   "codemirror_mode": {
    "name": "ipython",
    "version": 3
   },
   "file_extension": ".py",
   "mimetype": "text/x-python",
   "name": "python",
   "nbconvert_exporter": "python",
   "pygments_lexer": "ipython3",
   "version": "3.10.10"
  }
 },
 "nbformat": 4,
 "nbformat_minor": 2
}
