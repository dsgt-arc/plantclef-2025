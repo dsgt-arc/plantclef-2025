{
 "cells": [
  {
   "cell_type": "code",
   "execution_count": 2,
   "metadata": {},
   "outputs": [
    {
     "name": "stdout",
     "output_type": "stream",
     "text": [
      "root\n",
      " |-- image_name: string (nullable = true)\n",
      " |-- mask_type: string (nullable = false)\n",
      " |-- mask: binary (nullable = true)\n",
      "\n",
      "+--------------------+----------+--------------------+\n",
      "|          image_name| mask_type|                mask|\n",
      "+--------------------+----------+--------------------+\n",
      "|CBN-Pla-B2-201807...|plant_mask|[78 9C EC DD CF A...|\n",
      "|CBN-PdlC-E2-20190...| wood_mask|[78 9C EC DD CB A...|\n",
      "|OPTMix-083-P3-186...|plant_mask|[78 9C EC DD BD 8...|\n",
      "|CBN-PdlC-C2-20190...| sand_mask|[78 9C EC DD CF A...|\n",
      "|OPTMix-0598-P1-14...| rock_mask|[78 9C EC DD BD D...|\n",
      "+--------------------+----------+--------------------+\n",
      "only showing top 5 rows\n",
      "\n"
     ]
    }
   ],
   "source": [
    "from plantclef.spark import get_spark\n",
    "from pathlib import Path\n",
    "from pyspark.sql import functions as F\n",
    "\n",
    "spark = get_spark(cores=4, app_name=\"masking-notebook\")\n",
    "root = Path(\"~/shared/plantclef/data\").expanduser().as_posix()\n",
    "masks = spark.read.parquet(f\"{root}/masking/test_2024_v2/data\")\n",
    "masks = (\n",
    "    masks.unpivot(\n",
    "        \"image_name\", [c for c in masks.columns if \"mask\" in c], \"mask_type\", \"mask\"\n",
    "    )\n",
    "    .repartition(96)\n",
    "    .cache()\n",
    ")\n",
    "masks.printSchema()\n",
    "masks.show(5)"
   ]
  },
  {
   "cell_type": "code",
   "execution_count": null,
   "metadata": {},
   "outputs": [
    {
     "name": "stderr",
     "output_type": "stream",
     "text": [
      "[Stage 56:======================================================> (94 + 2) / 96]\r"
     ]
    },
    {
     "name": "stdout",
     "output_type": "stream",
     "text": [
      "+--------------------+---------+----------+\n",
      "|          image_name|grid_size|tile_count|\n",
      "+--------------------+---------+----------+\n",
      "|CBN-Pla-B2-201807...|      3x3|         9|\n",
      "|CBN-Pla-B2-201807...|      4x4|        11|\n",
      "|CBN-Pla-B2-201807...|      5x5|        19|\n",
      "|CBN-Pla-B2-201807...|      6x6|        29|\n",
      "|CBN-Pla-B2-201807...|      7x7|        37|\n",
      "|CBN-Pla-B2-201807...|      8x8|        49|\n",
      "|CBN-Pla-B2-201807...|      9x9|        61|\n",
      "|CBN-Pla-B2-201807...|    10x10|        77|\n",
      "|OPTMix-083-P3-186...|      3x3|         9|\n",
      "|OPTMix-083-P3-186...|      4x4|        16|\n",
      "|OPTMix-083-P3-186...|      5x5|        25|\n",
      "|OPTMix-083-P3-186...|      6x6|        36|\n",
      "|OPTMix-083-P3-186...|      7x7|        49|\n",
      "|OPTMix-083-P3-186...|      8x8|        64|\n",
      "|OPTMix-083-P3-186...|      9x9|        81|\n",
      "|OPTMix-083-P3-186...|    10x10|       100|\n",
      "|RNNB-5-2-20240118...|      3x3|         9|\n",
      "|RNNB-5-2-20240118...|      4x4|        16|\n",
      "|RNNB-5-2-20240118...|      5x5|        23|\n",
      "|RNNB-5-2-20240118...|      6x6|        33|\n",
      "+--------------------+---------+----------+\n",
      "only showing top 20 rows\n",
      "\n"
     ]
    },
    {
     "name": "stderr",
     "output_type": "stream",
     "text": [
      "                                                                                \r"
     ]
    }
   ],
   "source": [
    "import numpy as np\n",
    "from functools import partial\n",
    "from plantclef.serde import deserialize_mask\n",
    "\n",
    "\n",
    "# grid each mask, and the calculate how many of those grids are not null.\n",
    "def split_into_tiles(mask: np.ndarray, grid_size: int) -> np.ndarray:\n",
    "    w, h = mask.shape\n",
    "    grid_w, grid_h = w // grid_size, h // grid_size\n",
    "    tiles = []\n",
    "    for i in range(grid_size):\n",
    "        for j in range(grid_size):\n",
    "            left = i * grid_w\n",
    "            upper = j * grid_h\n",
    "            right = left + grid_w\n",
    "            lower = upper + grid_h\n",
    "            tiles.append(mask[left:right, upper:lower])\n",
    "    return np.array(tiles)\n",
    "\n",
    "\n",
    "def count_tiles(mask: bytearray, grid_size: int = 3, threshold: float = 0.5) -> int:\n",
    "    mask = deserialize_mask(mask)\n",
    "    tiles = split_into_tiles(mask, grid_size)\n",
    "    # print(tiles.shape)\n",
    "    means = np.mean(tiles.reshape(tiles.shape[0], -1), axis=1)\n",
    "    # print(means)\n",
    "    return int(np.sum(means > threshold))\n",
    "\n",
    "\n",
    "grid_count = (\n",
    "    masks.where(F.col(\"mask_type\") == \"plant_mask\")\n",
    "    .select(\n",
    "        \"image_name\",\n",
    "        *[\n",
    "            F.udf(partial(count_tiles, grid_size=i), \"int\")(\"mask\").alias(f\"{i}x{i}\")\n",
    "            for i in range(3, 11)\n",
    "        ],\n",
    "    )\n",
    "    .unpivot(\n",
    "        \"image_name\", [f\"{i}x{i}\" for i in range(3, 11)], \"grid_size\", \"tile_count\"\n",
    "    )\n",
    ").cache()\n",
    "grid_count.show()"
   ]
  },
  {
   "cell_type": "code",
   "execution_count": null,
   "metadata": {},
   "outputs": [
    {
     "name": "stderr",
     "output_type": "stream",
     "text": [
      "                                                                                \r"
     ]
    }
   ],
   "source": [
    "scratch_root = Path(\"~/scratch/plantclef/data\").expanduser().as_posix()\n",
    "grid_count.write.parquet(f\"{scratch_root}/masking/grid_count\", mode=\"overwrite\")"
   ]
  },
  {
   "cell_type": "code",
   "execution_count": 25,
   "metadata": {},
   "outputs": [
    {
     "name": "stdout",
     "output_type": "stream",
     "text": [
      "+---------+-----------+-------------+-----------+\n",
      "|grid_size|total_tiles|covered_tiles|pct_covered|\n",
      "+---------+-----------+-------------+-----------+\n",
      "|      3x3|    15255.0|        13855|      0.908|\n",
      "|      4x4|    27120.0|        24336|      0.897|\n",
      "|      5x5|    42375.0|        37667|      0.889|\n",
      "|      6x6|    61020.0|        53798|      0.882|\n",
      "|      7x7|    83055.0|        72887|      0.878|\n",
      "|      8x8|   108480.0|        94489|      0.871|\n",
      "|      9x9|   137295.0|       119041|      0.867|\n",
      "|    10x10|   169500.0|       146303|      0.863|\n",
      "+---------+-----------+-------------+-----------+\n",
      "\n"
     ]
    }
   ],
   "source": [
    "(\n",
    "    grid_count.withColumn(\n",
    "        \"total_tiles\", (F.split(\"grid_size\", \"x\").getItem(0).cast(\"int\")) ** 2\n",
    "    )\n",
    "    .groupBy(\"grid_size\")\n",
    "    .agg(\n",
    "        F.sum(\"total_tiles\").alias(\"total_tiles\"),\n",
    "        F.sum(\"tile_count\").alias(\"covered_tiles\"),\n",
    "    )\n",
    "    .withColumn(\n",
    "        \"pct_covered\", F.round(F.col(\"covered_tiles\") / F.col(\"total_tiles\"), 3)\n",
    "    )\n",
    "    .orderBy(\"total_tiles\")\n",
    ").show()"
   ]
  }
 ],
 "metadata": {
  "kernelspec": {
   "display_name": ".venv",
   "language": "python",
   "name": "python3"
  },
  "language_info": {
   "codemirror_mode": {
    "name": "ipython",
    "version": 3
   },
   "file_extension": ".py",
   "mimetype": "text/x-python",
   "name": "python",
   "nbconvert_exporter": "python",
   "pygments_lexer": "ipython3",
   "version": "3.10.10"
  }
 },
 "nbformat": 4,
 "nbformat_minor": 2
}
