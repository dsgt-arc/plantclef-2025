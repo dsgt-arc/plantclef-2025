{
 "cells": [
  {
   "cell_type": "code",
   "execution_count": 70,
   "metadata": {},
   "outputs": [],
   "source": [
    "import cv2\n",
    "import numpy as np\n",
    "import matplotlib.pyplot as plt\n",
    "from scipy.optimize import differential_evolution\n",
    "\n",
    "\n",
    "def calculate_coverage_and_overlap(square_centers, image_mask, square_size):\n",
    "    \"\"\"Calculates coverage and overlap for given square centers.\"\"\"\n",
    "    image_height, image_width = image_mask.shape\n",
    "    coverage_mask = np.zeros_like(image_mask, dtype=np.uint8)\n",
    "    squares = []\n",
    "\n",
    "    x_min = np.clip(\n",
    "        square_centers[:, 0] - square_size / 2, 0, image_width - square_size\n",
    "    ).astype(int)\n",
    "    y_min = np.clip(\n",
    "        square_centers[:, 1] - square_size / 2, 0, image_height - square_size\n",
    "    ).astype(int)\n",
    "    x_max = x_min + square_size\n",
    "    y_max = y_min + square_size\n",
    "\n",
    "    for i in range(len(square_centers)):\n",
    "        if (\n",
    "            square_size / 2 <= square_centers[i, 0] < image_width - square_size / 2\n",
    "            and square_size / 2 <= square_centers[i, 1] < image_height - square_size / 2\n",
    "        ):\n",
    "            coverage_mask[y_min[i] : y_max[i], x_min[i] : x_max[i]] = 1\n",
    "            squares.append((x_min[i], y_min[i], x_max[i], y_max[i]))\n",
    "\n",
    "    covered_area = np.sum(np.logical_and(image_mask, coverage_mask))\n",
    "    overlap_area = np.sum(coverage_mask) - len(squares) * square_size * square_size\n",
    "    used_squares = len(squares)\n",
    "\n",
    "    return covered_area, overlap_area, used_squares\n",
    "\n",
    "\n",
    "def square_coverage_optimization(\n",
    "    image_mask,\n",
    "    square_size,\n",
    "    max_squares,\n",
    "    coverage_weight=-1,\n",
    "    overlap_weight=0.001,\n",
    "    unused_weight=10,\n",
    "    popsize=50,\n",
    "    maxiter=100,\n",
    "    tol=0.01,\n",
    "):\n",
    "    \"\"\"Optimizes square placement with early stopping and returns the best solution.\"\"\"\n",
    "\n",
    "    image_height, image_width = image_mask.shape\n",
    "    best_solution = None\n",
    "    best_cost = float(\"inf\")\n",
    "\n",
    "    def cost_function(individual):\n",
    "        \"\"\"Calculates the cost and updates the best solution.\"\"\"\n",
    "        nonlocal best_cost, best_solution\n",
    "        square_centers = np.array(individual).reshape((max_squares, 2))\n",
    "        covered_area, overlap_area, used_squares = calculate_coverage_and_overlap(\n",
    "            square_centers, image_mask, square_size\n",
    "        )\n",
    "\n",
    "        cost = (\n",
    "            coverage_weight * covered_area\n",
    "            + overlap_weight * overlap_area\n",
    "            + unused_weight * (max_squares - used_squares)\n",
    "        )\n",
    "\n",
    "        if cost < best_cost:\n",
    "            best_cost = cost\n",
    "            best_solution = square_centers.copy()\n",
    "\n",
    "        return cost\n",
    "\n",
    "    bounds = [\n",
    "        (square_size / 2, image_width - square_size / 2),\n",
    "        (square_size / 2, image_height - square_size / 2),\n",
    "    ] * max_squares\n",
    "\n",
    "    result = differential_evolution(\n",
    "        cost_function,\n",
    "        bounds,\n",
    "        popsize=popsize,\n",
    "        maxiter=maxiter,\n",
    "        tol=tol,\n",
    "    )\n",
    "\n",
    "    if result.success or best_solution is not None:\n",
    "        if best_solution is None:\n",
    "            best_solution = np.array(result.x).reshape((max_squares, 2))\n",
    "        valid_squares = [\n",
    "            (int(x - square_size / 2), int(y - square_size / 2))\n",
    "            for x, y in best_solution\n",
    "            if (\n",
    "                square_size / 2 <= x < image_width - square_size / 2\n",
    "                and square_size / 2 <= y < image_height - square_size / 2\n",
    "            )\n",
    "        ]\n",
    "        return valid_squares\n",
    "    else:\n",
    "        print(\"Optimization failed:\", result.message)\n",
    "        return None"
   ]
  },
  {
   "cell_type": "code",
   "execution_count": 71,
   "metadata": {},
   "outputs": [
    {
     "name": "stdout",
     "output_type": "stream",
     "text": [
      "Square size: 50\n",
      "Max squares: 5\n",
      "Square locations: [(20, 24), (69, 49), (55, 98), (105, 80), (121, 131)]\n",
      "Number of squares: 5\n"
     ]
    }
   ],
   "source": [
    "# toy problem\n",
    "image = np.zeros((200, 200), dtype=np.uint8)\n",
    "cv2.circle(image, (100, 100), 50, 255, -1)\n",
    "cv2.rectangle(image, (20, 20), (80, 80), 255, -1)\n",
    "cv2.rectangle(image, (120, 120), (180, 180), 255, -1)\n",
    "mask = np.zeros_like(image)\n",
    "mask[image == 255] = 1\n",
    "\n",
    "# 2. Set parameters\n",
    "# 1/4 the size an edge\n",
    "square_size = image.shape[0] // 4\n",
    "# proportional to the mask total\n",
    "max_squares = int(mask.sum() // (square_size**2))\n",
    "print(\"Square size:\", square_size)\n",
    "print(\"Max squares:\", max_squares)\n",
    "coverage_weight = -1  # Adjust these weights as needed\n",
    "overlap_weight = 0.01\n",
    "unused_weight = 10\n",
    "\n",
    "# 3. Optimize square placement\n",
    "square_locations = square_coverage_optimization(\n",
    "    mask,\n",
    "    square_size,\n",
    "    max_squares,\n",
    "    coverage_weight,\n",
    "    overlap_weight,\n",
    "    unused_weight,\n",
    "    popsize=20,\n",
    "    maxiter=500,\n",
    "    tol=0.01,\n",
    ")\n",
    "print(\"Square locations:\", square_locations)\n",
    "print(\"Number of squares:\", len(square_locations))"
   ]
  },
  {
   "cell_type": "code",
   "execution_count": 72,
   "metadata": {},
   "outputs": [
    {
     "data": {
      "image/png": "[encoded data removed]",
      "text/plain": [
       "<Figure size 640x480 with 1 Axes>"
      ]
     },
     "metadata": {},
     "output_type": "display_data"
    }
   ],
   "source": [
    "plt.imshow(image, cmap=\"gray\")  # Display the image mask\n",
    "for x, y in square_locations:\n",
    "    rect = plt.Rectangle(\n",
    "        (x, y), square_size, square_size, linewidth=1, edgecolor=\"r\", facecolor=\"none\"\n",
    "    )  # red outlines\n",
    "    plt.gca().add_patch(rect)\n",
    "plt.title(\"Covered Image with Red Outlines\")\n",
    "plt.show()"
   ]
  },
  {
   "cell_type": "code",
   "execution_count": 58,
   "metadata": {},
   "outputs": [
    {
     "name": "stderr",
     "output_type": "stream",
     "text": [
      "Setting default log level to \"WARN\".\n",
      "To adjust logging level use sc.setLogLevel(newLevel). For SparkR, use setLogLevel(newLevel).\n",
      "25/03/03 04:56:20 WARN NativeCodeLoader: Unable to load native-hadoop library for your platform... using builtin-java classes where applicable\n",
      "25/03/03 04:56:20 WARN SparkConf: Note that spark.local.dir will be overridden by the value set by the cluster manager (via SPARK_LOCAL_DIRS in mesos/standalone/kubernetes and LOCAL_DIRS in YARN).\n"
     ]
    }
   ],
   "source": [
    "# let's try this with a real mask\n",
    "from plantclef.spark import get_spark\n",
    "from pathlib import Path\n",
    "from pyspark.sql import functions as F\n",
    "import numpy as np\n",
    "from plantclef.serde import deserialize_mask, serialize_mask\n",
    "\n",
    "spark = get_spark(cores=4)\n",
    "\n",
    "\n",
    "@F.udf(\"binary\")\n",
    "def merge_masks(masks: list[bytearray]) -> bytearray:\n",
    "    masks = [deserialize_mask(m) for m in masks]\n",
    "    merged = np.bitwise_or.reduce(masks)\n",
    "    return serialize_mask(merged)\n",
    "\n",
    "\n",
    "root = Path(\"~/shared/plantclef/data\").expanduser().as_posix()\n",
    "masks = spark.read.parquet(f\"{root}/masking/test_2024_v2/data\")\n",
    "\n",
    "combined_mask = (\n",
    "    masks.unpivot(\n",
    "        \"image_name\", [c for c in masks.columns if \"mask\" in c], \"mask_type\", \"mask\"\n",
    "    )\n",
    "    .where(F.col(\"mask_type\").isin([\"plant_mask\", \"flower_mask\", \"leaf_mask\"]))\n",
    "    .groupBy(\"image_name\")\n",
    "    .agg(F.collect_list(\"mask\").alias(\"masks\"))\n",
    "    .select(\"image_name\", merge_masks(F.col(\"masks\")).alias(\"mask\"))\n",
    ").cache()"
   ]
  },
  {
   "cell_type": "code",
   "execution_count": 73,
   "metadata": {},
   "outputs": [
    {
     "data": {
      "text/plain": [
       "<matplotlib.image.AxesImage at 0x7fff803e4c10>"
      ]
     },
     "execution_count": 73,
     "metadata": {},
     "output_type": "execute_result"
    },
    {
     "data": {
      "image/png": "[encoded data removed]",
      "text/plain": [
       "<Figure size 640x480 with 1 Axes>"
      ]
     },
     "metadata": {},
     "output_type": "display_data"
    }
   ],
   "source": [
    "row = combined_mask.first()\n",
    "\n",
    "mask = deserialize_mask(row.mask)\n",
    "plt.imshow(mask, cmap=\"gray\")"
   ]
  },
  {
   "cell_type": "code",
   "execution_count": null,
   "metadata": {},
   "outputs": [
    {
     "name": "stdout",
     "output_type": "stream",
     "text": [
      "Square size: 606\n",
      "Max squares: 19\n"
     ]
    }
   ],
   "source": [
    "def optimize_and_plot(row, grid_size=5):\n",
    "    mask = deserialize_mask(row.mask)\n",
    "    square_size = mask.shape[0] // grid_size\n",
    "    # proportional to the mask total\n",
    "    max_squares = int(mask.sum() // (square_size**2))\n",
    "    print(\"Square size:\", square_size)\n",
    "    print(\"Max squares:\", max_squares)\n",
    "    coverage_weight = -1  # Adjust these weights as needed\n",
    "    overlap_weight = 0.01\n",
    "    unused_weight = 10\n",
    "\n",
    "    # 3. Optimize square placement\n",
    "    square_locations = square_coverage_optimization(\n",
    "        mask,\n",
    "        square_size,\n",
    "        max_squares,\n",
    "        coverage_weight,\n",
    "        overlap_weight,\n",
    "        unused_weight,\n",
    "        popsize=20,\n",
    "        maxiter=500,\n",
    "        tol=0.01,\n",
    "    )\n",
    "    print(\"Square locations:\", square_locations)\n",
    "    print(\"Number of squares:\", len(square_locations))\n",
    "    plt.imshow(image, cmap=\"gray\")  # Display the image mask\n",
    "    for x, y in square_locations:\n",
    "        rect = plt.Rectangle(\n",
    "            (x, y),\n",
    "            square_size,\n",
    "            square_size,\n",
    "            linewidth=1,\n",
    "            edgecolor=\"r\",\n",
    "            facecolor=\"none\",\n",
    "        )  # red outlines\n",
    "        plt.gca().add_patch(rect)\n",
    "    plt.title(f\"{row.image_name} - {len(square_locations)} squares\")\n",
    "    plt.show()\n",
    "\n",
    "\n",
    "optimize_and_plot(row)"
   ]
  }
 ],
 "metadata": {
  "kernelspec": {
   "display_name": ".venv",
   "language": "python",
   "name": "python3"
  },
  "language_info": {
   "codemirror_mode": {
    "name": "ipython",
    "version": 3
   },
   "file_extension": ".py",
   "mimetype": "text/x-python",
   "name": "python",
   "nbconvert_exporter": "python",
   "pygments_lexer": "ipython3",
   "version": "3.10.10"
  }
 },
 "nbformat": 4,
 "nbformat_minor": 2
}
