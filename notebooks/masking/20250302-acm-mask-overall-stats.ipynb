{
 "cells": [
  {
   "cell_type": "code",
   "execution_count": 18,
   "metadata": {},
   "outputs": [
    {
     "name": "stderr",
     "output_type": "stream",
     "text": [
      "                                                                                \r"
     ]
    },
    {
     "name": "stdout",
     "output_type": "stream",
     "text": [
      "root\n",
      " |-- image_name: string (nullable = true)\n",
      " |-- leaf_mask: binary (nullable = true)\n",
      " |-- flower_mask: binary (nullable = true)\n",
      " |-- plant_mask: binary (nullable = true)\n",
      " |-- sand_mask: binary (nullable = true)\n",
      " |-- wood_mask: binary (nullable = true)\n",
      " |-- tape_mask: binary (nullable = true)\n",
      " |-- tree_mask: binary (nullable = true)\n",
      " |-- rock_mask: binary (nullable = true)\n",
      " |-- vegetation_mask: binary (nullable = true)\n",
      " |-- sample_id: integer (nullable = true)\n",
      "\n",
      "root\n",
      " |-- image_name: string (nullable = true)\n",
      " |-- mask_type: string (nullable = false)\n",
      " |-- mask: binary (nullable = true)\n",
      "\n"
     ]
    },
    {
     "name": "stderr",
     "output_type": "stream",
     "text": [
      "[Stage 8:=========================================>               (70 + 4) / 96]\r"
     ]
    },
    {
     "name": "stdout",
     "output_type": "stream",
     "text": [
      "+--------------------+----------+--------------------+\n",
      "|          image_name| mask_type|                mask|\n",
      "+--------------------+----------+--------------------+\n",
      "|CBN-Pla-B2-201807...|plant_mask|[78 9C EC DD CF A...|\n",
      "|CBN-PdlC-E2-20190...| wood_mask|[78 9C EC DD CB A...|\n",
      "|OPTMix-083-P3-186...|plant_mask|[78 9C EC DD BD 8...|\n",
      "|CBN-PdlC-C2-20190...| sand_mask|[78 9C EC DD CF A...|\n",
      "|OPTMix-0598-P1-14...| rock_mask|[78 9C EC DD BD D...|\n",
      "+--------------------+----------+--------------------+\n",
      "only showing top 5 rows\n",
      "\n"
     ]
    },
    {
     "name": "stderr",
     "output_type": "stream",
     "text": [
      "                                                                                \r"
     ]
    }
   ],
   "source": [
    "from plantclef.spark import get_spark\n",
    "from pathlib import Path\n",
    "from pyspark.sql import functions as F\n",
    "\n",
    "spark = get_spark(cores=4, app_name=\"masking-notebook\")\n",
    "root = Path(\"~/shared/plantclef/data\").expanduser().as_posix()\n",
    "masks = spark.read.parquet(f\"{root}/masking/test_2024_v2/data\")\n",
    "masks.printSchema()\n",
    "\n",
    "unpivoted = (\n",
    "    masks.unpivot(\n",
    "        \"image_name\", [c for c in masks.columns if \"mask\" in c], \"mask_type\", \"mask\"\n",
    "    )\n",
    "    .repartition(96)\n",
    "    .cache()\n",
    ")\n",
    "unpivoted.printSchema()\n",
    "unpivoted.show(5)"
   ]
  },
  {
   "cell_type": "code",
   "execution_count": 27,
   "metadata": {},
   "outputs": [
    {
     "name": "stdout",
     "output_type": "stream",
     "text": [
      "root\n",
      " |-- image_name: string (nullable = true)\n",
      " |-- mask_type: string (nullable = false)\n",
      " |-- stats: struct (nullable = true)\n",
      " |    |-- total: integer (nullable = true)\n",
      " |    |-- covered: integer (nullable = true)\n",
      "\n"
     ]
    }
   ],
   "source": [
    "from plantclef.serde import deserialize_mask\n",
    "\n",
    "\n",
    "# what percentage of the masks are empty on average?\n",
    "@F.udf(\"struct<total:int, covered:int>\")\n",
    "def mask_stats(mask: bytearray) -> tuple[int, int]:\n",
    "    mask = deserialize_mask(mask)\n",
    "    return {\n",
    "        \"total\": int(mask.size),\n",
    "        \"covered\": int(mask.sum()),\n",
    "    }\n",
    "\n",
    "\n",
    "mask_stats = unpivoted.withColumn(\"stats\", mask_stats(\"mask\")).drop(\"mask\").cache()\n",
    "mask_stats.printSchema()"
   ]
  },
  {
   "cell_type": "code",
   "execution_count": 28,
   "metadata": {},
   "outputs": [
    {
     "name": "stdout",
     "output_type": "stream",
     "text": [
      "root\n",
      " |-- mask_type: string (nullable = false)\n",
      " |-- total: long (nullable = true)\n",
      " |-- covered: long (nullable = true)\n",
      " |-- pct_covered: double (nullable = true)\n",
      "\n"
     ]
    },
    {
     "name": "stderr",
     "output_type": "stream",
     "text": [
      "[Stage 21:=======================================================>(95 + 1) / 96]\r"
     ]
    },
    {
     "name": "stdout",
     "output_type": "stream",
     "text": [
      "+---------------+-----------+-----------+-----------+\n",
      "|      mask_type|      total|    covered|pct_covered|\n",
      "+---------------+-----------+-----------+-----------+\n",
      "|vegetation_mask|14093264657|11752390514|      0.834|\n",
      "|     plant_mask|14093264657|11492809355|      0.815|\n",
      "|      tree_mask|14093264657|10324181206|      0.733|\n",
      "|      rock_mask|14093264657| 8640829625|      0.613|\n",
      "|      sand_mask|14093264657| 8517531962|      0.604|\n",
      "|      wood_mask|14093264657| 8273386945|      0.587|\n",
      "|      tape_mask|14093264657| 6194593548|       0.44|\n",
      "|    flower_mask|14093264657| 4347562371|      0.308|\n",
      "|      leaf_mask|14093264657|  395652821|      0.028|\n",
      "+---------------+-----------+-----------+-----------+\n",
      "\n"
     ]
    },
    {
     "name": "stderr",
     "output_type": "stream",
     "text": [
      "                                                                                \r"
     ]
    }
   ],
   "source": [
    "calculated = (\n",
    "    mask_stats.groupBy(\"mask_type\")\n",
    "    .agg(\n",
    "        F.sum(\"stats.total\").alias(\"total\"),\n",
    "        F.sum(\"stats.covered\").alias(\"covered\"),\n",
    "        F.round(F.expr(\"sum(stats.covered) / sum(stats.total)\"), 3).alias(\n",
    "            \"pct_covered\"\n",
    "        ),\n",
    "    )\n",
    "    .orderBy(\"pct_covered\", ascending=False)\n",
    ")\n",
    "calculated.printSchema()\n",
    "calculated.show()"
   ]
  },
  {
   "cell_type": "code",
   "execution_count": null,
   "metadata": {},
   "outputs": [],
   "source": []
  }
 ],
 "metadata": {
  "kernelspec": {
   "display_name": ".venv",
   "language": "python",
   "name": "python3"
  },
  "language_info": {
   "codemirror_mode": {
    "name": "ipython",
    "version": 3
   },
   "file_extension": ".py",
   "mimetype": "text/x-python",
   "name": "python",
   "nbconvert_exporter": "python",
   "pygments_lexer": "ipython3",
   "version": "3.10.10"
  }
 },
 "nbformat": 4,
 "nbformat_minor": 2
}
