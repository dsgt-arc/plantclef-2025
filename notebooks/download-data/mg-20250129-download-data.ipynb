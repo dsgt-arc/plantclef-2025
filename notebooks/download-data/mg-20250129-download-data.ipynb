{
 "cells": [
  {
   "cell_type": "markdown",
   "metadata": {},
   "source": [
    "# Download PlantCLEF 2022 datasets\n",
    "\n",
    "**NOTE:** This notebook is using Anthony's code to download `tar` in the VM and load them into GCS.\n",
    "- Datasets URL: https://lab.plantnet.org/LifeCLEF/PlantCLEF2022/train/web/"
   ]
  },
  {
   "cell_type": "code",
   "execution_count": null,
   "metadata": {},
   "outputs": [],
   "source": [
    "# make a directory for raw data\n",
    "! mkdir -p ~/scratch/data/raw\n",
    "%cd ~/scratch/data/raw"
   ]
  },
  {
   "cell_type": "markdown",
   "metadata": {},
   "source": [
    "## download data\n",
    "Let's use aria2 to download the files, so we can take advantage of the multi-threading."
   ]
  },
  {
   "cell_type": "code",
   "execution_count": null,
   "metadata": {},
   "outputs": [],
   "source": [
    "import os\n",
    "\n",
    "data_urls = \"\"\"\n",
    "https://lab.plantnet.org/LifeCLEF/PlantCLEF2024/single_plant_training_data/PlantCLEF2024singleplanttrainingdata.tar\n",
    "https://lab.plantnet.org/LifeCLEF/PlantCLEF2025/vegetation_plot_test_data/PlantCLEF2025test.tar\n",
    "https://lab.plantnet.org/LifeCLEF/PlantCLEF2024/single_plant_training_data/PlantCLEF2024singleplanttrainingdata.csv\n",
    "\"\"\"\n",
    "\n",
    "def get_file_path() -> str:\n",
    "    # get current working directory\n",
    "    curr_dir = os.getcwd()\n",
    "    # specify the file path\n",
    "    file_path = os.path.join(curr_dir, \"urls.txt\")\n",
    "    return file_path\n",
    "\n",
    "# get file path\n",
    "file_path = get_file_path()\n",
    "# write the urls to the file\n",
    "with open(file_path, \"w\") as f:\n",
    "    f.write(data_urls.strip())\n",
    "# print the file content\n",
    "! cat {file_path}"
   ]
  },
  {
   "cell_type": "code",
   "execution_count": null,
   "metadata": {},
   "outputs": [],
   "source": [
    "! aria2c --check-certificate=false -c -i ~/scratch/data/raw/urls.txt -d ~/scratch/data/raw"
   ]
  },
  {
   "cell_type": "markdown",
   "metadata": {},
   "source": [
    "## download pre-trianed DINOv2 model"
   ]
  },
  {
   "cell_type": "code",
   "execution_count": null,
   "metadata": {},
   "outputs": [],
   "source": [
    "# make a directory for downloading the model \n",
    "! mkdir -p ~/scratch/data/models\n",
    "%cd ~/scratch/data/models"
   ]
  },
  {
   "cell_type": "code",
   "execution_count": null,
   "metadata": {},
   "outputs": [],
   "source": [
    "model_url = \"\"\"\n",
    "https://zenodo.org/records/10848263/files/PlantNet_PlantCLEF2024_pretrained_models_on_the_flora_of_south-western_europe.tar?download=1\n",
    "\"\"\"\n",
    "\n",
    "# get file path\n",
    "file_path = get_file_path()\n",
    "# write the urls to the file\n",
    "with open(file_path, \"w\") as f:\n",
    "    f.write(model_url.strip())\n",
    "# print the file content\n",
    "! cat {file_path}"
   ]
  },
  {
   "cell_type": "code",
   "execution_count": null,
   "metadata": {},
   "outputs": [],
   "source": [
    "! aria2c --check-certificate=false -c -i ~/scratch/data/raw/urls.txt -d ~/scratch/data/models"
   ]
  }
 ],
 "metadata": {
  "kernelspec": {
   "display_name": ".venv",
   "language": "python",
   "name": "python3"
  },
  "language_info": {
   "codemirror_mode": {
    "name": "ipython",
    "version": 3
   },
   "file_extension": ".py",
   "mimetype": "text/x-python",
   "name": "python",
   "nbconvert_exporter": "python",
   "pygments_lexer": "ipython3",
   "version": "3.9.18"
  }
 },
 "nbformat": 4,
 "nbformat_minor": 2
}
