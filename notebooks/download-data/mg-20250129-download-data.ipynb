{
 "cells": [
  {
   "cell_type": "markdown",
   "metadata": {},
   "source": [
    "# Download PlantCLEF datasets"
   ]
  },
  {
   "cell_type": "code",
   "execution_count": 1,
   "metadata": {},
   "outputs": [
    {
     "name": "stdout",
     "output_type": "stream",
     "text": [
      "/storage/scratch1/9/mgustineli3/data/raw\n"
     ]
    },
    {
     "name": "stderr",
     "output_type": "stream",
     "text": [
      "/storage/home/hcoda1/9/mgustineli3/scratch/.venv/lib64/python3.9/site-packages/IPython/core/magics/osm.py:393: UserWarning: using bookmarks requires you to install the `pickleshare` library.\n",
      "  bkms = self.shell.db.get('bookmarks', {})\n",
      "/storage/home/hcoda1/9/mgustineli3/scratch/.venv/lib64/python3.9/site-packages/IPython/core/magics/osm.py:417: UserWarning: using dhist requires you to install the `pickleshare` library.\n",
      "  self.shell.db['dhist'] = compress_dhist(dhist)[-100:]\n"
     ]
    }
   ],
   "source": [
    "# make a directory for raw data\n",
    "! mkdir -p ~/scratch/data/raw\n",
    "%cd ~/scratch/data/raw"
   ]
  },
  {
   "cell_type": "markdown",
   "metadata": {},
   "source": [
    "## download data\n",
    "Let's use aria2 to download the files, so we can take advantage of the multi-threading."
   ]
  },
  {
   "cell_type": "code",
   "execution_count": 2,
   "metadata": {},
   "outputs": [
    {
     "name": "stdout",
     "output_type": "stream",
     "text": [
      "https://lab.plantnet.org/LifeCLEF/PlantCLEF2024/single_plant_training_data/PlantCLEF2024singleplanttrainingdata.tar"
     ]
    }
   ],
   "source": [
    "import os\n",
    "\n",
    "data_urls = \"\"\"\n",
    "https://lab.plantnet.org/LifeCLEF/PlantCLEF2024/single_plant_training_data/PlantCLEF2024singleplanttrainingdata.tar\n",
    "# https://lab.plantnet.org/LifeCLEF/PlantCLEF2025/vegetation_plot_test_data/PlantCLEF2025test.tar\n",
    "# https://lab.plantnet.org/LifeCLEF/PlantCLEF2024/single_plant_training_data/PlantCLEF2024singleplanttrainingdata.csv\n",
    "\"\"\"\n",
    "\n",
    "\n",
    "def get_file_path() -> str:\n",
    "    # get current working directory\n",
    "    curr_dir = os.getcwd()\n",
    "    # specify the file path\n",
    "    file_path = os.path.join(curr_dir, \"urls.txt\")\n",
    "    return file_path\n",
    "\n",
    "\n",
    "# get file path\n",
    "file_path = get_file_path()\n",
    "# write the urls to the file\n",
    "with open(file_path, \"w\") as f:\n",
    "    f.write(data_urls.strip())\n",
    "# print the file content\n",
    "! cat {file_path}"
   ]
  },
  {
   "cell_type": "code",
   "execution_count": 3,
   "metadata": {},
   "outputs": [
    {
     "name": "stdout",
     "output_type": "stream",
     "text": [
      "\n",
      "01/29 17:49:55 [\u001b[1;32mNOTICE\u001b[0m] Downloading 1 item(s)\n",
      " *** Download Progress Summary as of Wed Jan 29 17:50:55 2025 ***              m28s\u001b[0m\u001b[35m]\u001b[0m\u001b[0m[0m\n",
      "===============================================================================\n",
      "[#d5c1c6 279GiB/281GiB(99%) CN:1 DL:25MiB ETA:1m24s]\n",
      "FILE: /storage/home/hcoda1/9/mgustineli3/scratch/data/raw/PlantCLEF2024singleplanttrainingdata.tar\n",
      "-------------------------------------------------------------------------------\n",
      "\n",
      " *** Download Progress Summary as of Wed Jan 29 17:51:56 2025 ***              3s\u001b[0m\u001b[35m]\u001b[0m\u001b[0mmm\n",
      "===============================================================================\n",
      "[#d5c1c6 280GiB/281GiB(99%) CN:1 DL:22MiB ETA:26s]\n",
      "FILE: /storage/home/hcoda1/9/mgustineli3/scratch/data/raw/PlantCLEF2024singleplanttrainingdata.tar\n",
      "-------------------------------------------------------------------------------\n",
      "\n",
      "\u001b[35m[\u001b[0m#d5c1c6 281GiB/281GiB\u001b[36m(99%)\u001b[0m CN:1 DL:\u001b[32m21MiB\u001b[0m ETA:\u001b[33m1s\u001b[0m\u001b[35m]\u001b[0m\u001b[0mm\n",
      "01/29 17:52:20 [\u001b[1;32mNOTICE\u001b[0m] Download complete: /storage/home/hcoda1/9/mgustineli3/scratch/data/raw/PlantCLEF2024singleplanttrainingdata.tar\n",
      "\n",
      "Download Results:\n",
      "gid   |stat|avg speed  |path/URI\n",
      "======+====+===========+=======================================================\n",
      "d5c1c6|\u001b[1;32mOK\u001b[0m  |    25MiB/s|/storage/home/hcoda1/9/mgustineli3/scratch/data/raw/PlantCLEF2024singleplanttrainingdata.tar\n",
      "\n",
      "Status Legend:\n",
      "(OK):download completed.\n"
     ]
    }
   ],
   "source": [
    "! aria2c --check-certificate=false -c -i ~/scratch/data/raw/urls.txt -d ~/scratch/data/raw"
   ]
  },
  {
   "cell_type": "markdown",
   "metadata": {},
   "source": [
    "## download pre-trianed DINOv2 model"
   ]
  },
  {
   "cell_type": "code",
   "execution_count": 4,
   "metadata": {},
   "outputs": [
    {
     "name": "stdout",
     "output_type": "stream",
     "text": [
      "/storage/scratch1/9/mgustineli3/data/models\n"
     ]
    }
   ],
   "source": [
    "# make a directory for downloading the model\n",
    "! mkdir -p ~/scratch/data/models\n",
    "%cd ~/scratch/data/models"
   ]
  },
  {
   "cell_type": "code",
   "execution_count": 5,
   "metadata": {},
   "outputs": [
    {
     "name": "stdout",
     "output_type": "stream",
     "text": [
      "https://zenodo.org/records/10848263/files/PlantNet_PlantCLEF2024_pretrained_models_on_the_flora_of_south-western_europe.tar?download=1"
     ]
    }
   ],
   "source": [
    "model_url = \"\"\"\n",
    "https://zenodo.org/records/10848263/files/PlantNet_PlantCLEF2024_pretrained_models_on_the_flora_of_south-western_europe.tar?download=1\n",
    "\"\"\"\n",
    "\n",
    "# get file path\n",
    "file_path = get_file_path()\n",
    "# write the urls to the file\n",
    "with open(file_path, \"w\") as f:\n",
    "    f.write(model_url.strip())\n",
    "# print the file content\n",
    "! cat {file_path}"
   ]
  },
  {
   "cell_type": "code",
   "execution_count": 6,
   "metadata": {},
   "outputs": [
    {
     "name": "stdout",
     "output_type": "stream",
     "text": [
      "\n",
      "01/29 17:52:21 [\u001b[1;32mNOTICE\u001b[0m] Downloading 1 item(s)\n",
      " *** Download Progress Summary as of Wed Jan 29 17:53:24 2025 ***              3s\u001b[0m\u001b[35m]\u001b[0m\u001b[0mmm\n",
      "===============================================================================\n",
      "[#8cce51 1.7GiB/2.1GiB(82%) CN:1 DL:24MiB ETA:15s]\n",
      "FILE: /storage/home/hcoda1/9/mgustineli3/scratch/data/models/PlantNet_PlantCLEF2024_pretrained_models_on_the_flora_of_south-western_europe.tar\n",
      "-------------------------------------------------------------------------------\n",
      "\n",
      "\u001b[35m[\u001b[0m#8cce51 2.1GiB/2.1GiB\u001b[36m(99%)\u001b[0m CN:1 DL:\u001b[32m28MiB\u001b[0m\u001b[35m]\u001b[0m\u001b[0m0m\u001b[35m]\u001b[0m\u001b[0mm\n",
      "01/29 17:53:38 [\u001b[1;32mNOTICE\u001b[0m] Download complete: /storage/home/hcoda1/9/mgustineli3/scratch/data/models/PlantNet_PlantCLEF2024_pretrained_models_on_the_flora_of_south-western_europe.tar\n",
      "\n",
      "Download Results:\n",
      "gid   |stat|avg speed  |path/URI\n",
      "======+====+===========+=======================================================\n",
      "8cce51|\u001b[1;32mOK\u001b[0m  |    28MiB/s|/storage/home/hcoda1/9/mgustineli3/scratch/data/models/PlantNet_PlantCLEF2024_pretrained_models_on_the_flora_of_south-western_europe.tar\n",
      "\n",
      "Status Legend:\n",
      "(OK):download completed.\n"
     ]
    }
   ],
   "source": [
    "! aria2c --check-certificate=false -c -i ~/scratch/data/models/urls.txt -d ~/scratch/data/models"
   ]
  },
  {
   "cell_type": "code",
   "execution_count": null,
   "metadata": {},
   "outputs": [],
   "source": []
  }
 ],
 "metadata": {
  "kernelspec": {
   "display_name": ".venv",
   "language": "python",
   "name": "python3"
  },
  "language_info": {
   "codemirror_mode": {
    "name": "ipython",
    "version": 3
   },
   "file_extension": ".py",
   "mimetype": "text/x-python",
   "name": "python",
   "nbconvert_exporter": "python",
   "pygments_lexer": "ipython3",
   "version": "3.9.18"
  }
 },
 "nbformat": 4,
 "nbformat_minor": 2
}
