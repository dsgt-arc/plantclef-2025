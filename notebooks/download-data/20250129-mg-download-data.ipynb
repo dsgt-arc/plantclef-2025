{
 "cells": [
  {
   "cell_type": "markdown",
   "metadata": {},
   "source": [
    "# Download PlantCLEF datasets"
   ]
  },
  {
   "cell_type": "code",
   "execution_count": 1,
   "metadata": {},
   "outputs": [
    {
     "name": "stdout",
     "output_type": "stream",
     "text": [
      "/storage/scratch1/9/mgustineli3/data/raw\n"
     ]
    },
    {
     "name": "stderr",
     "output_type": "stream",
     "text": [
      "/storage/home/hcoda1/9/mgustineli3/scratch/.venv/lib64/python3.9/site-packages/IPython/core/magics/osm.py:393: UserWarning: using bookmarks requires you to install the `pickleshare` library.\n",
      "  bkms = self.shell.db.get('bookmarks', {})\n",
      "/storage/home/hcoda1/9/mgustineli3/scratch/.venv/lib64/python3.9/site-packages/IPython/core/magics/osm.py:417: UserWarning: using dhist requires you to install the `pickleshare` library.\n",
      "  self.shell.db['dhist'] = compress_dhist(dhist)[-100:]\n"
     ]
    }
   ],
   "source": [
    "# make a directory for raw data\n",
    "! mkdir -p ~/scratch/data/raw\n",
    "%cd ~/scratch/data/raw"
   ]
  },
  {
   "cell_type": "markdown",
   "metadata": {},
   "source": [
    "## download data\n",
    "Let's use aria2 to download the files, so we can take advantage of the multi-threading."
   ]
  },
  {
   "cell_type": "code",
   "execution_count": 2,
   "metadata": {},
   "outputs": [
    {
     "name": "stdout",
     "output_type": "stream",
     "text": [
      "https://lab.plantnet.org/LifeCLEF/PlantCLEF2024/single_plant_training_data/PlantCLEF2024singleplanttrainingdata.csv\n",
      "https://lab.plantnet.org/LifeCLEF/PlantCLEF2024/single_plant_training_data/PlantCLEF2024singleplanttrainingdata.tar\n",
      "https://lab.plantnet.org/LifeCLEF/PlantCLEF2025/vegetation_plot_test_data/PlantCLEF2025test.tar"
     ]
    }
   ],
   "source": [
    "import os\n",
    "\n",
    "data_urls = \"\"\"\n",
    "https://lab.plantnet.org/LifeCLEF/PlantCLEF2024/single_plant_training_data/PlantCLEF2024singleplanttrainingdata.csv\n",
    "https://lab.plantnet.org/LifeCLEF/PlantCLEF2024/single_plant_training_data/PlantCLEF2024singleplanttrainingdata.tar\n",
    "https://lab.plantnet.org/LifeCLEF/PlantCLEF2025/vegetation_plot_test_data/PlantCLEF2025test.tar\n",
    "\"\"\"\n",
    "\n",
    "\n",
    "def get_file_path() -> str:\n",
    "    # get current working directory\n",
    "    curr_dir = os.getcwd()\n",
    "    # specify the file path\n",
    "    file_path = os.path.join(curr_dir, \"urls.txt\")\n",
    "    return file_path\n",
    "\n",
    "\n",
    "# get file path\n",
    "file_path = get_file_path()\n",
    "# write the urls to the file\n",
    "with open(file_path, \"w\") as f:\n",
    "    f.write(data_urls.strip())\n",
    "# print the file content\n",
    "! cat {file_path}"
   ]
  },
  {
   "cell_type": "code",
   "execution_count": 3,
   "metadata": {},
   "outputs": [
    {
     "name": "stdout",
     "output_type": "stream",
     "text": [
      "\n",
      "01/31 15:31:13 [\u001b[1;32mNOTICE\u001b[0m] Downloading 3 item(s)\n",
      "\n",
      "01/31 15:31:14 [\u001b[1;32mNOTICE\u001b[0m] GID#0c2cacdf90623e11 - Download has already completed: /storage/home/hcoda1/9/mgustineli3/scratch/data/raw/PlantCLEF2024singleplanttrainingdata.csv\n",
      "\n",
      "01/31 15:31:14 [\u001b[1;32mNOTICE\u001b[0m] Download complete: /storage/home/hcoda1/9/mgustineli3/scratch/data/raw/PlantCLEF2024singleplanttrainingdata.csv\n",
      "\u001b[35m[\u001b[0mDL:\u001b[32m38MiB\u001b[0m\u001b[35m]\u001b[0m\u001b[35m[\u001b[0m#34da61 166MiB/281GiB\u001b[36m(0%)\u001b[0m\u001b[35m]\u001b[0m\u001b[35m[\u001b[0m#9981bf 104MiB/6.9GiB\u001b[36m(1%)\u001b[0m\u001b[35m]\u001b[0m\u001b[0mm1bf 0B/6.9\u001b[0m^C\n",
      "\n",
      "01/31 15:31:30 [\u001b[1;32mNOTICE\u001b[0m] Shutdown sequence commencing... Press Ctrl-C again for emergency shutdown.\n",
      "\n",
      "01/31 15:31:30 [\u001b[1;32mNOTICE\u001b[0m] Download GID#34da61999be2c579 not complete: /storage/home/hcoda1/9/mgustineli3/scratch/data/raw/PlantCLEF2024singleplanttrainingdata.tar\n",
      "\n",
      "01/31 15:31:30 [\u001b[1;32mNOTICE\u001b[0m] Download GID#9981bfc5c2f2c2e7 not complete: /storage/home/hcoda1/9/mgustineli3/scratch/data/raw/PlantCLEF2025test.tar\n",
      "\n",
      "Download Results:\n",
      "gid   |stat|avg speed  |path/URI\n",
      "======+====+===========+=======================================================\n",
      "0c2cac|\u001b[1;32mOK\u001b[0m  |       0B/s|/storage/home/hcoda1/9/mgustineli3/scratch/data/raw/PlantCLEF2024singleplanttrainingdata.csv\n",
      "34da61|\u001b[1;34mINPR\u001b[0m|    11MiB/s|/storage/home/hcoda1/9/mgustineli3/scratch/data/raw/PlantCLEF2024singleplanttrainingdata.tar\n",
      "9981bf|\u001b[1;34mINPR\u001b[0m|    15MiB/s|/storage/home/hcoda1/9/mgustineli3/scratch/data/raw/PlantCLEF2025test.tar\n",
      "\n",
      "Status Legend:\n",
      "(OK):download completed.(INPR):download in-progress.\n",
      "\n",
      "aria2 will resume download if the transfer is restarted.\n",
      "If there are any errors, then see the log file. See '-l' option in help/man page for details.\n"
     ]
    }
   ],
   "source": [
    "! aria2c --check-certificate=false -c -i ~/scratch/data/raw/urls.txt -d ~/scratch/data/raw"
   ]
  },
  {
   "cell_type": "markdown",
   "metadata": {},
   "source": [
    "## download pre-trianed DINOv2 model"
   ]
  },
  {
   "cell_type": "code",
   "execution_count": 4,
   "metadata": {},
   "outputs": [
    {
     "name": "stdout",
     "output_type": "stream",
     "text": [
      "/storage/scratch1/9/mgustineli3/data/models\n"
     ]
    }
   ],
   "source": [
    "# make a directory for downloading the model\n",
    "! mkdir -p ~/scratch/data/models\n",
    "%cd ~/scratch/data/models"
   ]
  },
  {
   "cell_type": "code",
   "execution_count": null,
   "metadata": {},
   "outputs": [],
   "source": [
    "model_url = \"\"\"\n",
    "https://zenodo.org/records/10848263/files/PlantNet_PlantCLEF2024_pretrained_models_on_the_flora_of_south-western_europe.tar?download=1\n",
    "\"\"\"\n",
    "\n",
    "# get file path\n",
    "file_path = get_file_path()\n",
    "# write the urls to the file\n",
    "with open(file_path, \"w\") as f:\n",
    "    f.write(model_url.strip())\n",
    "# print the file content\n",
    "! cat {file_path}"
   ]
  },
  {
   "cell_type": "code",
   "execution_count": null,
   "metadata": {},
   "outputs": [],
   "source": [
    "! aria2c --check-certificate=false -c -i ~/scratch/data/models/urls.txt -d ~/scratch/data/models"
   ]
  }
 ],
 "metadata": {
  "kernelspec": {
   "display_name": ".venv",
   "language": "python",
   "name": "python3"
  },
  "language_info": {
   "codemirror_mode": {
    "name": "ipython",
    "version": 3
   },
   "file_extension": ".py",
   "mimetype": "text/x-python",
   "name": "python",
   "nbconvert_exporter": "python",
   "pygments_lexer": "ipython3",
   "version": "3.9.18"
  }
 },
 "nbformat": 4,
 "nbformat_minor": 2
}
