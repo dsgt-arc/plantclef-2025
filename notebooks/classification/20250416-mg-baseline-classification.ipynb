{
 "cells": [
  {
   "cell_type": "markdown",
   "id": "f7cfe53d",
   "metadata": {},
   "source": [
    "# Baseline Classification\n",
    "\n",
    "Identifying the top 20 probabilites over all test data. Submit them as a baseline classification strategy."
   ]
  },
  {
   "cell_type": "code",
   "execution_count": 3,
   "id": "11513da0",
   "metadata": {},
   "outputs": [],
   "source": [
    "%load_ext autoreload\n",
    "%autoreload 2"
   ]
  },
  {
   "cell_type": "code",
   "execution_count": 1,
   "id": "de2f6b70",
   "metadata": {},
   "outputs": [
    {
     "name": "stderr",
     "output_type": "stream",
     "text": [
      "Setting default log level to \"WARN\".\n",
      "To adjust logging level use sc.setLogLevel(newLevel). For SparkR, use setLogLevel(newLevel).\n",
      "25/04/16 23:30:46 WARN NativeCodeLoader: Unable to load native-hadoop library for your platform... using builtin-java classes where applicable\n",
      "25/04/16 23:30:46 WARN SparkConf: Note that spark.local.dir will be overridden by the value set by the cluster manager (via SPARK_LOCAL_DIRS in mesos/standalone/kubernetes and LOCAL_DIRS in YARN).\n",
      "25/04/16 23:30:47 WARN Utils: Service 'SparkUI' could not bind on port 4040. Attempting port 4041.\n"
     ]
    },
    {
     "data": {
      "text/html": [
       "\n",
       "            <div>\n",
       "                <p><b>SparkSession - in-memory</b></p>\n",
       "                \n",
       "        <div>\n",
       "            <p><b>SparkContext</b></p>\n",
       "\n",
       "            <p><a href=\"http://atl1-1-03-003-21-0.pace.gatech.edu:4041\">Spark UI</a></p>\n",
       "\n",
       "            <dl>\n",
       "              <dt>Version</dt>\n",
       "                <dd><code>v3.5.5</code></dd>\n",
       "              <dt>Master</dt>\n",
       "                <dd><code>local[24]</code></dd>\n",
       "              <dt>AppName</dt>\n",
       "                <dd><code>clef</code></dd>\n",
       "            </dl>\n",
       "        </div>\n",
       "        \n",
       "            </div>\n",
       "        "
      ],
      "text/plain": [
       "<pyspark.sql.session.SparkSession at 0x7fffbf7ef130>"
      ]
     },
     "metadata": {},
     "output_type": "display_data"
    }
   ],
   "source": [
    "from plantclef.spark import get_spark\n",
    "\n",
    "spark = get_spark()\n",
    "display(spark)"
   ]
  },
  {
   "cell_type": "code",
   "execution_count": 2,
   "id": "dd926609",
   "metadata": {},
   "outputs": [
    {
     "name": "stdout",
     "output_type": "stream",
     "text": [
      "Wed Apr 16 11:30:49 PM EDT 2025\n"
     ]
    }
   ],
   "source": [
    "import os\n",
    "from pathlib import Path\n",
    "\n",
    "# Set the root directory to your home directory\n",
    "root = Path(os.path.expanduser(\"~\"))\n",
    "! date"
   ]
  },
  {
   "cell_type": "code",
   "execution_count": 4,
   "id": "41e7e32e",
   "metadata": {},
   "outputs": [
    {
     "name": "stderr",
     "output_type": "stream",
     "text": [
      "                                                                                \r"
     ]
    },
    {
     "name": "stdout",
     "output_type": "stream",
     "text": [
      "root\n",
      " |-- image_name: string (nullable = true)\n",
      " |-- output: struct (nullable = true)\n",
      " |    |-- cls_token: array (nullable = true)\n",
      " |    |    |-- element: float (containsNull = true)\n",
      " |    |-- logits: array (nullable = true)\n",
      " |    |    |-- element: float (containsNull = true)\n",
      " |-- sample_id: integer (nullable = true)\n",
      "\n"
     ]
    },
    {
     "name": "stderr",
     "output_type": "stream",
     "text": [
      "                                                                                \r"
     ]
    },
    {
     "name": "stdout",
     "output_type": "stream",
     "text": [
      "+--------------------+--------------------+---------+\n",
      "|          image_name|              output|sample_id|\n",
      "+--------------------+--------------------+---------+\n",
      "|CBN-Pla-A1-201908...|{[0.47354543, 1.5...|        0|\n",
      "|CBN-Pla-D6-201908...|{[-0.39621377, 1....|        0|\n",
      "|CBN-PdlC-C5-20140...|{[-0.5331654, 0.2...|        0|\n",
      "|LISAH-BOU-0-37-20...|{[1.2480925, 0.47...|        0|\n",
      "|CBN-Pla-E4-201308...|{[0.7065191, 1.70...|        0|\n",
      "+--------------------+--------------------+---------+\n",
      "only showing top 5 rows\n",
      "\n"
     ]
    }
   ],
   "source": [
    "# path and dataset names\n",
    "data_path = f\"{root}/p-dsgt_clef2025-0/shared/plantclef/data/embeddings/test_2025\"\n",
    "\n",
    "# define the path to the train and test parquet files\n",
    "test_path = f\"{data_path}/test_2025_embed_logits\"\n",
    "\n",
    "# read the parquet files into a spark DataFrame\n",
    "test_df = spark.read.parquet(test_path)\n",
    "\n",
    "# show the data\n",
    "test_df.printSchema()\n",
    "test_df.show(n=5)"
   ]
  },
  {
   "cell_type": "code",
   "execution_count": 12,
   "id": "98d7fe0c",
   "metadata": {},
   "outputs": [
    {
     "name": "stderr",
     "output_type": "stream",
     "text": [
      "                                                                                \r"
     ]
    },
    {
     "data": {
      "text/plain": [
       "(7806,\n",
       " (7806,),\n",
       " array([-0.37915118,  0.0137584 , -0.2863231 , -0.76206058, -0.2323433 ]),\n",
       " array([-0.21083864, -0.46454166, -0.31728752,  0.14438025,  0.36815306]))"
      ]
     },
     "execution_count": 12,
     "metadata": {},
     "output_type": "execute_result"
    }
   ],
   "source": [
    "import torch\n",
    "import numpy as np\n",
    "\n",
    "# average the logits over all images\n",
    "logits = test_df.select(\"output.logits\").rdd.flatMap(lambda x: x).collect()\n",
    "logits = [list(map(float, x)) for x in logits]\n",
    "probabilities = torch.softmax(torch.tensor(logits), dim=1).numpy()\n",
    "probabilities = np.mean(logits, axis=0)\n",
    "len(probabilities), probabilities.shape, probabilities[:5], probabilities[-5:]"
   ]
  },
  {
   "cell_type": "code",
   "execution_count": 13,
   "id": "f32bd435",
   "metadata": {},
   "outputs": [
    {
     "data": {
      "text/plain": [
       "[{'1361281': 4.56362702188186},\n",
       " {'1395807': 3.46720762469777},\n",
       " {'1741903': 3.4471948069093346},\n",
       " {'1392323': 3.316042777634007},\n",
       " {'1741880': 3.3124565287999754},\n",
       " {'1397535': 3.2924471835130182},\n",
       " {'1396717': 3.1959532355964893},\n",
       " {'1722501': 3.18848012438013},\n",
       " {'1390764': 3.1745123443085337},\n",
       " {'1397070': 3.1173199642936296},\n",
       " {'1392558': 3.0934792359304257},\n",
       " {'1418211': 3.0826037090209772},\n",
       " {'1388766': 2.9016784266947},\n",
       " {'1392407': 2.899715812093713},\n",
       " {'1394630': 2.829894659085965},\n",
       " {'1398779': 2.8217325143533762},\n",
       " {'1393824': 2.812430884726257},\n",
       " {'1358733': 2.793219553238564},\n",
       " {'1361275': 2.781753786895734},\n",
       " {'1394999': 2.7050276072248995}]"
      ]
     },
     "execution_count": 13,
     "metadata": {},
     "output_type": "execute_result"
    }
   ],
   "source": [
    "import torch\n",
    "from plantclef.config import get_class_mappings_file\n",
    "\n",
    "\n",
    "def load_class_mapping(class_mapping_file):\n",
    "    with open(class_mapping_file) as f:\n",
    "        class_index_to_class_name = {i: line.strip() for i, line in enumerate(f)}\n",
    "    return class_index_to_class_name\n",
    "\n",
    "\n",
    "class_mapping_file = get_class_mappings_file()\n",
    "cid_to_spid = load_class_mapping(class_mapping_file)\n",
    "\n",
    "\n",
    "# map probabilities to species IDs\n",
    "topk_proba = 20\n",
    "device = torch.device(\"cuda\" if torch.cuda.is_available() else \"cpu\")\n",
    "probabilities = torch.tensor(probabilities).to(device)\n",
    "top_probs, top_indices = torch.topk(probabilities, k=topk_proba)\n",
    "top_probs = top_probs.cpu().detach().numpy()\n",
    "top_indices = top_indices.cpu().detach().numpy()\n",
    "result = [\n",
    "    {cid_to_spid[int(index)]: float(prob)}\n",
    "    for index, prob in zip(top_indices, top_probs)\n",
    "]\n",
    "result"
   ]
  },
  {
   "cell_type": "code",
   "execution_count": 18,
   "id": "561acb96",
   "metadata": {},
   "outputs": [
    {
     "data": {
      "text/plain": [
       "['1361281', '1395807', '1741903', '1392323', '1741880']"
      ]
     },
     "execution_count": 18,
     "metadata": {},
     "output_type": "execute_result"
    }
   ],
   "source": [
    "top_species_ids = [list(x.keys())[0] for x in result]\n",
    "top_species_ids[:5]"
   ]
  },
  {
   "cell_type": "code",
   "execution_count": 17,
   "id": "3689d2f0",
   "metadata": {},
   "outputs": [
    {
     "data": {
      "text/plain": [
       "['2024-CEV3-20240602.jpg',\n",
       " 'CBN-PdlC-A1-20130807.jpg',\n",
       " 'CBN-PdlC-A1-20130903.jpg',\n",
       " 'CBN-PdlC-A1-20140721.jpg',\n",
       " 'CBN-PdlC-A1-20140811.jpg',\n",
       " 'CBN-PdlC-A1-20140901.jpg',\n",
       " 'CBN-PdlC-A1-20150701.jpg',\n",
       " 'CBN-PdlC-A1-20150720.jpg',\n",
       " 'CBN-PdlC-A1-20150831.jpg',\n",
       " 'CBN-PdlC-A1-20160705.jpg']"
      ]
     },
     "execution_count": 17,
     "metadata": {},
     "output_type": "execute_result"
    }
   ],
   "source": [
    "from pyspark.sql import functions as F\n",
    "\n",
    "# select image names from test DataFrame\n",
    "image_names_df = test_df.select(\"image_name\").orderBy(F.col(\"image_name\"))\n",
    "image_names = [row[\"image_name\"] for row in image_names_df.collect()]\n",
    "image_names[:10]"
   ]
  },
  {
   "cell_type": "code",
   "execution_count": 19,
   "id": "6c6cfb97",
   "metadata": {},
   "outputs": [
    {
     "data": {
      "text/html": [
       "<div>\n",
       "<style scoped>\n",
       "    .dataframe tbody tr th:only-of-type {\n",
       "        vertical-align: middle;\n",
       "    }\n",
       "\n",
       "    .dataframe tbody tr th {\n",
       "        vertical-align: top;\n",
       "    }\n",
       "\n",
       "    .dataframe thead th {\n",
       "        text-align: right;\n",
       "    }\n",
       "</style>\n",
       "<table border=\"1\" class=\"dataframe\">\n",
       "  <thead>\n",
       "    <tr style=\"text-align: right;\">\n",
       "      <th></th>\n",
       "      <th>image_name</th>\n",
       "      <th>species_ids</th>\n",
       "    </tr>\n",
       "  </thead>\n",
       "  <tbody>\n",
       "    <tr>\n",
       "      <th>0</th>\n",
       "      <td>2024-CEV3-20240602.jpg</td>\n",
       "      <td>[1361281, 1395807, 1741903, 1392323, 1741880, ...</td>\n",
       "    </tr>\n",
       "    <tr>\n",
       "      <th>1</th>\n",
       "      <td>CBN-PdlC-A1-20130807.jpg</td>\n",
       "      <td>[1361281, 1395807, 1741903, 1392323, 1741880, ...</td>\n",
       "    </tr>\n",
       "    <tr>\n",
       "      <th>2</th>\n",
       "      <td>CBN-PdlC-A1-20130903.jpg</td>\n",
       "      <td>[1361281, 1395807, 1741903, 1392323, 1741880, ...</td>\n",
       "    </tr>\n",
       "    <tr>\n",
       "      <th>3</th>\n",
       "      <td>CBN-PdlC-A1-20140721.jpg</td>\n",
       "      <td>[1361281, 1395807, 1741903, 1392323, 1741880, ...</td>\n",
       "    </tr>\n",
       "    <tr>\n",
       "      <th>4</th>\n",
       "      <td>CBN-PdlC-A1-20140811.jpg</td>\n",
       "      <td>[1361281, 1395807, 1741903, 1392323, 1741880, ...</td>\n",
       "    </tr>\n",
       "    <tr>\n",
       "      <th>5</th>\n",
       "      <td>CBN-PdlC-A1-20140901.jpg</td>\n",
       "      <td>[1361281, 1395807, 1741903, 1392323, 1741880, ...</td>\n",
       "    </tr>\n",
       "    <tr>\n",
       "      <th>6</th>\n",
       "      <td>CBN-PdlC-A1-20150701.jpg</td>\n",
       "      <td>[1361281, 1395807, 1741903, 1392323, 1741880, ...</td>\n",
       "    </tr>\n",
       "    <tr>\n",
       "      <th>7</th>\n",
       "      <td>CBN-PdlC-A1-20150720.jpg</td>\n",
       "      <td>[1361281, 1395807, 1741903, 1392323, 1741880, ...</td>\n",
       "    </tr>\n",
       "    <tr>\n",
       "      <th>8</th>\n",
       "      <td>CBN-PdlC-A1-20150831.jpg</td>\n",
       "      <td>[1361281, 1395807, 1741903, 1392323, 1741880, ...</td>\n",
       "    </tr>\n",
       "    <tr>\n",
       "      <th>9</th>\n",
       "      <td>CBN-PdlC-A1-20160705.jpg</td>\n",
       "      <td>[1361281, 1395807, 1741903, 1392323, 1741880, ...</td>\n",
       "    </tr>\n",
       "  </tbody>\n",
       "</table>\n",
       "</div>"
      ],
      "text/plain": [
       "                 image_name                                        species_ids\n",
       "0    2024-CEV3-20240602.jpg  [1361281, 1395807, 1741903, 1392323, 1741880, ...\n",
       "1  CBN-PdlC-A1-20130807.jpg  [1361281, 1395807, 1741903, 1392323, 1741880, ...\n",
       "2  CBN-PdlC-A1-20130903.jpg  [1361281, 1395807, 1741903, 1392323, 1741880, ...\n",
       "3  CBN-PdlC-A1-20140721.jpg  [1361281, 1395807, 1741903, 1392323, 1741880, ...\n",
       "4  CBN-PdlC-A1-20140811.jpg  [1361281, 1395807, 1741903, 1392323, 1741880, ...\n",
       "5  CBN-PdlC-A1-20140901.jpg  [1361281, 1395807, 1741903, 1392323, 1741880, ...\n",
       "6  CBN-PdlC-A1-20150701.jpg  [1361281, 1395807, 1741903, 1392323, 1741880, ...\n",
       "7  CBN-PdlC-A1-20150720.jpg  [1361281, 1395807, 1741903, 1392323, 1741880, ...\n",
       "8  CBN-PdlC-A1-20150831.jpg  [1361281, 1395807, 1741903, 1392323, 1741880, ...\n",
       "9  CBN-PdlC-A1-20160705.jpg  [1361281, 1395807, 1741903, 1392323, 1741880, ..."
      ]
     },
     "execution_count": 19,
     "metadata": {},
     "output_type": "execute_result"
    }
   ],
   "source": [
    "import pandas as pd\n",
    "\n",
    "# create pandas DataFrame with image names\n",
    "pandas_dict = {\n",
    "    \"image_name\": image_names,\n",
    "    \"species_ids\": [top_species_ids] * len(image_names),\n",
    "}\n",
    "pandas_df = pd.DataFrame(pandas_dict, columns=[\"image_name\", \"species_ids\"])\n",
    "pandas_df.head(10)"
   ]
  },
  {
   "cell_type": "code",
   "execution_count": 20,
   "id": "191b553c",
   "metadata": {},
   "outputs": [
    {
     "data": {
      "text/html": [
       "<div>\n",
       "<style scoped>\n",
       "    .dataframe tbody tr th:only-of-type {\n",
       "        vertical-align: middle;\n",
       "    }\n",
       "\n",
       "    .dataframe tbody tr th {\n",
       "        vertical-align: top;\n",
       "    }\n",
       "\n",
       "    .dataframe thead th {\n",
       "        text-align: right;\n",
       "    }\n",
       "</style>\n",
       "<table border=\"1\" class=\"dataframe\">\n",
       "  <thead>\n",
       "    <tr style=\"text-align: right;\">\n",
       "      <th></th>\n",
       "      <th>quadrat_id</th>\n",
       "      <th>species_ids</th>\n",
       "    </tr>\n",
       "  </thead>\n",
       "  <tbody>\n",
       "    <tr>\n",
       "      <th>0</th>\n",
       "      <td>2024-CEV3-20240602</td>\n",
       "      <td>[1361281, 1395807, 1741903, 1392323, 1741880, ...</td>\n",
       "    </tr>\n",
       "    <tr>\n",
       "      <th>1</th>\n",
       "      <td>CBN-PdlC-A1-20130807</td>\n",
       "      <td>[1361281, 1395807, 1741903, 1392323, 1741880, ...</td>\n",
       "    </tr>\n",
       "    <tr>\n",
       "      <th>2</th>\n",
       "      <td>CBN-PdlC-A1-20130903</td>\n",
       "      <td>[1361281, 1395807, 1741903, 1392323, 1741880, ...</td>\n",
       "    </tr>\n",
       "    <tr>\n",
       "      <th>3</th>\n",
       "      <td>CBN-PdlC-A1-20140721</td>\n",
       "      <td>[1361281, 1395807, 1741903, 1392323, 1741880, ...</td>\n",
       "    </tr>\n",
       "    <tr>\n",
       "      <th>4</th>\n",
       "      <td>CBN-PdlC-A1-20140811</td>\n",
       "      <td>[1361281, 1395807, 1741903, 1392323, 1741880, ...</td>\n",
       "    </tr>\n",
       "    <tr>\n",
       "      <th>5</th>\n",
       "      <td>CBN-PdlC-A1-20140901</td>\n",
       "      <td>[1361281, 1395807, 1741903, 1392323, 1741880, ...</td>\n",
       "    </tr>\n",
       "    <tr>\n",
       "      <th>6</th>\n",
       "      <td>CBN-PdlC-A1-20150701</td>\n",
       "      <td>[1361281, 1395807, 1741903, 1392323, 1741880, ...</td>\n",
       "    </tr>\n",
       "    <tr>\n",
       "      <th>7</th>\n",
       "      <td>CBN-PdlC-A1-20150720</td>\n",
       "      <td>[1361281, 1395807, 1741903, 1392323, 1741880, ...</td>\n",
       "    </tr>\n",
       "    <tr>\n",
       "      <th>8</th>\n",
       "      <td>CBN-PdlC-A1-20150831</td>\n",
       "      <td>[1361281, 1395807, 1741903, 1392323, 1741880, ...</td>\n",
       "    </tr>\n",
       "    <tr>\n",
       "      <th>9</th>\n",
       "      <td>CBN-PdlC-A1-20160705</td>\n",
       "      <td>[1361281, 1395807, 1741903, 1392323, 1741880, ...</td>\n",
       "    </tr>\n",
       "  </tbody>\n",
       "</table>\n",
       "</div>"
      ],
      "text/plain": [
       "             quadrat_id                                        species_ids\n",
       "0    2024-CEV3-20240602  [1361281, 1395807, 1741903, 1392323, 1741880, ...\n",
       "1  CBN-PdlC-A1-20130807  [1361281, 1395807, 1741903, 1392323, 1741880, ...\n",
       "2  CBN-PdlC-A1-20130903  [1361281, 1395807, 1741903, 1392323, 1741880, ...\n",
       "3  CBN-PdlC-A1-20140721  [1361281, 1395807, 1741903, 1392323, 1741880, ...\n",
       "4  CBN-PdlC-A1-20140811  [1361281, 1395807, 1741903, 1392323, 1741880, ...\n",
       "5  CBN-PdlC-A1-20140901  [1361281, 1395807, 1741903, 1392323, 1741880, ...\n",
       "6  CBN-PdlC-A1-20150701  [1361281, 1395807, 1741903, 1392323, 1741880, ...\n",
       "7  CBN-PdlC-A1-20150720  [1361281, 1395807, 1741903, 1392323, 1741880, ...\n",
       "8  CBN-PdlC-A1-20150831  [1361281, 1395807, 1741903, 1392323, 1741880, ...\n",
       "9  CBN-PdlC-A1-20160705  [1361281, 1395807, 1741903, 1392323, 1741880, ..."
      ]
     },
     "execution_count": 20,
     "metadata": {},
     "output_type": "execute_result"
    }
   ],
   "source": [
    "def format_species_ids(species_ids: list) -> str:\n",
    "    \"\"\"Formats the species IDs in single square brackets, separated by commas.\"\"\"\n",
    "    formatted_ids = \", \".join(str(id) for id in species_ids)\n",
    "    return f\"[{formatted_ids}]\"\n",
    "\n",
    "\n",
    "def prepare_and_write_submission(\n",
    "    pandas_df: pd.DataFrame, col: str = \"image_name\"\n",
    ") -> pd.DataFrame:\n",
    "    \"\"\"Formats the Pandas DataFrame, and writes to PACE.\"\"\"\n",
    "    records = []\n",
    "    for _, row in pandas_df.iterrows():\n",
    "        logits = row[\"species_ids\"]\n",
    "        formatted_species = format_species_ids(logits)\n",
    "        records.append({\"quadrat_id\": row[col], \"species_ids\": formatted_species})\n",
    "\n",
    "    pandas_df = pd.DataFrame(records)\n",
    "    # remove .jpg from quadrat_id in final_df\n",
    "    pandas_df[\"quadrat_id\"] = pandas_df[\"quadrat_id\"].str.replace(\n",
    "        \".jpg\", \"\", regex=False\n",
    "    )\n",
    "\n",
    "    return pandas_df\n",
    "\n",
    "\n",
    "final_df = prepare_and_write_submission(pandas_df)\n",
    "final_df.head(10)"
   ]
  },
  {
   "cell_type": "code",
   "execution_count": 21,
   "id": "7a7a0409",
   "metadata": {},
   "outputs": [
    {
     "data": {
      "text/plain": [
       "(2105, (2105, 2), Index(['quadrat_id', 'species_ids'], dtype='object'))"
      ]
     },
     "execution_count": 21,
     "metadata": {},
     "output_type": "execute_result"
    }
   ],
   "source": [
    "len(final_df), final_df.shape, final_df.columns"
   ]
  },
  {
   "cell_type": "code",
   "execution_count": 23,
   "id": "57a52ee8",
   "metadata": {},
   "outputs": [
    {
     "name": "stdout",
     "output_type": "stream",
     "text": [
      "Submission file saved to: /storage/home/hcoda1/9/mgustineli3/p-dsgt_clef2025-0/shared/plantclef/submissions/baseline_classification/dsgt_baseline_topk20.csv\n"
     ]
    }
   ],
   "source": [
    "import csv\n",
    "\n",
    "\n",
    "def get_plantclef_dir() -> str:\n",
    "    home_dir = Path(os.path.expanduser(\"~\"))\n",
    "    return f\"{home_dir}/p-dsgt_clef2025-0/shared/plantclef\"\n",
    "\n",
    "\n",
    "def write_csv_to_pace(df, file_name: str):\n",
    "    \"\"\"Writes the Pandas DataFrame to a CSV file on PACE.\"\"\"\n",
    "\n",
    "    # prepare and write the submission\n",
    "    submission_df = prepare_and_write_submission(df)\n",
    "    project_dir = get_plantclef_dir()\n",
    "    submission_path = f\"{project_dir}/submissions/baseline_classification\"\n",
    "    output_path = f\"{submission_path}/{file_name}\"\n",
    "    # ensure directory exists before saving\n",
    "    os.makedirs(os.path.dirname(output_path), exist_ok=True)\n",
    "    # write to CSV\n",
    "    submission_df.to_csv(output_path, sep=\",\", index=False, quoting=csv.QUOTE_ALL)\n",
    "    print(f\"Submission file saved to: {output_path}\")\n",
    "\n",
    "\n",
    "file_name = f\"dsgt_baseline_topk{topk_proba}.csv\"\n",
    "write_csv_to_pace(pandas_df, file_name)"
   ]
  },
  {
   "cell_type": "code",
   "execution_count": 33,
   "id": "615fcf62",
   "metadata": {},
   "outputs": [
    {
     "data": {
      "text/html": [
       "<div>\n",
       "<style scoped>\n",
       "    .dataframe tbody tr th:only-of-type {\n",
       "        vertical-align: middle;\n",
       "    }\n",
       "\n",
       "    .dataframe tbody tr th {\n",
       "        vertical-align: top;\n",
       "    }\n",
       "\n",
       "    .dataframe thead th {\n",
       "        text-align: right;\n",
       "    }\n",
       "</style>\n",
       "<table border=\"1\" class=\"dataframe\">\n",
       "  <thead>\n",
       "    <tr style=\"text-align: right;\">\n",
       "      <th></th>\n",
       "      <th>quadrat_id</th>\n",
       "      <th>species_ids</th>\n",
       "    </tr>\n",
       "  </thead>\n",
       "  <tbody>\n",
       "    <tr>\n",
       "      <th>0</th>\n",
       "      <td>2024-CEV3-20240602</td>\n",
       "      <td>[1362443, 1400181, 1392662, 1738679, 1360187, ...</td>\n",
       "    </tr>\n",
       "    <tr>\n",
       "      <th>1</th>\n",
       "      <td>CBN-PdlC-A1-20130807</td>\n",
       "      <td>[1392407, 1392608, 1392611, 1395807, 1741624, ...</td>\n",
       "    </tr>\n",
       "    <tr>\n",
       "      <th>2</th>\n",
       "      <td>CBN-PdlC-A1-20130903</td>\n",
       "      <td>[1395807, 1742052, 1362271, 1412857, 1397535, ...</td>\n",
       "    </tr>\n",
       "    <tr>\n",
       "      <th>3</th>\n",
       "      <td>CBN-PdlC-A1-20140721</td>\n",
       "      <td>[1412857, 1395807, 1396144, 1397535, 1392608, ...</td>\n",
       "    </tr>\n",
       "    <tr>\n",
       "      <th>4</th>\n",
       "      <td>CBN-PdlC-A1-20140811</td>\n",
       "      <td>[1395807, 1412857, 1392608, 1519650, 1742052, ...</td>\n",
       "    </tr>\n",
       "    <tr>\n",
       "      <th>5</th>\n",
       "      <td>CBN-PdlC-A1-20140901</td>\n",
       "      <td>[1361281, 1392608, 1742052, 1412857, 1391331, ...</td>\n",
       "    </tr>\n",
       "    <tr>\n",
       "      <th>6</th>\n",
       "      <td>CBN-PdlC-A1-20150701</td>\n",
       "      <td>[1392608, 1392535, 1412857, 1392407, 1394911, ...</td>\n",
       "    </tr>\n",
       "    <tr>\n",
       "      <th>7</th>\n",
       "      <td>CBN-PdlC-A1-20150720</td>\n",
       "      <td>[1392608, 1412857, 1361281, 1394554, 1395807, ...</td>\n",
       "    </tr>\n",
       "    <tr>\n",
       "      <th>8</th>\n",
       "      <td>CBN-PdlC-A1-20150831</td>\n",
       "      <td>[1742052, 1412857, 1392608, 1519650, 1392611, ...</td>\n",
       "    </tr>\n",
       "    <tr>\n",
       "      <th>9</th>\n",
       "      <td>CBN-PdlC-A1-20160705</td>\n",
       "      <td>[1412857, 1361281, 1394911, 1392608, 1392611, ...</td>\n",
       "    </tr>\n",
       "  </tbody>\n",
       "</table>\n",
       "</div>"
      ],
      "text/plain": [
       "             quadrat_id                                        species_ids\n",
       "0    2024-CEV3-20240602  [1362443, 1400181, 1392662, 1738679, 1360187, ...\n",
       "1  CBN-PdlC-A1-20130807  [1392407, 1392608, 1392611, 1395807, 1741624, ...\n",
       "2  CBN-PdlC-A1-20130903  [1395807, 1742052, 1362271, 1412857, 1397535, ...\n",
       "3  CBN-PdlC-A1-20140721  [1412857, 1395807, 1396144, 1397535, 1392608, ...\n",
       "4  CBN-PdlC-A1-20140811  [1395807, 1412857, 1392608, 1519650, 1742052, ...\n",
       "5  CBN-PdlC-A1-20140901  [1361281, 1392608, 1742052, 1412857, 1391331, ...\n",
       "6  CBN-PdlC-A1-20150701  [1392608, 1392535, 1412857, 1392407, 1394911, ...\n",
       "7  CBN-PdlC-A1-20150720  [1392608, 1412857, 1361281, 1394554, 1395807, ...\n",
       "8  CBN-PdlC-A1-20150831  [1742052, 1412857, 1392608, 1519650, 1392611, ...\n",
       "9  CBN-PdlC-A1-20160705  [1412857, 1361281, 1394911, 1392608, 1392611, ..."
      ]
     },
     "execution_count": 33,
     "metadata": {},
     "output_type": "execute_result"
    }
   ],
   "source": [
    "submission_name = \"dsgt_run_topk_20_species_grid_4x4.csv\"\n",
    "path = \"~/p-dsgt_clef2025-0/shared/plantclef/submissions/test_2025/topk_20_grid_4x4\"\n",
    "df = pd.read_csv(f\"{path}/{submission_name}\")\n",
    "df.head(10)"
   ]
  },
  {
   "cell_type": "code",
   "execution_count": 34,
   "id": "ea5fdc89",
   "metadata": {},
   "outputs": [],
   "source": [
    "# convert species_ids to list of integers\n",
    "def convert_species_ids_to_list(species_ids: str) -> list:\n",
    "    # remove brackets and split by comma\n",
    "    species_ids = species_ids.strip(\"[]\").split(\", \")\n",
    "    # convert to list of integers\n",
    "    return [int(id) for id in species_ids]\n",
    "\n",
    "\n",
    "df[\"species_ids\"] = df[\"species_ids\"].apply(convert_species_ids_to_list)"
   ]
  },
  {
   "cell_type": "code",
   "execution_count": 35,
   "id": "d70042aa",
   "metadata": {},
   "outputs": [
    {
     "data": {
      "text/plain": [
       "10.319239904988123"
      ]
     },
     "execution_count": 35,
     "metadata": {},
     "output_type": "execute_result"
    }
   ],
   "source": [
    "# get average for number of species IDs\n",
    "avg_species_ids = df[\"species_ids\"].apply(len).mean()\n",
    "avg_species_ids"
   ]
  },
  {
   "cell_type": "code",
   "execution_count": null,
   "id": "7c85307b",
   "metadata": {},
   "outputs": [],
   "source": []
  }
 ],
 "metadata": {
  "kernelspec": {
   "display_name": ".venv",
   "language": "python",
   "name": "python3"
  },
  "language_info": {
   "codemirror_mode": {
    "name": "ipython",
    "version": 3
   },
   "file_extension": ".py",
   "mimetype": "text/x-python",
   "name": "python",
   "nbconvert_exporter": "python",
   "pygments_lexer": "ipython3",
   "version": "3.10.10"
  }
 },
 "nbformat": 4,
 "nbformat_minor": 5
}
