{
 "cells": [
  {
   "cell_type": "markdown",
   "id": "8795f333",
   "metadata": {},
   "source": [
    "# Baseline Classification\n",
    "\n",
    "Identifying the top-K probabilites over each test data. Submit them as a baseline classification strategy for the ViT."
   ]
  },
  {
   "cell_type": "code",
   "execution_count": 1,
   "id": "9b03b61c",
   "metadata": {},
   "outputs": [],
   "source": [
    "%load_ext autoreload\n",
    "%autoreload 2"
   ]
  },
  {
   "cell_type": "code",
   "execution_count": 2,
   "id": "2f11f78d",
   "metadata": {},
   "outputs": [
    {
     "name": "stderr",
     "output_type": "stream",
     "text": [
      "Setting default log level to \"WARN\".\n",
      "To adjust logging level use sc.setLogLevel(newLevel). For SparkR, use setLogLevel(newLevel).\n",
      "25/04/19 22:20:53 WARN NativeCodeLoader: Unable to load native-hadoop library for your platform... using builtin-java classes where applicable\n",
      "25/04/19 22:20:53 WARN SparkConf: Note that spark.local.dir will be overridden by the value set by the cluster manager (via SPARK_LOCAL_DIRS in mesos/standalone/kubernetes and LOCAL_DIRS in YARN).\n",
      "25/04/19 22:20:54 WARN Utils: Service 'SparkUI' could not bind on port 4040. Attempting port 4041.\n",
      "25/04/19 22:20:54 WARN Utils: Service 'SparkUI' could not bind on port 4041. Attempting port 4042.\n",
      "25/04/19 22:20:54 WARN Utils: Service 'SparkUI' could not bind on port 4042. Attempting port 4043.\n"
     ]
    },
    {
     "data": {
      "text/html": [
       "\n",
       "            <div>\n",
       "                <p><b>SparkSession - in-memory</b></p>\n",
       "                \n",
       "        <div>\n",
       "            <p><b>SparkContext</b></p>\n",
       "\n",
       "            <p><a href=\"http://atl1-1-03-003-21-0.pace.gatech.edu:4043\">Spark UI</a></p>\n",
       "\n",
       "            <dl>\n",
       "              <dt>Version</dt>\n",
       "                <dd><code>v3.5.5</code></dd>\n",
       "              <dt>Master</dt>\n",
       "                <dd><code>local[24]</code></dd>\n",
       "              <dt>AppName</dt>\n",
       "                <dd><code>clef</code></dd>\n",
       "            </dl>\n",
       "        </div>\n",
       "        \n",
       "            </div>\n",
       "        "
      ],
      "text/plain": [
       "<pyspark.sql.session.SparkSession at 0x7fffbf590ca0>"
      ]
     },
     "metadata": {},
     "output_type": "display_data"
    }
   ],
   "source": [
    "from plantclef.spark import get_spark\n",
    "\n",
    "spark = get_spark()\n",
    "display(spark)"
   ]
  },
  {
   "cell_type": "code",
   "execution_count": 3,
   "id": "b0ab51a4",
   "metadata": {},
   "outputs": [
    {
     "name": "stdout",
     "output_type": "stream",
     "text": [
      "Sat Apr 19 10:20:56 PM EDT 2025\n"
     ]
    }
   ],
   "source": [
    "import os\n",
    "from pathlib import Path\n",
    "\n",
    "# Set the root directory to your home directory\n",
    "root = Path(os.path.expanduser(\"~\"))\n",
    "! date"
   ]
  },
  {
   "cell_type": "code",
   "execution_count": 4,
   "id": "842a3b8b",
   "metadata": {},
   "outputs": [
    {
     "name": "stderr",
     "output_type": "stream",
     "text": [
      "                                                                                \r"
     ]
    },
    {
     "name": "stdout",
     "output_type": "stream",
     "text": [
      "root\n",
      " |-- image_name: string (nullable = true)\n",
      " |-- output: struct (nullable = true)\n",
      " |    |-- cls_token: array (nullable = true)\n",
      " |    |    |-- element: float (containsNull = true)\n",
      " |    |-- logits: array (nullable = true)\n",
      " |    |    |-- element: float (containsNull = true)\n",
      " |-- sample_id: integer (nullable = true)\n",
      "\n",
      "+--------------------+--------------------+---------+\n",
      "|          image_name|              output|sample_id|\n",
      "+--------------------+--------------------+---------+\n",
      "|CBN-Pla-A1-201908...|{[0.47354543, 1.5...|        0|\n",
      "|CBN-Pla-D6-201908...|{[-0.39621377, 1....|        0|\n",
      "|CBN-PdlC-C5-20140...|{[-0.5331654, 0.2...|        0|\n",
      "|LISAH-BOU-0-37-20...|{[1.2480925, 0.47...|        0|\n",
      "|CBN-Pla-E4-201308...|{[0.7065191, 1.70...|        0|\n",
      "+--------------------+--------------------+---------+\n",
      "only showing top 5 rows\n",
      "\n"
     ]
    }
   ],
   "source": [
    "# path and dataset names\n",
    "data_path = f\"{root}/p-dsgt_clef2025-0/shared/plantclef/data/embeddings/test_2025\"\n",
    "\n",
    "# define the path to the train and test parquet files\n",
    "test_path = f\"{data_path}/test_2025_embed_logits\"\n",
    "\n",
    "# read the parquet files into a spark DataFrame\n",
    "test_df = spark.read.parquet(test_path)\n",
    "\n",
    "# show the data\n",
    "test_df.printSchema()\n",
    "test_df.show(n=5)"
   ]
  },
  {
   "cell_type": "code",
   "execution_count": 5,
   "id": "0ac8653e",
   "metadata": {},
   "outputs": [
    {
     "name": "stderr",
     "output_type": "stream",
     "text": [
      "                                                                                \r"
     ]
    },
    {
     "data": {
      "text/html": [
       "<div>\n",
       "<style scoped>\n",
       "    .dataframe tbody tr th:only-of-type {\n",
       "        vertical-align: middle;\n",
       "    }\n",
       "\n",
       "    .dataframe tbody tr th {\n",
       "        vertical-align: top;\n",
       "    }\n",
       "\n",
       "    .dataframe thead th {\n",
       "        text-align: right;\n",
       "    }\n",
       "</style>\n",
       "<table border=\"1\" class=\"dataframe\">\n",
       "  <thead>\n",
       "    <tr style=\"text-align: right;\">\n",
       "      <th></th>\n",
       "      <th>image_name</th>\n",
       "      <th>cls_token</th>\n",
       "      <th>species_ids</th>\n",
       "    </tr>\n",
       "  </thead>\n",
       "  <tbody>\n",
       "    <tr>\n",
       "      <th>0</th>\n",
       "      <td>CBN-Pla-A1-20190814.jpg</td>\n",
       "      <td>[0.47354543, 1.5568701, -1.6330245, -1.3648611...</td>\n",
       "      <td>[1357904, 1357986, 1358259, 1357379, 1355903, ...</td>\n",
       "    </tr>\n",
       "    <tr>\n",
       "      <th>1</th>\n",
       "      <td>CBN-Pla-D6-20190814.jpg</td>\n",
       "      <td>[-0.39621377, 1.2026826, 0.27647698, -0.661421...</td>\n",
       "      <td>[1355898, 1357904, 1357061, 1358012, 1356619, ...</td>\n",
       "    </tr>\n",
       "    <tr>\n",
       "      <th>2</th>\n",
       "      <td>CBN-PdlC-C5-20140901.jpg</td>\n",
       "      <td>[-0.5331654, 0.21328913, -1.2809799, 0.1238243...</td>\n",
       "      <td>[1356307, 1357117, 1356568, 1357061, 1356830, ...</td>\n",
       "    </tr>\n",
       "    <tr>\n",
       "      <th>3</th>\n",
       "      <td>LISAH-BOU-0-37-20230512.jpg</td>\n",
       "      <td>[1.2480925, 0.4781976, 0.69301766, 0.4653994, ...</td>\n",
       "      <td>[1358164, 1356591, 1358203, 1356431, 1357988, ...</td>\n",
       "    </tr>\n",
       "    <tr>\n",
       "      <th>4</th>\n",
       "      <td>CBN-Pla-E4-20130808.jpg</td>\n",
       "      <td>[0.7065191, 1.7097996, -1.2477401, 1.3419615, ...</td>\n",
       "      <td>[1357117, 1357151, 1357904, 1357394, 1357446, ...</td>\n",
       "    </tr>\n",
       "  </tbody>\n",
       "</table>\n",
       "</div>"
      ],
      "text/plain": [
       "                    image_name  \\\n",
       "0      CBN-Pla-A1-20190814.jpg   \n",
       "1      CBN-Pla-D6-20190814.jpg   \n",
       "2     CBN-PdlC-C5-20140901.jpg   \n",
       "3  LISAH-BOU-0-37-20230512.jpg   \n",
       "4      CBN-Pla-E4-20130808.jpg   \n",
       "\n",
       "                                           cls_token  \\\n",
       "0  [0.47354543, 1.5568701, -1.6330245, -1.3648611...   \n",
       "1  [-0.39621377, 1.2026826, 0.27647698, -0.661421...   \n",
       "2  [-0.5331654, 0.21328913, -1.2809799, 0.1238243...   \n",
       "3  [1.2480925, 0.4781976, 0.69301766, 0.4653994, ...   \n",
       "4  [0.7065191, 1.7097996, -1.2477401, 1.3419615, ...   \n",
       "\n",
       "                                         species_ids  \n",
       "0  [1357904, 1357986, 1358259, 1357379, 1355903, ...  \n",
       "1  [1355898, 1357904, 1357061, 1358012, 1356619, ...  \n",
       "2  [1356307, 1357117, 1356568, 1357061, 1356830, ...  \n",
       "3  [1358164, 1356591, 1358203, 1356431, 1357988, ...  \n",
       "4  [1357117, 1357151, 1357904, 1357394, 1357446, ...  "
      ]
     },
     "execution_count": 5,
     "metadata": {},
     "output_type": "execute_result"
    }
   ],
   "source": [
    "import torch\n",
    "from plantclef.config import get_class_mappings_file\n",
    "\n",
    "\n",
    "device = torch.device(\"cuda\" if torch.cuda.is_available() else \"cpu\")\n",
    "\n",
    "\n",
    "def load_class_mapping(class_mapping_file):\n",
    "    with open(class_mapping_file) as f:\n",
    "        return [int(line.strip()) for line in f]\n",
    "\n",
    "\n",
    "class_mapping_file = get_class_mappings_file()\n",
    "sorted_species_ids = load_class_mapping(class_mapping_file)\n",
    "\n",
    "\n",
    "def top_k_species(probabilities, top_k: int = 9):\n",
    "    probs_tensor = torch.tensor(probabilities, dtype=torch.float32).to(device)\n",
    "    probabilities = torch.softmax(probs_tensor, dim=0)\n",
    "    top_probs, top_indices = torch.topk(probabilities, k=top_k)\n",
    "    top_probs = top_probs.cpu().numpy()\n",
    "    top_indices = top_indices.cpu().numpy()\n",
    "    return [sorted_species_ids[i] for i in top_indices]\n",
    "\n",
    "\n",
    "# apply top-k per row\n",
    "top_k_proba = 9\n",
    "COL_NAME = \"cls_token\"  # \"probabilities\"\n",
    "\n",
    "test_pd = test_df.select(\"image_name\", \"output.cls_token\").toPandas()\n",
    "test_pd[\"species_ids\"] = test_pd[COL_NAME].apply(\n",
    "    lambda probs: top_k_species(probs, top_k=top_k_proba)\n",
    ")\n",
    "test_pd.head(5)"
   ]
  },
  {
   "cell_type": "code",
   "execution_count": 6,
   "id": "c9159642",
   "metadata": {},
   "outputs": [
    {
     "data": {
      "text/plain": [
       "9"
      ]
     },
     "execution_count": 6,
     "metadata": {},
     "output_type": "execute_result"
    }
   ],
   "source": [
    "len(test_pd[\"species_ids\"].iloc[0])"
   ]
  },
  {
   "cell_type": "code",
   "execution_count": 7,
   "id": "beaef61d",
   "metadata": {},
   "outputs": [
    {
     "data": {
      "text/html": [
       "<div>\n",
       "<style scoped>\n",
       "    .dataframe tbody tr th:only-of-type {\n",
       "        vertical-align: middle;\n",
       "    }\n",
       "\n",
       "    .dataframe tbody tr th {\n",
       "        vertical-align: top;\n",
       "    }\n",
       "\n",
       "    .dataframe thead th {\n",
       "        text-align: right;\n",
       "    }\n",
       "</style>\n",
       "<table border=\"1\" class=\"dataframe\">\n",
       "  <thead>\n",
       "    <tr style=\"text-align: right;\">\n",
       "      <th></th>\n",
       "      <th>quadrat_id</th>\n",
       "      <th>species_ids</th>\n",
       "    </tr>\n",
       "  </thead>\n",
       "  <tbody>\n",
       "    <tr>\n",
       "      <th>0</th>\n",
       "      <td>CBN-Pla-A1-20190814</td>\n",
       "      <td>[1357904, 1357986, 1358259, 1357379, 1355903, ...</td>\n",
       "    </tr>\n",
       "    <tr>\n",
       "      <th>1</th>\n",
       "      <td>CBN-Pla-D6-20190814</td>\n",
       "      <td>[1355898, 1357904, 1357061, 1358012, 1356619, ...</td>\n",
       "    </tr>\n",
       "    <tr>\n",
       "      <th>2</th>\n",
       "      <td>CBN-PdlC-C5-20140901</td>\n",
       "      <td>[1356307, 1357117, 1356568, 1357061, 1356830, ...</td>\n",
       "    </tr>\n",
       "    <tr>\n",
       "      <th>3</th>\n",
       "      <td>LISAH-BOU-0-37-20230512</td>\n",
       "      <td>[1358164, 1356591, 1358203, 1356431, 1357988, ...</td>\n",
       "    </tr>\n",
       "    <tr>\n",
       "      <th>4</th>\n",
       "      <td>CBN-Pla-E4-20130808</td>\n",
       "      <td>[1357117, 1357151, 1357904, 1357394, 1357446, ...</td>\n",
       "    </tr>\n",
       "    <tr>\n",
       "      <th>5</th>\n",
       "      <td>CBN-PdlC-D6-20150701</td>\n",
       "      <td>[1357450, 1358012, 1356747, 1357198, 1357117, ...</td>\n",
       "    </tr>\n",
       "    <tr>\n",
       "      <th>6</th>\n",
       "      <td>CBN-PdlC-F2-20170906</td>\n",
       "      <td>[1357809, 1357553, 1356306, 1356033, 1357335, ...</td>\n",
       "    </tr>\n",
       "    <tr>\n",
       "      <th>7</th>\n",
       "      <td>CBN-PdlC-A6-20180905</td>\n",
       "      <td>[1356133, 1356634, 1356405, 1356528, 1357182, ...</td>\n",
       "    </tr>\n",
       "    <tr>\n",
       "      <th>8</th>\n",
       "      <td>RNNB-3-12-20230512</td>\n",
       "      <td>[1355871, 1357070, 1356069, 1358112, 1357508, ...</td>\n",
       "    </tr>\n",
       "    <tr>\n",
       "      <th>9</th>\n",
       "      <td>CBN-PdlC-F4-20150810</td>\n",
       "      <td>[1357799, 1357117, 1357646, 1356552, 1357151, ...</td>\n",
       "    </tr>\n",
       "  </tbody>\n",
       "</table>\n",
       "</div>"
      ],
      "text/plain": [
       "                quadrat_id                                        species_ids\n",
       "0      CBN-Pla-A1-20190814  [1357904, 1357986, 1358259, 1357379, 1355903, ...\n",
       "1      CBN-Pla-D6-20190814  [1355898, 1357904, 1357061, 1358012, 1356619, ...\n",
       "2     CBN-PdlC-C5-20140901  [1356307, 1357117, 1356568, 1357061, 1356830, ...\n",
       "3  LISAH-BOU-0-37-20230512  [1358164, 1356591, 1358203, 1356431, 1357988, ...\n",
       "4      CBN-Pla-E4-20130808  [1357117, 1357151, 1357904, 1357394, 1357446, ...\n",
       "5     CBN-PdlC-D6-20150701  [1357450, 1358012, 1356747, 1357198, 1357117, ...\n",
       "6     CBN-PdlC-F2-20170906  [1357809, 1357553, 1356306, 1356033, 1357335, ...\n",
       "7     CBN-PdlC-A6-20180905  [1356133, 1356634, 1356405, 1356528, 1357182, ...\n",
       "8       RNNB-3-12-20230512  [1355871, 1357070, 1356069, 1358112, 1357508, ...\n",
       "9     CBN-PdlC-F4-20150810  [1357799, 1357117, 1357646, 1356552, 1357151, ..."
      ]
     },
     "execution_count": 7,
     "metadata": {},
     "output_type": "execute_result"
    }
   ],
   "source": [
    "import pandas as pd\n",
    "\n",
    "\n",
    "def format_species_ids(species_ids: list) -> str:\n",
    "    \"\"\"Formats the species IDs in single square brackets, separated by commas.\"\"\"\n",
    "    formatted_ids = \", \".join(str(id) for id in species_ids)\n",
    "    return f\"[{formatted_ids}]\"\n",
    "\n",
    "\n",
    "def prepare_and_write_submission(\n",
    "    pandas_df: pd.DataFrame, col: str = \"image_name\"\n",
    ") -> pd.DataFrame:\n",
    "    \"\"\"Formats the Pandas DataFrame, and writes to PACE.\"\"\"\n",
    "    records = []\n",
    "    for _, row in pandas_df.iterrows():\n",
    "        logits = row[\"species_ids\"]\n",
    "        formatted_species = format_species_ids(logits)\n",
    "        records.append({\"quadrat_id\": row[col], \"species_ids\": formatted_species})\n",
    "\n",
    "    pandas_df = pd.DataFrame(records)\n",
    "    # remove .jpg from quadrat_id in final_df\n",
    "    pandas_df[\"quadrat_id\"] = pandas_df[\"quadrat_id\"].str.replace(\n",
    "        \".jpg\", \"\", regex=False\n",
    "    )\n",
    "\n",
    "    return pandas_df\n",
    "\n",
    "\n",
    "final_df = prepare_and_write_submission(test_pd)\n",
    "final_df.head(10)"
   ]
  },
  {
   "cell_type": "code",
   "execution_count": 8,
   "id": "584b439d",
   "metadata": {},
   "outputs": [
    {
     "data": {
      "text/plain": [
       "(2105, (2105, 2), Index(['quadrat_id', 'species_ids'], dtype='object'))"
      ]
     },
     "execution_count": 8,
     "metadata": {},
     "output_type": "execute_result"
    }
   ],
   "source": [
    "len(final_df), final_df.shape, final_df.columns"
   ]
  },
  {
   "cell_type": "code",
   "execution_count": 9,
   "id": "1f925c12",
   "metadata": {},
   "outputs": [
    {
     "name": "stdout",
     "output_type": "stream",
     "text": [
      "Submission file saved to: /storage/home/hcoda1/9/mgustineli3/p-dsgt_clef2025-0/shared/plantclef/submissions/baseline_classification/dsgt_baseline_topk9_per_image.csv\n"
     ]
    }
   ],
   "source": [
    "import csv\n",
    "\n",
    "\n",
    "def get_plantclef_dir() -> str:\n",
    "    home_dir = Path(os.path.expanduser(\"~\"))\n",
    "    return f\"{home_dir}/p-dsgt_clef2025-0/shared/plantclef\"\n",
    "\n",
    "\n",
    "def write_csv_to_pace(df, file_name: str):\n",
    "    \"\"\"Writes the Pandas DataFrame to a CSV file on PACE.\"\"\"\n",
    "\n",
    "    # prepare and write the submission\n",
    "    submission_df = prepare_and_write_submission(df)\n",
    "    project_dir = get_plantclef_dir()\n",
    "    submission_path = f\"{project_dir}/submissions/baseline_classification\"\n",
    "    output_path = f\"{submission_path}/{file_name}\"\n",
    "    # ensure directory exists before saving\n",
    "    os.makedirs(os.path.dirname(output_path), exist_ok=True)\n",
    "    # sort by quadrat_id\n",
    "    submission_df = submission_df.sort_values(by=[\"quadrat_id\"])\n",
    "    # write to CSV\n",
    "    submission_df.to_csv(output_path, sep=\",\", index=False, quoting=csv.QUOTE_ALL)\n",
    "    print(f\"Submission file saved to: {output_path}\")\n",
    "\n",
    "\n",
    "file_name = f\"dsgt_baseline_topk{top_k_proba}_per_image.csv\"\n",
    "write_csv_to_pace(test_pd, file_name)"
   ]
  },
  {
   "cell_type": "code",
   "execution_count": 10,
   "id": "aae6f252",
   "metadata": {},
   "outputs": [
    {
     "data": {
      "text/html": [
       "<div>\n",
       "<style scoped>\n",
       "    .dataframe tbody tr th:only-of-type {\n",
       "        vertical-align: middle;\n",
       "    }\n",
       "\n",
       "    .dataframe tbody tr th {\n",
       "        vertical-align: top;\n",
       "    }\n",
       "\n",
       "    .dataframe thead th {\n",
       "        text-align: right;\n",
       "    }\n",
       "</style>\n",
       "<table border=\"1\" class=\"dataframe\">\n",
       "  <thead>\n",
       "    <tr style=\"text-align: right;\">\n",
       "      <th></th>\n",
       "      <th>quadrat_id</th>\n",
       "      <th>species_ids</th>\n",
       "    </tr>\n",
       "  </thead>\n",
       "  <tbody>\n",
       "    <tr>\n",
       "      <th>0</th>\n",
       "      <td>2024-CEV3-20240602</td>\n",
       "      <td>[1357553, 1355972, 1356373, 1356356, 1358132, ...</td>\n",
       "    </tr>\n",
       "    <tr>\n",
       "      <th>1</th>\n",
       "      <td>CBN-PdlC-A1-20130807</td>\n",
       "      <td>[1357441, 1357799, 1356576, 1357117, 1357646, ...</td>\n",
       "    </tr>\n",
       "    <tr>\n",
       "      <th>2</th>\n",
       "      <td>CBN-PdlC-A1-20130903</td>\n",
       "      <td>[1357061, 1357117, 1357441, 1356609, 1358062, ...</td>\n",
       "    </tr>\n",
       "    <tr>\n",
       "      <th>3</th>\n",
       "      <td>CBN-PdlC-A1-20140721</td>\n",
       "      <td>[1357799, 1357117, 1356985, 1356635, 1358012, ...</td>\n",
       "    </tr>\n",
       "    <tr>\n",
       "      <th>4</th>\n",
       "      <td>CBN-PdlC-A1-20140811</td>\n",
       "      <td>[1357799, 1357441, 1357117, 1356635, 1358140, ...</td>\n",
       "    </tr>\n",
       "    <tr>\n",
       "      <th>5</th>\n",
       "      <td>CBN-PdlC-A1-20140901</td>\n",
       "      <td>[1357117, 1356308, 1358132, 1357437, 1357441, ...</td>\n",
       "    </tr>\n",
       "    <tr>\n",
       "      <th>6</th>\n",
       "      <td>CBN-PdlC-A1-20150701</td>\n",
       "      <td>[1357799, 1357117, 1357441, 1356804, 1357198, ...</td>\n",
       "    </tr>\n",
       "    <tr>\n",
       "      <th>7</th>\n",
       "      <td>CBN-PdlC-A1-20150720</td>\n",
       "      <td>[1357799, 1356356, 1357437, 1357117, 1357646, ...</td>\n",
       "    </tr>\n",
       "    <tr>\n",
       "      <th>8</th>\n",
       "      <td>CBN-PdlC-A1-20150831</td>\n",
       "      <td>[1357437, 1357441, 1355937, 1358105, 1357117, ...</td>\n",
       "    </tr>\n",
       "    <tr>\n",
       "      <th>9</th>\n",
       "      <td>CBN-PdlC-A1-20160705</td>\n",
       "      <td>[1357799, 1357394, 1357441, 1356635, 1356306, ...</td>\n",
       "    </tr>\n",
       "  </tbody>\n",
       "</table>\n",
       "</div>"
      ],
      "text/plain": [
       "             quadrat_id                                        species_ids\n",
       "0    2024-CEV3-20240602  [1357553, 1355972, 1356373, 1356356, 1358132, ...\n",
       "1  CBN-PdlC-A1-20130807  [1357441, 1357799, 1356576, 1357117, 1357646, ...\n",
       "2  CBN-PdlC-A1-20130903  [1357061, 1357117, 1357441, 1356609, 1358062, ...\n",
       "3  CBN-PdlC-A1-20140721  [1357799, 1357117, 1356985, 1356635, 1358012, ...\n",
       "4  CBN-PdlC-A1-20140811  [1357799, 1357441, 1357117, 1356635, 1358140, ...\n",
       "5  CBN-PdlC-A1-20140901  [1357117, 1356308, 1358132, 1357437, 1357441, ...\n",
       "6  CBN-PdlC-A1-20150701  [1357799, 1357117, 1357441, 1356804, 1357198, ...\n",
       "7  CBN-PdlC-A1-20150720  [1357799, 1356356, 1357437, 1357117, 1357646, ...\n",
       "8  CBN-PdlC-A1-20150831  [1357437, 1357441, 1355937, 1358105, 1357117, ...\n",
       "9  CBN-PdlC-A1-20160705  [1357799, 1357394, 1357441, 1356635, 1356306, ..."
      ]
     },
     "execution_count": 10,
     "metadata": {},
     "output_type": "execute_result"
    }
   ],
   "source": [
    "submission_path = f\"~/p-dsgt_clef2025-0/shared/plantclef/submissions/baseline_classification/{file_name}\"\n",
    "df = pd.read_csv(submission_path)\n",
    "df.head(10)"
   ]
  },
  {
   "cell_type": "code",
   "execution_count": 11,
   "id": "e18c31c3",
   "metadata": {},
   "outputs": [],
   "source": [
    "# convert species_ids to list of integers\n",
    "def convert_species_ids_to_list(species_ids: str) -> list:\n",
    "    # remove brackets and split by comma\n",
    "    species_ids = species_ids.strip(\"[]\").split(\", \")\n",
    "    # convert to list of integers\n",
    "    return [int(id) for id in species_ids]\n",
    "\n",
    "\n",
    "df[\"species_ids\"] = df[\"species_ids\"].apply(convert_species_ids_to_list)"
   ]
  },
  {
   "cell_type": "code",
   "execution_count": 12,
   "id": "5b6a4aa3",
   "metadata": {},
   "outputs": [
    {
     "data": {
      "text/plain": [
       "9.0"
      ]
     },
     "execution_count": 12,
     "metadata": {},
     "output_type": "execute_result"
    }
   ],
   "source": [
    "# get average for number of species IDs\n",
    "avg_species_ids = df[\"species_ids\"].apply(len).mean()\n",
    "avg_species_ids"
   ]
  },
  {
   "cell_type": "code",
   "execution_count": null,
   "id": "56918866",
   "metadata": {},
   "outputs": [],
   "source": []
  }
 ],
 "metadata": {
  "kernelspec": {
   "display_name": ".venv",
   "language": "python",
   "name": "python3"
  },
  "language_info": {
   "codemirror_mode": {
    "name": "ipython",
    "version": 3
   },
   "file_extension": ".py",
   "mimetype": "text/x-python",
   "name": "python",
   "nbconvert_exporter": "python",
   "pygments_lexer": "ipython3",
   "version": "3.10.10"
  }
 },
 "nbformat": 4,
 "nbformat_minor": 5
}
