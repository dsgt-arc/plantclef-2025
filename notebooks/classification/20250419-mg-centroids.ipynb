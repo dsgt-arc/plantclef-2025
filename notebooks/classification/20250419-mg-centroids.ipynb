{
 "cells": [
  {
   "cell_type": "markdown",
   "id": "b8a793ef",
   "metadata": {},
   "source": [
    "# Centroid predictions\n",
    "\n",
    "Classify test data using centroid probabilities.\n",
    "We're using probabilities for the entire test image."
   ]
  },
  {
   "cell_type": "code",
   "execution_count": 1,
   "id": "9f78505d",
   "metadata": {},
   "outputs": [],
   "source": [
    "%load_ext autoreload\n",
    "%autoreload 2"
   ]
  },
  {
   "cell_type": "code",
   "execution_count": 2,
   "id": "6c4f4dab",
   "metadata": {},
   "outputs": [
    {
     "name": "stderr",
     "output_type": "stream",
     "text": [
      "Setting default log level to \"WARN\".\n",
      "To adjust logging level use sc.setLogLevel(newLevel). For SparkR, use setLogLevel(newLevel).\n",
      "25/04/20 22:07:37 WARN NativeCodeLoader: Unable to load native-hadoop library for your platform... using builtin-java classes where applicable\n",
      "25/04/20 22:07:37 WARN SparkConf: Note that spark.local.dir will be overridden by the value set by the cluster manager (via SPARK_LOCAL_DIRS in mesos/standalone/kubernetes and LOCAL_DIRS in YARN).\n",
      "25/04/20 22:07:37 WARN Utils: Service 'SparkUI' could not bind on port 4040. Attempting port 4041.\n",
      "25/04/20 22:07:37 WARN Utils: Service 'SparkUI' could not bind on port 4041. Attempting port 4042.\n"
     ]
    },
    {
     "data": {
      "text/html": [
       "\n",
       "            <div>\n",
       "                <p><b>SparkSession - in-memory</b></p>\n",
       "                \n",
       "        <div>\n",
       "            <p><b>SparkContext</b></p>\n",
       "\n",
       "            <p><a href=\"http://atl1-1-02-002-29-0.pace.gatech.edu:4042\">Spark UI</a></p>\n",
       "\n",
       "            <dl>\n",
       "              <dt>Version</dt>\n",
       "                <dd><code>v3.5.5</code></dd>\n",
       "              <dt>Master</dt>\n",
       "                <dd><code>local[4]</code></dd>\n",
       "              <dt>AppName</dt>\n",
       "                <dd><code>clef</code></dd>\n",
       "            </dl>\n",
       "        </div>\n",
       "        \n",
       "            </div>\n",
       "        "
      ],
      "text/plain": [
       "<pyspark.sql.session.SparkSession at 0x7fffb7650d00>"
      ]
     },
     "metadata": {},
     "output_type": "display_data"
    }
   ],
   "source": [
    "from plantclef.spark import get_spark\n",
    "\n",
    "spark = get_spark(cores=4)\n",
    "display(spark)"
   ]
  },
  {
   "cell_type": "code",
   "execution_count": 3,
   "id": "923f2d19",
   "metadata": {},
   "outputs": [
    {
     "name": "stdout",
     "output_type": "stream",
     "text": [
      "Sun Apr 20 10:07:39 PM EDT 2025\n"
     ]
    }
   ],
   "source": [
    "import os\n",
    "from pathlib import Path\n",
    "\n",
    "# Get list of stored filed in cloud bucket\n",
    "root = Path(os.path.expanduser(\"~\"))\n",
    "! date"
   ]
  },
  {
   "cell_type": "markdown",
   "id": "d872f94b",
   "metadata": {},
   "source": [
    "### Faiss centroid probabilities "
   ]
  },
  {
   "cell_type": "code",
   "execution_count": 4,
   "id": "3871dd12",
   "metadata": {},
   "outputs": [
    {
     "data": {
      "text/html": [
       "<div>\n",
       "<style scoped>\n",
       "    .dataframe tbody tr th:only-of-type {\n",
       "        vertical-align: middle;\n",
       "    }\n",
       "\n",
       "    .dataframe tbody tr th {\n",
       "        vertical-align: top;\n",
       "    }\n",
       "\n",
       "    .dataframe thead th {\n",
       "        text-align: right;\n",
       "    }\n",
       "</style>\n",
       "<table border=\"1\" class=\"dataframe\">\n",
       "  <thead>\n",
       "    <tr style=\"text-align: right;\">\n",
       "      <th></th>\n",
       "      <th>image_name</th>\n",
       "      <th>prior_probabilities</th>\n",
       "    </tr>\n",
       "  </thead>\n",
       "  <tbody>\n",
       "    <tr>\n",
       "      <th>0</th>\n",
       "      <td>2024-CEV3-20240602.jpg</td>\n",
       "      <td>[0.00013247246, 0.0001367882, 0.00013204469, 0...</td>\n",
       "    </tr>\n",
       "    <tr>\n",
       "      <th>1</th>\n",
       "      <td>2024-CEV3-20240602.jpg</td>\n",
       "      <td>[0.00013578957, 0.0001351673, 0.0001316694, 0....</td>\n",
       "    </tr>\n",
       "    <tr>\n",
       "      <th>2</th>\n",
       "      <td>2024-CEV3-20240602.jpg</td>\n",
       "      <td>[0.00013204673, 0.00013252249, 0.00013235239, ...</td>\n",
       "    </tr>\n",
       "    <tr>\n",
       "      <th>3</th>\n",
       "      <td>2024-CEV3-20240602.jpg</td>\n",
       "      <td>[0.00013307533, 0.00013671836, 0.00013264263, ...</td>\n",
       "    </tr>\n",
       "    <tr>\n",
       "      <th>4</th>\n",
       "      <td>2024-CEV3-20240602.jpg</td>\n",
       "      <td>[0.00013457047, 0.00013656596, 0.00013702415, ...</td>\n",
       "    </tr>\n",
       "  </tbody>\n",
       "</table>\n",
       "</div>"
      ],
      "text/plain": [
       "               image_name                                prior_probabilities\n",
       "0  2024-CEV3-20240602.jpg  [0.00013247246, 0.0001367882, 0.00013204469, 0...\n",
       "1  2024-CEV3-20240602.jpg  [0.00013578957, 0.0001351673, 0.0001316694, 0....\n",
       "2  2024-CEV3-20240602.jpg  [0.00013204673, 0.00013252249, 0.00013235239, ...\n",
       "3  2024-CEV3-20240602.jpg  [0.00013307533, 0.00013671836, 0.00013264263, ...\n",
       "4  2024-CEV3-20240602.jpg  [0.00013457047, 0.00013656596, 0.00013702415, ..."
      ]
     },
     "metadata": {},
     "output_type": "display_data"
    },
    {
     "data": {
      "text/html": [
       "<div>\n",
       "<style scoped>\n",
       "    .dataframe tbody tr th:only-of-type {\n",
       "        vertical-align: middle;\n",
       "    }\n",
       "\n",
       "    .dataframe tbody tr th {\n",
       "        vertical-align: top;\n",
       "    }\n",
       "\n",
       "    .dataframe thead th {\n",
       "        text-align: right;\n",
       "    }\n",
       "</style>\n",
       "<table border=\"1\" class=\"dataframe\">\n",
       "  <thead>\n",
       "    <tr style=\"text-align: right;\">\n",
       "      <th></th>\n",
       "      <th>species_id</th>\n",
       "      <th>species</th>\n",
       "      <th>genus</th>\n",
       "      <th>family</th>\n",
       "    </tr>\n",
       "  </thead>\n",
       "  <tbody>\n",
       "    <tr>\n",
       "      <th>0</th>\n",
       "      <td>1355868</td>\n",
       "      <td>Lactuca virosa L.</td>\n",
       "      <td>Lactuca</td>\n",
       "      <td>Asteraceae</td>\n",
       "    </tr>\n",
       "    <tr>\n",
       "      <th>1</th>\n",
       "      <td>1355869</td>\n",
       "      <td>Crepis capillaris (L.) Wallr.</td>\n",
       "      <td>Crepis</td>\n",
       "      <td>Asteraceae</td>\n",
       "    </tr>\n",
       "    <tr>\n",
       "      <th>2</th>\n",
       "      <td>1355870</td>\n",
       "      <td>Crepis foetida L.</td>\n",
       "      <td>Crepis</td>\n",
       "      <td>Asteraceae</td>\n",
       "    </tr>\n",
       "    <tr>\n",
       "      <th>3</th>\n",
       "      <td>1355871</td>\n",
       "      <td>Hypochaeris glabra L.</td>\n",
       "      <td>Hypochaeris</td>\n",
       "      <td>Asteraceae</td>\n",
       "    </tr>\n",
       "    <tr>\n",
       "      <th>4</th>\n",
       "      <td>1355872</td>\n",
       "      <td>Hypochaeris radicata L.</td>\n",
       "      <td>Hypochaeris</td>\n",
       "      <td>Asteraceae</td>\n",
       "    </tr>\n",
       "  </tbody>\n",
       "</table>\n",
       "</div>"
      ],
      "text/plain": [
       "   species_id                        species        genus      family\n",
       "0     1355868              Lactuca virosa L.      Lactuca  Asteraceae\n",
       "1     1355869  Crepis capillaris (L.) Wallr.       Crepis  Asteraceae\n",
       "2     1355870              Crepis foetida L.       Crepis  Asteraceae\n",
       "3     1355871          Hypochaeris glabra L.  Hypochaeris  Asteraceae\n",
       "4     1355872        Hypochaeris radicata L.  Hypochaeris  Asteraceae"
      ]
     },
     "metadata": {},
     "output_type": "display_data"
    }
   ],
   "source": [
    "import numpy as np\n",
    "import pandas as pd\n",
    "from plantclef.config import get_class_mappings_file\n",
    "\n",
    "# path and dataset names\n",
    "data_path = f\"{root}/p-dsgt_clef2025-0/shared/plantclef/data\"\n",
    "\n",
    "# read the parquet files into a spark DataFrame\n",
    "centroid_path = f\"{data_path}/prior/test_2025_tile_prior_probabilities\"\n",
    "metadata_path = f\"{data_path}/species_metadata.csv\"\n",
    "\n",
    "# read data\n",
    "cent_df = pd.read_parquet(centroid_path)\n",
    "species_meta_df = pd.read_csv(metadata_path)\n",
    "display(cent_df.head(5))\n",
    "display(species_meta_df.head(5))\n",
    "\n",
    "# load species_ids in the correct order\n",
    "class_mappings_file = get_class_mappings_file()\n",
    "with open(class_mappings_file) as f:\n",
    "    sorted_species_ids = np.array([int(line.strip()) for line in f])"
   ]
  },
  {
   "cell_type": "code",
   "execution_count": 5,
   "id": "1553cc35",
   "metadata": {},
   "outputs": [
    {
     "data": {
      "text/html": [
       "<div>\n",
       "<style scoped>\n",
       "    .dataframe tbody tr th:only-of-type {\n",
       "        vertical-align: middle;\n",
       "    }\n",
       "\n",
       "    .dataframe tbody tr th {\n",
       "        vertical-align: top;\n",
       "    }\n",
       "\n",
       "    .dataframe thead th {\n",
       "        text-align: right;\n",
       "    }\n",
       "</style>\n",
       "<table border=\"1\" class=\"dataframe\">\n",
       "  <thead>\n",
       "    <tr style=\"text-align: right;\">\n",
       "      <th></th>\n",
       "      <th>image_name</th>\n",
       "      <th>prior_probabilities</th>\n",
       "      <th>species_ids</th>\n",
       "    </tr>\n",
       "  </thead>\n",
       "  <tbody>\n",
       "    <tr>\n",
       "      <th>0</th>\n",
       "      <td>2024-CEV3-20240602.jpg</td>\n",
       "      <td>[0.00013247246, 0.0001367882, 0.00013204469, 0...</td>\n",
       "      <td>[1395100, 1360187, 1664494, 1360208, 1397879, ...</td>\n",
       "    </tr>\n",
       "    <tr>\n",
       "      <th>1</th>\n",
       "      <td>2024-CEV3-20240602.jpg</td>\n",
       "      <td>[0.00013578957, 0.0001351673, 0.0001316694, 0....</td>\n",
       "      <td>[1360187, 1395100, 1360208, 1664494, 1360223, ...</td>\n",
       "    </tr>\n",
       "    <tr>\n",
       "      <th>2</th>\n",
       "      <td>2024-CEV3-20240602.jpg</td>\n",
       "      <td>[0.00013204673, 0.00013252249, 0.00013235239, ...</td>\n",
       "      <td>[1450109, 1390795, 1360763, 1360203, 1360187, ...</td>\n",
       "    </tr>\n",
       "    <tr>\n",
       "      <th>3</th>\n",
       "      <td>2024-CEV3-20240602.jpg</td>\n",
       "      <td>[0.00013307533, 0.00013671836, 0.00013264263, ...</td>\n",
       "      <td>[1395135, 1395063, 1360208, 1395100, 1397879, ...</td>\n",
       "    </tr>\n",
       "    <tr>\n",
       "      <th>4</th>\n",
       "      <td>2024-CEV3-20240602.jpg</td>\n",
       "      <td>[0.00013457047, 0.00013656596, 0.00013702415, ...</td>\n",
       "      <td>[1393933, 1360763, 1400181, 1361604, 1361587, ...</td>\n",
       "    </tr>\n",
       "  </tbody>\n",
       "</table>\n",
       "</div>"
      ],
      "text/plain": [
       "               image_name                                prior_probabilities  \\\n",
       "0  2024-CEV3-20240602.jpg  [0.00013247246, 0.0001367882, 0.00013204469, 0...   \n",
       "1  2024-CEV3-20240602.jpg  [0.00013578957, 0.0001351673, 0.0001316694, 0....   \n",
       "2  2024-CEV3-20240602.jpg  [0.00013204673, 0.00013252249, 0.00013235239, ...   \n",
       "3  2024-CEV3-20240602.jpg  [0.00013307533, 0.00013671836, 0.00013264263, ...   \n",
       "4  2024-CEV3-20240602.jpg  [0.00013457047, 0.00013656596, 0.00013702415, ...   \n",
       "\n",
       "                                         species_ids  \n",
       "0  [1395100, 1360187, 1664494, 1360208, 1397879, ...  \n",
       "1  [1360187, 1395100, 1360208, 1664494, 1360223, ...  \n",
       "2  [1450109, 1390795, 1360763, 1360203, 1360187, ...  \n",
       "3  [1395135, 1395063, 1360208, 1395100, 1397879, ...  \n",
       "4  [1393933, 1360763, 1400181, 1361604, 1361587, ...  "
      ]
     },
     "execution_count": 5,
     "metadata": {},
     "output_type": "execute_result"
    }
   ],
   "source": [
    "import torch\n",
    "\n",
    "device = torch.device(\"cuda\" if torch.cuda.is_available() else \"cpu\")\n",
    "\n",
    "\n",
    "def top_k_species(probabilities, top_k: int = 9):\n",
    "    probs_tensor = torch.tensor(probabilities).to(device)\n",
    "    top_probs, top_indices = torch.topk(probs_tensor, k=top_k)\n",
    "    top_probs = top_probs.cpu().numpy()\n",
    "    top_indices = top_indices.cpu().numpy()\n",
    "    return [int(sorted_species_ids[i]) for i in top_indices]\n",
    "\n",
    "\n",
    "# apply top-k per row\n",
    "top_k_proba = 10\n",
    "COL_NAME = \"prior_probabilities\"  # \"probabilities\"\n",
    "\n",
    "cent_df[\"species_ids\"] = cent_df[COL_NAME].apply(\n",
    "    lambda probs: top_k_species(probs, top_k=top_k_proba)\n",
    ")\n",
    "cent_df.head(5)"
   ]
  },
  {
   "cell_type": "code",
   "execution_count": 6,
   "id": "55e179ec",
   "metadata": {},
   "outputs": [
    {
     "data": {
      "text/plain": [
       "[1395100,\n",
       " 1360187,\n",
       " 1664494,\n",
       " 1360208,\n",
       " 1397879,\n",
       " 1395063,\n",
       " 1395101,\n",
       " 1395047,\n",
       " 1360193,\n",
       " 1395089]"
      ]
     },
     "metadata": {},
     "output_type": "display_data"
    },
    {
     "data": {
      "text/plain": [
       "[1360187,\n",
       " 1395100,\n",
       " 1360208,\n",
       " 1664494,\n",
       " 1360223,\n",
       " 1395101,\n",
       " 1360193,\n",
       " 1397879,\n",
       " 1362363,\n",
       " 1360203]"
      ]
     },
     "metadata": {},
     "output_type": "display_data"
    }
   ],
   "source": [
    "display(cent_df[\"species_ids\"].iloc[0])\n",
    "display(cent_df[\"species_ids\"].iloc[1])"
   ]
  },
  {
   "cell_type": "markdown",
   "id": "c13267c6",
   "metadata": {},
   "source": [
    "### top-K species in grid of tiles"
   ]
  },
  {
   "cell_type": "code",
   "execution_count": 7,
   "id": "99699d4b",
   "metadata": {},
   "outputs": [],
   "source": [
    "def aggregate_top_k_species(df: pd.DataFrame, top_k: int = 10) -> pd.DataFrame:\n",
    "    def process_group(group: pd.DataFrame):\n",
    "        results = []\n",
    "        for _, row in group.iterrows():\n",
    "            species_ids = row[\"species_ids\"]\n",
    "            prior_probs = row[\"prior_probabilities\"]\n",
    "            result = [\n",
    "                {\n",
    "                    species_id: prior\n",
    "                    for species_id, prior in zip(species_ids, prior_probs)\n",
    "                }\n",
    "            ]\n",
    "            results.append(result)\n",
    "\n",
    "        flattened_results = [item for tile in results for item in tile[:top_k]]\n",
    "        sorted_preds = sorted(flattened_results, key=lambda x: -list(x.values())[0])\n",
    "\n",
    "        return pd.Series({\"species_ids\": sorted_preds})\n",
    "\n",
    "    grouped = df.groupby(\"image_name\")\n",
    "    return grouped.apply(\n",
    "        lambda g: process_group(g.drop(columns=\"image_name\"))\n",
    "    ).reset_index()"
   ]
  },
  {
   "cell_type": "code",
   "execution_count": 8,
   "id": "4bdcf74f",
   "metadata": {},
   "outputs": [
    {
     "name": "stderr",
     "output_type": "stream",
     "text": [
      "/tmp/ipykernel_604067/495132888.py:21: DeprecationWarning: DataFrameGroupBy.apply operated on the grouping columns. This behavior is deprecated, and in a future version of pandas the grouping columns will be excluded from the operation. Either pass `include_groups=False` to exclude the groupings or explicitly select the grouping columns after groupby to silence this warning.\n",
      "  return grouped.apply(\n"
     ]
    },
    {
     "data": {
      "text/html": [
       "<div>\n",
       "<style scoped>\n",
       "    .dataframe tbody tr th:only-of-type {\n",
       "        vertical-align: middle;\n",
       "    }\n",
       "\n",
       "    .dataframe tbody tr th {\n",
       "        vertical-align: top;\n",
       "    }\n",
       "\n",
       "    .dataframe thead th {\n",
       "        text-align: right;\n",
       "    }\n",
       "</style>\n",
       "<table border=\"1\" class=\"dataframe\">\n",
       "  <thead>\n",
       "    <tr style=\"text-align: right;\">\n",
       "      <th></th>\n",
       "      <th>image_name</th>\n",
       "      <th>species_ids</th>\n",
       "    </tr>\n",
       "  </thead>\n",
       "  <tbody>\n",
       "    <tr>\n",
       "      <th>0</th>\n",
       "      <td>2024-CEV3-20240602.jpg</td>\n",
       "      <td>[{1392662: 0.00013580674, 1362443: 0.000128382...</td>\n",
       "    </tr>\n",
       "    <tr>\n",
       "      <th>1</th>\n",
       "      <td>CBN-PdlC-A1-20130807.jpg</td>\n",
       "      <td>[{1361273: 0.00014881953, 1392407: 0.000137022...</td>\n",
       "    </tr>\n",
       "    <tr>\n",
       "      <th>2</th>\n",
       "      <td>CBN-PdlC-A1-20130903.jpg</td>\n",
       "      <td>[{1741880: 0.00014772902, 1396869: 0.000138318...</td>\n",
       "    </tr>\n",
       "    <tr>\n",
       "      <th>3</th>\n",
       "      <td>CBN-PdlC-A1-20140721.jpg</td>\n",
       "      <td>[{1392565: 0.00014735751, 1391331: 0.000142343...</td>\n",
       "    </tr>\n",
       "    <tr>\n",
       "      <th>4</th>\n",
       "      <td>CBN-PdlC-A1-20140811.jpg</td>\n",
       "      <td>[{1392407: 0.00014176566, 1742053: 0.000138991...</td>\n",
       "    </tr>\n",
       "  </tbody>\n",
       "</table>\n",
       "</div>"
      ],
      "text/plain": [
       "                 image_name                                        species_ids\n",
       "0    2024-CEV3-20240602.jpg  [{1392662: 0.00013580674, 1362443: 0.000128382...\n",
       "1  CBN-PdlC-A1-20130807.jpg  [{1361273: 0.00014881953, 1392407: 0.000137022...\n",
       "2  CBN-PdlC-A1-20130903.jpg  [{1741880: 0.00014772902, 1396869: 0.000138318...\n",
       "3  CBN-PdlC-A1-20140721.jpg  [{1392565: 0.00014735751, 1391331: 0.000142343...\n",
       "4  CBN-PdlC-A1-20140811.jpg  [{1392407: 0.00014176566, 1742053: 0.000138991..."
      ]
     },
     "metadata": {},
     "output_type": "display_data"
    }
   ],
   "source": [
    "topk_df = aggregate_top_k_species(cent_df, top_k=top_k_proba)\n",
    "display(topk_df.head(5))"
   ]
  },
  {
   "cell_type": "code",
   "execution_count": 9,
   "id": "f6068f3c",
   "metadata": {},
   "outputs": [
    {
     "data": {
      "text/html": [
       "<div>\n",
       "<style scoped>\n",
       "    .dataframe tbody tr th:only-of-type {\n",
       "        vertical-align: middle;\n",
       "    }\n",
       "\n",
       "    .dataframe tbody tr th {\n",
       "        vertical-align: top;\n",
       "    }\n",
       "\n",
       "    .dataframe thead th {\n",
       "        text-align: right;\n",
       "    }\n",
       "</style>\n",
       "<table border=\"1\" class=\"dataframe\">\n",
       "  <thead>\n",
       "    <tr style=\"text-align: right;\">\n",
       "      <th></th>\n",
       "      <th>image_name</th>\n",
       "      <th>species_ids</th>\n",
       "    </tr>\n",
       "  </thead>\n",
       "  <tbody>\n",
       "    <tr>\n",
       "      <th>0</th>\n",
       "      <td>2024-CEV3-20240602.jpg</td>\n",
       "      <td>[1392662, 1360187, 1363328, 1738679, 1393933, ...</td>\n",
       "    </tr>\n",
       "    <tr>\n",
       "      <th>1</th>\n",
       "      <td>CBN-PdlC-A1-20130807.jpg</td>\n",
       "      <td>[1361273, 1392407, 1392565, 1742052, 1743605, ...</td>\n",
       "    </tr>\n",
       "    <tr>\n",
       "      <th>2</th>\n",
       "      <td>CBN-PdlC-A1-20130903.jpg</td>\n",
       "      <td>[1741880, 1412857, 1392407, 1742052, 1395974, ...</td>\n",
       "    </tr>\n",
       "    <tr>\n",
       "      <th>3</th>\n",
       "      <td>CBN-PdlC-A1-20140721.jpg</td>\n",
       "      <td>[1392565, 1412857, 1743605, 1392407, 1741880]</td>\n",
       "    </tr>\n",
       "    <tr>\n",
       "      <th>4</th>\n",
       "      <td>CBN-PdlC-A1-20140811.jpg</td>\n",
       "      <td>[1392407, 1412857, 1395974, 1395807, 1667408]</td>\n",
       "    </tr>\n",
       "  </tbody>\n",
       "</table>\n",
       "</div>"
      ],
      "text/plain": [
       "                 image_name                                        species_ids\n",
       "0    2024-CEV3-20240602.jpg  [1392662, 1360187, 1363328, 1738679, 1393933, ...\n",
       "1  CBN-PdlC-A1-20130807.jpg  [1361273, 1392407, 1392565, 1742052, 1743605, ...\n",
       "2  CBN-PdlC-A1-20130903.jpg  [1741880, 1412857, 1392407, 1742052, 1395974, ...\n",
       "3  CBN-PdlC-A1-20140721.jpg      [1392565, 1412857, 1743605, 1392407, 1741880]\n",
       "4  CBN-PdlC-A1-20140811.jpg      [1392407, 1412857, 1395974, 1395807, 1667408]"
      ]
     },
     "execution_count": 9,
     "metadata": {},
     "output_type": "execute_result"
    }
   ],
   "source": [
    "def extract_top_k_species(logits: list, top_k: int = 9) -> list:\n",
    "    \"\"\"Extracts the top k species from the logits list.\"\"\"\n",
    "    top_logits = [list(item.keys())[0] for item in logits[:top_k]]\n",
    "    set_logits = sorted(set(top_logits), key=top_logits.index)\n",
    "    return set_logits\n",
    "\n",
    "\n",
    "topk_df[\"species_ids\"] = topk_df[\"species_ids\"].apply(\n",
    "    lambda x: extract_top_k_species(x, top_k=top_k_proba)\n",
    ")\n",
    "topk_df.head(5)"
   ]
  },
  {
   "cell_type": "code",
   "execution_count": 10,
   "id": "f0ade3c0",
   "metadata": {},
   "outputs": [
    {
     "data": {
      "text/html": [
       "<div>\n",
       "<style scoped>\n",
       "    .dataframe tbody tr th:only-of-type {\n",
       "        vertical-align: middle;\n",
       "    }\n",
       "\n",
       "    .dataframe tbody tr th {\n",
       "        vertical-align: top;\n",
       "    }\n",
       "\n",
       "    .dataframe thead th {\n",
       "        text-align: right;\n",
       "    }\n",
       "</style>\n",
       "<table border=\"1\" class=\"dataframe\">\n",
       "  <thead>\n",
       "    <tr style=\"text-align: right;\">\n",
       "      <th></th>\n",
       "      <th>quadrat_id</th>\n",
       "      <th>species_ids</th>\n",
       "    </tr>\n",
       "  </thead>\n",
       "  <tbody>\n",
       "    <tr>\n",
       "      <th>0</th>\n",
       "      <td>2024-CEV3-20240602.jpg</td>\n",
       "      <td>[1392662, 1360187, 1363328, 1738679, 1393933, ...</td>\n",
       "    </tr>\n",
       "    <tr>\n",
       "      <th>1</th>\n",
       "      <td>CBN-PdlC-A1-20130807.jpg</td>\n",
       "      <td>[1361273, 1392407, 1392565, 1742052, 1743605, ...</td>\n",
       "    </tr>\n",
       "    <tr>\n",
       "      <th>2</th>\n",
       "      <td>CBN-PdlC-A1-20130903.jpg</td>\n",
       "      <td>[1741880, 1412857, 1392407, 1742052, 1395974, ...</td>\n",
       "    </tr>\n",
       "    <tr>\n",
       "      <th>3</th>\n",
       "      <td>CBN-PdlC-A1-20140721.jpg</td>\n",
       "      <td>[1392565, 1412857, 1743605, 1392407, 1741880]</td>\n",
       "    </tr>\n",
       "    <tr>\n",
       "      <th>4</th>\n",
       "      <td>CBN-PdlC-A1-20140811.jpg</td>\n",
       "      <td>[1392407, 1412857, 1395974, 1395807, 1667408]</td>\n",
       "    </tr>\n",
       "  </tbody>\n",
       "</table>\n",
       "</div>"
      ],
      "text/plain": [
       "                 quadrat_id                                        species_ids\n",
       "0    2024-CEV3-20240602.jpg  [1392662, 1360187, 1363328, 1738679, 1393933, ...\n",
       "1  CBN-PdlC-A1-20130807.jpg  [1361273, 1392407, 1392565, 1742052, 1743605, ...\n",
       "2  CBN-PdlC-A1-20130903.jpg  [1741880, 1412857, 1392407, 1742052, 1395974, ...\n",
       "3  CBN-PdlC-A1-20140721.jpg      [1392565, 1412857, 1743605, 1392407, 1741880]\n",
       "4  CBN-PdlC-A1-20140811.jpg      [1392407, 1412857, 1395974, 1395807, 1667408]"
      ]
     },
     "execution_count": 10,
     "metadata": {},
     "output_type": "execute_result"
    }
   ],
   "source": [
    "# preds_df = cent_df[[\"image_name\", \"species_ids\"]]\n",
    "preds_df = topk_df[[\"image_name\", \"species_ids\"]]\n",
    "# rename image_name to quadrat_id\n",
    "preds_df = preds_df.rename(columns={\"image_name\": \"quadrat_id\"})\n",
    "preds_df.head()"
   ]
  },
  {
   "cell_type": "code",
   "execution_count": 11,
   "id": "2cab36aa",
   "metadata": {},
   "outputs": [
    {
     "data": {
      "text/html": [
       "<div>\n",
       "<style scoped>\n",
       "    .dataframe tbody tr th:only-of-type {\n",
       "        vertical-align: middle;\n",
       "    }\n",
       "\n",
       "    .dataframe tbody tr th {\n",
       "        vertical-align: top;\n",
       "    }\n",
       "\n",
       "    .dataframe thead th {\n",
       "        text-align: right;\n",
       "    }\n",
       "</style>\n",
       "<table border=\"1\" class=\"dataframe\">\n",
       "  <thead>\n",
       "    <tr style=\"text-align: right;\">\n",
       "      <th></th>\n",
       "      <th>quadrat_id</th>\n",
       "      <th>species_ids</th>\n",
       "    </tr>\n",
       "  </thead>\n",
       "  <tbody>\n",
       "    <tr>\n",
       "      <th>0</th>\n",
       "      <td>2024-CEV3-20240602</td>\n",
       "      <td>[1392662, 1360187, 1363328, 1738679, 1393933, ...</td>\n",
       "    </tr>\n",
       "    <tr>\n",
       "      <th>1</th>\n",
       "      <td>CBN-PdlC-A1-20130807</td>\n",
       "      <td>[1361273, 1392407, 1392565, 1742052, 1743605, ...</td>\n",
       "    </tr>\n",
       "    <tr>\n",
       "      <th>2</th>\n",
       "      <td>CBN-PdlC-A1-20130903</td>\n",
       "      <td>[1741880, 1412857, 1392407, 1742052, 1395974, ...</td>\n",
       "    </tr>\n",
       "    <tr>\n",
       "      <th>3</th>\n",
       "      <td>CBN-PdlC-A1-20140721</td>\n",
       "      <td>[1392565, 1412857, 1743605, 1392407, 1741880]</td>\n",
       "    </tr>\n",
       "    <tr>\n",
       "      <th>4</th>\n",
       "      <td>CBN-PdlC-A1-20140811</td>\n",
       "      <td>[1392407, 1412857, 1395974, 1395807, 1667408]</td>\n",
       "    </tr>\n",
       "    <tr>\n",
       "      <th>5</th>\n",
       "      <td>CBN-PdlC-A1-20140901</td>\n",
       "      <td>[1395974, 1392407, 1742052, 1394671, 1390793, ...</td>\n",
       "    </tr>\n",
       "    <tr>\n",
       "      <th>6</th>\n",
       "      <td>CBN-PdlC-A1-20150701</td>\n",
       "      <td>[1392407, 1391207, 1392565, 1741880, 1412857, ...</td>\n",
       "    </tr>\n",
       "    <tr>\n",
       "      <th>7</th>\n",
       "      <td>CBN-PdlC-A1-20150720</td>\n",
       "      <td>[1549015, 1412857, 1396869, 1395807, 1391499, ...</td>\n",
       "    </tr>\n",
       "    <tr>\n",
       "      <th>8</th>\n",
       "      <td>CBN-PdlC-A1-20150831</td>\n",
       "      <td>[1412857, 1742053, 1742052, 1396294, 1395807, ...</td>\n",
       "    </tr>\n",
       "    <tr>\n",
       "      <th>9</th>\n",
       "      <td>CBN-PdlC-A1-20160705</td>\n",
       "      <td>[1392407, 1412857, 1391331, 1397468, 1361284, ...</td>\n",
       "    </tr>\n",
       "  </tbody>\n",
       "</table>\n",
       "</div>"
      ],
      "text/plain": [
       "             quadrat_id                                        species_ids\n",
       "0    2024-CEV3-20240602  [1392662, 1360187, 1363328, 1738679, 1393933, ...\n",
       "1  CBN-PdlC-A1-20130807  [1361273, 1392407, 1392565, 1742052, 1743605, ...\n",
       "2  CBN-PdlC-A1-20130903  [1741880, 1412857, 1392407, 1742052, 1395974, ...\n",
       "3  CBN-PdlC-A1-20140721      [1392565, 1412857, 1743605, 1392407, 1741880]\n",
       "4  CBN-PdlC-A1-20140811      [1392407, 1412857, 1395974, 1395807, 1667408]\n",
       "5  CBN-PdlC-A1-20140901  [1395974, 1392407, 1742052, 1394671, 1390793, ...\n",
       "6  CBN-PdlC-A1-20150701  [1392407, 1391207, 1392565, 1741880, 1412857, ...\n",
       "7  CBN-PdlC-A1-20150720  [1549015, 1412857, 1396869, 1395807, 1391499, ...\n",
       "8  CBN-PdlC-A1-20150831  [1412857, 1742053, 1742052, 1396294, 1395807, ...\n",
       "9  CBN-PdlC-A1-20160705  [1392407, 1412857, 1391331, 1397468, 1361284, ..."
      ]
     },
     "execution_count": 11,
     "metadata": {},
     "output_type": "execute_result"
    }
   ],
   "source": [
    "def format_species_ids(species_ids: list) -> str:\n",
    "    \"\"\"Formats the species IDs in single square brackets, separated by commas.\"\"\"\n",
    "    formatted_ids = \", \".join(str(id) for id in species_ids)\n",
    "    return f\"[{formatted_ids}]\"\n",
    "\n",
    "\n",
    "def prepare_and_write_submission(\n",
    "    pandas_df: pd.DataFrame,\n",
    "    col: str = \"image_name\",\n",
    ") -> pd.DataFrame:\n",
    "    \"\"\"Formats the Pandas DataFrame, and writes to PACE.\"\"\"\n",
    "    records = []\n",
    "    for _, row in pandas_df.iterrows():\n",
    "        logits = row[\"species_ids\"]\n",
    "        formatted_species = format_species_ids(logits)\n",
    "        records.append({\"quadrat_id\": row[col], \"species_ids\": formatted_species})\n",
    "\n",
    "    pandas_df = pd.DataFrame(records)\n",
    "    # remove .jpg from quadrat_id in final_df\n",
    "    pandas_df[\"quadrat_id\"] = pandas_df[\"quadrat_id\"].str.replace(\n",
    "        \".jpg\", \"\", regex=False\n",
    "    )\n",
    "    # sort by quadrat_id\n",
    "    pandas_df = pandas_df.sort_values(by=[\"quadrat_id\"])\n",
    "\n",
    "    return pandas_df\n",
    "\n",
    "\n",
    "final_df = prepare_and_write_submission(preds_df, col=\"quadrat_id\")\n",
    "final_df.head(10)"
   ]
  },
  {
   "cell_type": "code",
   "execution_count": 12,
   "id": "08ce9385",
   "metadata": {},
   "outputs": [
    {
     "data": {
      "text/plain": [
       "(2105, (2105, 2), Index(['quadrat_id', 'species_ids'], dtype='object'))"
      ]
     },
     "execution_count": 12,
     "metadata": {},
     "output_type": "execute_result"
    }
   ],
   "source": [
    "len(final_df), final_df.shape, final_df.columns"
   ]
  },
  {
   "cell_type": "code",
   "execution_count": 13,
   "id": "fe3827a8",
   "metadata": {},
   "outputs": [
    {
     "name": "stdout",
     "output_type": "stream",
     "text": [
      "Submission file saved to: /storage/home/hcoda1/9/mgustineli3/p-dsgt_clef2025-0/shared/plantclef/submissions/centroids/dsgt_tile_grid_4x4_euclidean_scores_topk10.csv\n"
     ]
    }
   ],
   "source": [
    "import csv\n",
    "\n",
    "\n",
    "def get_plantclef_dir() -> str:\n",
    "    home_dir = Path(os.path.expanduser(\"~\"))\n",
    "    return f\"{home_dir}/p-dsgt_clef2025-0/shared/plantclef\"\n",
    "\n",
    "\n",
    "def write_csv_to_pace(df, file_name: str, col: str = \"quadrat_id\") -> None:\n",
    "    \"\"\"Writes the Pandas DataFrame to a CSV file on PACE.\"\"\"\n",
    "\n",
    "    # prepare and write the submission\n",
    "    submission_df = prepare_and_write_submission(df, col)\n",
    "    project_dir = get_plantclef_dir()\n",
    "    submission_path = f\"{project_dir}/submissions/centroids\"\n",
    "    output_path = f\"{submission_path}/{file_name}\"\n",
    "    # ensure directory exists before saving\n",
    "    os.makedirs(os.path.dirname(output_path), exist_ok=True)\n",
    "    # write to CSV\n",
    "    submission_df.to_csv(output_path, sep=\",\", index=False, quoting=csv.QUOTE_ALL)\n",
    "    print(f\"Submission file saved to: {output_path}\")\n",
    "\n",
    "\n",
    "file_name = f\"dsgt_tile_grid_4x4_euclidean_scores_topk{top_k_proba}.csv\"\n",
    "write_csv_to_pace(preds_df, file_name)"
   ]
  },
  {
   "cell_type": "code",
   "execution_count": 14,
   "id": "783cb8ac",
   "metadata": {},
   "outputs": [
    {
     "data": {
      "text/html": [
       "<div>\n",
       "<style scoped>\n",
       "    .dataframe tbody tr th:only-of-type {\n",
       "        vertical-align: middle;\n",
       "    }\n",
       "\n",
       "    .dataframe tbody tr th {\n",
       "        vertical-align: top;\n",
       "    }\n",
       "\n",
       "    .dataframe thead th {\n",
       "        text-align: right;\n",
       "    }\n",
       "</style>\n",
       "<table border=\"1\" class=\"dataframe\">\n",
       "  <thead>\n",
       "    <tr style=\"text-align: right;\">\n",
       "      <th></th>\n",
       "      <th>quadrat_id</th>\n",
       "      <th>species_ids</th>\n",
       "    </tr>\n",
       "  </thead>\n",
       "  <tbody>\n",
       "    <tr>\n",
       "      <th>0</th>\n",
       "      <td>2024-CEV3-20240602</td>\n",
       "      <td>[1392662, 1360187, 1363328, 1738679, 1393933, ...</td>\n",
       "    </tr>\n",
       "    <tr>\n",
       "      <th>1</th>\n",
       "      <td>CBN-PdlC-A1-20130807</td>\n",
       "      <td>[1361273, 1392407, 1392565, 1742052, 1743605, ...</td>\n",
       "    </tr>\n",
       "    <tr>\n",
       "      <th>2</th>\n",
       "      <td>CBN-PdlC-A1-20130903</td>\n",
       "      <td>[1741880, 1412857, 1392407, 1742052, 1395974, ...</td>\n",
       "    </tr>\n",
       "    <tr>\n",
       "      <th>3</th>\n",
       "      <td>CBN-PdlC-A1-20140721</td>\n",
       "      <td>[1392565, 1412857, 1743605, 1392407, 1741880]</td>\n",
       "    </tr>\n",
       "    <tr>\n",
       "      <th>4</th>\n",
       "      <td>CBN-PdlC-A1-20140811</td>\n",
       "      <td>[1392407, 1412857, 1395974, 1395807, 1667408]</td>\n",
       "    </tr>\n",
       "    <tr>\n",
       "      <th>5</th>\n",
       "      <td>CBN-PdlC-A1-20140901</td>\n",
       "      <td>[1395974, 1392407, 1742052, 1394671, 1390793, ...</td>\n",
       "    </tr>\n",
       "    <tr>\n",
       "      <th>6</th>\n",
       "      <td>CBN-PdlC-A1-20150701</td>\n",
       "      <td>[1392407, 1391207, 1392565, 1741880, 1412857, ...</td>\n",
       "    </tr>\n",
       "    <tr>\n",
       "      <th>7</th>\n",
       "      <td>CBN-PdlC-A1-20150720</td>\n",
       "      <td>[1549015, 1412857, 1396869, 1395807, 1391499, ...</td>\n",
       "    </tr>\n",
       "    <tr>\n",
       "      <th>8</th>\n",
       "      <td>CBN-PdlC-A1-20150831</td>\n",
       "      <td>[1412857, 1742053, 1742052, 1396294, 1395807, ...</td>\n",
       "    </tr>\n",
       "    <tr>\n",
       "      <th>9</th>\n",
       "      <td>CBN-PdlC-A1-20160705</td>\n",
       "      <td>[1392407, 1412857, 1391331, 1397468, 1361284, ...</td>\n",
       "    </tr>\n",
       "  </tbody>\n",
       "</table>\n",
       "</div>"
      ],
      "text/plain": [
       "             quadrat_id                                        species_ids\n",
       "0    2024-CEV3-20240602  [1392662, 1360187, 1363328, 1738679, 1393933, ...\n",
       "1  CBN-PdlC-A1-20130807  [1361273, 1392407, 1392565, 1742052, 1743605, ...\n",
       "2  CBN-PdlC-A1-20130903  [1741880, 1412857, 1392407, 1742052, 1395974, ...\n",
       "3  CBN-PdlC-A1-20140721      [1392565, 1412857, 1743605, 1392407, 1741880]\n",
       "4  CBN-PdlC-A1-20140811      [1392407, 1412857, 1395974, 1395807, 1667408]\n",
       "5  CBN-PdlC-A1-20140901  [1395974, 1392407, 1742052, 1394671, 1390793, ...\n",
       "6  CBN-PdlC-A1-20150701  [1392407, 1391207, 1392565, 1741880, 1412857, ...\n",
       "7  CBN-PdlC-A1-20150720  [1549015, 1412857, 1396869, 1395807, 1391499, ...\n",
       "8  CBN-PdlC-A1-20150831  [1412857, 1742053, 1742052, 1396294, 1395807, ...\n",
       "9  CBN-PdlC-A1-20160705  [1392407, 1412857, 1391331, 1397468, 1361284, ..."
      ]
     },
     "execution_count": 14,
     "metadata": {},
     "output_type": "execute_result"
    }
   ],
   "source": [
    "submission_path = (\n",
    "    f\"~/p-dsgt_clef2025-0/shared/plantclef/submissions/centroids/{file_name}\"\n",
    ")\n",
    "df = pd.read_csv(submission_path)\n",
    "df.head(10)"
   ]
  },
  {
   "cell_type": "code",
   "execution_count": 15,
   "id": "2953a24c",
   "metadata": {},
   "outputs": [
    {
     "data": {
      "text/plain": [
       "((2105, 2), Index(['quadrat_id', 'species_ids'], dtype='object'))"
      ]
     },
     "execution_count": 15,
     "metadata": {},
     "output_type": "execute_result"
    }
   ],
   "source": [
    "df.shape, df.columns"
   ]
  },
  {
   "cell_type": "code",
   "execution_count": null,
   "id": "2bff25c1",
   "metadata": {},
   "outputs": [],
   "source": []
  }
 ],
 "metadata": {
  "kernelspec": {
   "display_name": ".venv",
   "language": "python",
   "name": "python3"
  },
  "language_info": {
   "codemirror_mode": {
    "name": "ipython",
    "version": 3
   },
   "file_extension": ".py",
   "mimetype": "text/x-python",
   "name": "python",
   "nbconvert_exporter": "python",
   "pygments_lexer": "ipython3",
   "version": "3.10.10"
  }
 },
 "nbformat": 4,
 "nbformat_minor": 5
}
