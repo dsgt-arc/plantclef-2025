{
 "cells": [
  {
   "attachments": {},
   "cell_type": "markdown",
   "metadata": {},
   "source": [
    "# Baseline Classification\n",
    "\n",
    "Identifying the 10, 25, 50, 100 most common plant species. Submit them as a baseline classification strategy."
   ]
  },
  {
   "cell_type": "code",
   "execution_count": 1,
   "metadata": {},
   "outputs": [],
   "source": [
    "%load_ext autoreload\n",
    "%autoreload 2"
   ]
  },
  {
   "cell_type": "code",
   "execution_count": 2,
   "metadata": {},
   "outputs": [
    {
     "name": "stderr",
     "output_type": "stream",
     "text": [
      "Setting default log level to \"WARN\".\n",
      "To adjust logging level use sc.setLogLevel(newLevel). For SparkR, use setLogLevel(newLevel).\n",
      "25/04/07 23:14:24 WARN NativeCodeLoader: Unable to load native-hadoop library for your platform... using builtin-java classes where applicable\n",
      "25/04/07 23:14:24 WARN SparkConf: Note that spark.local.dir will be overridden by the value set by the cluster manager (via SPARK_LOCAL_DIRS in mesos/standalone/kubernetes and LOCAL_DIRS in YARN).\n"
     ]
    },
    {
     "data": {
      "text/html": [
       "\n",
       "            <div>\n",
       "                <p><b>SparkSession - in-memory</b></p>\n",
       "                \n",
       "        <div>\n",
       "            <p><b>SparkContext</b></p>\n",
       "\n",
       "            <p><a href=\"http://atl1-1-03-004-33-0.pace.gatech.edu:4040\">Spark UI</a></p>\n",
       "\n",
       "            <dl>\n",
       "              <dt>Version</dt>\n",
       "                <dd><code>v3.5.5</code></dd>\n",
       "              <dt>Master</dt>\n",
       "                <dd><code>local[24]</code></dd>\n",
       "              <dt>AppName</dt>\n",
       "                <dd><code>clef</code></dd>\n",
       "            </dl>\n",
       "        </div>\n",
       "        \n",
       "            </div>\n",
       "        "
      ],
      "text/plain": [
       "<pyspark.sql.session.SparkSession at 0x155530627190>"
      ]
     },
     "metadata": {},
     "output_type": "display_data"
    }
   ],
   "source": [
    "from plantclef.spark import get_spark\n",
    "\n",
    "spark = get_spark()\n",
    "display(spark)"
   ]
  },
  {
   "cell_type": "code",
   "execution_count": 3,
   "metadata": {},
   "outputs": [
    {
     "name": "stdout",
     "output_type": "stream",
     "text": [
      "Mon Apr  7 11:14:26 PM EDT 2025\n"
     ]
    }
   ],
   "source": [
    "import os\n",
    "from pathlib import Path\n",
    "\n",
    "# Set the root directory to your home directory\n",
    "root = Path(os.path.expanduser(\"~\"))\n",
    "! date"
   ]
  },
  {
   "cell_type": "code",
   "execution_count": 4,
   "metadata": {},
   "outputs": [
    {
     "name": "stdout",
     "output_type": "stream",
     "text": [
      "root\n",
      " |-- image_name: string (nullable = true)\n",
      " |-- path: string (nullable = true)\n",
      " |-- data: binary (nullable = true)\n",
      " |-- organ: string (nullable = true)\n",
      " |-- species_id: integer (nullable = true)\n",
      " |-- obs_id: long (nullable = true)\n",
      " |-- license: string (nullable = true)\n",
      " |-- partner: string (nullable = true)\n",
      " |-- author: string (nullable = true)\n",
      " |-- altitude: double (nullable = true)\n",
      " |-- latitude: double (nullable = true)\n",
      " |-- longitude: double (nullable = true)\n",
      " |-- gbif_species_id: string (nullable = true)\n",
      " |-- species: string (nullable = true)\n",
      " |-- genus: string (nullable = true)\n",
      " |-- family: string (nullable = true)\n",
      " |-- dataset: string (nullable = true)\n",
      " |-- publisher: string (nullable = true)\n",
      " |-- references: string (nullable = true)\n",
      " |-- url: string (nullable = true)\n",
      " |-- learn_tag: string (nullable = true)\n",
      " |-- image_backup_url: string (nullable = true)\n",
      "\n"
     ]
    },
    {
     "name": "stderr",
     "output_type": "stream",
     "text": [
      "                                                                                \r"
     ]
    },
    {
     "name": "stdout",
     "output_type": "stream",
     "text": [
      "+--------------------+--------------------+--------------------+-----+----------+----------+--------------------+-------+----------------+--------+-----------------+------------------+---------------+--------------------+-------------+----------+--------+-----------+--------------------+--------------------+---------+--------------------+\n",
      "|          image_name|                path|                data|organ|species_id|    obs_id|             license|partner|          author|altitude|         latitude|         longitude|gbif_species_id|             species|        genus|    family| dataset|  publisher|          references|                 url|learn_tag|    image_backup_url|\n",
      "+--------------------+--------------------+--------------------+-----+----------+----------+--------------------+-------+----------------+--------+-----------------+------------------+---------------+--------------------+-------------+----------+--------+-----------+--------------------+--------------------+---------+--------------------+\n",
      "|0703b7eb2951080a5...|/PlantCLEF2024/tr...|[FF D8 FF E0 00 1...| leaf|   1737493|1014839418|            cc-by-sa|   NULL|   Rudi Kraševec|   596.0|45.74738691666667|14.416461944444444|      5371781.0|Selinum carvifoli...|      Selinum|  Apiaceae|plantnet|   plantnet|https://identify....|https://bs.plantn...|    train|https://lab.plant...|\n",
      "|7b435513acf8ff561...|/PlantCLEF2024/tr...|[FF D8 FF E0 00 1...|habit|   1397675|3327730052|http://creativeco...|   NULL|   Rick Williams|    NULL|             NULL|              NULL|      3107034.0|Senecio soldanell...|      Senecio|Asteraceae|    gbif|iNaturalist|https://www.inatu...|https://inaturali...|    train|https://lab.plant...|\n",
      "|82f8e37f6feb7f122...|/PlantCLEF2024/tr...|[FF D8 FF E0 00 1...| bark|   1741934|3456737412|http://creativeco...|   NULL|Marina Privalova|    NULL|             NULL|              NULL|      9540150.0|Silphiodaucus pru...|Silphiodaucus|  Apiaceae|    gbif|iNaturalist|https://www.inatu...|https://inaturali...|    train|https://lab.plant...|\n",
      "|adcc56d13a8a59326...|/PlantCLEF2024/tr...|[FF D8 FF E0 00 1...| bark|   1363733|1012013282|            cc-by-sa|   NULL|Manuel Hernández|    16.0|        39.477479|         -0.387182|      2965379.0| Medicago arborea L.|     Medicago|  Fabaceae|plantnet|   plantnet|https://identify....|https://bs.plantn...|    train|https://lab.plant...|\n",
      "|b22aad71e33d5d2cb...|/PlantCLEF2024/tr...|[FF D8 FF E0 00 1...|fruit|   1359627|1012041937|            cc-by-sa|   NULL|   dixie cousins|    NULL|             NULL|              NULL|      3152658.0|Gossypium herbace...|    Gossypium| Malvaceae|plantnet|   plantnet|https://identify....|https://bs.plantn...|    train|https://lab.plant...|\n",
      "+--------------------+--------------------+--------------------+-----+----------+----------+--------------------+-------+----------------+--------+-----------------+------------------+---------------+--------------------+-------------+----------+--------+-----------+--------------------+--------------------+---------+--------------------+\n",
      "only showing top 5 rows\n",
      "\n",
      "root\n",
      " |-- image_name: string (nullable = true)\n",
      " |-- path: string (nullable = true)\n",
      " |-- data: binary (nullable = true)\n",
      "\n"
     ]
    },
    {
     "name": "stderr",
     "output_type": "stream",
     "text": [
      "                                                                                \r"
     ]
    },
    {
     "name": "stdout",
     "output_type": "stream",
     "text": [
      "+--------------------+--------------------+--------------------+\n",
      "|          image_name|                path|                data|\n",
      "+--------------------+--------------------+--------------------+\n",
      "|CBN-Pla-B3-201907...|/test/data/PlantC...|[FF D8 FF E0 00 1...|\n",
      "|CBN-PdlC-E5-20180...|/test/data/PlantC...|[FF D8 FF E0 00 1...|\n",
      "|CBN-PdlC-B1-20140...|/test/data/PlantC...|[FF D8 FF E0 00 1...|\n",
      "|CBN-Pla-D4-201507...|/test/data/PlantC...|[FF D8 FF E0 00 1...|\n",
      "|CBN-PdlC-F3-20190...|/test/data/PlantC...|[FF D8 FF E0 00 1...|\n",
      "+--------------------+--------------------+--------------------+\n",
      "only showing top 5 rows\n",
      "\n"
     ]
    }
   ],
   "source": [
    "# path and dataset names\n",
    "data_path = f\"{root}/p-dsgt_clef2025-0/shared/plantclef/data/parquet\"\n",
    "\n",
    "# define the path to the train and test parquet files\n",
    "train_path = f\"{data_path}/train\"\n",
    "test_path = f\"{data_path}/test_2025\"\n",
    "\n",
    "# read the parquet files into a spark DataFrame\n",
    "train_df = spark.read.parquet(train_path)\n",
    "test_df = spark.read.parquet(test_path)\n",
    "\n",
    "# show the data\n",
    "train_df.printSchema()\n",
    "train_df.show(n=5)\n",
    "test_df.printSchema()\n",
    "test_df.show(n=5)"
   ]
  },
  {
   "cell_type": "code",
   "execution_count": 5,
   "metadata": {},
   "outputs": [
    {
     "name": "stderr",
     "output_type": "stream",
     "text": [
      "[Stage 4:====================================================>(2329 + 1) / 2330]\r"
     ]
    },
    {
     "name": "stdout",
     "output_type": "stream",
     "text": [
      "+--------------------+----------+---+\n",
      "|             species|species_id|  n|\n",
      "+--------------------+----------+---+\n",
      "|Styphnolobium jap...|   1369068|823|\n",
      "|Frangula alnus Mill.|   1360257|793|\n",
      "|Aria edulis (Will...|   1737559|770|\n",
      "|Lathyrus oleraceu...|   1741625|700|\n",
      "|  Bromus sterilis L.|   1414366|674|\n",
      "|   Lotus hirsutus L.|   1743246|668|\n",
      "|Scandosorbus inte...|   1737669|662|\n",
      "|Oxalis dillenii J...|   1394359|653|\n",
      "|     Hedera helix L.|   1363575|653|\n",
      "|Calicotome spinos...|   1359160|642|\n",
      "|Castanea sativa M...|   1358610|638|\n",
      "|Buxus semperviren...|   1356729|636|\n",
      "|    Arbutus unedo L.|   1358500|634|\n",
      "|Pistacia lentiscu...|   1356290|632|\n",
      "|   Ulmus minor Mill.|   1360607|630|\n",
      "|Tecomaria capensi...|   1400151|627|\n",
      "|     Quercus ilex L.|   1357416|626|\n",
      "|Calamagrostis are...|   1722433|625|\n",
      "|Pittosporum tobir...|   1394624|625|\n",
      "|Cercis siliquastr...|   1359162|624|\n",
      "+--------------------+----------+---+\n",
      "only showing top 20 rows\n",
      "\n"
     ]
    },
    {
     "name": "stderr",
     "output_type": "stream",
     "text": [
      "                                                                                \r"
     ]
    }
   ],
   "source": [
    "from pyspark.sql import functions as F\n",
    "\n",
    "# Get top species by number of images\n",
    "grouped_train_df = (\n",
    "    train_df.groupBy([\"species\", \"species_id\"])\n",
    "    .agg(F.count(\"species_id\").alias(\"n\"))\n",
    "    .orderBy(F.col(\"n\").desc())\n",
    ")\n",
    "\n",
    "# Action\n",
    "grouped_train_df.show()"
   ]
  },
  {
   "cell_type": "code",
   "execution_count": 6,
   "metadata": {},
   "outputs": [
    {
     "name": "stderr",
     "output_type": "stream",
     "text": [
      "[Stage 7:===================================================>(2302 + 25) / 2330]\r"
     ]
    },
    {
     "name": "stdout",
     "output_type": "stream",
     "text": [
      "Top 10 species: [1369068, 1360257, 1737559, 1741625, 1414366, 1743246, 1737669, 1394359, 1363575, 1359160]\n"
     ]
    },
    {
     "name": "stderr",
     "output_type": "stream",
     "text": [
      "                                                                                \r"
     ]
    }
   ],
   "source": [
    "def get_top_species_ids(train_df, top_k: int = 10):\n",
    "    \"\"\"\n",
    "    Get the top K species IDs from the training DataFrame.\n",
    "\n",
    "    Args:\n",
    "        train_df (DataFrame): The training DataFrame.\n",
    "        K (int): The number of top species to select.\n",
    "\n",
    "    Returns:\n",
    "        list: A list of top K species IDs.\n",
    "    \"\"\"\n",
    "    # Group by species and count the number of images\n",
    "    grouped_train_df = (\n",
    "        train_df.groupBy([\"species\", \"species_id\"])\n",
    "        .agg(F.count(\"species_id\").alias(\"n\"))\n",
    "        .orderBy(F.col(\"n\").desc())\n",
    "    )\n",
    "\n",
    "    # Select top K species into list\n",
    "    subset_species = grouped_train_df.select(\"species_id\").limit(top_k).collect()\n",
    "    return [row[\"species_id\"] for row in subset_species]\n",
    "\n",
    "\n",
    "# Get top-K species IDs\n",
    "top_k = 10\n",
    "top_species_list = get_top_species_ids(train_df, top_k=top_k)\n",
    "print(f\"Top {top_k} species: {top_species_list}\")"
   ]
  },
  {
   "cell_type": "code",
   "execution_count": 7,
   "metadata": {},
   "outputs": [
    {
     "name": "stderr",
     "output_type": "stream",
     "text": [
      "[Stage 10:==================================================>(2301 + 24) / 2330]\r"
     ]
    },
    {
     "name": "stdout",
     "output_type": "stream",
     "text": [
      "Top 25 species: [1369068, 1360257, 1737559, 1741625, 1414366, 1743246, 1737669, 1394359, 1363575, 1359160, 1358610, 1356729, 1358500, 1356290, 1360607, 1400151, 1357416, 1722433, 1394624, 1359162, 1391375, 1363988, 1359676, 1356308, 1737508]\n"
     ]
    },
    {
     "name": "stderr",
     "output_type": "stream",
     "text": [
      "                                                                                \r"
     ]
    }
   ],
   "source": [
    "# top 25 species\n",
    "top_k = 25\n",
    "top_species_list = get_top_species_ids(train_df, top_k=top_k)\n",
    "print(f\"Top {top_k} species: {top_species_list}\")"
   ]
  },
  {
   "cell_type": "code",
   "execution_count": 8,
   "metadata": {},
   "outputs": [
    {
     "name": "stderr",
     "output_type": "stream",
     "text": [
      "                                                                                \r"
     ]
    },
    {
     "data": {
      "text/plain": [
       "['2024-CEV3-20240602.jpg',\n",
       " 'CBN-PdlC-A1-20130807.jpg',\n",
       " 'CBN-PdlC-A1-20130903.jpg',\n",
       " 'CBN-PdlC-A1-20140721.jpg',\n",
       " 'CBN-PdlC-A1-20140811.jpg',\n",
       " 'CBN-PdlC-A1-20140901.jpg',\n",
       " 'CBN-PdlC-A1-20150701.jpg',\n",
       " 'CBN-PdlC-A1-20150720.jpg',\n",
       " 'CBN-PdlC-A1-20150831.jpg',\n",
       " 'CBN-PdlC-A1-20160705.jpg']"
      ]
     },
     "execution_count": 8,
     "metadata": {},
     "output_type": "execute_result"
    }
   ],
   "source": [
    "# select image names from test DataFrame\n",
    "image_names_df = test_df.select(\"image_name\").orderBy(F.col(\"image_name\"))\n",
    "image_names = [row[\"image_name\"] for row in image_names_df.collect()]\n",
    "image_names[:10]"
   ]
  },
  {
   "cell_type": "code",
   "execution_count": 9,
   "metadata": {},
   "outputs": [
    {
     "data": {
      "text/html": [
       "<div>\n",
       "<style scoped>\n",
       "    .dataframe tbody tr th:only-of-type {\n",
       "        vertical-align: middle;\n",
       "    }\n",
       "\n",
       "    .dataframe tbody tr th {\n",
       "        vertical-align: top;\n",
       "    }\n",
       "\n",
       "    .dataframe thead th {\n",
       "        text-align: right;\n",
       "    }\n",
       "</style>\n",
       "<table border=\"1\" class=\"dataframe\">\n",
       "  <thead>\n",
       "    <tr style=\"text-align: right;\">\n",
       "      <th></th>\n",
       "      <th>image_name</th>\n",
       "      <th>species_ids</th>\n",
       "    </tr>\n",
       "  </thead>\n",
       "  <tbody>\n",
       "    <tr>\n",
       "      <th>0</th>\n",
       "      <td>2024-CEV3-20240602.jpg</td>\n",
       "      <td>[1369068, 1360257, 1737559, 1741625, 1414366, ...</td>\n",
       "    </tr>\n",
       "    <tr>\n",
       "      <th>1</th>\n",
       "      <td>CBN-PdlC-A1-20130807.jpg</td>\n",
       "      <td>[1369068, 1360257, 1737559, 1741625, 1414366, ...</td>\n",
       "    </tr>\n",
       "    <tr>\n",
       "      <th>2</th>\n",
       "      <td>CBN-PdlC-A1-20130903.jpg</td>\n",
       "      <td>[1369068, 1360257, 1737559, 1741625, 1414366, ...</td>\n",
       "    </tr>\n",
       "    <tr>\n",
       "      <th>3</th>\n",
       "      <td>CBN-PdlC-A1-20140721.jpg</td>\n",
       "      <td>[1369068, 1360257, 1737559, 1741625, 1414366, ...</td>\n",
       "    </tr>\n",
       "    <tr>\n",
       "      <th>4</th>\n",
       "      <td>CBN-PdlC-A1-20140811.jpg</td>\n",
       "      <td>[1369068, 1360257, 1737559, 1741625, 1414366, ...</td>\n",
       "    </tr>\n",
       "    <tr>\n",
       "      <th>5</th>\n",
       "      <td>CBN-PdlC-A1-20140901.jpg</td>\n",
       "      <td>[1369068, 1360257, 1737559, 1741625, 1414366, ...</td>\n",
       "    </tr>\n",
       "    <tr>\n",
       "      <th>6</th>\n",
       "      <td>CBN-PdlC-A1-20150701.jpg</td>\n",
       "      <td>[1369068, 1360257, 1737559, 1741625, 1414366, ...</td>\n",
       "    </tr>\n",
       "    <tr>\n",
       "      <th>7</th>\n",
       "      <td>CBN-PdlC-A1-20150720.jpg</td>\n",
       "      <td>[1369068, 1360257, 1737559, 1741625, 1414366, ...</td>\n",
       "    </tr>\n",
       "    <tr>\n",
       "      <th>8</th>\n",
       "      <td>CBN-PdlC-A1-20150831.jpg</td>\n",
       "      <td>[1369068, 1360257, 1737559, 1741625, 1414366, ...</td>\n",
       "    </tr>\n",
       "    <tr>\n",
       "      <th>9</th>\n",
       "      <td>CBN-PdlC-A1-20160705.jpg</td>\n",
       "      <td>[1369068, 1360257, 1737559, 1741625, 1414366, ...</td>\n",
       "    </tr>\n",
       "  </tbody>\n",
       "</table>\n",
       "</div>"
      ],
      "text/plain": [
       "                 image_name                                        species_ids\n",
       "0    2024-CEV3-20240602.jpg  [1369068, 1360257, 1737559, 1741625, 1414366, ...\n",
       "1  CBN-PdlC-A1-20130807.jpg  [1369068, 1360257, 1737559, 1741625, 1414366, ...\n",
       "2  CBN-PdlC-A1-20130903.jpg  [1369068, 1360257, 1737559, 1741625, 1414366, ...\n",
       "3  CBN-PdlC-A1-20140721.jpg  [1369068, 1360257, 1737559, 1741625, 1414366, ...\n",
       "4  CBN-PdlC-A1-20140811.jpg  [1369068, 1360257, 1737559, 1741625, 1414366, ...\n",
       "5  CBN-PdlC-A1-20140901.jpg  [1369068, 1360257, 1737559, 1741625, 1414366, ...\n",
       "6  CBN-PdlC-A1-20150701.jpg  [1369068, 1360257, 1737559, 1741625, 1414366, ...\n",
       "7  CBN-PdlC-A1-20150720.jpg  [1369068, 1360257, 1737559, 1741625, 1414366, ...\n",
       "8  CBN-PdlC-A1-20150831.jpg  [1369068, 1360257, 1737559, 1741625, 1414366, ...\n",
       "9  CBN-PdlC-A1-20160705.jpg  [1369068, 1360257, 1737559, 1741625, 1414366, ..."
      ]
     },
     "execution_count": 9,
     "metadata": {},
     "output_type": "execute_result"
    }
   ],
   "source": [
    "import pandas as pd\n",
    "\n",
    "# create pandas DataFrame with image names\n",
    "pandas_dict = {\n",
    "    \"image_name\": image_names,\n",
    "    \"species_ids\": [top_species_list] * len(image_names),\n",
    "}\n",
    "pandas_df = pd.DataFrame(pandas_dict, columns=[\"image_name\", \"species_ids\"])\n",
    "pandas_df.head(10)"
   ]
  },
  {
   "cell_type": "code",
   "execution_count": 28,
   "metadata": {},
   "outputs": [
    {
     "data": {
      "text/html": [
       "<div>\n",
       "<style scoped>\n",
       "    .dataframe tbody tr th:only-of-type {\n",
       "        vertical-align: middle;\n",
       "    }\n",
       "\n",
       "    .dataframe tbody tr th {\n",
       "        vertical-align: top;\n",
       "    }\n",
       "\n",
       "    .dataframe thead th {\n",
       "        text-align: right;\n",
       "    }\n",
       "</style>\n",
       "<table border=\"1\" class=\"dataframe\">\n",
       "  <thead>\n",
       "    <tr style=\"text-align: right;\">\n",
       "      <th></th>\n",
       "      <th>quadrat_id</th>\n",
       "      <th>species_ids</th>\n",
       "    </tr>\n",
       "  </thead>\n",
       "  <tbody>\n",
       "    <tr>\n",
       "      <th>0</th>\n",
       "      <td>2024-CEV3-20240602</td>\n",
       "      <td>[1369068, 1360257, 1737559, 1741625, 1414366, ...</td>\n",
       "    </tr>\n",
       "    <tr>\n",
       "      <th>1</th>\n",
       "      <td>CBN-PdlC-A1-20130807</td>\n",
       "      <td>[1369068, 1360257, 1737559, 1741625, 1414366, ...</td>\n",
       "    </tr>\n",
       "    <tr>\n",
       "      <th>2</th>\n",
       "      <td>CBN-PdlC-A1-20130903</td>\n",
       "      <td>[1369068, 1360257, 1737559, 1741625, 1414366, ...</td>\n",
       "    </tr>\n",
       "    <tr>\n",
       "      <th>3</th>\n",
       "      <td>CBN-PdlC-A1-20140721</td>\n",
       "      <td>[1369068, 1360257, 1737559, 1741625, 1414366, ...</td>\n",
       "    </tr>\n",
       "    <tr>\n",
       "      <th>4</th>\n",
       "      <td>CBN-PdlC-A1-20140811</td>\n",
       "      <td>[1369068, 1360257, 1737559, 1741625, 1414366, ...</td>\n",
       "    </tr>\n",
       "    <tr>\n",
       "      <th>5</th>\n",
       "      <td>CBN-PdlC-A1-20140901</td>\n",
       "      <td>[1369068, 1360257, 1737559, 1741625, 1414366, ...</td>\n",
       "    </tr>\n",
       "    <tr>\n",
       "      <th>6</th>\n",
       "      <td>CBN-PdlC-A1-20150701</td>\n",
       "      <td>[1369068, 1360257, 1737559, 1741625, 1414366, ...</td>\n",
       "    </tr>\n",
       "    <tr>\n",
       "      <th>7</th>\n",
       "      <td>CBN-PdlC-A1-20150720</td>\n",
       "      <td>[1369068, 1360257, 1737559, 1741625, 1414366, ...</td>\n",
       "    </tr>\n",
       "    <tr>\n",
       "      <th>8</th>\n",
       "      <td>CBN-PdlC-A1-20150831</td>\n",
       "      <td>[1369068, 1360257, 1737559, 1741625, 1414366, ...</td>\n",
       "    </tr>\n",
       "    <tr>\n",
       "      <th>9</th>\n",
       "      <td>CBN-PdlC-A1-20160705</td>\n",
       "      <td>[1369068, 1360257, 1737559, 1741625, 1414366, ...</td>\n",
       "    </tr>\n",
       "  </tbody>\n",
       "</table>\n",
       "</div>"
      ],
      "text/plain": [
       "             quadrat_id                                        species_ids\n",
       "0    2024-CEV3-20240602  [1369068, 1360257, 1737559, 1741625, 1414366, ...\n",
       "1  CBN-PdlC-A1-20130807  [1369068, 1360257, 1737559, 1741625, 1414366, ...\n",
       "2  CBN-PdlC-A1-20130903  [1369068, 1360257, 1737559, 1741625, 1414366, ...\n",
       "3  CBN-PdlC-A1-20140721  [1369068, 1360257, 1737559, 1741625, 1414366, ...\n",
       "4  CBN-PdlC-A1-20140811  [1369068, 1360257, 1737559, 1741625, 1414366, ...\n",
       "5  CBN-PdlC-A1-20140901  [1369068, 1360257, 1737559, 1741625, 1414366, ...\n",
       "6  CBN-PdlC-A1-20150701  [1369068, 1360257, 1737559, 1741625, 1414366, ...\n",
       "7  CBN-PdlC-A1-20150720  [1369068, 1360257, 1737559, 1741625, 1414366, ...\n",
       "8  CBN-PdlC-A1-20150831  [1369068, 1360257, 1737559, 1741625, 1414366, ...\n",
       "9  CBN-PdlC-A1-20160705  [1369068, 1360257, 1737559, 1741625, 1414366, ..."
      ]
     },
     "execution_count": 28,
     "metadata": {},
     "output_type": "execute_result"
    }
   ],
   "source": [
    "def format_species_ids(species_ids: list) -> str:\n",
    "    \"\"\"Formats the species IDs in single square brackets, separated by commas.\"\"\"\n",
    "    formatted_ids = \", \".join(str(id) for id in species_ids)\n",
    "    return f\"[{formatted_ids}]\"\n",
    "\n",
    "\n",
    "def prepare_and_write_submission(\n",
    "    pandas_df: pd.DataFrame, col: str = \"image_name\"\n",
    ") -> pd.DataFrame:\n",
    "    \"\"\"Formats the Pandas DataFrame, and writes to PACE.\"\"\"\n",
    "    records = []\n",
    "    for _, row in pandas_df.iterrows():\n",
    "        logits = row[\"species_ids\"]\n",
    "        formatted_species = format_species_ids(logits)\n",
    "        records.append({\"quadrat_id\": row[col], \"species_ids\": formatted_species})\n",
    "\n",
    "    pandas_df = pd.DataFrame(records)\n",
    "    # remove .jpg from quadrat_id in final_df\n",
    "    pandas_df[\"quadrat_id\"] = pandas_df[\"quadrat_id\"].str.replace(\n",
    "        \".jpg\", \"\", regex=False\n",
    "    )\n",
    "\n",
    "    return pandas_df\n",
    "\n",
    "\n",
    "final_df = prepare_and_write_submission(pandas_df)\n",
    "final_df.head(10)"
   ]
  },
  {
   "cell_type": "code",
   "execution_count": 29,
   "metadata": {},
   "outputs": [
    {
     "data": {
      "text/plain": [
       "2105"
      ]
     },
     "execution_count": 29,
     "metadata": {},
     "output_type": "execute_result"
    }
   ],
   "source": [
    "len(final_df)"
   ]
  },
  {
   "cell_type": "code",
   "execution_count": 30,
   "metadata": {},
   "outputs": [
    {
     "name": "stderr",
     "output_type": "stream",
     "text": [
      "[Stage 20:===================================================>(2326 + 4) / 2330]\r"
     ]
    },
    {
     "name": "stdout",
     "output_type": "stream",
     "text": [
      "Top 100 species: [1369068, 1360257, 1737559, 1741625, 1414366, 1743246, 1737669, 1394359, 1363575, 1359160, 1358610, 1356729, 1358500, 1356290, 1360607, 1400151, 1357416, 1722433, 1394624, 1359162, 1391375, 1363988, 1359676, 1356308, 1737508, 1391368, 1356793, 1356609, 1356455, 1390952, 1363698, 1743245, 1397356, 1364046, 1358543, 1359616, 1363362, 1426015, 1395026, 1360449, 1722630, 1362009, 1668240, 1363142, 1356458, 1360547, 1359677, 1356576, 1363832, 1412585, 1396503, 1400126, 1388787, 1356208, 1363813, 1737588, 1397383, 1356567, 1361743, 1358613, 1361864, 1394952, 1361710, 1356608, 1360323, 1397307, 1391354, 1389550, 1359658, 1395193, 1362963, 1396802, 1358713, 1414356, 1359675, 1391434, 1738846, 1360324, 1741903, 1360262, 1743242, 1365253, 1363687, 1356457, 1743352, 1393365, 1391958, 1360260, 1360316, 1356792, 1357413, 1392236, 1360290, 1356460, 1360326, 1363624, 1722522, 1397301, 1393639, 1396797]\n"
     ]
    },
    {
     "name": "stderr",
     "output_type": "stream",
     "text": [
      "                                                                                \r"
     ]
    }
   ],
   "source": [
    "# Get top-K species IDs\n",
    "top_k = 100\n",
    "top_species_list = get_top_species_ids(train_df, top_k=top_k)\n",
    "print(f\"Top {top_k} species: {top_species_list}\")"
   ]
  },
  {
   "cell_type": "markdown",
   "metadata": {},
   "source": [
    "### compare with submission CSV file"
   ]
  },
  {
   "cell_type": "code",
   "execution_count": 31,
   "metadata": {},
   "outputs": [
    {
     "data": {
      "text/html": [
       "<div>\n",
       "<style scoped>\n",
       "    .dataframe tbody tr th:only-of-type {\n",
       "        vertical-align: middle;\n",
       "    }\n",
       "\n",
       "    .dataframe tbody tr th {\n",
       "        vertical-align: top;\n",
       "    }\n",
       "\n",
       "    .dataframe thead th {\n",
       "        text-align: right;\n",
       "    }\n",
       "</style>\n",
       "<table border=\"1\" class=\"dataframe\">\n",
       "  <thead>\n",
       "    <tr style=\"text-align: right;\">\n",
       "      <th></th>\n",
       "      <th>quadrat_id</th>\n",
       "      <th>species_ids</th>\n",
       "    </tr>\n",
       "  </thead>\n",
       "  <tbody>\n",
       "    <tr>\n",
       "      <th>0</th>\n",
       "      <td>CBN-PdlC-E3-20130723</td>\n",
       "      <td>[1369068, 1360257, 1737559, 1741625, 1414366, ...</td>\n",
       "    </tr>\n",
       "    <tr>\n",
       "      <th>1</th>\n",
       "      <td>CBN-PdlC-E2-20130723</td>\n",
       "      <td>[1369068, 1360257, 1737559, 1741625, 1414366, ...</td>\n",
       "    </tr>\n",
       "    <tr>\n",
       "      <th>2</th>\n",
       "      <td>CBN-PdlC-E5-20130723</td>\n",
       "      <td>[1369068, 1360257, 1737559, 1741625, 1414366, ...</td>\n",
       "    </tr>\n",
       "    <tr>\n",
       "      <th>3</th>\n",
       "      <td>CBN-PdlC-E6-20130723</td>\n",
       "      <td>[1369068, 1360257, 1737559, 1741625, 1414366, ...</td>\n",
       "    </tr>\n",
       "    <tr>\n",
       "      <th>4</th>\n",
       "      <td>CBN-PdlC-E1-20130723</td>\n",
       "      <td>[1369068, 1360257, 1737559, 1741625, 1414366, ...</td>\n",
       "    </tr>\n",
       "    <tr>\n",
       "      <th>5</th>\n",
       "      <td>CBN-PdlC-F1-20130723</td>\n",
       "      <td>[1369068, 1360257, 1737559, 1741625, 1414366, ...</td>\n",
       "    </tr>\n",
       "    <tr>\n",
       "      <th>6</th>\n",
       "      <td>CBN-PdlC-F2-20130723</td>\n",
       "      <td>[1369068, 1360257, 1737559, 1741625, 1414366, ...</td>\n",
       "    </tr>\n",
       "    <tr>\n",
       "      <th>7</th>\n",
       "      <td>CBN-PdlC-F3-20130723</td>\n",
       "      <td>[1369068, 1360257, 1737559, 1741625, 1414366, ...</td>\n",
       "    </tr>\n",
       "    <tr>\n",
       "      <th>8</th>\n",
       "      <td>CBN-PdlC-F4-20130723</td>\n",
       "      <td>[1369068, 1360257, 1737559, 1741625, 1414366, ...</td>\n",
       "    </tr>\n",
       "    <tr>\n",
       "      <th>9</th>\n",
       "      <td>CBN-PdlC-F5-20130723</td>\n",
       "      <td>[1369068, 1360257, 1737559, 1741625, 1414366, ...</td>\n",
       "    </tr>\n",
       "  </tbody>\n",
       "</table>\n",
       "</div>"
      ],
      "text/plain": [
       "             quadrat_id                                        species_ids\n",
       "0  CBN-PdlC-E3-20130723  [1369068, 1360257, 1737559, 1741625, 1414366, ...\n",
       "1  CBN-PdlC-E2-20130723  [1369068, 1360257, 1737559, 1741625, 1414366, ...\n",
       "2  CBN-PdlC-E5-20130723  [1369068, 1360257, 1737559, 1741625, 1414366, ...\n",
       "3  CBN-PdlC-E6-20130723  [1369068, 1360257, 1737559, 1741625, 1414366, ...\n",
       "4  CBN-PdlC-E1-20130723  [1369068, 1360257, 1737559, 1741625, 1414366, ...\n",
       "5  CBN-PdlC-F1-20130723  [1369068, 1360257, 1737559, 1741625, 1414366, ...\n",
       "6  CBN-PdlC-F2-20130723  [1369068, 1360257, 1737559, 1741625, 1414366, ...\n",
       "7  CBN-PdlC-F3-20130723  [1369068, 1360257, 1737559, 1741625, 1414366, ...\n",
       "8  CBN-PdlC-F4-20130723  [1369068, 1360257, 1737559, 1741625, 1414366, ...\n",
       "9  CBN-PdlC-F5-20130723  [1369068, 1360257, 1737559, 1741625, 1414366, ..."
      ]
     },
     "execution_count": 31,
     "metadata": {},
     "output_type": "execute_result"
    }
   ],
   "source": [
    "# path and dataset names\n",
    "submission_path = f\"{root}/p-dsgt_clef2025-0/shared/plantclef/submissions\"\n",
    "\n",
    "# define the path to the train and test parquet files\n",
    "submission_df = pd.read_csv(f\"{submission_path}/naive_baseline/submission.csv\")\n",
    "submission_df.head(10)"
   ]
  },
  {
   "cell_type": "code",
   "execution_count": 32,
   "metadata": {},
   "outputs": [
    {
     "data": {
      "text/html": [
       "<div>\n",
       "<style scoped>\n",
       "    .dataframe tbody tr th:only-of-type {\n",
       "        vertical-align: middle;\n",
       "    }\n",
       "\n",
       "    .dataframe tbody tr th {\n",
       "        vertical-align: top;\n",
       "    }\n",
       "\n",
       "    .dataframe thead th {\n",
       "        text-align: right;\n",
       "    }\n",
       "</style>\n",
       "<table border=\"1\" class=\"dataframe\">\n",
       "  <thead>\n",
       "    <tr style=\"text-align: right;\">\n",
       "      <th></th>\n",
       "      <th>quadrat_id</th>\n",
       "      <th>species_ids</th>\n",
       "    </tr>\n",
       "  </thead>\n",
       "  <tbody>\n",
       "    <tr>\n",
       "      <th>2096</th>\n",
       "      <td>2024-CEV3-20240602</td>\n",
       "      <td>[1369068, 1360257, 1737559, 1741625, 1414366, ...</td>\n",
       "    </tr>\n",
       "    <tr>\n",
       "      <th>42</th>\n",
       "      <td>CBN-PdlC-A1-20130807</td>\n",
       "      <td>[1369068, 1360257, 1737559, 1741625, 1414366, ...</td>\n",
       "    </tr>\n",
       "    <tr>\n",
       "      <th>112</th>\n",
       "      <td>CBN-PdlC-A1-20130903</td>\n",
       "      <td>[1369068, 1360257, 1737559, 1741625, 1414366, ...</td>\n",
       "    </tr>\n",
       "    <tr>\n",
       "      <th>180</th>\n",
       "      <td>CBN-PdlC-A1-20140721</td>\n",
       "      <td>[1369068, 1360257, 1737559, 1741625, 1414366, ...</td>\n",
       "    </tr>\n",
       "    <tr>\n",
       "      <th>259</th>\n",
       "      <td>CBN-PdlC-A1-20140811</td>\n",
       "      <td>[1369068, 1360257, 1737559, 1741625, 1414366, ...</td>\n",
       "    </tr>\n",
       "    <tr>\n",
       "      <th>312</th>\n",
       "      <td>CBN-PdlC-A1-20140901</td>\n",
       "      <td>[1369068, 1360257, 1737559, 1741625, 1414366, ...</td>\n",
       "    </tr>\n",
       "    <tr>\n",
       "      <th>377</th>\n",
       "      <td>CBN-PdlC-A1-20150701</td>\n",
       "      <td>[1369068, 1360257, 1737559, 1741625, 1414366, ...</td>\n",
       "    </tr>\n",
       "    <tr>\n",
       "      <th>445</th>\n",
       "      <td>CBN-PdlC-A1-20150720</td>\n",
       "      <td>[1369068, 1360257, 1737559, 1741625, 1414366, ...</td>\n",
       "    </tr>\n",
       "    <tr>\n",
       "      <th>560</th>\n",
       "      <td>CBN-PdlC-A1-20150831</td>\n",
       "      <td>[1369068, 1360257, 1737559, 1741625, 1414366, ...</td>\n",
       "    </tr>\n",
       "    <tr>\n",
       "      <th>649</th>\n",
       "      <td>CBN-PdlC-A1-20160705</td>\n",
       "      <td>[1369068, 1360257, 1737559, 1741625, 1414366, ...</td>\n",
       "    </tr>\n",
       "  </tbody>\n",
       "</table>\n",
       "</div>"
      ],
      "text/plain": [
       "                quadrat_id                                        species_ids\n",
       "2096    2024-CEV3-20240602  [1369068, 1360257, 1737559, 1741625, 1414366, ...\n",
       "42    CBN-PdlC-A1-20130807  [1369068, 1360257, 1737559, 1741625, 1414366, ...\n",
       "112   CBN-PdlC-A1-20130903  [1369068, 1360257, 1737559, 1741625, 1414366, ...\n",
       "180   CBN-PdlC-A1-20140721  [1369068, 1360257, 1737559, 1741625, 1414366, ...\n",
       "259   CBN-PdlC-A1-20140811  [1369068, 1360257, 1737559, 1741625, 1414366, ...\n",
       "312   CBN-PdlC-A1-20140901  [1369068, 1360257, 1737559, 1741625, 1414366, ...\n",
       "377   CBN-PdlC-A1-20150701  [1369068, 1360257, 1737559, 1741625, 1414366, ...\n",
       "445   CBN-PdlC-A1-20150720  [1369068, 1360257, 1737559, 1741625, 1414366, ...\n",
       "560   CBN-PdlC-A1-20150831  [1369068, 1360257, 1737559, 1741625, 1414366, ...\n",
       "649   CBN-PdlC-A1-20160705  [1369068, 1360257, 1737559, 1741625, 1414366, ..."
      ]
     },
     "execution_count": 32,
     "metadata": {},
     "output_type": "execute_result"
    }
   ],
   "source": [
    "# sort the DataFrame by 'quadrat_id'\n",
    "submission_df = submission_df.sort_values(by=\"quadrat_id\")\n",
    "submission_df.head(10)"
   ]
  },
  {
   "cell_type": "code",
   "execution_count": 33,
   "metadata": {},
   "outputs": [
    {
     "data": {
      "text/html": [
       "<div>\n",
       "<style scoped>\n",
       "    .dataframe tbody tr th:only-of-type {\n",
       "        vertical-align: middle;\n",
       "    }\n",
       "\n",
       "    .dataframe tbody tr th {\n",
       "        vertical-align: top;\n",
       "    }\n",
       "\n",
       "    .dataframe thead th {\n",
       "        text-align: right;\n",
       "    }\n",
       "</style>\n",
       "<table border=\"1\" class=\"dataframe\">\n",
       "  <thead>\n",
       "    <tr style=\"text-align: right;\">\n",
       "      <th></th>\n",
       "      <th>quadrat_id</th>\n",
       "      <th>species_ids_new</th>\n",
       "      <th>species_ids_old</th>\n",
       "    </tr>\n",
       "  </thead>\n",
       "  <tbody>\n",
       "    <tr>\n",
       "      <th>2095</th>\n",
       "      <td>RNNB-8-1-20240118</td>\n",
       "      <td>[1369068, 1360257, 1737559, 1741625, 1414366, ...</td>\n",
       "      <td>[1369068, 1360257, 1737559, 1741625, 1414366, ...</td>\n",
       "    </tr>\n",
       "    <tr>\n",
       "      <th>2096</th>\n",
       "      <td>RNNB-8-10-20240118</td>\n",
       "      <td>[1369068, 1360257, 1737559, 1741625, 1414366, ...</td>\n",
       "      <td>[1369068, 1360257, 1737559, 1741625, 1414366, ...</td>\n",
       "    </tr>\n",
       "    <tr>\n",
       "      <th>2097</th>\n",
       "      <td>RNNB-8-2-20240118</td>\n",
       "      <td>[1369068, 1360257, 1737559, 1741625, 1414366, ...</td>\n",
       "      <td>[1369068, 1360257, 1737559, 1741625, 1414366, ...</td>\n",
       "    </tr>\n",
       "    <tr>\n",
       "      <th>2098</th>\n",
       "      <td>RNNB-8-3-20240118</td>\n",
       "      <td>[1369068, 1360257, 1737559, 1741625, 1414366, ...</td>\n",
       "      <td>[1369068, 1360257, 1737559, 1741625, 1414366, ...</td>\n",
       "    </tr>\n",
       "    <tr>\n",
       "      <th>2099</th>\n",
       "      <td>RNNB-8-4-20240118</td>\n",
       "      <td>[1369068, 1360257, 1737559, 1741625, 1414366, ...</td>\n",
       "      <td>[1369068, 1360257, 1737559, 1741625, 1414366, ...</td>\n",
       "    </tr>\n",
       "    <tr>\n",
       "      <th>2100</th>\n",
       "      <td>RNNB-8-5-20240118</td>\n",
       "      <td>[1369068, 1360257, 1737559, 1741625, 1414366, ...</td>\n",
       "      <td>[1369068, 1360257, 1737559, 1741625, 1414366, ...</td>\n",
       "    </tr>\n",
       "    <tr>\n",
       "      <th>2101</th>\n",
       "      <td>RNNB-8-6-20240118</td>\n",
       "      <td>[1369068, 1360257, 1737559, 1741625, 1414366, ...</td>\n",
       "      <td>[1369068, 1360257, 1737559, 1741625, 1414366, ...</td>\n",
       "    </tr>\n",
       "    <tr>\n",
       "      <th>2102</th>\n",
       "      <td>RNNB-8-7-20240118</td>\n",
       "      <td>[1369068, 1360257, 1737559, 1741625, 1414366, ...</td>\n",
       "      <td>[1369068, 1360257, 1737559, 1741625, 1414366, ...</td>\n",
       "    </tr>\n",
       "    <tr>\n",
       "      <th>2103</th>\n",
       "      <td>RNNB-8-8-20240118</td>\n",
       "      <td>[1369068, 1360257, 1737559, 1741625, 1414366, ...</td>\n",
       "      <td>[1369068, 1360257, 1737559, 1741625, 1414366, ...</td>\n",
       "    </tr>\n",
       "    <tr>\n",
       "      <th>2104</th>\n",
       "      <td>RNNB-8-9-20240118</td>\n",
       "      <td>[1369068, 1360257, 1737559, 1741625, 1414366, ...</td>\n",
       "      <td>[1369068, 1360257, 1737559, 1741625, 1414366, ...</td>\n",
       "    </tr>\n",
       "  </tbody>\n",
       "</table>\n",
       "</div>"
      ],
      "text/plain": [
       "              quadrat_id                                    species_ids_new  \\\n",
       "2095   RNNB-8-1-20240118  [1369068, 1360257, 1737559, 1741625, 1414366, ...   \n",
       "2096  RNNB-8-10-20240118  [1369068, 1360257, 1737559, 1741625, 1414366, ...   \n",
       "2097   RNNB-8-2-20240118  [1369068, 1360257, 1737559, 1741625, 1414366, ...   \n",
       "2098   RNNB-8-3-20240118  [1369068, 1360257, 1737559, 1741625, 1414366, ...   \n",
       "2099   RNNB-8-4-20240118  [1369068, 1360257, 1737559, 1741625, 1414366, ...   \n",
       "2100   RNNB-8-5-20240118  [1369068, 1360257, 1737559, 1741625, 1414366, ...   \n",
       "2101   RNNB-8-6-20240118  [1369068, 1360257, 1737559, 1741625, 1414366, ...   \n",
       "2102   RNNB-8-7-20240118  [1369068, 1360257, 1737559, 1741625, 1414366, ...   \n",
       "2103   RNNB-8-8-20240118  [1369068, 1360257, 1737559, 1741625, 1414366, ...   \n",
       "2104   RNNB-8-9-20240118  [1369068, 1360257, 1737559, 1741625, 1414366, ...   \n",
       "\n",
       "                                        species_ids_old  \n",
       "2095  [1369068, 1360257, 1737559, 1741625, 1414366, ...  \n",
       "2096  [1369068, 1360257, 1737559, 1741625, 1414366, ...  \n",
       "2097  [1369068, 1360257, 1737559, 1741625, 1414366, ...  \n",
       "2098  [1369068, 1360257, 1737559, 1741625, 1414366, ...  \n",
       "2099  [1369068, 1360257, 1737559, 1741625, 1414366, ...  \n",
       "2100  [1369068, 1360257, 1737559, 1741625, 1414366, ...  \n",
       "2101  [1369068, 1360257, 1737559, 1741625, 1414366, ...  \n",
       "2102  [1369068, 1360257, 1737559, 1741625, 1414366, ...  \n",
       "2103  [1369068, 1360257, 1737559, 1741625, 1414366, ...  \n",
       "2104  [1369068, 1360257, 1737559, 1741625, 1414366, ...  "
      ]
     },
     "execution_count": 33,
     "metadata": {},
     "output_type": "execute_result"
    }
   ],
   "source": [
    "# compare the two DataFrames\n",
    "comparison_df = pd.merge(\n",
    "    final_df,\n",
    "    submission_df,\n",
    "    on=\"quadrat_id\",\n",
    "    how=\"outer\",\n",
    "    suffixes=(\"_new\", \"_old\"),\n",
    ")\n",
    "comparison_df.tail(10)"
   ]
  },
  {
   "cell_type": "code",
   "execution_count": null,
   "metadata": {},
   "outputs": [],
   "source": []
  }
 ],
 "metadata": {
  "kernelspec": {
   "display_name": "venv",
   "language": "python",
   "name": "python3"
  },
  "language_info": {
   "codemirror_mode": {
    "name": "ipython",
    "version": 3
   },
   "file_extension": ".py",
   "mimetype": "text/x-python",
   "name": "python",
   "nbconvert_exporter": "python",
   "pygments_lexer": "ipython3",
   "version": "3.10.10"
  },
  "orig_nbformat": 4
 },
 "nbformat": 4,
 "nbformat_minor": 2
}
