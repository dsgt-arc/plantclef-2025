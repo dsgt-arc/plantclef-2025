{
 "cells": [
  {
   "cell_type": "markdown",
   "id": "d5c6d8e1",
   "metadata": {},
   "source": [
    "# Submission to the competition"
   ]
  },
  {
   "cell_type": "code",
   "execution_count": 1,
   "id": "92293b03",
   "metadata": {},
   "outputs": [],
   "source": [
    "%load_ext autoreload\n",
    "%autoreload 2"
   ]
  },
  {
   "cell_type": "code",
   "execution_count": 2,
   "id": "bc579143",
   "metadata": {},
   "outputs": [
    {
     "name": "stdout",
     "output_type": "stream",
     "text": [
      "Sat Apr 12 01:37:01 AM EDT 2025\n"
     ]
    }
   ],
   "source": [
    "import os\n",
    "import pandas as pd\n",
    "from pathlib import Path\n",
    "\n",
    "# Set the root directory to your home directory\n",
    "root = Path(os.path.expanduser(\"~\"))\n",
    "! date"
   ]
  },
  {
   "cell_type": "code",
   "execution_count": 10,
   "id": "45953a20",
   "metadata": {},
   "outputs": [
    {
     "name": "stdout",
     "output_type": "stream",
     "text": [
      "Submission DF shape (2105, 2)\n"
     ]
    },
    {
     "data": {
      "text/html": [
       "<div>\n",
       "<style scoped>\n",
       "    .dataframe tbody tr th:only-of-type {\n",
       "        vertical-align: middle;\n",
       "    }\n",
       "\n",
       "    .dataframe tbody tr th {\n",
       "        vertical-align: top;\n",
       "    }\n",
       "\n",
       "    .dataframe thead th {\n",
       "        text-align: right;\n",
       "    }\n",
       "</style>\n",
       "<table border=\"1\" class=\"dataframe\">\n",
       "  <thead>\n",
       "    <tr style=\"text-align: right;\">\n",
       "      <th></th>\n",
       "      <th>quadrat_id</th>\n",
       "      <th>species_ids</th>\n",
       "    </tr>\n",
       "  </thead>\n",
       "  <tbody>\n",
       "    <tr>\n",
       "      <th>0</th>\n",
       "      <td>2024-CEV3-20240602</td>\n",
       "      <td>[1360187, 1392662, 1395045, 1738679, 1362443, ...</td>\n",
       "    </tr>\n",
       "    <tr>\n",
       "      <th>1</th>\n",
       "      <td>CBN-PdlC-A1-20130807</td>\n",
       "      <td>[1392608, 1742052, 1412857, 1392407, 1392611, ...</td>\n",
       "    </tr>\n",
       "    <tr>\n",
       "      <th>2</th>\n",
       "      <td>CBN-PdlC-A1-20130903</td>\n",
       "      <td>[1392608, 1742052, 1412857, 1392407, 1392611, ...</td>\n",
       "    </tr>\n",
       "    <tr>\n",
       "      <th>3</th>\n",
       "      <td>CBN-PdlC-A1-20140721</td>\n",
       "      <td>[1392608, 1742052, 1412857, 1392407, 1392611, ...</td>\n",
       "    </tr>\n",
       "    <tr>\n",
       "      <th>4</th>\n",
       "      <td>CBN-PdlC-A1-20140811</td>\n",
       "      <td>[1392608, 1742052, 1412857, 1392407, 1392611, ...</td>\n",
       "    </tr>\n",
       "  </tbody>\n",
       "</table>\n",
       "</div>"
      ],
      "text/plain": [
       "             quadrat_id                                        species_ids\n",
       "0    2024-CEV3-20240602  [1360187, 1392662, 1395045, 1738679, 1362443, ...\n",
       "1  CBN-PdlC-A1-20130807  [1392608, 1742052, 1412857, 1392407, 1392611, ...\n",
       "2  CBN-PdlC-A1-20130903  [1392608, 1742052, 1412857, 1392407, 1392611, ...\n",
       "3  CBN-PdlC-A1-20140721  [1392608, 1742052, 1412857, 1392407, 1392611, ...\n",
       "4  CBN-PdlC-A1-20140811  [1392608, 1742052, 1412857, 1392407, 1392611, ..."
      ]
     },
     "execution_count": 10,
     "metadata": {},
     "output_type": "execute_result"
    }
   ],
   "source": [
    "# import aggregation classification data\n",
    "project_path = \"~/p-dsgt_clef2025-0/shared/plantclef\"\n",
    "file_name = \"agg_topk10_dsgt_run_topk_9_species_grid_6x6.csv\"\n",
    "submission_path = f\"{project_path}/submissions/aggregation_seasons/test_2025\"\n",
    "input_path = f\"{submission_path}/{file_name}\"\n",
    "sub_df = pd.read_csv(input_path)\n",
    "print(f\"Submission DF shape {sub_df.shape}\")\n",
    "sub_df.head()"
   ]
  },
  {
   "cell_type": "code",
   "execution_count": 8,
   "id": "2d5f3b88",
   "metadata": {},
   "outputs": [
    {
     "data": {
      "text/html": [
       "<div>\n",
       "<style scoped>\n",
       "    .dataframe tbody tr th:only-of-type {\n",
       "        vertical-align: middle;\n",
       "    }\n",
       "\n",
       "    .dataframe tbody tr th {\n",
       "        vertical-align: top;\n",
       "    }\n",
       "\n",
       "    .dataframe thead th {\n",
       "        text-align: right;\n",
       "    }\n",
       "</style>\n",
       "<table border=\"1\" class=\"dataframe\">\n",
       "  <thead>\n",
       "    <tr style=\"text-align: right;\">\n",
       "      <th></th>\n",
       "      <th>species_id</th>\n",
       "    </tr>\n",
       "  </thead>\n",
       "  <tbody>\n",
       "    <tr>\n",
       "      <th>0</th>\n",
       "      <td>1409031</td>\n",
       "    </tr>\n",
       "    <tr>\n",
       "      <th>1</th>\n",
       "      <td>1409132</td>\n",
       "    </tr>\n",
       "    <tr>\n",
       "      <th>2</th>\n",
       "      <td>1409146</td>\n",
       "    </tr>\n",
       "    <tr>\n",
       "      <th>3</th>\n",
       "      <td>1409148</td>\n",
       "    </tr>\n",
       "    <tr>\n",
       "      <th>4</th>\n",
       "      <td>1409180</td>\n",
       "    </tr>\n",
       "    <tr>\n",
       "      <th>5</th>\n",
       "      <td>1409275</td>\n",
       "    </tr>\n",
       "    <tr>\n",
       "      <th>6</th>\n",
       "      <td>1737420</td>\n",
       "    </tr>\n",
       "    <tr>\n",
       "      <th>7</th>\n",
       "      <td>1737422</td>\n",
       "    </tr>\n",
       "    <tr>\n",
       "      <th>8</th>\n",
       "      <td>1737424</td>\n",
       "    </tr>\n",
       "    <tr>\n",
       "      <th>9</th>\n",
       "      <td>1737425</td>\n",
       "    </tr>\n",
       "  </tbody>\n",
       "</table>\n",
       "</div>"
      ],
      "text/plain": [
       "   species_id\n",
       "0     1409031\n",
       "1     1409132\n",
       "2     1409146\n",
       "3     1409148\n",
       "4     1409180\n",
       "5     1409275\n",
       "6     1737420\n",
       "7     1737422\n",
       "8     1737424\n",
       "9     1737425"
      ]
     },
     "execution_count": 8,
     "metadata": {},
     "output_type": "execute_result"
    }
   ],
   "source": [
    "# import filtered data based on geolocation of France\n",
    "france_path = f\"{project_path}/data/france_geodata_species.csv\"\n",
    "france_df = pd.read_csv(france_path)\n",
    "france_df.head(10)"
   ]
  },
  {
   "cell_type": "code",
   "execution_count": 12,
   "id": "45314bc1",
   "metadata": {},
   "outputs": [
    {
     "name": "stdout",
     "output_type": "stream",
     "text": [
      "Filtered DF shape (2105, 2)\n"
     ]
    },
    {
     "data": {
      "text/html": [
       "<div>\n",
       "<style scoped>\n",
       "    .dataframe tbody tr th:only-of-type {\n",
       "        vertical-align: middle;\n",
       "    }\n",
       "\n",
       "    .dataframe tbody tr th {\n",
       "        vertical-align: top;\n",
       "    }\n",
       "\n",
       "    .dataframe thead th {\n",
       "        text-align: right;\n",
       "    }\n",
       "</style>\n",
       "<table border=\"1\" class=\"dataframe\">\n",
       "  <thead>\n",
       "    <tr style=\"text-align: right;\">\n",
       "      <th></th>\n",
       "      <th>quadrat_id</th>\n",
       "      <th>species_ids</th>\n",
       "    </tr>\n",
       "  </thead>\n",
       "  <tbody>\n",
       "    <tr>\n",
       "      <th>0</th>\n",
       "      <td>2024-CEV3-20240602</td>\n",
       "      <td>[1360187, 1392662, 1395045, 1738679, 1362443, ...</td>\n",
       "    </tr>\n",
       "    <tr>\n",
       "      <th>1</th>\n",
       "      <td>CBN-PdlC-A1-20130807</td>\n",
       "      <td>[1392608, 1742052, 1412857, 1392407, 1392611, ...</td>\n",
       "    </tr>\n",
       "    <tr>\n",
       "      <th>2</th>\n",
       "      <td>CBN-PdlC-A1-20130903</td>\n",
       "      <td>[1392608, 1742052, 1412857, 1392407, 1392611, ...</td>\n",
       "    </tr>\n",
       "    <tr>\n",
       "      <th>3</th>\n",
       "      <td>CBN-PdlC-A1-20140721</td>\n",
       "      <td>[1392608, 1742052, 1412857, 1392407, 1392611, ...</td>\n",
       "    </tr>\n",
       "    <tr>\n",
       "      <th>4</th>\n",
       "      <td>CBN-PdlC-A1-20140811</td>\n",
       "      <td>[1392608, 1742052, 1412857, 1392407, 1392611, ...</td>\n",
       "    </tr>\n",
       "  </tbody>\n",
       "</table>\n",
       "</div>"
      ],
      "text/plain": [
       "             quadrat_id                                        species_ids\n",
       "0    2024-CEV3-20240602  [1360187, 1392662, 1395045, 1738679, 1362443, ...\n",
       "1  CBN-PdlC-A1-20130807  [1392608, 1742052, 1412857, 1392407, 1392611, ...\n",
       "2  CBN-PdlC-A1-20130903  [1392608, 1742052, 1412857, 1392407, 1392611, ...\n",
       "3  CBN-PdlC-A1-20140721  [1392608, 1742052, 1412857, 1392407, 1392611, ...\n",
       "4  CBN-PdlC-A1-20140811  [1392608, 1742052, 1412857, 1392407, 1392611, ..."
      ]
     },
     "execution_count": 12,
     "metadata": {},
     "output_type": "execute_result"
    }
   ],
   "source": [
    "import ast\n",
    "\n",
    "\n",
    "def filter_species_by_country(\n",
    "    filtered_df: pd.DataFrame,\n",
    "    sub_df: pd.DataFrame,\n",
    ") -> pd.DataFrame:\n",
    "    sub_df = sub_df.copy()\n",
    "    sub_df[\"species_ids\"] = sub_df[\"species_ids\"].apply(lambda x: ast.literal_eval(x))\n",
    "\n",
    "    # get valid species_ids from joined_df\n",
    "    valid_species_ids = filtered_df[\"species_id\"].tolist()\n",
    "\n",
    "    # filter each list of species_ids insub_df\n",
    "    sub_df[\"species_ids\"] = sub_df[\"species_ids\"].apply(\n",
    "        lambda id_list: [\n",
    "            species_id for species_id in id_list if species_id in valid_species_ids\n",
    "        ]\n",
    "    )\n",
    "    return sub_df\n",
    "\n",
    "\n",
    "final_df = filter_species_by_country(france_df, sub_df)\n",
    "print(f\"Filtered DF shape {final_df.shape}\")\n",
    "final_df.head()"
   ]
  },
  {
   "cell_type": "code",
   "execution_count": 14,
   "id": "322ab5e3",
   "metadata": {},
   "outputs": [],
   "source": [
    "def analyze_species_filtering(original_df: pd.DataFrame, filtered_df: pd.DataFrame):\n",
    "    # Original species counts per row\n",
    "    original_df = original_df.copy()\n",
    "    original_df[\"species_ids\"] = original_df[\"species_ids\"].apply(\n",
    "        lambda x: ast.literal_eval(x)\n",
    "    )\n",
    "    original_counts = original_df[\"species_ids\"].apply(len)\n",
    "\n",
    "    # Filtered species counts per row\n",
    "    filtered_counts = filtered_df[\"species_ids\"].apply(len)\n",
    "\n",
    "    print(\"Species Count Per Quadrat (Before Filtering):\")\n",
    "    print(f\"Total Species IDs: {original_counts.sum()}\")\n",
    "    print(f\"Mean: {original_counts.mean():.2f}\")\n",
    "    print(f\"Min: {original_counts.min()}\")\n",
    "    print(f\"Max: {original_counts.max()}\")\n",
    "\n",
    "    print(\"\\nSpecies Count Per Quadrat (After Filtering by France):\")\n",
    "    print(f\"Total Species IDs: {filtered_counts.sum()}\")\n",
    "    print(f\"Mean: {filtered_counts.mean():.2f}\")\n",
    "    print(f\"Min: {filtered_counts.min()}\")\n",
    "    print(f\"Max: {filtered_counts.max()}\")\n",
    "\n",
    "    print(\"\\nReduction in Species IDs:\")\n",
    "    print(f\"Total Reduction: {original_counts.sum() - filtered_counts.sum()}\")\n",
    "    print(\n",
    "        f\"Avg Reduction per Quadrat: {(original_counts - filtered_counts).mean():.2f}\"\n",
    "    )"
   ]
  },
  {
   "cell_type": "code",
   "execution_count": 15,
   "id": "ba9d672d",
   "metadata": {},
   "outputs": [
    {
     "name": "stdout",
     "output_type": "stream",
     "text": [
      "Species Count Per Quadrat (Before Filtering):\n",
      "Total Species IDs: 18629\n",
      "Mean: 8.85\n",
      "Min: 1\n",
      "Max: 10\n",
      "\n",
      "Species Count Per Quadrat (After Filtering by France):\n",
      "Total Species IDs: 15618\n",
      "Mean: 7.42\n",
      "Min: 0\n",
      "Max: 10\n",
      "\n",
      "Reduction in Species IDs:\n",
      "Total Reduction: 3011\n",
      "Avg Reduction per Quadrat: 1.43\n"
     ]
    }
   ],
   "source": [
    "# Make sure agg_df has been converted using ast.literal_eval already\n",
    "original_agg_df = sub_df.copy(deep=True)\n",
    "filtered_agg_df = final_df.copy(deep=True)\n",
    "\n",
    "# Run analysis\n",
    "analyze_species_filtering(original_agg_df, filtered_agg_df)"
   ]
  },
  {
   "cell_type": "code",
   "execution_count": 17,
   "id": "81f013d4",
   "metadata": {},
   "outputs": [],
   "source": [
    "import csv\n",
    "from pathlib import Path\n",
    "\n",
    "\n",
    "def format_species_ids(species_ids: list) -> str:\n",
    "    \"\"\"Formats the species IDs in single square brackets, separated by commas.\"\"\"\n",
    "    formatted_ids = \", \".join(str(id) for id in species_ids)\n",
    "    return f\"[{formatted_ids}]\"\n",
    "\n",
    "\n",
    "def prepare_and_write_submission(pandas_df: pd.DataFrame) -> pd.DataFrame:\n",
    "    \"\"\"Converts Spark DataFrame to Pandas, formats it, and writes to GCS.\"\"\"\n",
    "    records = []\n",
    "    for _, row in pandas_df.iterrows():\n",
    "        logits = row[\"species_ids\"]\n",
    "        formatted_species = format_species_ids(logits)\n",
    "        records.append(\n",
    "            {\"quadrat_id\": row[\"quadrat_id\"], \"species_ids\": formatted_species}\n",
    "        )\n",
    "\n",
    "    pandas_df = pd.DataFrame(records)\n",
    "    return pandas_df\n",
    "\n",
    "\n",
    "def get_plantclef_dir() -> str:\n",
    "    home_dir = Path(os.path.expanduser(\"~\"))\n",
    "    return f\"{home_dir}/p-dsgt_clef2025-0/shared/plantclef/\"\n",
    "\n",
    "\n",
    "def write_csv_to_pace(df, file_name: str, testset_name: str):\n",
    "    \"\"\"Writes the Pandas DataFrame to a CSV file on PACE.\"\"\"\n",
    "\n",
    "    # prepare and write the submission\n",
    "    submission_df = prepare_and_write_submission(df)\n",
    "    project_dir = get_plantclef_dir()\n",
    "    submission_path = f\"{project_dir}/submissions/aggregation_seasons/{testset_name}\"\n",
    "    output_path = f\"{submission_path}/{file_name}\"\n",
    "    # ensure directory exists before saving\n",
    "    os.makedirs(os.path.dirname(output_path), exist_ok=True)\n",
    "    # write to CSV\n",
    "    submission_df.to_csv(output_path, sep=\",\", index=False, quoting=csv.QUOTE_ALL)\n",
    "    print(f\"Submission file saved to: {output_path}\")\n",
    "\n",
    "\n",
    "def main(df_final: pd.DataFrame, folder_name: str, testset_name: str = \"test_2025\"):\n",
    "    # define the file name\n",
    "    FILE_NAME = f\"dsgt_run_{folder_name}.csv\"\n",
    "\n",
    "    sub_file_name = f\"france_geo_agg_topk10_{FILE_NAME}\"\n",
    "    write_csv_to_pace(df_final, sub_file_name, testset_name)"
   ]
  },
  {
   "cell_type": "code",
   "execution_count": 18,
   "id": "09a13301",
   "metadata": {},
   "outputs": [
    {
     "name": "stdout",
     "output_type": "stream",
     "text": [
      "Submission file saved to: /storage/home/hcoda1/9/mgustineli3/p-dsgt_clef2025-0/shared/plantclef//submissions/aggregation_seasons/test_2025/france_geo_agg_topk10_dsgt_run_topk_9_species_grid_6x6.csv\n"
     ]
    }
   ],
   "source": [
    "folder_name = \"topk_9_species_grid_6x6\"\n",
    "main(filtered_agg_df, folder_name, testset_name=\"test_2025\")"
   ]
  },
  {
   "cell_type": "code",
   "execution_count": null,
   "id": "159d8361",
   "metadata": {},
   "outputs": [],
   "source": []
  }
 ],
 "metadata": {
  "kernelspec": {
   "display_name": "venv",
   "language": "python",
   "name": "python3"
  },
  "language_info": {
   "codemirror_mode": {
    "name": "ipython",
    "version": 3
   },
   "file_extension": ".py",
   "mimetype": "text/x-python",
   "name": "python",
   "nbconvert_exporter": "python",
   "pygments_lexer": "ipython3",
   "version": "3.10.10"
  }
 },
 "nbformat": 4,
 "nbformat_minor": 5
}
