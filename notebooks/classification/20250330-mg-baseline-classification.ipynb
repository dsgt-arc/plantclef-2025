{
 "cells": [
  {
   "attachments": {},
   "cell_type": "markdown",
   "metadata": {},
   "source": [
    "# Baseline Classification\n",
    "\n",
    "Identifying the 10, 25, 50, 100 most common plant species. Submit them as a baseline classification strategy."
   ]
  },
  {
   "cell_type": "code",
   "execution_count": 1,
   "metadata": {},
   "outputs": [],
   "source": [
    "%load_ext autoreload\n",
    "%autoreload 2"
   ]
  },
  {
   "cell_type": "code",
   "execution_count": null,
   "metadata": {},
   "outputs": [
    {
     "name": "stderr",
     "output_type": "stream",
     "text": [
      "Setting default log level to \"WARN\".\n",
      "To adjust logging level use sc.setLogLevel(newLevel). For SparkR, use setLogLevel(newLevel).\n",
      "25/02/10 14:48:16 WARN NativeCodeLoader: Unable to load native-hadoop library for your platform... using builtin-java classes where applicable\n",
      "25/02/10 14:48:16 WARN SparkConf: Note that spark.local.dir will be overridden by the value set by the cluster manager (via SPARK_LOCAL_DIRS in mesos/standalone/kubernetes and LOCAL_DIRS in YARN).\n"
     ]
    },
    {
     "data": {
      "text/html": [
       "\n",
       "            <div>\n",
       "                <p><b>SparkSession - in-memory</b></p>\n",
       "                \n",
       "        <div>\n",
       "            <p><b>SparkContext</b></p>\n",
       "\n",
       "            <p><a href=\"http://login-phoenix-rh9-2.pace.gatech.edu:4040\">Spark UI</a></p>\n",
       "\n",
       "            <dl>\n",
       "              <dt>Version</dt>\n",
       "                <dd><code>v3.5.4</code></dd>\n",
       "              <dt>Master</dt>\n",
       "                <dd><code>local[24]</code></dd>\n",
       "              <dt>AppName</dt>\n",
       "                <dd><code>clef</code></dd>\n",
       "            </dl>\n",
       "        </div>\n",
       "        \n",
       "            </div>\n",
       "        "
      ],
      "text/plain": [
       "<pyspark.sql.session.SparkSession at 0x7fff921d5ca0>"
      ]
     },
     "metadata": {},
     "output_type": "display_data"
    }
   ],
   "source": [
    "from plantclef.spark import get_spark\n",
    "\n",
    "spark = get_spark()\n",
    "display(spark)"
   ]
  },
  {
   "cell_type": "code",
   "execution_count": null,
   "metadata": {},
   "outputs": [
    {
     "name": "stdout",
     "output_type": "stream",
     "text": [
      "Mon Feb 10 02:48:23 PM EST 2025\n"
     ]
    }
   ],
   "source": [
    "import os\n",
    "from pathlib import Path\n",
    "\n",
    "# Get list of stored filed in cloud bucket\n",
    "root = Path(os.path.expanduser(\"~\"))\n",
    "! date"
   ]
  },
  {
   "cell_type": "code",
   "execution_count": null,
   "metadata": {},
   "outputs": [
    {
     "name": "stderr",
     "output_type": "stream",
     "text": [
      "                                                                                \r"
     ]
    },
    {
     "name": "stdout",
     "output_type": "stream",
     "text": [
      "root\n",
      " |-- image_name: string (nullable = true)\n",
      " |-- path: string (nullable = true)\n",
      " |-- data: binary (nullable = true)\n",
      " |-- organ: string (nullable = true)\n",
      " |-- species_id: integer (nullable = true)\n",
      " |-- obs_id: long (nullable = true)\n",
      " |-- license: string (nullable = true)\n",
      " |-- partner: string (nullable = true)\n",
      " |-- author: string (nullable = true)\n",
      " |-- altitude: double (nullable = true)\n",
      " |-- latitude: double (nullable = true)\n",
      " |-- longitude: double (nullable = true)\n",
      " |-- gbif_species_id: string (nullable = true)\n",
      " |-- species: string (nullable = true)\n",
      " |-- genus: string (nullable = true)\n",
      " |-- family: string (nullable = true)\n",
      " |-- dataset: string (nullable = true)\n",
      " |-- publisher: string (nullable = true)\n",
      " |-- references: string (nullable = true)\n",
      " |-- url: string (nullable = true)\n",
      " |-- learn_tag: string (nullable = true)\n",
      " |-- image_backup_url: string (nullable = true)\n",
      "\n"
     ]
    },
    {
     "name": "stderr",
     "output_type": "stream",
     "text": [
      "                                                                                \r"
     ]
    },
    {
     "name": "stdout",
     "output_type": "stream",
     "text": [
      "+--------------------+--------------------+--------------------+-----+----------+----------+--------------------+-------+----------------+--------+-----------------+------------------+---------------+--------------------+-------------+----------+--------+-----------+--------------------+--------------------+---------+--------------------+\n",
      "|          image_name|                path|                data|organ|species_id|    obs_id|             license|partner|          author|altitude|         latitude|         longitude|gbif_species_id|             species|        genus|    family| dataset|  publisher|          references|                 url|learn_tag|    image_backup_url|\n",
      "+--------------------+--------------------+--------------------+-----+----------+----------+--------------------+-------+----------------+--------+-----------------+------------------+---------------+--------------------+-------------+----------+--------+-----------+--------------------+--------------------+---------+--------------------+\n",
      "|0703b7eb2951080a5...|/PlantCLEF2024/tr...|[FF D8 FF E0 00 1...| leaf|   1737493|1014839418|            cc-by-sa|   NULL|   Rudi Kraševec|   596.0|45.74738691666667|14.416461944444444|      5371781.0|Selinum carvifoli...|      Selinum|  Apiaceae|plantnet|   plantnet|https://identify....|https://bs.plantn...|    train|https://lab.plant...|\n",
      "|7b435513acf8ff561...|/PlantCLEF2024/tr...|[FF D8 FF E0 00 1...|habit|   1397675|3327730052|http://creativeco...|   NULL|   Rick Williams|    NULL|             NULL|              NULL|      3107034.0|Senecio soldanell...|      Senecio|Asteraceae|    gbif|iNaturalist|https://www.inatu...|https://inaturali...|    train|https://lab.plant...|\n",
      "|82f8e37f6feb7f122...|/PlantCLEF2024/tr...|[FF D8 FF E0 00 1...| bark|   1741934|3456737412|http://creativeco...|   NULL|Marina Privalova|    NULL|             NULL|              NULL|      9540150.0|Silphiodaucus pru...|Silphiodaucus|  Apiaceae|    gbif|iNaturalist|https://www.inatu...|https://inaturali...|    train|https://lab.plant...|\n",
      "|adcc56d13a8a59326...|/PlantCLEF2024/tr...|[FF D8 FF E0 00 1...| bark|   1363733|1012013282|            cc-by-sa|   NULL|Manuel Hernández|    16.0|        39.477479|         -0.387182|      2965379.0| Medicago arborea L.|     Medicago|  Fabaceae|plantnet|   plantnet|https://identify....|https://bs.plantn...|    train|https://lab.plant...|\n",
      "|b22aad71e33d5d2cb...|/PlantCLEF2024/tr...|[FF D8 FF E0 00 1...|fruit|   1359627|1012041937|            cc-by-sa|   NULL|   dixie cousins|    NULL|             NULL|              NULL|      3152658.0|Gossypium herbace...|    Gossypium| Malvaceae|plantnet|   plantnet|https://identify....|https://bs.plantn...|    train|https://lab.plant...|\n",
      "+--------------------+--------------------+--------------------+-----+----------+----------+--------------------+-------+----------------+--------+-----------------+------------------+---------------+--------------------+-------------+----------+--------+-----------+--------------------+--------------------+---------+--------------------+\n",
      "only showing top 5 rows\n",
      "\n"
     ]
    }
   ],
   "source": [
    "# Path and dataset names\n",
    "data_path = f\"{root}/p-dsgt_clef2025-0/shared/plantclef/data/parquet_files/\"\n",
    "\n",
    "# Define the path to the train and test parquet files\n",
    "train_path = f\"{data_path}/train\"\n",
    "\n",
    "# Read the parquet files into a spark DataFrame\n",
    "train_df = spark.read.parquet(train_path)\n",
    "\n",
    "# Show the data\n",
    "train_df.printSchema()\n",
    "train_df.show(n=5)"
   ]
  },
  {
   "cell_type": "code",
   "execution_count": null,
   "metadata": {},
   "outputs": [
    {
     "name": "stderr",
     "output_type": "stream",
     "text": [
      "[Stage 4:>                                                          (0 + 3) / 3]\r"
     ]
    },
    {
     "name": "stdout",
     "output_type": "stream",
     "text": [
      "+--------------------+----------+---+\n",
      "|             species|species_id|  n|\n",
      "+--------------------+----------+---+\n",
      "|Styphnolobium jap...|   1369068|823|\n",
      "|Frangula alnus Mill.|   1360257|793|\n",
      "|Aria edulis (Will...|   1737559|770|\n",
      "|Lathyrus oleraceu...|   1741625|700|\n",
      "|  Bromus sterilis L.|   1414366|674|\n",
      "|   Lotus hirsutus L.|   1743246|668|\n",
      "|Scandosorbus inte...|   1737669|662|\n",
      "|Oxalis dillenii J...|   1394359|653|\n",
      "|     Hedera helix L.|   1363575|653|\n",
      "|Calicotome spinos...|   1359160|642|\n",
      "|Castanea sativa M...|   1358610|638|\n",
      "|Buxus semperviren...|   1356729|636|\n",
      "|    Arbutus unedo L.|   1358500|634|\n",
      "|Pistacia lentiscu...|   1356290|632|\n",
      "|   Ulmus minor Mill.|   1360607|630|\n",
      "|Tecomaria capensi...|   1400151|627|\n",
      "|     Quercus ilex L.|   1357416|626|\n",
      "|Calamagrostis are...|   1722433|625|\n",
      "|Pittosporum tobir...|   1394624|625|\n",
      "|Cercis siliquastr...|   1359162|624|\n",
      "+--------------------+----------+---+\n",
      "only showing top 20 rows\n",
      "\n"
     ]
    },
    {
     "name": "stderr",
     "output_type": "stream",
     "text": [
      "                                                                                \r"
     ]
    }
   ],
   "source": [
    "from pyspark.sql import functions as F\n",
    "\n",
    "# Get top species by number of images\n",
    "grouped_train_df = (\n",
    "    train_df.groupBy([\"species\", \"species_id\"])\n",
    "    .agg(F.count(\"species_id\").alias(\"n\"))\n",
    "    .orderBy(F.col(\"n\").desc())\n",
    ")\n",
    "\n",
    "# Action\n",
    "grouped_train_df.show()"
   ]
  }
 ],
 "metadata": {
  "kernelspec": {
   "display_name": "venv",
   "language": "python",
   "name": "python3"
  },
  "language_info": {
   "codemirror_mode": {
    "name": "ipython",
    "version": 3
   },
   "file_extension": ".py",
   "mimetype": "text/x-python",
   "name": "python",
   "nbconvert_exporter": "python",
   "pygments_lexer": "ipython3",
   "version": "3.10.10"
  },
  "orig_nbformat": 4
 },
 "nbformat": 4,
 "nbformat_minor": 2
}
